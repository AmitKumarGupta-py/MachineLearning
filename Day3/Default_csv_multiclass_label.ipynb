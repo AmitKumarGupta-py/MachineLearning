{
 "cells": [
  {
   "cell_type": "code",
   "execution_count": 116,
   "id": "95811be6-4b87-4c57-ae9b-3d3f36d98e8b",
   "metadata": {},
   "outputs": [],
   "source": [
    "\n",
    "import pandas as pd\n",
    "import numpy as np\n",
    "from sklearn.metrics import r2_score\n",
    "from sklearn.model_selection import train_test_split\n",
    "from sklearn.preprocessing import PolynomialFeatures\n",
    "from sklearn.impute import SimpleImputer\n",
    "from sklearn.pipeline import Pipeline\n",
    "from sklearn.linear_model import LinearRegression\n",
    "from sklearn.model_selection import KFold\n",
    "from sklearn.model_selection import cross_val_score\n",
    "from sklearn.linear_model import ElasticNet\n",
    "from sklearn.metrics import mean_squared_error\n",
    "from sklearn.model_selection import GridSearchCV\n",
    "from sklearn.linear_model import LogisticRegression\n",
    "\n",
    "from sklearn.metrics import confusion_matrix\n",
    "from sklearn.metrics import accuracy_score\n",
    "from sklearn.preprocessing import LabelEncoder\n",
    "from sklearn.compose import make_column_transformer\n",
    "from sklearn.compose import make_column_selector\n"
   ]
  },
  {
   "cell_type": "code",
   "execution_count": 118,
   "id": "ef25f682-6a08-4f8e-96b5-e4cb002a295e",
   "metadata": {},
   "outputs": [],
   "source": [
    "default = pd.read_csv(\"Default.csv\")"
   ]
  },
  {
   "cell_type": "code",
   "execution_count": 120,
   "id": "72f2bc5f-9767-4d1d-9b42-639e67c31a90",
   "metadata": {},
   "outputs": [
    {
     "data": {
      "text/plain": [
       "Index(['default', 'student', 'balance', 'income'], dtype='object')"
      ]
     },
     "execution_count": 120,
     "metadata": {},
     "output_type": "execute_result"
    }
   ],
   "source": [
    "default.columns"
   ]
  },
  {
   "cell_type": "code",
   "execution_count": 122,
   "id": "9f8a10c1-7845-4f43-ac2e-b14387dee12d",
   "metadata": {},
   "outputs": [
    {
     "name": "stdout",
     "output_type": "stream",
     "text": [
      "<class 'pandas.core.frame.DataFrame'>\n",
      "RangeIndex: 10000 entries, 0 to 9999\n",
      "Data columns (total 4 columns):\n",
      " #   Column   Non-Null Count  Dtype  \n",
      "---  ------   --------------  -----  \n",
      " 0   default  10000 non-null  object \n",
      " 1   student  10000 non-null  object \n",
      " 2   balance  10000 non-null  float64\n",
      " 3   income   10000 non-null  float64\n",
      "dtypes: float64(2), object(2)\n",
      "memory usage: 312.6+ KB\n"
     ]
    }
   ],
   "source": [
    "default.info()"
   ]
  },
  {
   "cell_type": "code",
   "execution_count": 124,
   "id": "c5e29799-b016-4894-96e3-75786de3134d",
   "metadata": {},
   "outputs": [],
   "source": [
    "X = default.drop('default',axis=1)\n",
    "y = default['default']"
   ]
  },
  {
   "cell_type": "code",
   "execution_count": 140,
   "id": "96faaa8a-822c-4ab4-a37b-e7a920be1bc1",
   "metadata": {},
   "outputs": [
    {
     "name": "stdout",
     "output_type": "stream",
     "text": [
      "0.97\n"
     ]
    }
   ],
   "source": [
    "from sklearn.preprocessing import OneHotEncoder\n",
    "ohe = OneHotEncoder(sparse_output = False, drop = 'first').set_output(transform = 'pandas')\n",
    "# to change it into pandas\n",
    "\n",
    "ct = make_column_transformer(('passthrough',make_column_selector(dtype_exclude=object)),(ohe,make_column_selector(dtype_include = object)),verbose_feature_names_out = False).set_output(transform='pandas')\n",
    "lr = LogisticRegression()\n",
    "pipe = Pipeline([('CT',ct),('LR',lr)])\n",
    "pipe.fit(X_train,y_train)\n",
    "y_pred = pipe.predict(X_test)\n",
    "print(accuracy_score(y_test,y_pred))"
   ]
  },
  {
   "cell_type": "code",
   "execution_count": 78,
   "id": "d33ef93b-21de-435a-ac77-0c7a0a5d8e98",
   "metadata": {},
   "outputs": [],
   "source": [
    "dum_X = ohe.fit_transform(X) #will return numpy array by default"
   ]
  },
  {
   "cell_type": "code",
   "execution_count": 80,
   "id": "c49526fb-6e0d-4319-b687-dc117b126ad6",
   "metadata": {},
   "outputs": [],
   "source": [
    "lbl = LabelEncoder()\n",
    "default['default'] = lbl.fit_transform(default['default'])"
   ]
  },
  {
   "cell_type": "code",
   "execution_count": 81,
   "id": "14a6d05b-3ff3-4506-9d5e-51a23af015fd",
   "metadata": {},
   "outputs": [],
   "source": [
    "lbl = LabelEncoder()\n",
    "default['student'] = lbl.fit_transform(default['student'])"
   ]
  },
  {
   "cell_type": "code",
   "execution_count": 84,
   "id": "33feaa46-6ee0-4922-b97c-4c510ecf85ae",
   "metadata": {},
   "outputs": [
    {
     "data": {
      "text/plain": [
       "array([0, 1])"
      ]
     },
     "execution_count": 84,
     "metadata": {},
     "output_type": "execute_result"
    }
   ],
   "source": [
    "lbl.classes_"
   ]
  },
  {
   "cell_type": "code",
   "execution_count": 86,
   "id": "617f5088-ad85-4af8-8b6f-1826eae71e38",
   "metadata": {},
   "outputs": [
    {
     "data": {
      "text/plain": [
       "default\n",
       "0    9667\n",
       "1     333\n",
       "Name: count, dtype: int64"
      ]
     },
     "execution_count": 86,
     "metadata": {},
     "output_type": "execute_result"
    }
   ],
   "source": [
    "y.value_counts()"
   ]
  },
  {
   "cell_type": "code",
   "execution_count": 88,
   "id": "111190be-224b-4197-8d41-a4c05286ecc9",
   "metadata": {},
   "outputs": [],
   "source": [
    "X_train, X_test, y_train, y_test = train_test_split(X,y,random_state = 24, test_size = 0.3)"
   ]
  },
  {
   "cell_type": "code",
   "execution_count": 90,
   "id": "ce141031-def8-4f24-b2a4-f9024ba3244d",
   "metadata": {},
   "outputs": [
    {
     "data": {
      "text/plain": [
       "array([[-3.39547361e-01,  5.90050679e-03,  1.10698187e-05]])"
      ]
     },
     "execution_count": 90,
     "metadata": {},
     "output_type": "execute_result"
    }
   ],
   "source": [
    "lr = LogisticRegression()\n",
    "lr.fit(X_train,y_train)\n",
    "y_pred = lr.predict(X_test)\n",
    "\n",
    "lr.coef_"
   ]
  },
  {
   "cell_type": "code",
   "execution_count": 92,
   "id": "1af31175-d6a9-4cdd-a3c7-25176fd9f91c",
   "metadata": {},
   "outputs": [
    {
     "data": {
      "text/plain": [
       "(3000,)"
      ]
     },
     "execution_count": 92,
     "metadata": {},
     "output_type": "execute_result"
    }
   ],
   "source": [
    "y_test.shape"
   ]
  },
  {
   "cell_type": "code",
   "execution_count": 94,
   "id": "7ba1028a-28ba-46e2-b79e-f4998f57c5a1",
   "metadata": {},
   "outputs": [],
   "source": [
    "# Naive Rule/ Baseline Model"
   ]
  },
  {
   "cell_type": "code",
   "execution_count": 100,
   "id": "a93448c5-0cb1-4b06-926a-f0e97638d5e7",
   "metadata": {},
   "outputs": [
    {
     "data": {
      "text/plain": [
       "array([0., 0., 0., ..., 0., 0., 0.])"
      ]
     },
     "execution_count": 100,
     "metadata": {},
     "output_type": "execute_result"
    }
   ],
   "source": [
    "y_pred = np.zeros(y_test.shape[0])\n",
    "y_pred"
   ]
  },
  {
   "cell_type": "code",
   "execution_count": 102,
   "id": "a994b344-abba-4193-b279-cb14ecf0a253",
   "metadata": {},
   "outputs": [
    {
     "data": {
      "text/plain": [
       "default\n",
       "0    2901\n",
       "1      99\n",
       "Name: count, dtype: int64"
      ]
     },
     "execution_count": 102,
     "metadata": {},
     "output_type": "execute_result"
    }
   ],
   "source": [
    "y_test.value_counts()"
   ]
  },
  {
   "cell_type": "code",
   "execution_count": null,
   "id": "7cecb0a7-035c-4b90-a5d7-6399ca5849fb",
   "metadata": {},
   "outputs": [],
   "source": []
  },
  {
   "cell_type": "code",
   "execution_count": null,
   "id": "3a4d80ad-981c-4b99-ab4b-3d9ba426791b",
   "metadata": {},
   "outputs": [],
   "source": []
  },
  {
   "cell_type": "code",
   "execution_count": 106,
   "id": "320f5e23-aa9f-4dfb-96d7-a8b860b5034a",
   "metadata": {},
   "outputs": [
    {
     "name": "stdout",
     "output_type": "stream",
     "text": [
      "[[2901    0]\n",
      " [  99    0]]\n"
     ]
    }
   ],
   "source": [
    "print(confusion_matrix(y_test,y_pred))"
   ]
  },
  {
   "cell_type": "code",
   "execution_count": 108,
   "id": "e4adc08a-1baa-41be-bbf9-afe3ddf778af",
   "metadata": {},
   "outputs": [
    {
     "data": {
      "text/plain": [
       "0.967"
      ]
     },
     "execution_count": 108,
     "metadata": {},
     "output_type": "execute_result"
    }
   ],
   "source": [
    "accuracy_score(y_test, y_pred)"
   ]
  },
  {
   "cell_type": "code",
   "execution_count": 110,
   "id": "9da9c6db-f0b5-4aef-8228-1837155eb412",
   "metadata": {},
   "outputs": [],
   "source": [
    "# ML Model"
   ]
  },
  {
   "cell_type": "code",
   "execution_count": 112,
   "id": "52379740-e056-475d-b8b6-6d46b5cda81d",
   "metadata": {},
   "outputs": [],
   "source": [
    "y_pred = lr.predict(X_test)"
   ]
  },
  {
   "cell_type": "code",
   "execution_count": 123,
   "id": "14deaa3b-a9af-4244-b994-e0439c5b1613",
   "metadata": {},
   "outputs": [
    {
     "data": {
      "text/plain": [
       "0.9777777777777777"
      ]
     },
     "execution_count": 123,
     "metadata": {},
     "output_type": "execute_result"
    }
   ],
   "source": [
    "accuracy_score(y_test, y_pred)"
   ]
  },
  {
   "cell_type": "code",
   "execution_count": null,
   "id": "cc3c7013-2c7e-495f-a0cc-595d609434e8",
   "metadata": {},
   "outputs": [],
   "source": [
    "# KFold CV\n"
   ]
  },
  {
   "cell_type": "code",
   "execution_count": 138,
   "id": "0bbedd6a-5a9b-468f-80d7-779702ea8531",
   "metadata": {},
   "outputs": [],
   "source": [
    "#y_pred_nv = np.repeat(\"No\",y_test.shape[0])\n",
    "#print(accuracy_score(y_test,y_pred_nv))"
   ]
  },
  {
   "cell_type": "code",
   "execution_count": 134,
   "id": "506b6c73-6099-428f-85d4-dbe38a99ffab",
   "metadata": {},
   "outputs": [
    {
     "data": {
      "text/plain": [
       "0.9731"
      ]
     },
     "execution_count": 134,
     "metadata": {},
     "output_type": "execute_result"
    }
   ],
   "source": [
    "results = cross_val_score(pipe,X,y)\n",
    "results.mean()"
   ]
  },
  {
   "cell_type": "code",
   "execution_count": null,
   "id": "5f5e1ce7-b54b-41f9-b289-9f8bf12aa26b",
   "metadata": {},
   "outputs": [],
   "source": []
  }
 ],
 "metadata": {
  "kernelspec": {
   "display_name": "Python 3 (ipykernel)",
   "language": "python",
   "name": "python3"
  },
  "language_info": {
   "codemirror_mode": {
    "name": "ipython",
    "version": 3
   },
   "file_extension": ".py",
   "mimetype": "text/x-python",
   "name": "python",
   "nbconvert_exporter": "python",
   "pygments_lexer": "ipython3",
   "version": "3.12.4"
  }
 },
 "nbformat": 4,
 "nbformat_minor": 5
}
