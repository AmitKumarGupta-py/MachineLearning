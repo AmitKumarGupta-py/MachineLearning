{
 "cells": [
  {
   "cell_type": "code",
   "execution_count": 69,
   "id": "8d4c514a-137f-4c7d-9e15-16f88f09f508",
   "metadata": {},
   "outputs": [],
   "source": [
    "import pandas as pd\n",
    "import numpy as np\n",
    "import os\n",
    "os.chdir(r\"C:\\Users\\dai\\Desktop\\S-AI\\MachineLearning\\Day12\\Datasets\")\n",
    "import matplotlib.pyplot as plt\n",
    "from sklearn.metrics import root_mean_squared_error\n",
    "from statsmodels.tsa.seasonal import seasonal_decompose\n",
    "from statsmodels.tsa.api import ExponentialSmoothing\n",
    "from statsmodels.tsa.api import Holt\n",
    "from statsmodels.tsa.api import SimpleExpSmoothing\n",
    "from scipy.cluster.hierarchy import linkage,dendrogram\n",
    "from sklearn.cluster import AgglomerativeClustering\n",
    "from sklearn.metrics import silhouette_score\n",
    "from sklearn.preprocessing import StandardScaler\n",
    "import seaborn as sns\n",
    "from sklearn.cluster import DBSCAN, KMeans,MiniBatchKMeans"
   ]
  },
  {
   "cell_type": "code",
   "execution_count": 13,
   "id": "4fddc29d-68d1-4ab2-89d4-2c8de506f063",
   "metadata": {},
   "outputs": [],
   "source": [
    "milk = pd.read_csv('milk.csv',index_col=0)"
   ]
  },
  {
   "cell_type": "code",
   "execution_count": 13,
   "id": "8d6e31ba-de46-49cb-969f-95e4c20b14ff",
   "metadata": {},
   "outputs": [
    {
     "name": "stdout",
     "output_type": "stream",
     "text": [
      "[0 0 0 0 0 2 2 2 2 2 2 2 0 2 2 2 2 2 1 1 1 1 1 1 1]\n"
     ]
    },
    {
     "name": "stderr",
     "output_type": "stream",
     "text": [
      "C:\\Users\\dai.STUDENTSDC\\AppData\\Local\\anaconda3\\Lib\\site-packages\\sklearn\\cluster\\_kmeans.py:1446: UserWarning: KMeans is known to have a memory leak on Windows with MKL, when there are less chunks than available threads. You can avoid it by setting the environment variable OMP_NUM_THREADS=1.\n",
      "  warnings.warn(\n"
     ]
    }
   ],
   "source": [
    "scaler = StandardScaler().set_output(transform='pandas')\n",
    "milk_scaled = scaler.fit_transform(milk)\n",
    "clust = KMeans(n_clusters=3)\n",
    "clust.fit(milk_scaled)\n",
    "print(clust.labels_)"
   ]
  },
  {
   "cell_type": "code",
   "execution_count": 34,
   "id": "9dd40802-131e-47e5-8ffe-e1516e5a8096",
   "metadata": {},
   "outputs": [
    {
     "name": "stderr",
     "output_type": "stream",
     "text": [
      "C:\\Users\\dai.STUDENTSDC\\AppData\\Local\\anaconda3\\Lib\\site-packages\\sklearn\\cluster\\_kmeans.py:1446: UserWarning: KMeans is known to have a memory leak on Windows with MKL, when there are less chunks than available threads. You can avoid it by setting the environment variable OMP_NUM_THREADS=1.\n",
      "  warnings.warn(\n",
      "C:\\Users\\dai.STUDENTSDC\\AppData\\Local\\anaconda3\\Lib\\site-packages\\sklearn\\cluster\\_kmeans.py:1446: UserWarning: KMeans is known to have a memory leak on Windows with MKL, when there are less chunks than available threads. You can avoid it by setting the environment variable OMP_NUM_THREADS=1.\n",
      "  warnings.warn(\n",
      "C:\\Users\\dai.STUDENTSDC\\AppData\\Local\\anaconda3\\Lib\\site-packages\\sklearn\\cluster\\_kmeans.py:1446: UserWarning: KMeans is known to have a memory leak on Windows with MKL, when there are less chunks than available threads. You can avoid it by setting the environment variable OMP_NUM_THREADS=1.\n",
      "  warnings.warn(\n"
     ]
    },
    {
     "name": "stdout",
     "output_type": "stream",
     "text": [
      "[0.5647381866231249, 0.4843763764389819, 0.44549722369637074, 0.4130718590326927, 0.3938617336326547]\n",
      "Best no. of Clusters: 2\n"
     ]
    },
    {
     "name": "stderr",
     "output_type": "stream",
     "text": [
      "C:\\Users\\dai.STUDENTSDC\\AppData\\Local\\anaconda3\\Lib\\site-packages\\sklearn\\cluster\\_kmeans.py:1446: UserWarning: KMeans is known to have a memory leak on Windows with MKL, when there are less chunks than available threads. You can avoid it by setting the environment variable OMP_NUM_THREADS=1.\n",
      "  warnings.warn(\n",
      "C:\\Users\\dai.STUDENTSDC\\AppData\\Local\\anaconda3\\Lib\\site-packages\\sklearn\\cluster\\_kmeans.py:1446: UserWarning: KMeans is known to have a memory leak on Windows with MKL, when there are less chunks than available threads. You can avoid it by setting the environment variable OMP_NUM_THREADS=1.\n",
      "  warnings.warn(\n"
     ]
    }
   ],
   "source": [
    "scores = []\n",
    "n_clust = [2,3,4,5,6]\n",
    "for i in n_clust:\n",
    "\n",
    "    clust = KMeans( n_clusters=i, random_state=24)\n",
    "    clust.fit(milk_scaled)\n",
    "    \n",
    "    \n",
    "    scores.append(silhouette_score(milk_scaled,clust.labels_))\n",
    "\n",
    "print(scores)\n",
    "i_max = np.argmax(scores)\n",
    "\n",
    "print(\"Best no. of Clusters:\", n_clust[i_max])\n",
    "\n"
   ]
  },
  {
   "cell_type": "markdown",
   "id": "436471b1-72d0-45ca-9216-580b3949e321",
   "metadata": {},
   "source": [
    "## rfm_dataset"
   ]
  },
  {
   "cell_type": "code",
   "execution_count": 15,
   "id": "0b09c5b9-77fd-4c81-bde6-d5f2cb202307",
   "metadata": {},
   "outputs": [],
   "source": [
    "rfm = pd.read_csv(r\"C:\\Users\\dai\\Desktop\\S-AI\\MachineLearning\\Day13\\rfm_data_customer.csv\",index_col=0)\n"
   ]
  },
  {
   "cell_type": "code",
   "execution_count": 35,
   "id": "1dacf4b3-9a64-486b-abf2-863e20f28fca",
   "metadata": {},
   "outputs": [
    {
     "name": "stdout",
     "output_type": "stream",
     "text": [
      "<class 'pandas.core.frame.DataFrame'>\n",
      "Index: 39999 entries, 22086 to 19184\n",
      "Data columns (total 3 columns):\n",
      " #   Column            Non-Null Count  Dtype\n",
      "---  ------            --------------  -----\n",
      " 0   revenue           39999 non-null  int64\n",
      " 1   number_of_orders  39999 non-null  int64\n",
      " 2   recency_days      39999 non-null  int64\n",
      "dtypes: int64(3)\n",
      "memory usage: 1.2 MB\n"
     ]
    }
   ],
   "source": [
    "rfm.info()"
   ]
  },
  {
   "cell_type": "code",
   "execution_count": null,
   "id": "e439f148-c6d5-4524-9409-5332b482d13d",
   "metadata": {},
   "outputs": [],
   "source": []
  },
  {
   "cell_type": "code",
   "execution_count": 23,
   "id": "64e61ed9-a9fb-41a3-bbb8-229b9312c502",
   "metadata": {},
   "outputs": [],
   "source": [
    "rfm = rfm.drop('most_recent_visit',axis=1)"
   ]
  },
  {
   "cell_type": "code",
   "execution_count": 27,
   "id": "bb661582-f522-4343-adc1-940be8da619e",
   "metadata": {},
   "outputs": [],
   "source": [
    "scaler = StandardScaler().set_output(transform='pandas')\n",
    "rfm_scaled = scaler.fit_transform(rfm)"
   ]
  },
  {
   "cell_type": "code",
   "execution_count": 71,
   "id": "46d874a2-5bf0-4166-b5ec-3a227d35dc29",
   "metadata": {
    "collapsed": true,
    "jupyter": {
     "outputs_hidden": true
    }
   },
   "outputs": [
    {
     "name": "stderr",
     "output_type": "stream",
     "text": [
      "C:\\Users\\dai.STUDENTSDC\\AppData\\Local\\anaconda3\\Lib\\site-packages\\sklearn\\cluster\\_kmeans.py:1972: UserWarning: MiniBatchKMeans is known to have a memory leak on Windows with MKL, when there are less chunks than available threads. You can prevent it by setting batch_size >= 2048 or by setting the environment variable OMP_NUM_THREADS=4\n",
      "  warnings.warn(\n",
      "C:\\Users\\dai.STUDENTSDC\\AppData\\Local\\anaconda3\\Lib\\site-packages\\sklearn\\cluster\\_kmeans.py:1972: UserWarning: MiniBatchKMeans is known to have a memory leak on Windows with MKL, when there are less chunks than available threads. You can prevent it by setting batch_size >= 2048 or by setting the environment variable OMP_NUM_THREADS=4\n",
      "  warnings.warn(\n",
      "C:\\Users\\dai.STUDENTSDC\\AppData\\Local\\anaconda3\\Lib\\site-packages\\sklearn\\cluster\\_kmeans.py:1972: UserWarning: MiniBatchKMeans is known to have a memory leak on Windows with MKL, when there are less chunks than available threads. You can prevent it by setting batch_size >= 2048 or by setting the environment variable OMP_NUM_THREADS=4\n",
      "  warnings.warn(\n",
      "C:\\Users\\dai.STUDENTSDC\\AppData\\Local\\anaconda3\\Lib\\site-packages\\sklearn\\cluster\\_kmeans.py:1972: UserWarning: MiniBatchKMeans is known to have a memory leak on Windows with MKL, when there are less chunks than available threads. You can prevent it by setting batch_size >= 2048 or by setting the environment variable OMP_NUM_THREADS=4\n",
      "  warnings.warn(\n",
      "C:\\Users\\dai.STUDENTSDC\\AppData\\Local\\anaconda3\\Lib\\site-packages\\sklearn\\cluster\\_kmeans.py:1972: UserWarning: MiniBatchKMeans is known to have a memory leak on Windows with MKL, when there are less chunks than available threads. You can prevent it by setting batch_size >= 2048 or by setting the environment variable OMP_NUM_THREADS=4\n",
      "  warnings.warn(\n"
     ]
    },
    {
     "name": "stdout",
     "output_type": "stream",
     "text": [
      "[0.36192187687622746, 0.3723164017839761, 0.3247005409863464, 0.3195500586338214, 0.2843431596657157]\n",
      "Best no. of Clusters: 3\n"
     ]
    }
   ],
   "source": [
    "scores = []\n",
    "n_clust = [2,3,4,5,6]\n",
    "for i in n_clust:\n",
    "\n",
    "    clust = MiniBatchKMeans( n_clusters=i, random_state=24)\n",
    "    clust.fit(rfm_scaled)\n",
    "    \n",
    "    \n",
    "    scores.append(silhouette_score(rfm_scaled,clust.labels_))\n",
    "\n",
    "print(scores)\n",
    "i_max = np.argmax(scores)\n",
    "\n",
    "print(\"Best no. of Clusters:\", n_clust[i_max])\n",
    "\n"
   ]
  },
  {
   "cell_type": "code",
   "execution_count": 33,
   "id": "4b8579d1-94e7-477a-a9f5-ef60bb66c7cd",
   "metadata": {},
   "outputs": [
    {
     "data": {
      "text/plain": [
       "array([1, 0, 1, ..., 1, 1, 0])"
      ]
     },
     "execution_count": 33,
     "metadata": {},
     "output_type": "execute_result"
    }
   ],
   "source": [
    "clust.labels_"
   ]
  },
  {
   "cell_type": "code",
   "execution_count": 42,
   "id": "d7688b29-b1a9-4e56-ac42-a9240449b758",
   "metadata": {},
   "outputs": [],
   "source": [
    "from tqdm import tqdm"
   ]
  },
  {
   "cell_type": "code",
   "execution_count": 44,
   "id": "e9800c6e-6dd1-4058-9e35-7a82b65b1237",
   "metadata": {},
   "outputs": [
    {
     "name": "stderr",
     "output_type": "stream",
     "text": [
      "100%|████████████████████████████████████████████████████████████████████████████████████| 5/5 [01:43<00:00, 20.68s/it]\n"
     ]
    }
   ],
   "source": [
    "for i in tqdm(n_clust):\n",
    "\n",
    "    clust = KMeans( n_clusters=i, random_state=24)\n",
    "    clust.fit(rfm_scaled)\n",
    "    \n",
    "    \n",
    "    scores.append(silhouette_score(rfm_scaled,clust.labels_))"
   ]
  },
  {
   "cell_type": "code",
   "execution_count": 45,
   "id": "05369756-3c68-4890-bced-9289eaaaff7e",
   "metadata": {},
   "outputs": [
    {
     "name": "stdout",
     "output_type": "stream",
     "text": [
      "[0.3619175885782477, 0.37102897041720206, 0.3229983236688364, 0.3249751004529168, 0.288058231818753]\n",
      "Best no. of Clusters: 3\n"
     ]
    }
   ],
   "source": [
    "print(scores)\n",
    "i_max = np.argmax(scores)\n",
    "\n",
    "print(\"Best no. of Clusters:\", n_clust[i_max])"
   ]
  },
  {
   "cell_type": "markdown",
   "id": "1e8a1cc2-0cea-4b56-afdc-3df2f2ca3a20",
   "metadata": {},
   "source": [
    "## Cluster Analysis"
   ]
  },
  {
   "cell_type": "code",
   "execution_count": 59,
   "id": "799a2a12-6861-47b9-bef4-aac5c7aa26ed",
   "metadata": {},
   "outputs": [
    {
     "data": {
      "text/plain": [
       "0.37102897041720206"
      ]
     },
     "execution_count": 59,
     "metadata": {},
     "output_type": "execute_result"
    }
   ],
   "source": [
    "clust = KMeans(n_clusters=3, random_state=24)\n",
    "clust.fit(rfm_scaled)\n",
    "silhouette_score(rfm_scaled,clust.labels_)\n"
   ]
  },
  {
   "cell_type": "code",
   "execution_count": 61,
   "id": "14e305e5-c936-4c5c-935c-182dd9453506",
   "metadata": {},
   "outputs": [],
   "source": [
    "rfm_clust = rfm.copy()"
   ]
  },
  {
   "cell_type": "code",
   "execution_count": 63,
   "id": "a905e650-3525-4565-b5f5-70f02bc0f424",
   "metadata": {},
   "outputs": [],
   "source": [
    "rfm_clust['cluster'] = clust.labels_"
   ]
  },
  {
   "cell_type": "code",
   "execution_count": 65,
   "id": "526ab6b9-e1f3-4679-8d1f-5ad241465d97",
   "metadata": {},
   "outputs": [
    {
     "data": {
      "text/html": [
       "<div>\n",
       "<style scoped>\n",
       "    .dataframe tbody tr th:only-of-type {\n",
       "        vertical-align: middle;\n",
       "    }\n",
       "\n",
       "    .dataframe tbody tr th {\n",
       "        vertical-align: top;\n",
       "    }\n",
       "\n",
       "    .dataframe thead th {\n",
       "        text-align: right;\n",
       "    }\n",
       "</style>\n",
       "<table border=\"1\" class=\"dataframe\">\n",
       "  <thead>\n",
       "    <tr style=\"text-align: right;\">\n",
       "      <th></th>\n",
       "      <th>revenue</th>\n",
       "      <th>number_of_orders</th>\n",
       "      <th>recency_days</th>\n",
       "    </tr>\n",
       "    <tr>\n",
       "      <th>cluster</th>\n",
       "      <th></th>\n",
       "      <th></th>\n",
       "      <th></th>\n",
       "    </tr>\n",
       "  </thead>\n",
       "  <tbody>\n",
       "    <tr>\n",
       "      <th>0</th>\n",
       "      <td>1281.119459</td>\n",
       "      <td>12.909267</td>\n",
       "      <td>133.255123</td>\n",
       "    </tr>\n",
       "    <tr>\n",
       "      <th>1</th>\n",
       "      <td>749.292247</td>\n",
       "      <td>8.227773</td>\n",
       "      <td>136.139784</td>\n",
       "    </tr>\n",
       "    <tr>\n",
       "      <th>2</th>\n",
       "      <td>692.414498</td>\n",
       "      <td>7.351090</td>\n",
       "      <td>416.697185</td>\n",
       "    </tr>\n",
       "  </tbody>\n",
       "</table>\n",
       "</div>"
      ],
      "text/plain": [
       "             revenue  number_of_orders  recency_days\n",
       "cluster                                             \n",
       "0        1281.119459         12.909267    133.255123\n",
       "1         749.292247          8.227773    136.139784\n",
       "2         692.414498          7.351090    416.697185"
      ]
     },
     "execution_count": 65,
     "metadata": {},
     "output_type": "execute_result"
    }
   ],
   "source": [
    "rfm_clust.groupby('cluster').mean()"
   ]
  },
  {
   "cell_type": "code",
   "execution_count": null,
   "id": "da7f1c0d-8449-43ee-bb58-73039b8faf6c",
   "metadata": {},
   "outputs": [],
   "source": []
  }
 ],
 "metadata": {
  "kernelspec": {
   "display_name": "Python 3 (ipykernel)",
   "language": "python",
   "name": "python3"
  },
  "language_info": {
   "codemirror_mode": {
    "name": "ipython",
    "version": 3
   },
   "file_extension": ".py",
   "mimetype": "text/x-python",
   "name": "python",
   "nbconvert_exporter": "python",
   "pygments_lexer": "ipython3",
   "version": "3.12.4"
  }
 },
 "nbformat": 4,
 "nbformat_minor": 5
}
