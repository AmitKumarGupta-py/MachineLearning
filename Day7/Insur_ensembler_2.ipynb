{
 "cells": [
  {
   "cell_type": "code",
   "execution_count": 1,
   "id": "c8b16560-1094-4511-a20d-eea0a49fc980",
   "metadata": {},
   "outputs": [],
   "source": [
    "from sklearn.ensemble import RandomForestClassifier, VotingClassifier,VotingRegressor\n",
    "import pandas as pd\n",
    "import numpy as np\n",
    "import os\n",
    "from sklearn.decomposition import PCA\n",
    "from sklearn.preprocessing import StandardScaler\n",
    "import pandas as pd\n",
    "import numpy as np\n",
    "from sklearn.neighbors import KNeighborsClassifier, KNeighborsRegressor\n",
    "from sklearn.metrics import r2_score, mean_squared_error, confusion_matrix, accuracy_score, roc_curve, roc_auc_score,log_loss,classification_report\n",
    "from sklearn.model_selection import train_test_split, KFold, cross_val_score, GridSearchCV\n",
    "from sklearn.preprocessing import PolynomialFeatures, LabelEncoder, OneHotEncoder,MinMaxScaler, StandardScaler\n",
    "from sklearn.impute import SimpleImputer\n",
    "from sklearn.pipeline import Pipeline\n",
    "from sklearn.linear_model import ElasticNet, LogisticRegression, LinearRegression\n",
    "from sklearn.compose import make_column_transformer, make_column_selector\n",
    "import matplotlib.pyplot as plt\n",
    "import seaborn as sns\n",
    "from sklearn.model_selection import StratifiedKFold\n",
    "from sklearn.model_selection import GridSearchCV\n",
    "from sklearn.pipeline import Pipeline\n",
    "from sklearn.naive_bayes import BernoulliNB, GaussianNB\n",
    "from sklearn.discriminant_analysis import LinearDiscriminantAnalysis\n",
    "from sklearn.discriminant_analysis import QuadraticDiscriminantAnalysis\n",
    "from sklearn.svm import SVC\n",
    "from sklearn.tree import DecisionTreeClassifier\n",
    "from sklearn.tree import plot_tree\n",
    "from sklearn.tree import DecisionTreeRegressor\n",
    "\n",
    "\n"
   ]
  },
  {
   "cell_type": "code",
   "execution_count": 4,
   "id": "ee4f06a5-5b0c-420f-a5f8-ff9f42c84ea9",
   "metadata": {},
   "outputs": [],
   "source": [
    "in_df = pd.read_csv('insurance.csv')"
   ]
  },
  {
   "cell_type": "code",
   "execution_count": 6,
   "id": "6646d872-1877-4afc-90bd-76c8ebbda33f",
   "metadata": {},
   "outputs": [
    {
     "name": "stdout",
     "output_type": "stream",
     "text": [
      "<class 'pandas.core.frame.DataFrame'>\n",
      "RangeIndex: 1338 entries, 0 to 1337\n",
      "Data columns (total 7 columns):\n",
      " #   Column    Non-Null Count  Dtype  \n",
      "---  ------    --------------  -----  \n",
      " 0   age       1338 non-null   int64  \n",
      " 1   sex       1338 non-null   object \n",
      " 2   bmi       1338 non-null   float64\n",
      " 3   children  1338 non-null   int64  \n",
      " 4   smoker    1338 non-null   object \n",
      " 5   region    1338 non-null   object \n",
      " 6   charges   1338 non-null   float64\n",
      "dtypes: float64(2), int64(2), object(3)\n",
      "memory usage: 73.3+ KB\n"
     ]
    }
   ],
   "source": [
    "in_df.info()"
   ]
  },
  {
   "cell_type": "code",
   "execution_count": 8,
   "id": "056a75d0-66c8-421e-bd70-8f9a570a5561",
   "metadata": {},
   "outputs": [],
   "source": [
    "X = in_df.drop('charges',axis=1 )\n",
    "y = in_df['charges']"
   ]
  },
  {
   "cell_type": "code",
   "execution_count": 10,
   "id": "7f397d8b-e457-4e17-8892-5bc0205dfe71",
   "metadata": {},
   "outputs": [],
   "source": [
    "X_train,X_test,y_train,y_test = train_test_split(X,y,random_state=24,test_size=0.3)"
   ]
  },
  {
   "cell_type": "code",
   "execution_count": 50,
   "id": "97ebb419-fedd-47b9-81c6-709120884340",
   "metadata": {},
   "outputs": [],
   "source": [
    "ohe = OneHotEncoder(handle_unknown = 'ignore', sparse_output = False).set_output(transform = 'pandas')\n",
    "ct_ohe = make_column_transformer(('passthrough',make_column_selector(dtype_exclude = object) ),\n",
    "                                  (ohe,make_column_selector(dtype_include = object) ),\n",
    "                                  verbose_feature_names_out = False).set_output(transform = 'pandas')\n",
    "\n",
    "dtc = DecisionTreeRegressor()\n",
    "lr = LinearRegression()\n",
    "el = ElasticNet()"
   ]
  },
  {
   "cell_type": "code",
   "execution_count": 67,
   "id": "ca657711-1f50-49af-a53d-88f1ce251080",
   "metadata": {},
   "outputs": [
    {
     "data": {
      "text/plain": [
       "0.7665391799816873"
      ]
     },
     "execution_count": 67,
     "metadata": {},
     "output_type": "execute_result"
    }
   ],
   "source": [
    "pipe_lr = Pipeline([('CT',ct_ohe),('LR',lr)])\n",
    "pipe_lr.fit(X_train,y_train)\n",
    "y_pred = pipe_lr.predict(X_test)\n",
    "lr_wt = r2_score(y_test,y_pred)\n",
    "lr_wt"
   ]
  },
  {
   "cell_type": "code",
   "execution_count": 69,
   "id": "9bb9709b-bcfa-41f8-9118-90f41d03d14f",
   "metadata": {},
   "outputs": [
    {
     "data": {
      "text/plain": [
       "0.49673651151300835"
      ]
     },
     "execution_count": 69,
     "metadata": {},
     "output_type": "execute_result"
    }
   ],
   "source": [
    "pipe_el = Pipeline([('CT',ct_ohe),('EL',el)])\n",
    "pipe_el.fit(X_train,y_train)\n",
    "y_pred = pipe_el.predict(X_test)\n",
    "el_wt = r2_score(y_test,y_pred)\n",
    "el_wt"
   ]
  },
  {
   "cell_type": "code",
   "execution_count": 71,
   "id": "52d24050-4f86-4752-9a6c-eda54fe86847",
   "metadata": {},
   "outputs": [
    {
     "data": {
      "text/plain": [
       "0.7066703808007823"
      ]
     },
     "execution_count": 71,
     "metadata": {},
     "output_type": "execute_result"
    }
   ],
   "source": [
    "pipe_dtc = Pipeline([('CT',ct_ohe),('DTC',dtc)])\n",
    "pipe_dtc.fit(X_train,y_train)\n",
    "y_pred = pipe_dtc.predict(X_test)\n",
    "dt_wt = r2_score(y_test,y_pred)\n",
    "dt_wt"
   ]
  },
  {
   "cell_type": "code",
   "execution_count": 73,
   "id": "9390a0d0-e83c-4c07-8c17-00787785f3be",
   "metadata": {},
   "outputs": [
    {
     "data": {
      "text/plain": [
       "0.7745012134228847"
      ]
     },
     "execution_count": 73,
     "metadata": {},
     "output_type": "execute_result"
    }
   ],
   "source": [
    "voting = VotingRegressor([('LR',pipe_lr),('EL',pipe_el),('DT',pipe_dtc)])\n",
    "voting.fit(X_train,y_train)\n",
    "y_pred = voting.predict(X_test)\n",
    "r2_score(y_test,y_pred)\n"
   ]
  },
  {
   "cell_type": "markdown",
   "id": "58b48919-77c1-4e12-a12b-740d5ca47884",
   "metadata": {},
   "source": [
    "## weighted"
   ]
  },
  {
   "cell_type": "code",
   "execution_count": 78,
   "id": "1df22a3a-5980-477a-ba5b-6309ac4e7c5b",
   "metadata": {},
   "outputs": [
    {
     "data": {
      "text/plain": [
       "0.7877625747926207"
      ]
     },
     "execution_count": 78,
     "metadata": {},
     "output_type": "execute_result"
    }
   ],
   "source": [
    "voting = VotingRegressor([('LR',pipe_lr),('EL',pipe_el),('DT',pipe_dtc)],\n",
    "                        weights = [lr_wt,el_wt,dt_wt])\n",
    "voting.fit(X_train,y_train)\n",
    "y_pred = voting.predict(X_test)\n",
    "r2_score(y_test, y_pred)"
   ]
  },
  {
   "cell_type": "markdown",
   "id": "55a342e6-222d-4f80-b1e7-68ccb1d4290b",
   "metadata": {},
   "source": [
    "## GridSearchCV"
   ]
  },
  {
   "cell_type": "code",
   "execution_count": null,
   "id": "a540f53d-01d6-4aab-b028-deabe3f04305",
   "metadata": {},
   "outputs": [],
   "source": []
  }
 ],
 "metadata": {
  "kernelspec": {
   "display_name": "Python 3 (ipykernel)",
   "language": "python",
   "name": "python3"
  },
  "language_info": {
   "codemirror_mode": {
    "name": "ipython",
    "version": 3
   },
   "file_extension": ".py",
   "mimetype": "text/x-python",
   "name": "python",
   "nbconvert_exporter": "python",
   "pygments_lexer": "ipython3",
   "version": "3.12.4"
  }
 },
 "nbformat": 4,
 "nbformat_minor": 5
}
