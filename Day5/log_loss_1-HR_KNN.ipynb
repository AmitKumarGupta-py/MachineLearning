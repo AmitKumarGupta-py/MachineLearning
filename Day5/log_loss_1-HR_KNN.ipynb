{
 "cells": [
  {
   "cell_type": "code",
   "execution_count": 1,
   "id": "6c5170bf-490f-4bae-8e74-145c1632fc96",
   "metadata": {},
   "outputs": [],
   "source": [
    "import pandas as pd\n",
    "import numpy as np\n",
    "from sklearn.neighbors import KNeighborsClassifier\n",
    "from sklearn.metrics import r2_score, mean_squared_error, confusion_matrix, accuracy_score, roc_curve, roc_auc_score,log_loss\n",
    "from sklearn.model_selection import train_test_split, KFold, cross_val_score, GridSearchCV\n",
    "from sklearn.preprocessing import PolynomialFeatures, LabelEncoder, OneHotEncoder,MinMaxScaler, StandardScaler\n",
    "from sklearn.impute import SimpleImputer\n",
    "from sklearn.pipeline import Pipeline\n",
    "from sklearn.linear_model import ElasticNet, LogisticRegression, LinearRegression\n",
    "from sklearn.compose import make_column_transformer, make_column_selector\n",
    "import matplotlib.pyplot as plt\n",
    "import seaborn as sns\n",
    "from sklearn.model_selection import StratifiedKFold\n",
    "from sklearn.model_selection import GridSearchCV\n",
    "from sklearn.pipeline import Pipeline"
   ]
  },
  {
   "cell_type": "code",
   "execution_count": 2,
   "id": "83e3f61c-6f8c-48b4-aacc-4d9d9c5da235",
   "metadata": {},
   "outputs": [],
   "source": [
    "hr_df = pd.read_csv(\"HR_comma_sep.csv\")"
   ]
  },
  {
   "cell_type": "code",
   "execution_count": 3,
   "id": "77b644fb-899c-4bfd-90c1-aa1cfb8d6787",
   "metadata": {},
   "outputs": [
    {
     "data": {
      "text/plain": [
       "Index(['satisfaction_level', 'last_evaluation', 'number_project',\n",
       "       'average_montly_hours', 'time_spend_company', 'Work_accident', 'left',\n",
       "       'promotion_last_5years', 'Department', 'salary'],\n",
       "      dtype='object')"
      ]
     },
     "execution_count": 3,
     "metadata": {},
     "output_type": "execute_result"
    }
   ],
   "source": [
    "hr_df.columns"
   ]
  },
  {
   "cell_type": "code",
   "execution_count": 4,
   "id": "325c1c41-82d6-400f-a3bd-2860597994d4",
   "metadata": {},
   "outputs": [],
   "source": [
    "X = hr_df.drop('left',axis = 1)\n",
    "y = hr_df['left']\n"
   ]
  },
  {
   "cell_type": "code",
   "execution_count": 5,
   "id": "290281d7-b401-474a-b16f-87d33d8d7e37",
   "metadata": {},
   "outputs": [
    {
     "name": "stdout",
     "output_type": "stream",
     "text": [
      "left\n",
      "0    76.209985\n",
      "1    23.790015\n",
      "Name: proportion, dtype: float64\n",
      "left\n",
      "0    76.216937\n",
      "1    23.783063\n",
      "Name: proportion, dtype: float64\n"
     ]
    }
   ],
   "source": [
    "# train test Split\n",
    "\n",
    "X_train,X_test,y_train,y_test = train_test_split(X,y, random_state = 24,test_size = 0.3,stratify=y)\n",
    "# stratify -> after this results should improve if not that's coincidence\n",
    "print(y_train.value_counts(normalize = True)*100)\n",
    "print(y_test.value_counts(normalize = True)*100)"
   ]
  },
  {
   "cell_type": "code",
   "execution_count": 49,
   "id": "eb651042-8e87-4e1f-83a2-4d0d43ba0595",
   "metadata": {},
   "outputs": [],
   "source": [
    "scaler_mm = MinMaxScaler()\n",
    "scaler_std = StandardScaler()"
   ]
  },
  {
   "cell_type": "code",
   "execution_count": 96,
   "id": "b7588deb-16f2-46e2-a743-a59c1e6c5f84",
   "metadata": {},
   "outputs": [],
   "source": [
    "#using make_column_selector(dtype_exclude = ) & dtype_include= \n",
    "lr = LogisticRegression(multi_class = 'multinomial',random_state =24)\n",
    "ohe = OneHotEncoder(drop = 'first', handle_unknown = 'ignore', sparse_output = False).set_output(transform='pandas')\n",
    "ct = make_column_transformer(('passthrough',make_column_selector(dtype_exclude = object) ),(ohe,make_column_selector(dtype_include = object) ),verbose_feature_names_out = False).set_output(transform='pandas')\n",
    "knn = KNeighborsClassifier(n_neighbors=1)\n",
    "pipe = Pipeline([('CT',ct),('SCL',scaler_std),('KNN',knn)])\n",
    "#ct.fit_transform(hr_df)"
   ]
  },
  {
   "cell_type": "code",
   "execution_count": 98,
   "id": "bdc1c936-c37f-4fbd-92d1-103bc0d896a8",
   "metadata": {},
   "outputs": [
    {
     "name": "stdout",
     "output_type": "stream",
     "text": [
      "0.960880195599022\n"
     ]
    }
   ],
   "source": [
    "pipe.fit(X_train,y_train)\n",
    "y_pred = pipe.predict(X_test)\n",
    "print(accuracy_score(y_test,y_pred))\n"
   ]
  },
  {
   "cell_type": "code",
   "execution_count": 104,
   "id": "bd460047-4c62-4add-adb3-1bd27d745368",
   "metadata": {},
   "outputs": [],
   "source": [
    "y_pred_prob = pipe.predict_proba(X_test)"
   ]
  },
  {
   "cell_type": "code",
   "execution_count": 108,
   "id": "aa8648f7-711a-4141-975f-0f5421a6e9a1",
   "metadata": {},
   "outputs": [
    {
     "name": "stdout",
     "output_type": "stream",
     "text": [
      "1.4100206704789109\n"
     ]
    }
   ],
   "source": [
    "print(log_loss(y_test, y_pred_prob))\n"
   ]
  },
  {
   "cell_type": "code",
   "execution_count": 143,
   "id": "e64764a7-d9e7-4d22-9659-5f3a6a3ac8cd",
   "metadata": {},
   "outputs": [],
   "source": [
    "## Grid search\n",
    "\n",
    "kfold = StratifiedKFold(n_splits=5, random_state=24,shuffle=True)"
   ]
  },
  {
   "cell_type": "code",
   "execution_count": 121,
   "id": "bd68e540-9a43-4ba1-a8c7-2d6794d330b9",
   "metadata": {},
   "outputs": [],
   "source": [
    "pipe = Pipeline([('CT',ct),('SCL',scaler_std),('KNN',knn)])"
   ]
  },
  {
   "cell_type": "code",
   "execution_count": 133,
   "id": "93ec3bb9-532d-463f-8870-24b28b739ab7",
   "metadata": {},
   "outputs": [
    {
     "data": {
      "text/plain": [
       "{'memory': None,\n",
       " 'steps': [('CT',\n",
       "   ColumnTransformer(transformers=[('passthrough', 'passthrough',\n",
       "                                    <sklearn.compose._column_transformer.make_column_selector object at 0x000001EF45E4D6A0>),\n",
       "                                   ('onehotencoder',\n",
       "                                    OneHotEncoder(drop='first',\n",
       "                                                  handle_unknown='ignore',\n",
       "                                                  sparse_output=False),\n",
       "                                    <sklearn.compose._column_transformer.make_column_selector object at 0x000001EF45E4DC10>)],\n",
       "                     verbose_feature_names_out=False)),\n",
       "  ('SCL', StandardScaler()),\n",
       "  ('KNN', KNeighborsClassifier(n_neighbors=1))],\n",
       " 'verbose': False,\n",
       " 'CT': ColumnTransformer(transformers=[('passthrough', 'passthrough',\n",
       "                                  <sklearn.compose._column_transformer.make_column_selector object at 0x000001EF45E4D6A0>),\n",
       "                                 ('onehotencoder',\n",
       "                                  OneHotEncoder(drop='first',\n",
       "                                                handle_unknown='ignore',\n",
       "                                                sparse_output=False),\n",
       "                                  <sklearn.compose._column_transformer.make_column_selector object at 0x000001EF45E4DC10>)],\n",
       "                   verbose_feature_names_out=False),\n",
       " 'SCL': StandardScaler(),\n",
       " 'KNN': KNeighborsClassifier(n_neighbors=1),\n",
       " 'CT__n_jobs': None,\n",
       " 'CT__remainder': 'drop',\n",
       " 'CT__sparse_threshold': 0.3,\n",
       " 'CT__transformer_weights': None,\n",
       " 'CT__transformers': [('passthrough',\n",
       "   'passthrough',\n",
       "   <sklearn.compose._column_transformer.make_column_selector at 0x1ef45e4d6a0>),\n",
       "  ('onehotencoder',\n",
       "   OneHotEncoder(drop='first', handle_unknown='ignore', sparse_output=False),\n",
       "   <sklearn.compose._column_transformer.make_column_selector at 0x1ef45e4dc10>)],\n",
       " 'CT__verbose': False,\n",
       " 'CT__verbose_feature_names_out': False,\n",
       " 'CT__passthrough': 'passthrough',\n",
       " 'CT__onehotencoder': OneHotEncoder(drop='first', handle_unknown='ignore', sparse_output=False),\n",
       " 'CT__onehotencoder__categories': 'auto',\n",
       " 'CT__onehotencoder__drop': 'first',\n",
       " 'CT__onehotencoder__dtype': numpy.float64,\n",
       " 'CT__onehotencoder__feature_name_combiner': 'concat',\n",
       " 'CT__onehotencoder__handle_unknown': 'ignore',\n",
       " 'CT__onehotencoder__max_categories': None,\n",
       " 'CT__onehotencoder__min_frequency': None,\n",
       " 'CT__onehotencoder__sparse_output': False,\n",
       " 'SCL__copy': True,\n",
       " 'SCL__with_mean': True,\n",
       " 'SCL__with_std': True,\n",
       " 'KNN__algorithm': 'auto',\n",
       " 'KNN__leaf_size': 30,\n",
       " 'KNN__metric': 'minkowski',\n",
       " 'KNN__metric_params': None,\n",
       " 'KNN__n_jobs': None,\n",
       " 'KNN__n_neighbors': 1,\n",
       " 'KNN__p': 2,\n",
       " 'KNN__weights': 'uniform'}"
      ]
     },
     "execution_count": 133,
     "metadata": {},
     "output_type": "execute_result"
    }
   ],
   "source": [
    "pipe.get_params()\n"
   ]
  },
  {
   "cell_type": "code",
   "execution_count": 135,
   "id": "6f811b66-ac2a-4f1a-9d6b-d4af943f8d55",
   "metadata": {},
   "outputs": [],
   "source": [
    "params = {'KNN__n_neighbors':np.arange(1, 11),\n",
    "        'SCL':[scaler_mm,scaler_std,None]}"
   ]
  },
  {
   "cell_type": "code",
   "execution_count": 145,
   "id": "430973fa-7159-4d93-af46-80a8b91d83cc",
   "metadata": {},
   "outputs": [],
   "source": [
    "#gcv = GridSearchCV(pipe, param_grid = params,cv=kfold, verbose=3)\n",
    "gcv = GridSearchCV(pipe, param_grid = params,scoring = 'neg_log_loss',cv=kfold, verbose=3)"
   ]
  },
  {
   "cell_type": "code",
   "execution_count": 147,
   "id": "7b78ae13-4bea-40b6-9620-b630877c68ca",
   "metadata": {},
   "outputs": [
    {
     "name": "stdout",
     "output_type": "stream",
     "text": [
      "Fitting 5 folds for each of 30 candidates, totalling 150 fits\n",
      "[CV 1/5] END KNN__n_neighbors=1, SCL=MinMaxScaler();, score=-1.202 total time=   0.1s\n",
      "[CV 2/5] END KNN__n_neighbors=1, SCL=MinMaxScaler();, score=-1.262 total time=   0.1s\n",
      "[CV 3/5] END KNN__n_neighbors=1, SCL=MinMaxScaler();, score=-1.142 total time=   0.1s\n",
      "[CV 4/5] END KNN__n_neighbors=1, SCL=MinMaxScaler();, score=-1.106 total time=   0.1s\n",
      "[CV 5/5] END KNN__n_neighbors=1, SCL=MinMaxScaler();, score=-1.118 total time=   0.1s\n",
      "[CV 1/5] END KNN__n_neighbors=1, SCL=StandardScaler();, score=-1.274 total time=   0.1s\n",
      "[CV 2/5] END KNN__n_neighbors=1, SCL=StandardScaler();, score=-1.238 total time=   0.1s\n",
      "[CV 3/5] END KNN__n_neighbors=1, SCL=StandardScaler();, score=-1.166 total time=   0.1s\n",
      "[CV 4/5] END KNN__n_neighbors=1, SCL=StandardScaler();, score=-1.106 total time=   0.1s\n",
      "[CV 5/5] END KNN__n_neighbors=1, SCL=StandardScaler();, score=-1.106 total time=   0.1s\n",
      "[CV 1/5] END .....KNN__n_neighbors=1, SCL=None;, score=-1.550 total time=   0.1s\n",
      "[CV 2/5] END .....KNN__n_neighbors=1, SCL=None;, score=-1.623 total time=   0.1s\n",
      "[CV 3/5] END .....KNN__n_neighbors=1, SCL=None;, score=-1.683 total time=   0.1s\n",
      "[CV 4/5] END .....KNN__n_neighbors=1, SCL=None;, score=-1.394 total time=   0.1s\n",
      "[CV 5/5] END .....KNN__n_neighbors=1, SCL=None;, score=-1.466 total time=   0.1s\n",
      "[CV 1/5] END KNN__n_neighbors=2, SCL=MinMaxScaler();, score=-1.011 total time=   0.1s\n",
      "[CV 2/5] END KNN__n_neighbors=2, SCL=MinMaxScaler();, score=-0.954 total time=   0.1s\n",
      "[CV 3/5] END KNN__n_neighbors=2, SCL=MinMaxScaler();, score=-0.868 total time=   0.1s\n",
      "[CV 4/5] END KNN__n_neighbors=2, SCL=MinMaxScaler();, score=-0.777 total time=   0.1s\n",
      "[CV 5/5] END KNN__n_neighbors=2, SCL=MinMaxScaler();, score=-0.857 total time=   0.1s\n",
      "[CV 1/5] END KNN__n_neighbors=2, SCL=StandardScaler();, score=-0.966 total time=   0.1s\n",
      "[CV 2/5] END KNN__n_neighbors=2, SCL=StandardScaler();, score=-0.954 total time=   0.1s\n",
      "[CV 3/5] END KNN__n_neighbors=2, SCL=StandardScaler();, score=-0.870 total time=   0.1s\n",
      "[CV 4/5] END KNN__n_neighbors=2, SCL=StandardScaler();, score=-0.775 total time=   0.1s\n",
      "[CV 5/5] END KNN__n_neighbors=2, SCL=StandardScaler();, score=-0.844 total time=   0.1s\n",
      "[CV 1/5] END .....KNN__n_neighbors=2, SCL=None;, score=-1.143 total time=   0.1s\n",
      "[CV 2/5] END .....KNN__n_neighbors=2, SCL=None;, score=-1.176 total time=   0.1s\n",
      "[CV 3/5] END .....KNN__n_neighbors=2, SCL=None;, score=-1.154 total time=   0.1s\n",
      "[CV 4/5] END .....KNN__n_neighbors=2, SCL=None;, score=-0.976 total time=   0.1s\n",
      "[CV 5/5] END .....KNN__n_neighbors=2, SCL=None;, score=-0.958 total time=   0.1s\n",
      "[CV 1/5] END KNN__n_neighbors=3, SCL=MinMaxScaler();, score=-0.853 total time=   0.1s\n",
      "[CV 2/5] END KNN__n_neighbors=3, SCL=MinMaxScaler();, score=-0.752 total time=   0.1s\n",
      "[CV 3/5] END KNN__n_neighbors=3, SCL=MinMaxScaler();, score=-0.672 total time=   0.1s\n",
      "[CV 4/5] END KNN__n_neighbors=3, SCL=MinMaxScaler();, score=-0.584 total time=   0.1s\n",
      "[CV 5/5] END KNN__n_neighbors=3, SCL=MinMaxScaler();, score=-0.599 total time=   0.1s\n",
      "[CV 1/5] END KNN__n_neighbors=3, SCL=StandardScaler();, score=-0.771 total time=   0.1s\n",
      "[CV 2/5] END KNN__n_neighbors=3, SCL=StandardScaler();, score=-0.749 total time=   0.1s\n",
      "[CV 3/5] END KNN__n_neighbors=3, SCL=StandardScaler();, score=-0.698 total time=   0.1s\n",
      "[CV 4/5] END KNN__n_neighbors=3, SCL=StandardScaler();, score=-0.607 total time=   0.1s\n",
      "[CV 5/5] END KNN__n_neighbors=3, SCL=StandardScaler();, score=-0.608 total time=   0.1s\n",
      "[CV 1/5] END .....KNN__n_neighbors=3, SCL=None;, score=-1.023 total time=   0.1s\n",
      "[CV 2/5] END .....KNN__n_neighbors=3, SCL=None;, score=-0.891 total time=   0.1s\n",
      "[CV 3/5] END .....KNN__n_neighbors=3, SCL=None;, score=-1.008 total time=   0.1s\n",
      "[CV 4/5] END .....KNN__n_neighbors=3, SCL=None;, score=-0.797 total time=   0.1s\n",
      "[CV 5/5] END .....KNN__n_neighbors=3, SCL=None;, score=-0.793 total time=   0.1s\n",
      "[CV 1/5] END KNN__n_neighbors=4, SCL=MinMaxScaler();, score=-0.726 total time=   0.1s\n",
      "[CV 2/5] END KNN__n_neighbors=4, SCL=MinMaxScaler();, score=-0.670 total time=   0.1s\n",
      "[CV 3/5] END KNN__n_neighbors=4, SCL=MinMaxScaler();, score=-0.578 total time=   0.1s\n",
      "[CV 4/5] END KNN__n_neighbors=4, SCL=MinMaxScaler();, score=-0.572 total time=   0.1s\n",
      "[CV 5/5] END KNN__n_neighbors=4, SCL=MinMaxScaler();, score=-0.495 total time=   0.1s\n",
      "[CV 1/5] END KNN__n_neighbors=4, SCL=StandardScaler();, score=-0.689 total time=   0.1s\n",
      "[CV 2/5] END KNN__n_neighbors=4, SCL=StandardScaler();, score=-0.631 total time=   0.1s\n",
      "[CV 3/5] END KNN__n_neighbors=4, SCL=StandardScaler();, score=-0.556 total time=   0.1s\n",
      "[CV 4/5] END KNN__n_neighbors=4, SCL=StandardScaler();, score=-0.594 total time=   0.1s\n",
      "[CV 5/5] END KNN__n_neighbors=4, SCL=StandardScaler();, score=-0.483 total time=   0.1s\n",
      "[CV 1/5] END .....KNN__n_neighbors=4, SCL=None;, score=-0.782 total time=   0.1s\n",
      "[CV 2/5] END .....KNN__n_neighbors=4, SCL=None;, score=-0.765 total time=   0.1s\n",
      "[CV 3/5] END .....KNN__n_neighbors=4, SCL=None;, score=-0.810 total time=   0.1s\n",
      "[CV 4/5] END .....KNN__n_neighbors=4, SCL=None;, score=-0.658 total time=   0.1s\n",
      "[CV 5/5] END .....KNN__n_neighbors=4, SCL=None;, score=-0.700 total time=   0.1s\n",
      "[CV 1/5] END KNN__n_neighbors=5, SCL=MinMaxScaler();, score=-0.710 total time=   0.1s\n",
      "[CV 2/5] END KNN__n_neighbors=5, SCL=MinMaxScaler();, score=-0.656 total time=   0.1s\n",
      "[CV 3/5] END KNN__n_neighbors=5, SCL=MinMaxScaler();, score=-0.540 total time=   0.1s\n",
      "[CV 4/5] END KNN__n_neighbors=5, SCL=MinMaxScaler();, score=-0.537 total time=   0.1s\n",
      "[CV 5/5] END KNN__n_neighbors=5, SCL=MinMaxScaler();, score=-0.494 total time=   0.1s\n",
      "[CV 1/5] END KNN__n_neighbors=5, SCL=StandardScaler();, score=-0.651 total time=   0.1s\n",
      "[CV 2/5] END KNN__n_neighbors=5, SCL=StandardScaler();, score=-0.617 total time=   0.1s\n",
      "[CV 3/5] END KNN__n_neighbors=5, SCL=StandardScaler();, score=-0.539 total time=   0.1s\n",
      "[CV 4/5] END KNN__n_neighbors=5, SCL=StandardScaler();, score=-0.524 total time=   0.1s\n",
      "[CV 5/5] END KNN__n_neighbors=5, SCL=StandardScaler();, score=-0.468 total time=   0.1s\n",
      "[CV 1/5] END .....KNN__n_neighbors=5, SCL=None;, score=-0.708 total time=   0.1s\n",
      "[CV 2/5] END .....KNN__n_neighbors=5, SCL=None;, score=-0.691 total time=   0.1s\n",
      "[CV 3/5] END .....KNN__n_neighbors=5, SCL=None;, score=-0.746 total time=   0.1s\n",
      "[CV 4/5] END .....KNN__n_neighbors=5, SCL=None;, score=-0.571 total time=   0.1s\n",
      "[CV 5/5] END .....KNN__n_neighbors=5, SCL=None;, score=-0.604 total time=   0.1s\n",
      "[CV 1/5] END KNN__n_neighbors=6, SCL=MinMaxScaler();, score=-0.650 total time=   0.1s\n",
      "[CV 2/5] END KNN__n_neighbors=6, SCL=MinMaxScaler();, score=-0.618 total time=   0.1s\n",
      "[CV 3/5] END KNN__n_neighbors=6, SCL=MinMaxScaler();, score=-0.523 total time=   0.1s\n",
      "[CV 4/5] END KNN__n_neighbors=6, SCL=MinMaxScaler();, score=-0.467 total time=   0.1s\n",
      "[CV 5/5] END KNN__n_neighbors=6, SCL=MinMaxScaler();, score=-0.457 total time=   0.1s\n",
      "[CV 1/5] END KNN__n_neighbors=6, SCL=StandardScaler();, score=-0.647 total time=   0.1s\n",
      "[CV 2/5] END KNN__n_neighbors=6, SCL=StandardScaler();, score=-0.602 total time=   0.1s\n",
      "[CV 3/5] END KNN__n_neighbors=6, SCL=StandardScaler();, score=-0.499 total time=   0.1s\n",
      "[CV 4/5] END KNN__n_neighbors=6, SCL=StandardScaler();, score=-0.462 total time=   0.1s\n",
      "[CV 5/5] END KNN__n_neighbors=6, SCL=StandardScaler();, score=-0.428 total time=   0.1s\n",
      "[CV 1/5] END .....KNN__n_neighbors=6, SCL=None;, score=-0.656 total time=   0.1s\n",
      "[CV 2/5] END .....KNN__n_neighbors=6, SCL=None;, score=-0.570 total time=   0.1s\n",
      "[CV 3/5] END .....KNN__n_neighbors=6, SCL=None;, score=-0.738 total time=   0.1s\n",
      "[CV 4/5] END .....KNN__n_neighbors=6, SCL=None;, score=-0.455 total time=   0.1s\n",
      "[CV 5/5] END .....KNN__n_neighbors=6, SCL=None;, score=-0.563 total time=   0.1s\n",
      "[CV 1/5] END KNN__n_neighbors=7, SCL=MinMaxScaler();, score=-0.644 total time=   0.1s\n",
      "[CV 2/5] END KNN__n_neighbors=7, SCL=MinMaxScaler();, score=-0.600 total time=   0.1s\n",
      "[CV 3/5] END KNN__n_neighbors=7, SCL=MinMaxScaler();, score=-0.472 total time=   0.1s\n",
      "[CV 4/5] END KNN__n_neighbors=7, SCL=MinMaxScaler();, score=-0.462 total time=   0.1s\n",
      "[CV 5/5] END KNN__n_neighbors=7, SCL=MinMaxScaler();, score=-0.452 total time=   0.1s\n",
      "[CV 1/5] END KNN__n_neighbors=7, SCL=StandardScaler();, score=-0.597 total time=   0.1s\n",
      "[CV 2/5] END KNN__n_neighbors=7, SCL=StandardScaler();, score=-0.608 total time=   0.1s\n",
      "[CV 3/5] END KNN__n_neighbors=7, SCL=StandardScaler();, score=-0.482 total time=   0.1s\n",
      "[CV 4/5] END KNN__n_neighbors=7, SCL=StandardScaler();, score=-0.423 total time=   0.1s\n",
      "[CV 5/5] END KNN__n_neighbors=7, SCL=StandardScaler();, score=-0.435 total time=   0.1s\n",
      "[CV 1/5] END .....KNN__n_neighbors=7, SCL=None;, score=-0.638 total time=   0.1s\n",
      "[CV 2/5] END .....KNN__n_neighbors=7, SCL=None;, score=-0.539 total time=   0.1s\n",
      "[CV 3/5] END .....KNN__n_neighbors=7, SCL=None;, score=-0.673 total time=   0.1s\n",
      "[CV 4/5] END .....KNN__n_neighbors=7, SCL=None;, score=-0.402 total time=   0.1s\n",
      "[CV 5/5] END .....KNN__n_neighbors=7, SCL=None;, score=-0.542 total time=   0.1s\n",
      "[CV 1/5] END KNN__n_neighbors=8, SCL=MinMaxScaler();, score=-0.616 total time=   0.1s\n",
      "[CV 2/5] END KNN__n_neighbors=8, SCL=MinMaxScaler();, score=-0.582 total time=   0.1s\n",
      "[CV 3/5] END KNN__n_neighbors=8, SCL=MinMaxScaler();, score=-0.432 total time=   0.1s\n",
      "[CV 4/5] END KNN__n_neighbors=8, SCL=MinMaxScaler();, score=-0.456 total time=   0.1s\n",
      "[CV 5/5] END KNN__n_neighbors=8, SCL=MinMaxScaler();, score=-0.401 total time=   0.1s\n",
      "[CV 1/5] END KNN__n_neighbors=8, SCL=StandardScaler();, score=-0.589 total time=   0.1s\n",
      "[CV 2/5] END KNN__n_neighbors=8, SCL=StandardScaler();, score=-0.580 total time=   0.1s\n",
      "[CV 3/5] END KNN__n_neighbors=8, SCL=StandardScaler();, score=-0.462 total time=   0.1s\n",
      "[CV 4/5] END KNN__n_neighbors=8, SCL=StandardScaler();, score=-0.406 total time=   0.1s\n",
      "[CV 5/5] END KNN__n_neighbors=8, SCL=StandardScaler();, score=-0.397 total time=   0.1s\n",
      "[CV 1/5] END .....KNN__n_neighbors=8, SCL=None;, score=-0.572 total time=   0.1s\n",
      "[CV 2/5] END .....KNN__n_neighbors=8, SCL=None;, score=-0.499 total time=   0.1s\n",
      "[CV 3/5] END .....KNN__n_neighbors=8, SCL=None;, score=-0.621 total time=   0.1s\n",
      "[CV 4/5] END .....KNN__n_neighbors=8, SCL=None;, score=-0.395 total time=   0.1s\n",
      "[CV 5/5] END .....KNN__n_neighbors=8, SCL=None;, score=-0.487 total time=   0.1s\n",
      "[CV 1/5] END KNN__n_neighbors=9, SCL=MinMaxScaler();, score=-0.600 total time=   0.1s\n",
      "[CV 2/5] END KNN__n_neighbors=9, SCL=MinMaxScaler();, score=-0.587 total time=   0.1s\n",
      "[CV 3/5] END KNN__n_neighbors=9, SCL=MinMaxScaler();, score=-0.435 total time=   0.1s\n",
      "[CV 4/5] END KNN__n_neighbors=9, SCL=MinMaxScaler();, score=-0.439 total time=   0.1s\n",
      "[CV 5/5] END KNN__n_neighbors=9, SCL=MinMaxScaler();, score=-0.383 total time=   0.1s\n",
      "[CV 1/5] END KNN__n_neighbors=9, SCL=StandardScaler();, score=-0.594 total time=   0.1s\n",
      "[CV 2/5] END KNN__n_neighbors=9, SCL=StandardScaler();, score=-0.550 total time=   0.1s\n",
      "[CV 3/5] END KNN__n_neighbors=9, SCL=StandardScaler();, score=-0.466 total time=   0.1s\n",
      "[CV 4/5] END KNN__n_neighbors=9, SCL=StandardScaler();, score=-0.399 total time=   0.1s\n",
      "[CV 5/5] END KNN__n_neighbors=9, SCL=StandardScaler();, score=-0.378 total time=   0.1s\n",
      "[CV 1/5] END .....KNN__n_neighbors=9, SCL=None;, score=-0.542 total time=   0.1s\n",
      "[CV 2/5] END .....KNN__n_neighbors=9, SCL=None;, score=-0.479 total time=   0.1s\n",
      "[CV 3/5] END .....KNN__n_neighbors=9, SCL=None;, score=-0.590 total time=   0.1s\n",
      "[CV 4/5] END .....KNN__n_neighbors=9, SCL=None;, score=-0.351 total time=   0.1s\n",
      "[CV 5/5] END .....KNN__n_neighbors=9, SCL=None;, score=-0.468 total time=   0.1s\n",
      "[CV 1/5] END KNN__n_neighbors=10, SCL=MinMaxScaler();, score=-0.571 total time=   0.1s\n",
      "[CV 2/5] END KNN__n_neighbors=10, SCL=MinMaxScaler();, score=-0.592 total time=   0.1s\n",
      "[CV 3/5] END KNN__n_neighbors=10, SCL=MinMaxScaler();, score=-0.429 total time=   0.1s\n",
      "[CV 4/5] END KNN__n_neighbors=10, SCL=MinMaxScaler();, score=-0.435 total time=   0.1s\n",
      "[CV 5/5] END KNN__n_neighbors=10, SCL=MinMaxScaler();, score=-0.377 total time=   0.1s\n",
      "[CV 1/5] END KNN__n_neighbors=10, SCL=StandardScaler();, score=-0.576 total time=   0.1s\n",
      "[CV 2/5] END KNN__n_neighbors=10, SCL=StandardScaler();, score=-0.553 total time=   0.1s\n",
      "[CV 3/5] END KNN__n_neighbors=10, SCL=StandardScaler();, score=-0.425 total time=   0.1s\n",
      "[CV 4/5] END KNN__n_neighbors=10, SCL=StandardScaler();, score=-0.404 total time=   0.1s\n",
      "[CV 5/5] END KNN__n_neighbors=10, SCL=StandardScaler();, score=-0.361 total time=   0.1s\n",
      "[CV 1/5] END ....KNN__n_neighbors=10, SCL=None;, score=-0.522 total time=   0.1s\n",
      "[CV 2/5] END ....KNN__n_neighbors=10, SCL=None;, score=-0.472 total time=   0.1s\n",
      "[CV 3/5] END ....KNN__n_neighbors=10, SCL=None;, score=-0.559 total time=   0.1s\n",
      "[CV 4/5] END ....KNN__n_neighbors=10, SCL=None;, score=-0.342 total time=   0.1s\n",
      "[CV 5/5] END ....KNN__n_neighbors=10, SCL=None;, score=-0.447 total time=   0.1s\n"
     ]
    },
    {
     "data": {
      "text/html": [
       "<style>#sk-container-id-3 {\n",
       "  /* Definition of color scheme common for light and dark mode */\n",
       "  --sklearn-color-text: black;\n",
       "  --sklearn-color-line: gray;\n",
       "  /* Definition of color scheme for unfitted estimators */\n",
       "  --sklearn-color-unfitted-level-0: #fff5e6;\n",
       "  --sklearn-color-unfitted-level-1: #f6e4d2;\n",
       "  --sklearn-color-unfitted-level-2: #ffe0b3;\n",
       "  --sklearn-color-unfitted-level-3: chocolate;\n",
       "  /* Definition of color scheme for fitted estimators */\n",
       "  --sklearn-color-fitted-level-0: #f0f8ff;\n",
       "  --sklearn-color-fitted-level-1: #d4ebff;\n",
       "  --sklearn-color-fitted-level-2: #b3dbfd;\n",
       "  --sklearn-color-fitted-level-3: cornflowerblue;\n",
       "\n",
       "  /* Specific color for light theme */\n",
       "  --sklearn-color-text-on-default-background: var(--sg-text-color, var(--theme-code-foreground, var(--jp-content-font-color1, black)));\n",
       "  --sklearn-color-background: var(--sg-background-color, var(--theme-background, var(--jp-layout-color0, white)));\n",
       "  --sklearn-color-border-box: var(--sg-text-color, var(--theme-code-foreground, var(--jp-content-font-color1, black)));\n",
       "  --sklearn-color-icon: #696969;\n",
       "\n",
       "  @media (prefers-color-scheme: dark) {\n",
       "    /* Redefinition of color scheme for dark theme */\n",
       "    --sklearn-color-text-on-default-background: var(--sg-text-color, var(--theme-code-foreground, var(--jp-content-font-color1, white)));\n",
       "    --sklearn-color-background: var(--sg-background-color, var(--theme-background, var(--jp-layout-color0, #111)));\n",
       "    --sklearn-color-border-box: var(--sg-text-color, var(--theme-code-foreground, var(--jp-content-font-color1, white)));\n",
       "    --sklearn-color-icon: #878787;\n",
       "  }\n",
       "}\n",
       "\n",
       "#sk-container-id-3 {\n",
       "  color: var(--sklearn-color-text);\n",
       "}\n",
       "\n",
       "#sk-container-id-3 pre {\n",
       "  padding: 0;\n",
       "}\n",
       "\n",
       "#sk-container-id-3 input.sk-hidden--visually {\n",
       "  border: 0;\n",
       "  clip: rect(1px 1px 1px 1px);\n",
       "  clip: rect(1px, 1px, 1px, 1px);\n",
       "  height: 1px;\n",
       "  margin: -1px;\n",
       "  overflow: hidden;\n",
       "  padding: 0;\n",
       "  position: absolute;\n",
       "  width: 1px;\n",
       "}\n",
       "\n",
       "#sk-container-id-3 div.sk-dashed-wrapped {\n",
       "  border: 1px dashed var(--sklearn-color-line);\n",
       "  margin: 0 0.4em 0.5em 0.4em;\n",
       "  box-sizing: border-box;\n",
       "  padding-bottom: 0.4em;\n",
       "  background-color: var(--sklearn-color-background);\n",
       "}\n",
       "\n",
       "#sk-container-id-3 div.sk-container {\n",
       "  /* jupyter's `normalize.less` sets `[hidden] { display: none; }`\n",
       "     but bootstrap.min.css set `[hidden] { display: none !important; }`\n",
       "     so we also need the `!important` here to be able to override the\n",
       "     default hidden behavior on the sphinx rendered scikit-learn.org.\n",
       "     See: https://github.com/scikit-learn/scikit-learn/issues/21755 */\n",
       "  display: inline-block !important;\n",
       "  position: relative;\n",
       "}\n",
       "\n",
       "#sk-container-id-3 div.sk-text-repr-fallback {\n",
       "  display: none;\n",
       "}\n",
       "\n",
       "div.sk-parallel-item,\n",
       "div.sk-serial,\n",
       "div.sk-item {\n",
       "  /* draw centered vertical line to link estimators */\n",
       "  background-image: linear-gradient(var(--sklearn-color-text-on-default-background), var(--sklearn-color-text-on-default-background));\n",
       "  background-size: 2px 100%;\n",
       "  background-repeat: no-repeat;\n",
       "  background-position: center center;\n",
       "}\n",
       "\n",
       "/* Parallel-specific style estimator block */\n",
       "\n",
       "#sk-container-id-3 div.sk-parallel-item::after {\n",
       "  content: \"\";\n",
       "  width: 100%;\n",
       "  border-bottom: 2px solid var(--sklearn-color-text-on-default-background);\n",
       "  flex-grow: 1;\n",
       "}\n",
       "\n",
       "#sk-container-id-3 div.sk-parallel {\n",
       "  display: flex;\n",
       "  align-items: stretch;\n",
       "  justify-content: center;\n",
       "  background-color: var(--sklearn-color-background);\n",
       "  position: relative;\n",
       "}\n",
       "\n",
       "#sk-container-id-3 div.sk-parallel-item {\n",
       "  display: flex;\n",
       "  flex-direction: column;\n",
       "}\n",
       "\n",
       "#sk-container-id-3 div.sk-parallel-item:first-child::after {\n",
       "  align-self: flex-end;\n",
       "  width: 50%;\n",
       "}\n",
       "\n",
       "#sk-container-id-3 div.sk-parallel-item:last-child::after {\n",
       "  align-self: flex-start;\n",
       "  width: 50%;\n",
       "}\n",
       "\n",
       "#sk-container-id-3 div.sk-parallel-item:only-child::after {\n",
       "  width: 0;\n",
       "}\n",
       "\n",
       "/* Serial-specific style estimator block */\n",
       "\n",
       "#sk-container-id-3 div.sk-serial {\n",
       "  display: flex;\n",
       "  flex-direction: column;\n",
       "  align-items: center;\n",
       "  background-color: var(--sklearn-color-background);\n",
       "  padding-right: 1em;\n",
       "  padding-left: 1em;\n",
       "}\n",
       "\n",
       "\n",
       "/* Toggleable style: style used for estimator/Pipeline/ColumnTransformer box that is\n",
       "clickable and can be expanded/collapsed.\n",
       "- Pipeline and ColumnTransformer use this feature and define the default style\n",
       "- Estimators will overwrite some part of the style using the `sk-estimator` class\n",
       "*/\n",
       "\n",
       "/* Pipeline and ColumnTransformer style (default) */\n",
       "\n",
       "#sk-container-id-3 div.sk-toggleable {\n",
       "  /* Default theme specific background. It is overwritten whether we have a\n",
       "  specific estimator or a Pipeline/ColumnTransformer */\n",
       "  background-color: var(--sklearn-color-background);\n",
       "}\n",
       "\n",
       "/* Toggleable label */\n",
       "#sk-container-id-3 label.sk-toggleable__label {\n",
       "  cursor: pointer;\n",
       "  display: block;\n",
       "  width: 100%;\n",
       "  margin-bottom: 0;\n",
       "  padding: 0.5em;\n",
       "  box-sizing: border-box;\n",
       "  text-align: center;\n",
       "}\n",
       "\n",
       "#sk-container-id-3 label.sk-toggleable__label-arrow:before {\n",
       "  /* Arrow on the left of the label */\n",
       "  content: \"▸\";\n",
       "  float: left;\n",
       "  margin-right: 0.25em;\n",
       "  color: var(--sklearn-color-icon);\n",
       "}\n",
       "\n",
       "#sk-container-id-3 label.sk-toggleable__label-arrow:hover:before {\n",
       "  color: var(--sklearn-color-text);\n",
       "}\n",
       "\n",
       "/* Toggleable content - dropdown */\n",
       "\n",
       "#sk-container-id-3 div.sk-toggleable__content {\n",
       "  max-height: 0;\n",
       "  max-width: 0;\n",
       "  overflow: hidden;\n",
       "  text-align: left;\n",
       "  /* unfitted */\n",
       "  background-color: var(--sklearn-color-unfitted-level-0);\n",
       "}\n",
       "\n",
       "#sk-container-id-3 div.sk-toggleable__content.fitted {\n",
       "  /* fitted */\n",
       "  background-color: var(--sklearn-color-fitted-level-0);\n",
       "}\n",
       "\n",
       "#sk-container-id-3 div.sk-toggleable__content pre {\n",
       "  margin: 0.2em;\n",
       "  border-radius: 0.25em;\n",
       "  color: var(--sklearn-color-text);\n",
       "  /* unfitted */\n",
       "  background-color: var(--sklearn-color-unfitted-level-0);\n",
       "}\n",
       "\n",
       "#sk-container-id-3 div.sk-toggleable__content.fitted pre {\n",
       "  /* unfitted */\n",
       "  background-color: var(--sklearn-color-fitted-level-0);\n",
       "}\n",
       "\n",
       "#sk-container-id-3 input.sk-toggleable__control:checked~div.sk-toggleable__content {\n",
       "  /* Expand drop-down */\n",
       "  max-height: 200px;\n",
       "  max-width: 100%;\n",
       "  overflow: auto;\n",
       "}\n",
       "\n",
       "#sk-container-id-3 input.sk-toggleable__control:checked~label.sk-toggleable__label-arrow:before {\n",
       "  content: \"▾\";\n",
       "}\n",
       "\n",
       "/* Pipeline/ColumnTransformer-specific style */\n",
       "\n",
       "#sk-container-id-3 div.sk-label input.sk-toggleable__control:checked~label.sk-toggleable__label {\n",
       "  color: var(--sklearn-color-text);\n",
       "  background-color: var(--sklearn-color-unfitted-level-2);\n",
       "}\n",
       "\n",
       "#sk-container-id-3 div.sk-label.fitted input.sk-toggleable__control:checked~label.sk-toggleable__label {\n",
       "  background-color: var(--sklearn-color-fitted-level-2);\n",
       "}\n",
       "\n",
       "/* Estimator-specific style */\n",
       "\n",
       "/* Colorize estimator box */\n",
       "#sk-container-id-3 div.sk-estimator input.sk-toggleable__control:checked~label.sk-toggleable__label {\n",
       "  /* unfitted */\n",
       "  background-color: var(--sklearn-color-unfitted-level-2);\n",
       "}\n",
       "\n",
       "#sk-container-id-3 div.sk-estimator.fitted input.sk-toggleable__control:checked~label.sk-toggleable__label {\n",
       "  /* fitted */\n",
       "  background-color: var(--sklearn-color-fitted-level-2);\n",
       "}\n",
       "\n",
       "#sk-container-id-3 div.sk-label label.sk-toggleable__label,\n",
       "#sk-container-id-3 div.sk-label label {\n",
       "  /* The background is the default theme color */\n",
       "  color: var(--sklearn-color-text-on-default-background);\n",
       "}\n",
       "\n",
       "/* On hover, darken the color of the background */\n",
       "#sk-container-id-3 div.sk-label:hover label.sk-toggleable__label {\n",
       "  color: var(--sklearn-color-text);\n",
       "  background-color: var(--sklearn-color-unfitted-level-2);\n",
       "}\n",
       "\n",
       "/* Label box, darken color on hover, fitted */\n",
       "#sk-container-id-3 div.sk-label.fitted:hover label.sk-toggleable__label.fitted {\n",
       "  color: var(--sklearn-color-text);\n",
       "  background-color: var(--sklearn-color-fitted-level-2);\n",
       "}\n",
       "\n",
       "/* Estimator label */\n",
       "\n",
       "#sk-container-id-3 div.sk-label label {\n",
       "  font-family: monospace;\n",
       "  font-weight: bold;\n",
       "  display: inline-block;\n",
       "  line-height: 1.2em;\n",
       "}\n",
       "\n",
       "#sk-container-id-3 div.sk-label-container {\n",
       "  text-align: center;\n",
       "}\n",
       "\n",
       "/* Estimator-specific */\n",
       "#sk-container-id-3 div.sk-estimator {\n",
       "  font-family: monospace;\n",
       "  border: 1px dotted var(--sklearn-color-border-box);\n",
       "  border-radius: 0.25em;\n",
       "  box-sizing: border-box;\n",
       "  margin-bottom: 0.5em;\n",
       "  /* unfitted */\n",
       "  background-color: var(--sklearn-color-unfitted-level-0);\n",
       "}\n",
       "\n",
       "#sk-container-id-3 div.sk-estimator.fitted {\n",
       "  /* fitted */\n",
       "  background-color: var(--sklearn-color-fitted-level-0);\n",
       "}\n",
       "\n",
       "/* on hover */\n",
       "#sk-container-id-3 div.sk-estimator:hover {\n",
       "  /* unfitted */\n",
       "  background-color: var(--sklearn-color-unfitted-level-2);\n",
       "}\n",
       "\n",
       "#sk-container-id-3 div.sk-estimator.fitted:hover {\n",
       "  /* fitted */\n",
       "  background-color: var(--sklearn-color-fitted-level-2);\n",
       "}\n",
       "\n",
       "/* Specification for estimator info (e.g. \"i\" and \"?\") */\n",
       "\n",
       "/* Common style for \"i\" and \"?\" */\n",
       "\n",
       ".sk-estimator-doc-link,\n",
       "a:link.sk-estimator-doc-link,\n",
       "a:visited.sk-estimator-doc-link {\n",
       "  float: right;\n",
       "  font-size: smaller;\n",
       "  line-height: 1em;\n",
       "  font-family: monospace;\n",
       "  background-color: var(--sklearn-color-background);\n",
       "  border-radius: 1em;\n",
       "  height: 1em;\n",
       "  width: 1em;\n",
       "  text-decoration: none !important;\n",
       "  margin-left: 1ex;\n",
       "  /* unfitted */\n",
       "  border: var(--sklearn-color-unfitted-level-1) 1pt solid;\n",
       "  color: var(--sklearn-color-unfitted-level-1);\n",
       "}\n",
       "\n",
       ".sk-estimator-doc-link.fitted,\n",
       "a:link.sk-estimator-doc-link.fitted,\n",
       "a:visited.sk-estimator-doc-link.fitted {\n",
       "  /* fitted */\n",
       "  border: var(--sklearn-color-fitted-level-1) 1pt solid;\n",
       "  color: var(--sklearn-color-fitted-level-1);\n",
       "}\n",
       "\n",
       "/* On hover */\n",
       "div.sk-estimator:hover .sk-estimator-doc-link:hover,\n",
       ".sk-estimator-doc-link:hover,\n",
       "div.sk-label-container:hover .sk-estimator-doc-link:hover,\n",
       ".sk-estimator-doc-link:hover {\n",
       "  /* unfitted */\n",
       "  background-color: var(--sklearn-color-unfitted-level-3);\n",
       "  color: var(--sklearn-color-background);\n",
       "  text-decoration: none;\n",
       "}\n",
       "\n",
       "div.sk-estimator.fitted:hover .sk-estimator-doc-link.fitted:hover,\n",
       ".sk-estimator-doc-link.fitted:hover,\n",
       "div.sk-label-container:hover .sk-estimator-doc-link.fitted:hover,\n",
       ".sk-estimator-doc-link.fitted:hover {\n",
       "  /* fitted */\n",
       "  background-color: var(--sklearn-color-fitted-level-3);\n",
       "  color: var(--sklearn-color-background);\n",
       "  text-decoration: none;\n",
       "}\n",
       "\n",
       "/* Span, style for the box shown on hovering the info icon */\n",
       ".sk-estimator-doc-link span {\n",
       "  display: none;\n",
       "  z-index: 9999;\n",
       "  position: relative;\n",
       "  font-weight: normal;\n",
       "  right: .2ex;\n",
       "  padding: .5ex;\n",
       "  margin: .5ex;\n",
       "  width: min-content;\n",
       "  min-width: 20ex;\n",
       "  max-width: 50ex;\n",
       "  color: var(--sklearn-color-text);\n",
       "  box-shadow: 2pt 2pt 4pt #999;\n",
       "  /* unfitted */\n",
       "  background: var(--sklearn-color-unfitted-level-0);\n",
       "  border: .5pt solid var(--sklearn-color-unfitted-level-3);\n",
       "}\n",
       "\n",
       ".sk-estimator-doc-link.fitted span {\n",
       "  /* fitted */\n",
       "  background: var(--sklearn-color-fitted-level-0);\n",
       "  border: var(--sklearn-color-fitted-level-3);\n",
       "}\n",
       "\n",
       ".sk-estimator-doc-link:hover span {\n",
       "  display: block;\n",
       "}\n",
       "\n",
       "/* \"?\"-specific style due to the `<a>` HTML tag */\n",
       "\n",
       "#sk-container-id-3 a.estimator_doc_link {\n",
       "  float: right;\n",
       "  font-size: 1rem;\n",
       "  line-height: 1em;\n",
       "  font-family: monospace;\n",
       "  background-color: var(--sklearn-color-background);\n",
       "  border-radius: 1rem;\n",
       "  height: 1rem;\n",
       "  width: 1rem;\n",
       "  text-decoration: none;\n",
       "  /* unfitted */\n",
       "  color: var(--sklearn-color-unfitted-level-1);\n",
       "  border: var(--sklearn-color-unfitted-level-1) 1pt solid;\n",
       "}\n",
       "\n",
       "#sk-container-id-3 a.estimator_doc_link.fitted {\n",
       "  /* fitted */\n",
       "  border: var(--sklearn-color-fitted-level-1) 1pt solid;\n",
       "  color: var(--sklearn-color-fitted-level-1);\n",
       "}\n",
       "\n",
       "/* On hover */\n",
       "#sk-container-id-3 a.estimator_doc_link:hover {\n",
       "  /* unfitted */\n",
       "  background-color: var(--sklearn-color-unfitted-level-3);\n",
       "  color: var(--sklearn-color-background);\n",
       "  text-decoration: none;\n",
       "}\n",
       "\n",
       "#sk-container-id-3 a.estimator_doc_link.fitted:hover {\n",
       "  /* fitted */\n",
       "  background-color: var(--sklearn-color-fitted-level-3);\n",
       "}\n",
       "</style><div id=\"sk-container-id-3\" class=\"sk-top-container\"><div class=\"sk-text-repr-fallback\"><pre>GridSearchCV(cv=StratifiedKFold(n_splits=5, random_state=24, shuffle=True),\n",
       "             estimator=Pipeline(steps=[(&#x27;CT&#x27;,\n",
       "                                        ColumnTransformer(transformers=[(&#x27;passthrough&#x27;,\n",
       "                                                                         &#x27;passthrough&#x27;,\n",
       "                                                                         &lt;sklearn.compose._column_transformer.make_column_selector object at 0x000001EF45E4D6A0&gt;),\n",
       "                                                                        (&#x27;onehotencoder&#x27;,\n",
       "                                                                         OneHotEncoder(drop=&#x27;first&#x27;,\n",
       "                                                                                       handle_unknown=&#x27;ignore&#x27;,\n",
       "                                                                                       sparse_output=False),\n",
       "                                                                         &lt;sklearn.compose._column_transformer.make_column_selector object at 0x000001EF45E4DC10&gt;)],\n",
       "                                                          verbose_feature_names_out=False)),\n",
       "                                       (&#x27;SCL&#x27;, StandardScaler()),\n",
       "                                       (&#x27;KNN&#x27;,\n",
       "                                        KNeighborsClassifier(n_neighbors=1))]),\n",
       "             param_grid={&#x27;KNN__n_neighbors&#x27;: array([ 1,  2,  3,  4,  5,  6,  7,  8,  9, 10]),\n",
       "                         &#x27;SCL&#x27;: [MinMaxScaler(), StandardScaler(), None]},\n",
       "             scoring=&#x27;neg_log_loss&#x27;, verbose=3)</pre><b>In a Jupyter environment, please rerun this cell to show the HTML representation or trust the notebook. <br />On GitHub, the HTML representation is unable to render, please try loading this page with nbviewer.org.</b></div><div class=\"sk-container\" hidden><div class=\"sk-item sk-dashed-wrapped\"><div class=\"sk-label-container\"><div class=\"sk-label fitted sk-toggleable\"><input class=\"sk-toggleable__control sk-hidden--visually\" id=\"sk-estimator-id-18\" type=\"checkbox\" ><label for=\"sk-estimator-id-18\" class=\"sk-toggleable__label fitted sk-toggleable__label-arrow fitted\">&nbsp;&nbsp;GridSearchCV<a class=\"sk-estimator-doc-link fitted\" rel=\"noreferrer\" target=\"_blank\" href=\"https://scikit-learn.org/1.4/modules/generated/sklearn.model_selection.GridSearchCV.html\">?<span>Documentation for GridSearchCV</span></a><span class=\"sk-estimator-doc-link fitted\">i<span>Fitted</span></span></label><div class=\"sk-toggleable__content fitted\"><pre>GridSearchCV(cv=StratifiedKFold(n_splits=5, random_state=24, shuffle=True),\n",
       "             estimator=Pipeline(steps=[(&#x27;CT&#x27;,\n",
       "                                        ColumnTransformer(transformers=[(&#x27;passthrough&#x27;,\n",
       "                                                                         &#x27;passthrough&#x27;,\n",
       "                                                                         &lt;sklearn.compose._column_transformer.make_column_selector object at 0x000001EF45E4D6A0&gt;),\n",
       "                                                                        (&#x27;onehotencoder&#x27;,\n",
       "                                                                         OneHotEncoder(drop=&#x27;first&#x27;,\n",
       "                                                                                       handle_unknown=&#x27;ignore&#x27;,\n",
       "                                                                                       sparse_output=False),\n",
       "                                                                         &lt;sklearn.compose._column_transformer.make_column_selector object at 0x000001EF45E4DC10&gt;)],\n",
       "                                                          verbose_feature_names_out=False)),\n",
       "                                       (&#x27;SCL&#x27;, StandardScaler()),\n",
       "                                       (&#x27;KNN&#x27;,\n",
       "                                        KNeighborsClassifier(n_neighbors=1))]),\n",
       "             param_grid={&#x27;KNN__n_neighbors&#x27;: array([ 1,  2,  3,  4,  5,  6,  7,  8,  9, 10]),\n",
       "                         &#x27;SCL&#x27;: [MinMaxScaler(), StandardScaler(), None]},\n",
       "             scoring=&#x27;neg_log_loss&#x27;, verbose=3)</pre></div> </div></div><div class=\"sk-parallel\"><div class=\"sk-parallel-item\"><div class=\"sk-item\"><div class=\"sk-label-container\"><div class=\"sk-label fitted sk-toggleable\"><input class=\"sk-toggleable__control sk-hidden--visually\" id=\"sk-estimator-id-19\" type=\"checkbox\" ><label for=\"sk-estimator-id-19\" class=\"sk-toggleable__label fitted sk-toggleable__label-arrow fitted\">estimator: Pipeline</label><div class=\"sk-toggleable__content fitted\"><pre>Pipeline(steps=[(&#x27;CT&#x27;,\n",
       "                 ColumnTransformer(transformers=[(&#x27;passthrough&#x27;, &#x27;passthrough&#x27;,\n",
       "                                                  &lt;sklearn.compose._column_transformer.make_column_selector object at 0x000001EF45E4D6A0&gt;),\n",
       "                                                 (&#x27;onehotencoder&#x27;,\n",
       "                                                  OneHotEncoder(drop=&#x27;first&#x27;,\n",
       "                                                                handle_unknown=&#x27;ignore&#x27;,\n",
       "                                                                sparse_output=False),\n",
       "                                                  &lt;sklearn.compose._column_transformer.make_column_selector object at 0x000001EF45E4DC10&gt;)],\n",
       "                                   verbose_feature_names_out=False)),\n",
       "                (&#x27;SCL&#x27;, StandardScaler()),\n",
       "                (&#x27;KNN&#x27;, KNeighborsClassifier(n_neighbors=1))])</pre></div> </div></div><div class=\"sk-serial\"><div class=\"sk-item\"><div class=\"sk-serial\"><div class=\"sk-item sk-dashed-wrapped\"><div class=\"sk-label-container\"><div class=\"sk-label fitted sk-toggleable\"><input class=\"sk-toggleable__control sk-hidden--visually\" id=\"sk-estimator-id-20\" type=\"checkbox\" ><label for=\"sk-estimator-id-20\" class=\"sk-toggleable__label fitted sk-toggleable__label-arrow fitted\">&nbsp;CT: ColumnTransformer<a class=\"sk-estimator-doc-link fitted\" rel=\"noreferrer\" target=\"_blank\" href=\"https://scikit-learn.org/1.4/modules/generated/sklearn.compose.ColumnTransformer.html\">?<span>Documentation for CT: ColumnTransformer</span></a></label><div class=\"sk-toggleable__content fitted\"><pre>ColumnTransformer(transformers=[(&#x27;passthrough&#x27;, &#x27;passthrough&#x27;,\n",
       "                                 &lt;sklearn.compose._column_transformer.make_column_selector object at 0x000001EF45E4D6A0&gt;),\n",
       "                                (&#x27;onehotencoder&#x27;,\n",
       "                                 OneHotEncoder(drop=&#x27;first&#x27;,\n",
       "                                               handle_unknown=&#x27;ignore&#x27;,\n",
       "                                               sparse_output=False),\n",
       "                                 &lt;sklearn.compose._column_transformer.make_column_selector object at 0x000001EF45E4DC10&gt;)],\n",
       "                  verbose_feature_names_out=False)</pre></div> </div></div><div class=\"sk-parallel\"><div class=\"sk-parallel-item\"><div class=\"sk-item\"><div class=\"sk-label-container\"><div class=\"sk-label fitted sk-toggleable\"><input class=\"sk-toggleable__control sk-hidden--visually\" id=\"sk-estimator-id-21\" type=\"checkbox\" ><label for=\"sk-estimator-id-21\" class=\"sk-toggleable__label fitted sk-toggleable__label-arrow fitted\">passthrough</label><div class=\"sk-toggleable__content fitted\"><pre>&lt;sklearn.compose._column_transformer.make_column_selector object at 0x000001EF45E4D6A0&gt;</pre></div> </div></div><div class=\"sk-serial\"><div class=\"sk-item\"><div class=\"sk-estimator fitted sk-toggleable\"><input class=\"sk-toggleable__control sk-hidden--visually\" id=\"sk-estimator-id-22\" type=\"checkbox\" ><label for=\"sk-estimator-id-22\" class=\"sk-toggleable__label fitted sk-toggleable__label-arrow fitted\">passthrough</label><div class=\"sk-toggleable__content fitted\"><pre>passthrough</pre></div> </div></div></div></div></div><div class=\"sk-parallel-item\"><div class=\"sk-item\"><div class=\"sk-label-container\"><div class=\"sk-label fitted sk-toggleable\"><input class=\"sk-toggleable__control sk-hidden--visually\" id=\"sk-estimator-id-23\" type=\"checkbox\" ><label for=\"sk-estimator-id-23\" class=\"sk-toggleable__label fitted sk-toggleable__label-arrow fitted\">onehotencoder</label><div class=\"sk-toggleable__content fitted\"><pre>&lt;sklearn.compose._column_transformer.make_column_selector object at 0x000001EF45E4DC10&gt;</pre></div> </div></div><div class=\"sk-serial\"><div class=\"sk-item\"><div class=\"sk-estimator fitted sk-toggleable\"><input class=\"sk-toggleable__control sk-hidden--visually\" id=\"sk-estimator-id-24\" type=\"checkbox\" ><label for=\"sk-estimator-id-24\" class=\"sk-toggleable__label fitted sk-toggleable__label-arrow fitted\">&nbsp;OneHotEncoder<a class=\"sk-estimator-doc-link fitted\" rel=\"noreferrer\" target=\"_blank\" href=\"https://scikit-learn.org/1.4/modules/generated/sklearn.preprocessing.OneHotEncoder.html\">?<span>Documentation for OneHotEncoder</span></a></label><div class=\"sk-toggleable__content fitted\"><pre>OneHotEncoder(drop=&#x27;first&#x27;, handle_unknown=&#x27;ignore&#x27;, sparse_output=False)</pre></div> </div></div></div></div></div></div></div><div class=\"sk-item\"><div class=\"sk-estimator fitted sk-toggleable\"><input class=\"sk-toggleable__control sk-hidden--visually\" id=\"sk-estimator-id-25\" type=\"checkbox\" ><label for=\"sk-estimator-id-25\" class=\"sk-toggleable__label fitted sk-toggleable__label-arrow fitted\">&nbsp;StandardScaler<a class=\"sk-estimator-doc-link fitted\" rel=\"noreferrer\" target=\"_blank\" href=\"https://scikit-learn.org/1.4/modules/generated/sklearn.preprocessing.StandardScaler.html\">?<span>Documentation for StandardScaler</span></a></label><div class=\"sk-toggleable__content fitted\"><pre>StandardScaler()</pre></div> </div></div><div class=\"sk-item\"><div class=\"sk-estimator fitted sk-toggleable\"><input class=\"sk-toggleable__control sk-hidden--visually\" id=\"sk-estimator-id-26\" type=\"checkbox\" ><label for=\"sk-estimator-id-26\" class=\"sk-toggleable__label fitted sk-toggleable__label-arrow fitted\">&nbsp;KNeighborsClassifier<a class=\"sk-estimator-doc-link fitted\" rel=\"noreferrer\" target=\"_blank\" href=\"https://scikit-learn.org/1.4/modules/generated/sklearn.neighbors.KNeighborsClassifier.html\">?<span>Documentation for KNeighborsClassifier</span></a></label><div class=\"sk-toggleable__content fitted\"><pre>KNeighborsClassifier(n_neighbors=1)</pre></div> </div></div></div></div></div></div></div></div></div></div></div>"
      ],
      "text/plain": [
       "GridSearchCV(cv=StratifiedKFold(n_splits=5, random_state=24, shuffle=True),\n",
       "             estimator=Pipeline(steps=[('CT',\n",
       "                                        ColumnTransformer(transformers=[('passthrough',\n",
       "                                                                         'passthrough',\n",
       "                                                                         <sklearn.compose._column_transformer.make_column_selector object at 0x000001EF45E4D6A0>),\n",
       "                                                                        ('onehotencoder',\n",
       "                                                                         OneHotEncoder(drop='first',\n",
       "                                                                                       handle_unknown='ignore',\n",
       "                                                                                       sparse_output=False),\n",
       "                                                                         <sklearn.compose._column_transformer.make_column_selector object at 0x000001EF45E4DC10>)],\n",
       "                                                          verbose_feature_names_out=False)),\n",
       "                                       ('SCL', StandardScaler()),\n",
       "                                       ('KNN',\n",
       "                                        KNeighborsClassifier(n_neighbors=1))]),\n",
       "             param_grid={'KNN__n_neighbors': array([ 1,  2,  3,  4,  5,  6,  7,  8,  9, 10]),\n",
       "                         'SCL': [MinMaxScaler(), StandardScaler(), None]},\n",
       "             scoring='neg_log_loss', verbose=3)"
      ]
     },
     "execution_count": 147,
     "metadata": {},
     "output_type": "execute_result"
    }
   ],
   "source": [
    "gcv.fit(X,y)"
   ]
  },
  {
   "cell_type": "code",
   "execution_count": 155,
   "id": "0dbcb58c-0bea-4725-b195-6aafd166f303",
   "metadata": {},
   "outputs": [
    {
     "name": "stdout",
     "output_type": "stream",
     "text": [
      "{'KNN__n_neighbors': 10, 'SCL': StandardScaler()}\n",
      "-0.46380636508556156\n",
      "(30, 15)\n",
      "    mean_fit_time  std_fit_time  mean_score_time  std_score_time  \\\n",
      "0        0.034704      0.007252         0.158655        0.018946   \n",
      "1        0.031512      0.003467         0.141630        0.006971   \n",
      "2        0.022110      0.000370         0.152845        0.013771   \n",
      "3        0.027611      0.001162         0.146443        0.009282   \n",
      "4        0.030704      0.005210         0.144938        0.008760   \n",
      "5        0.026904      0.007878         0.151856        0.016444   \n",
      "6        0.027408      0.002225         0.149542        0.005593   \n",
      "7        0.028903      0.001428         0.154454        0.010978   \n",
      "8        0.022607      0.001597         0.155838        0.012731   \n",
      "9        0.028522      0.002784         0.158402        0.011710   \n",
      "10       0.029105      0.002293         0.161430        0.010205   \n",
      "11       0.022509      0.001683         0.147974        0.012006   \n",
      "12       0.027905      0.003262         0.137631        0.007326   \n",
      "13       0.030712      0.004062         0.148043        0.015314   \n",
      "14       0.023610      0.005007         0.145202        0.015265   \n",
      "15       0.026803      0.001719         0.146446        0.009341   \n",
      "16       0.028304      0.000876         0.143218        0.005193   \n",
      "17       0.025905      0.005749         0.135835        0.004585   \n",
      "18       0.026506      0.001261         0.149730        0.013155   \n",
      "19       0.031111      0.005027         0.150836        0.015905   \n",
      "20       0.021804      0.000401         0.139140        0.004337   \n",
      "21       0.025502      0.000447         0.143829        0.002644   \n",
      "22       0.028814      0.002291         0.147733        0.008127   \n",
      "23       0.025607      0.005743         0.160741        0.019410   \n",
      "24       0.028104      0.003262         0.147727        0.010385   \n",
      "25       0.029404      0.001242         0.154452        0.017814   \n",
      "26       0.022504      0.001003         0.143226        0.006212   \n",
      "27       0.026103      0.000205         0.157228        0.013668   \n",
      "28       0.028703      0.000869         0.148532        0.007446   \n",
      "29       0.021711      0.001086         0.142063        0.004659   \n",
      "\n",
      "   param_KNN__n_neighbors         param_SCL  \\\n",
      "0                       1    MinMaxScaler()   \n",
      "1                       1  StandardScaler()   \n",
      "2                       1              None   \n",
      "3                       2    MinMaxScaler()   \n",
      "4                       2  StandardScaler()   \n",
      "5                       2              None   \n",
      "6                       3    MinMaxScaler()   \n",
      "7                       3  StandardScaler()   \n",
      "8                       3              None   \n",
      "9                       4    MinMaxScaler()   \n",
      "10                      4  StandardScaler()   \n",
      "11                      4              None   \n",
      "12                      5    MinMaxScaler()   \n",
      "13                      5  StandardScaler()   \n",
      "14                      5              None   \n",
      "15                      6    MinMaxScaler()   \n",
      "16                      6  StandardScaler()   \n",
      "17                      6              None   \n",
      "18                      7    MinMaxScaler()   \n",
      "19                      7  StandardScaler()   \n",
      "20                      7              None   \n",
      "21                      8    MinMaxScaler()   \n",
      "22                      8  StandardScaler()   \n",
      "23                      8              None   \n",
      "24                      9    MinMaxScaler()   \n",
      "25                      9  StandardScaler()   \n",
      "26                      9              None   \n",
      "27                     10    MinMaxScaler()   \n",
      "28                     10  StandardScaler()   \n",
      "29                     10              None   \n",
      "\n",
      "                                               params  split0_test_score  \\\n",
      "0      {'KNN__n_neighbors': 1, 'SCL': MinMaxScaler()}          -1.201856   \n",
      "1    {'KNN__n_neighbors': 1, 'SCL': StandardScaler()}          -1.273967   \n",
      "2                {'KNN__n_neighbors': 1, 'SCL': None}          -1.550394   \n",
      "3      {'KNN__n_neighbors': 2, 'SCL': MinMaxScaler()}          -1.010714   \n",
      "4    {'KNN__n_neighbors': 2, 'SCL': StandardScaler()}          -0.965645   \n",
      "5                {'KNN__n_neighbors': 2, 'SCL': None}          -1.143381   \n",
      "6      {'KNN__n_neighbors': 3, 'SCL': MinMaxScaler()}          -0.853438   \n",
      "7    {'KNN__n_neighbors': 3, 'SCL': StandardScaler()}          -0.770503   \n",
      "8                {'KNN__n_neighbors': 3, 'SCL': None}          -1.022532   \n",
      "9      {'KNN__n_neighbors': 4, 'SCL': MinMaxScaler()}          -0.725743   \n",
      "10   {'KNN__n_neighbors': 4, 'SCL': StandardScaler()}          -0.688881   \n",
      "11               {'KNN__n_neighbors': 4, 'SCL': None}          -0.781901   \n",
      "12     {'KNN__n_neighbors': 5, 'SCL': MinMaxScaler()}          -0.710142   \n",
      "13   {'KNN__n_neighbors': 5, 'SCL': StandardScaler()}          -0.650766   \n",
      "14               {'KNN__n_neighbors': 5, 'SCL': None}          -0.707535   \n",
      "15     {'KNN__n_neighbors': 6, 'SCL': MinMaxScaler()}          -0.649770   \n",
      "16   {'KNN__n_neighbors': 6, 'SCL': StandardScaler()}          -0.647241   \n",
      "17               {'KNN__n_neighbors': 6, 'SCL': None}          -0.656252   \n",
      "18     {'KNN__n_neighbors': 7, 'SCL': MinMaxScaler()}          -0.644294   \n",
      "19   {'KNN__n_neighbors': 7, 'SCL': StandardScaler()}          -0.596987   \n",
      "20               {'KNN__n_neighbors': 7, 'SCL': None}          -0.637874   \n",
      "21     {'KNN__n_neighbors': 8, 'SCL': MinMaxScaler()}          -0.616433   \n",
      "22   {'KNN__n_neighbors': 8, 'SCL': StandardScaler()}          -0.589298   \n",
      "23               {'KNN__n_neighbors': 8, 'SCL': None}          -0.572300   \n",
      "24     {'KNN__n_neighbors': 9, 'SCL': MinMaxScaler()}          -0.599919   \n",
      "25   {'KNN__n_neighbors': 9, 'SCL': StandardScaler()}          -0.593523   \n",
      "26               {'KNN__n_neighbors': 9, 'SCL': None}          -0.542380   \n",
      "27    {'KNN__n_neighbors': 10, 'SCL': MinMaxScaler()}          -0.571009   \n",
      "28  {'KNN__n_neighbors': 10, 'SCL': StandardScaler()}          -0.575965   \n",
      "29              {'KNN__n_neighbors': 10, 'SCL': None}          -0.522068   \n",
      "\n",
      "    split1_test_score  split2_test_score  split3_test_score  \\\n",
      "0           -1.261949          -1.141763          -1.105707   \n",
      "1           -1.237911          -1.165800          -1.105707   \n",
      "2           -1.622505          -1.682598          -1.394153   \n",
      "3           -0.954320          -0.867647          -0.777277   \n",
      "4           -0.954089          -0.869728          -0.774735   \n",
      "5           -1.175970          -1.153782          -0.976277   \n",
      "6           -0.751560          -0.672410          -0.584438   \n",
      "7           -0.748956          -0.697777          -0.607337   \n",
      "8           -0.891217          -1.008224          -0.797380   \n",
      "9           -0.670312          -0.577857          -0.572231   \n",
      "10          -0.631404          -0.556136          -0.593940   \n",
      "11          -0.764602          -0.810208          -0.658079   \n",
      "12          -0.655543          -0.539955          -0.536892   \n",
      "13          -0.617432          -0.538671          -0.523507   \n",
      "14          -0.690607          -0.745663          -0.571368   \n",
      "15          -0.617654          -0.523488          -0.467021   \n",
      "16          -0.602457          -0.498930          -0.462186   \n",
      "17          -0.569707          -0.738107          -0.454796   \n",
      "18          -0.600048          -0.472154          -0.461717   \n",
      "19          -0.608288          -0.481565          -0.422602   \n",
      "20          -0.538704          -0.672726          -0.402374   \n",
      "21          -0.582092          -0.431655          -0.455776   \n",
      "22          -0.579810          -0.461868          -0.406347   \n",
      "23          -0.498556          -0.620981          -0.394653   \n",
      "24          -0.587207          -0.435088          -0.439276   \n",
      "25          -0.549709          -0.465665          -0.399007   \n",
      "26          -0.478891          -0.589776          -0.351443   \n",
      "27          -0.591645          -0.428679          -0.435104   \n",
      "28          -0.553469          -0.425043          -0.403501   \n",
      "29          -0.471768          -0.558994          -0.342410   \n",
      "\n",
      "    split4_test_score  mean_test_score  std_test_score  rank_test_score  \n",
      "0           -1.117726        -1.165800        0.058386               28  \n",
      "1           -1.105707        -1.177819        0.068411               29  \n",
      "2           -1.466264        -1.543183        0.103834               30  \n",
      "3           -0.857016        -0.893395        0.081173               25  \n",
      "4           -0.843841        -0.881607        0.071141               24  \n",
      "5           -0.958018        -1.081485        0.094126               27  \n",
      "6           -0.599095        -0.692188        0.100194               22  \n",
      "7           -0.608222        -0.686559        0.068525               21  \n",
      "8           -0.793172        -0.902505        0.098707               26  \n",
      "9           -0.495162        -0.608261        0.080828               19  \n",
      "10          -0.482716        -0.590615        0.069515               17  \n",
      "11          -0.699660        -0.742890        0.055833               23  \n",
      "12          -0.494333        -0.587373        0.081453               16  \n",
      "13          -0.467969        -0.559669        0.066019               15  \n",
      "14          -0.603909        -0.663816        0.065518               20  \n",
      "15          -0.457495        -0.543086        0.078023               13  \n",
      "16          -0.428215        -0.527806        0.083541               12  \n",
      "17          -0.563105        -0.596394        0.095432               18  \n",
      "18          -0.452211        -0.526085        0.079941               11  \n",
      "19          -0.435366        -0.508962        0.079043                9  \n",
      "20          -0.541701        -0.558676        0.094230               14  \n",
      "21          -0.400894        -0.497370        0.085685                8  \n",
      "22          -0.396509        -0.486766        0.082950                6  \n",
      "23          -0.487121        -0.514722        0.077519               10  \n",
      "24          -0.383265        -0.488951        0.087757                7  \n",
      "25          -0.378471        -0.477275        0.083406                3  \n",
      "26          -0.467661        -0.486030        0.080549                5  \n",
      "27          -0.376980        -0.480683        0.084862                4  \n",
      "28          -0.361054        -0.463806        0.085225                1  \n",
      "29          -0.447341        -0.468516        0.074048                2  \n"
     ]
    }
   ],
   "source": [
    "print(gcv.best_params_)\n",
    "print(gcv.best_score_)\n",
    "pd_cv = pd.DataFrame(gcv.cv_results_)\n",
    "print(pd_cv.shape)\n"
   ]
  },
  {
   "cell_type": "code",
   "execution_count": 157,
   "id": "5f1989dc-02c3-4078-8a04-e91c05ad55e1",
   "metadata": {},
   "outputs": [
    {
     "data": {
      "text/html": [
       "<div>\n",
       "<style scoped>\n",
       "    .dataframe tbody tr th:only-of-type {\n",
       "        vertical-align: middle;\n",
       "    }\n",
       "\n",
       "    .dataframe tbody tr th {\n",
       "        vertical-align: top;\n",
       "    }\n",
       "\n",
       "    .dataframe thead th {\n",
       "        text-align: right;\n",
       "    }\n",
       "</style>\n",
       "<table border=\"1\" class=\"dataframe\">\n",
       "  <thead>\n",
       "    <tr style=\"text-align: right;\">\n",
       "      <th></th>\n",
       "      <th>mean_fit_time</th>\n",
       "      <th>std_fit_time</th>\n",
       "      <th>mean_score_time</th>\n",
       "      <th>std_score_time</th>\n",
       "      <th>param_KNN__n_neighbors</th>\n",
       "      <th>param_SCL</th>\n",
       "      <th>params</th>\n",
       "      <th>split0_test_score</th>\n",
       "      <th>split1_test_score</th>\n",
       "      <th>split2_test_score</th>\n",
       "      <th>split3_test_score</th>\n",
       "      <th>split4_test_score</th>\n",
       "      <th>mean_test_score</th>\n",
       "      <th>std_test_score</th>\n",
       "      <th>rank_test_score</th>\n",
       "    </tr>\n",
       "  </thead>\n",
       "  <tbody>\n",
       "    <tr>\n",
       "      <th>0</th>\n",
       "      <td>0.034704</td>\n",
       "      <td>0.007252</td>\n",
       "      <td>0.158655</td>\n",
       "      <td>0.018946</td>\n",
       "      <td>1</td>\n",
       "      <td>MinMaxScaler()</td>\n",
       "      <td>{'KNN__n_neighbors': 1, 'SCL': MinMaxScaler()}</td>\n",
       "      <td>-1.201856</td>\n",
       "      <td>-1.261949</td>\n",
       "      <td>-1.141763</td>\n",
       "      <td>-1.105707</td>\n",
       "      <td>-1.117726</td>\n",
       "      <td>-1.165800</td>\n",
       "      <td>0.058386</td>\n",
       "      <td>28</td>\n",
       "    </tr>\n",
       "    <tr>\n",
       "      <th>1</th>\n",
       "      <td>0.031512</td>\n",
       "      <td>0.003467</td>\n",
       "      <td>0.141630</td>\n",
       "      <td>0.006971</td>\n",
       "      <td>1</td>\n",
       "      <td>StandardScaler()</td>\n",
       "      <td>{'KNN__n_neighbors': 1, 'SCL': StandardScaler()}</td>\n",
       "      <td>-1.273967</td>\n",
       "      <td>-1.237911</td>\n",
       "      <td>-1.165800</td>\n",
       "      <td>-1.105707</td>\n",
       "      <td>-1.105707</td>\n",
       "      <td>-1.177819</td>\n",
       "      <td>0.068411</td>\n",
       "      <td>29</td>\n",
       "    </tr>\n",
       "    <tr>\n",
       "      <th>2</th>\n",
       "      <td>0.022110</td>\n",
       "      <td>0.000370</td>\n",
       "      <td>0.152845</td>\n",
       "      <td>0.013771</td>\n",
       "      <td>1</td>\n",
       "      <td>None</td>\n",
       "      <td>{'KNN__n_neighbors': 1, 'SCL': None}</td>\n",
       "      <td>-1.550394</td>\n",
       "      <td>-1.622505</td>\n",
       "      <td>-1.682598</td>\n",
       "      <td>-1.394153</td>\n",
       "      <td>-1.466264</td>\n",
       "      <td>-1.543183</td>\n",
       "      <td>0.103834</td>\n",
       "      <td>30</td>\n",
       "    </tr>\n",
       "    <tr>\n",
       "      <th>3</th>\n",
       "      <td>0.027611</td>\n",
       "      <td>0.001162</td>\n",
       "      <td>0.146443</td>\n",
       "      <td>0.009282</td>\n",
       "      <td>2</td>\n",
       "      <td>MinMaxScaler()</td>\n",
       "      <td>{'KNN__n_neighbors': 2, 'SCL': MinMaxScaler()}</td>\n",
       "      <td>-1.010714</td>\n",
       "      <td>-0.954320</td>\n",
       "      <td>-0.867647</td>\n",
       "      <td>-0.777277</td>\n",
       "      <td>-0.857016</td>\n",
       "      <td>-0.893395</td>\n",
       "      <td>0.081173</td>\n",
       "      <td>25</td>\n",
       "    </tr>\n",
       "    <tr>\n",
       "      <th>4</th>\n",
       "      <td>0.030704</td>\n",
       "      <td>0.005210</td>\n",
       "      <td>0.144938</td>\n",
       "      <td>0.008760</td>\n",
       "      <td>2</td>\n",
       "      <td>StandardScaler()</td>\n",
       "      <td>{'KNN__n_neighbors': 2, 'SCL': StandardScaler()}</td>\n",
       "      <td>-0.965645</td>\n",
       "      <td>-0.954089</td>\n",
       "      <td>-0.869728</td>\n",
       "      <td>-0.774735</td>\n",
       "      <td>-0.843841</td>\n",
       "      <td>-0.881607</td>\n",
       "      <td>0.071141</td>\n",
       "      <td>24</td>\n",
       "    </tr>\n",
       "    <tr>\n",
       "      <th>5</th>\n",
       "      <td>0.026904</td>\n",
       "      <td>0.007878</td>\n",
       "      <td>0.151856</td>\n",
       "      <td>0.016444</td>\n",
       "      <td>2</td>\n",
       "      <td>None</td>\n",
       "      <td>{'KNN__n_neighbors': 2, 'SCL': None}</td>\n",
       "      <td>-1.143381</td>\n",
       "      <td>-1.175970</td>\n",
       "      <td>-1.153782</td>\n",
       "      <td>-0.976277</td>\n",
       "      <td>-0.958018</td>\n",
       "      <td>-1.081485</td>\n",
       "      <td>0.094126</td>\n",
       "      <td>27</td>\n",
       "    </tr>\n",
       "    <tr>\n",
       "      <th>6</th>\n",
       "      <td>0.027408</td>\n",
       "      <td>0.002225</td>\n",
       "      <td>0.149542</td>\n",
       "      <td>0.005593</td>\n",
       "      <td>3</td>\n",
       "      <td>MinMaxScaler()</td>\n",
       "      <td>{'KNN__n_neighbors': 3, 'SCL': MinMaxScaler()}</td>\n",
       "      <td>-0.853438</td>\n",
       "      <td>-0.751560</td>\n",
       "      <td>-0.672410</td>\n",
       "      <td>-0.584438</td>\n",
       "      <td>-0.599095</td>\n",
       "      <td>-0.692188</td>\n",
       "      <td>0.100194</td>\n",
       "      <td>22</td>\n",
       "    </tr>\n",
       "    <tr>\n",
       "      <th>7</th>\n",
       "      <td>0.028903</td>\n",
       "      <td>0.001428</td>\n",
       "      <td>0.154454</td>\n",
       "      <td>0.010978</td>\n",
       "      <td>3</td>\n",
       "      <td>StandardScaler()</td>\n",
       "      <td>{'KNN__n_neighbors': 3, 'SCL': StandardScaler()}</td>\n",
       "      <td>-0.770503</td>\n",
       "      <td>-0.748956</td>\n",
       "      <td>-0.697777</td>\n",
       "      <td>-0.607337</td>\n",
       "      <td>-0.608222</td>\n",
       "      <td>-0.686559</td>\n",
       "      <td>0.068525</td>\n",
       "      <td>21</td>\n",
       "    </tr>\n",
       "    <tr>\n",
       "      <th>8</th>\n",
       "      <td>0.022607</td>\n",
       "      <td>0.001597</td>\n",
       "      <td>0.155838</td>\n",
       "      <td>0.012731</td>\n",
       "      <td>3</td>\n",
       "      <td>None</td>\n",
       "      <td>{'KNN__n_neighbors': 3, 'SCL': None}</td>\n",
       "      <td>-1.022532</td>\n",
       "      <td>-0.891217</td>\n",
       "      <td>-1.008224</td>\n",
       "      <td>-0.797380</td>\n",
       "      <td>-0.793172</td>\n",
       "      <td>-0.902505</td>\n",
       "      <td>0.098707</td>\n",
       "      <td>26</td>\n",
       "    </tr>\n",
       "    <tr>\n",
       "      <th>9</th>\n",
       "      <td>0.028522</td>\n",
       "      <td>0.002784</td>\n",
       "      <td>0.158402</td>\n",
       "      <td>0.011710</td>\n",
       "      <td>4</td>\n",
       "      <td>MinMaxScaler()</td>\n",
       "      <td>{'KNN__n_neighbors': 4, 'SCL': MinMaxScaler()}</td>\n",
       "      <td>-0.725743</td>\n",
       "      <td>-0.670312</td>\n",
       "      <td>-0.577857</td>\n",
       "      <td>-0.572231</td>\n",
       "      <td>-0.495162</td>\n",
       "      <td>-0.608261</td>\n",
       "      <td>0.080828</td>\n",
       "      <td>19</td>\n",
       "    </tr>\n",
       "    <tr>\n",
       "      <th>10</th>\n",
       "      <td>0.029105</td>\n",
       "      <td>0.002293</td>\n",
       "      <td>0.161430</td>\n",
       "      <td>0.010205</td>\n",
       "      <td>4</td>\n",
       "      <td>StandardScaler()</td>\n",
       "      <td>{'KNN__n_neighbors': 4, 'SCL': StandardScaler()}</td>\n",
       "      <td>-0.688881</td>\n",
       "      <td>-0.631404</td>\n",
       "      <td>-0.556136</td>\n",
       "      <td>-0.593940</td>\n",
       "      <td>-0.482716</td>\n",
       "      <td>-0.590615</td>\n",
       "      <td>0.069515</td>\n",
       "      <td>17</td>\n",
       "    </tr>\n",
       "    <tr>\n",
       "      <th>11</th>\n",
       "      <td>0.022509</td>\n",
       "      <td>0.001683</td>\n",
       "      <td>0.147974</td>\n",
       "      <td>0.012006</td>\n",
       "      <td>4</td>\n",
       "      <td>None</td>\n",
       "      <td>{'KNN__n_neighbors': 4, 'SCL': None}</td>\n",
       "      <td>-0.781901</td>\n",
       "      <td>-0.764602</td>\n",
       "      <td>-0.810208</td>\n",
       "      <td>-0.658079</td>\n",
       "      <td>-0.699660</td>\n",
       "      <td>-0.742890</td>\n",
       "      <td>0.055833</td>\n",
       "      <td>23</td>\n",
       "    </tr>\n",
       "    <tr>\n",
       "      <th>12</th>\n",
       "      <td>0.027905</td>\n",
       "      <td>0.003262</td>\n",
       "      <td>0.137631</td>\n",
       "      <td>0.007326</td>\n",
       "      <td>5</td>\n",
       "      <td>MinMaxScaler()</td>\n",
       "      <td>{'KNN__n_neighbors': 5, 'SCL': MinMaxScaler()}</td>\n",
       "      <td>-0.710142</td>\n",
       "      <td>-0.655543</td>\n",
       "      <td>-0.539955</td>\n",
       "      <td>-0.536892</td>\n",
       "      <td>-0.494333</td>\n",
       "      <td>-0.587373</td>\n",
       "      <td>0.081453</td>\n",
       "      <td>16</td>\n",
       "    </tr>\n",
       "    <tr>\n",
       "      <th>13</th>\n",
       "      <td>0.030712</td>\n",
       "      <td>0.004062</td>\n",
       "      <td>0.148043</td>\n",
       "      <td>0.015314</td>\n",
       "      <td>5</td>\n",
       "      <td>StandardScaler()</td>\n",
       "      <td>{'KNN__n_neighbors': 5, 'SCL': StandardScaler()}</td>\n",
       "      <td>-0.650766</td>\n",
       "      <td>-0.617432</td>\n",
       "      <td>-0.538671</td>\n",
       "      <td>-0.523507</td>\n",
       "      <td>-0.467969</td>\n",
       "      <td>-0.559669</td>\n",
       "      <td>0.066019</td>\n",
       "      <td>15</td>\n",
       "    </tr>\n",
       "    <tr>\n",
       "      <th>14</th>\n",
       "      <td>0.023610</td>\n",
       "      <td>0.005007</td>\n",
       "      <td>0.145202</td>\n",
       "      <td>0.015265</td>\n",
       "      <td>5</td>\n",
       "      <td>None</td>\n",
       "      <td>{'KNN__n_neighbors': 5, 'SCL': None}</td>\n",
       "      <td>-0.707535</td>\n",
       "      <td>-0.690607</td>\n",
       "      <td>-0.745663</td>\n",
       "      <td>-0.571368</td>\n",
       "      <td>-0.603909</td>\n",
       "      <td>-0.663816</td>\n",
       "      <td>0.065518</td>\n",
       "      <td>20</td>\n",
       "    </tr>\n",
       "    <tr>\n",
       "      <th>15</th>\n",
       "      <td>0.026803</td>\n",
       "      <td>0.001719</td>\n",
       "      <td>0.146446</td>\n",
       "      <td>0.009341</td>\n",
       "      <td>6</td>\n",
       "      <td>MinMaxScaler()</td>\n",
       "      <td>{'KNN__n_neighbors': 6, 'SCL': MinMaxScaler()}</td>\n",
       "      <td>-0.649770</td>\n",
       "      <td>-0.617654</td>\n",
       "      <td>-0.523488</td>\n",
       "      <td>-0.467021</td>\n",
       "      <td>-0.457495</td>\n",
       "      <td>-0.543086</td>\n",
       "      <td>0.078023</td>\n",
       "      <td>13</td>\n",
       "    </tr>\n",
       "    <tr>\n",
       "      <th>16</th>\n",
       "      <td>0.028304</td>\n",
       "      <td>0.000876</td>\n",
       "      <td>0.143218</td>\n",
       "      <td>0.005193</td>\n",
       "      <td>6</td>\n",
       "      <td>StandardScaler()</td>\n",
       "      <td>{'KNN__n_neighbors': 6, 'SCL': StandardScaler()}</td>\n",
       "      <td>-0.647241</td>\n",
       "      <td>-0.602457</td>\n",
       "      <td>-0.498930</td>\n",
       "      <td>-0.462186</td>\n",
       "      <td>-0.428215</td>\n",
       "      <td>-0.527806</td>\n",
       "      <td>0.083541</td>\n",
       "      <td>12</td>\n",
       "    </tr>\n",
       "    <tr>\n",
       "      <th>17</th>\n",
       "      <td>0.025905</td>\n",
       "      <td>0.005749</td>\n",
       "      <td>0.135835</td>\n",
       "      <td>0.004585</td>\n",
       "      <td>6</td>\n",
       "      <td>None</td>\n",
       "      <td>{'KNN__n_neighbors': 6, 'SCL': None}</td>\n",
       "      <td>-0.656252</td>\n",
       "      <td>-0.569707</td>\n",
       "      <td>-0.738107</td>\n",
       "      <td>-0.454796</td>\n",
       "      <td>-0.563105</td>\n",
       "      <td>-0.596394</td>\n",
       "      <td>0.095432</td>\n",
       "      <td>18</td>\n",
       "    </tr>\n",
       "    <tr>\n",
       "      <th>18</th>\n",
       "      <td>0.026506</td>\n",
       "      <td>0.001261</td>\n",
       "      <td>0.149730</td>\n",
       "      <td>0.013155</td>\n",
       "      <td>7</td>\n",
       "      <td>MinMaxScaler()</td>\n",
       "      <td>{'KNN__n_neighbors': 7, 'SCL': MinMaxScaler()}</td>\n",
       "      <td>-0.644294</td>\n",
       "      <td>-0.600048</td>\n",
       "      <td>-0.472154</td>\n",
       "      <td>-0.461717</td>\n",
       "      <td>-0.452211</td>\n",
       "      <td>-0.526085</td>\n",
       "      <td>0.079941</td>\n",
       "      <td>11</td>\n",
       "    </tr>\n",
       "    <tr>\n",
       "      <th>19</th>\n",
       "      <td>0.031111</td>\n",
       "      <td>0.005027</td>\n",
       "      <td>0.150836</td>\n",
       "      <td>0.015905</td>\n",
       "      <td>7</td>\n",
       "      <td>StandardScaler()</td>\n",
       "      <td>{'KNN__n_neighbors': 7, 'SCL': StandardScaler()}</td>\n",
       "      <td>-0.596987</td>\n",
       "      <td>-0.608288</td>\n",
       "      <td>-0.481565</td>\n",
       "      <td>-0.422602</td>\n",
       "      <td>-0.435366</td>\n",
       "      <td>-0.508962</td>\n",
       "      <td>0.079043</td>\n",
       "      <td>9</td>\n",
       "    </tr>\n",
       "    <tr>\n",
       "      <th>20</th>\n",
       "      <td>0.021804</td>\n",
       "      <td>0.000401</td>\n",
       "      <td>0.139140</td>\n",
       "      <td>0.004337</td>\n",
       "      <td>7</td>\n",
       "      <td>None</td>\n",
       "      <td>{'KNN__n_neighbors': 7, 'SCL': None}</td>\n",
       "      <td>-0.637874</td>\n",
       "      <td>-0.538704</td>\n",
       "      <td>-0.672726</td>\n",
       "      <td>-0.402374</td>\n",
       "      <td>-0.541701</td>\n",
       "      <td>-0.558676</td>\n",
       "      <td>0.094230</td>\n",
       "      <td>14</td>\n",
       "    </tr>\n",
       "    <tr>\n",
       "      <th>21</th>\n",
       "      <td>0.025502</td>\n",
       "      <td>0.000447</td>\n",
       "      <td>0.143829</td>\n",
       "      <td>0.002644</td>\n",
       "      <td>8</td>\n",
       "      <td>MinMaxScaler()</td>\n",
       "      <td>{'KNN__n_neighbors': 8, 'SCL': MinMaxScaler()}</td>\n",
       "      <td>-0.616433</td>\n",
       "      <td>-0.582092</td>\n",
       "      <td>-0.431655</td>\n",
       "      <td>-0.455776</td>\n",
       "      <td>-0.400894</td>\n",
       "      <td>-0.497370</td>\n",
       "      <td>0.085685</td>\n",
       "      <td>8</td>\n",
       "    </tr>\n",
       "    <tr>\n",
       "      <th>22</th>\n",
       "      <td>0.028814</td>\n",
       "      <td>0.002291</td>\n",
       "      <td>0.147733</td>\n",
       "      <td>0.008127</td>\n",
       "      <td>8</td>\n",
       "      <td>StandardScaler()</td>\n",
       "      <td>{'KNN__n_neighbors': 8, 'SCL': StandardScaler()}</td>\n",
       "      <td>-0.589298</td>\n",
       "      <td>-0.579810</td>\n",
       "      <td>-0.461868</td>\n",
       "      <td>-0.406347</td>\n",
       "      <td>-0.396509</td>\n",
       "      <td>-0.486766</td>\n",
       "      <td>0.082950</td>\n",
       "      <td>6</td>\n",
       "    </tr>\n",
       "    <tr>\n",
       "      <th>23</th>\n",
       "      <td>0.025607</td>\n",
       "      <td>0.005743</td>\n",
       "      <td>0.160741</td>\n",
       "      <td>0.019410</td>\n",
       "      <td>8</td>\n",
       "      <td>None</td>\n",
       "      <td>{'KNN__n_neighbors': 8, 'SCL': None}</td>\n",
       "      <td>-0.572300</td>\n",
       "      <td>-0.498556</td>\n",
       "      <td>-0.620981</td>\n",
       "      <td>-0.394653</td>\n",
       "      <td>-0.487121</td>\n",
       "      <td>-0.514722</td>\n",
       "      <td>0.077519</td>\n",
       "      <td>10</td>\n",
       "    </tr>\n",
       "    <tr>\n",
       "      <th>24</th>\n",
       "      <td>0.028104</td>\n",
       "      <td>0.003262</td>\n",
       "      <td>0.147727</td>\n",
       "      <td>0.010385</td>\n",
       "      <td>9</td>\n",
       "      <td>MinMaxScaler()</td>\n",
       "      <td>{'KNN__n_neighbors': 9, 'SCL': MinMaxScaler()}</td>\n",
       "      <td>-0.599919</td>\n",
       "      <td>-0.587207</td>\n",
       "      <td>-0.435088</td>\n",
       "      <td>-0.439276</td>\n",
       "      <td>-0.383265</td>\n",
       "      <td>-0.488951</td>\n",
       "      <td>0.087757</td>\n",
       "      <td>7</td>\n",
       "    </tr>\n",
       "    <tr>\n",
       "      <th>25</th>\n",
       "      <td>0.029404</td>\n",
       "      <td>0.001242</td>\n",
       "      <td>0.154452</td>\n",
       "      <td>0.017814</td>\n",
       "      <td>9</td>\n",
       "      <td>StandardScaler()</td>\n",
       "      <td>{'KNN__n_neighbors': 9, 'SCL': StandardScaler()}</td>\n",
       "      <td>-0.593523</td>\n",
       "      <td>-0.549709</td>\n",
       "      <td>-0.465665</td>\n",
       "      <td>-0.399007</td>\n",
       "      <td>-0.378471</td>\n",
       "      <td>-0.477275</td>\n",
       "      <td>0.083406</td>\n",
       "      <td>3</td>\n",
       "    </tr>\n",
       "    <tr>\n",
       "      <th>26</th>\n",
       "      <td>0.022504</td>\n",
       "      <td>0.001003</td>\n",
       "      <td>0.143226</td>\n",
       "      <td>0.006212</td>\n",
       "      <td>9</td>\n",
       "      <td>None</td>\n",
       "      <td>{'KNN__n_neighbors': 9, 'SCL': None}</td>\n",
       "      <td>-0.542380</td>\n",
       "      <td>-0.478891</td>\n",
       "      <td>-0.589776</td>\n",
       "      <td>-0.351443</td>\n",
       "      <td>-0.467661</td>\n",
       "      <td>-0.486030</td>\n",
       "      <td>0.080549</td>\n",
       "      <td>5</td>\n",
       "    </tr>\n",
       "    <tr>\n",
       "      <th>27</th>\n",
       "      <td>0.026103</td>\n",
       "      <td>0.000205</td>\n",
       "      <td>0.157228</td>\n",
       "      <td>0.013668</td>\n",
       "      <td>10</td>\n",
       "      <td>MinMaxScaler()</td>\n",
       "      <td>{'KNN__n_neighbors': 10, 'SCL': MinMaxScaler()}</td>\n",
       "      <td>-0.571009</td>\n",
       "      <td>-0.591645</td>\n",
       "      <td>-0.428679</td>\n",
       "      <td>-0.435104</td>\n",
       "      <td>-0.376980</td>\n",
       "      <td>-0.480683</td>\n",
       "      <td>0.084862</td>\n",
       "      <td>4</td>\n",
       "    </tr>\n",
       "    <tr>\n",
       "      <th>28</th>\n",
       "      <td>0.028703</td>\n",
       "      <td>0.000869</td>\n",
       "      <td>0.148532</td>\n",
       "      <td>0.007446</td>\n",
       "      <td>10</td>\n",
       "      <td>StandardScaler()</td>\n",
       "      <td>{'KNN__n_neighbors': 10, 'SCL': StandardScaler()}</td>\n",
       "      <td>-0.575965</td>\n",
       "      <td>-0.553469</td>\n",
       "      <td>-0.425043</td>\n",
       "      <td>-0.403501</td>\n",
       "      <td>-0.361054</td>\n",
       "      <td>-0.463806</td>\n",
       "      <td>0.085225</td>\n",
       "      <td>1</td>\n",
       "    </tr>\n",
       "    <tr>\n",
       "      <th>29</th>\n",
       "      <td>0.021711</td>\n",
       "      <td>0.001086</td>\n",
       "      <td>0.142063</td>\n",
       "      <td>0.004659</td>\n",
       "      <td>10</td>\n",
       "      <td>None</td>\n",
       "      <td>{'KNN__n_neighbors': 10, 'SCL': None}</td>\n",
       "      <td>-0.522068</td>\n",
       "      <td>-0.471768</td>\n",
       "      <td>-0.558994</td>\n",
       "      <td>-0.342410</td>\n",
       "      <td>-0.447341</td>\n",
       "      <td>-0.468516</td>\n",
       "      <td>0.074048</td>\n",
       "      <td>2</td>\n",
       "    </tr>\n",
       "  </tbody>\n",
       "</table>\n",
       "</div>"
      ],
      "text/plain": [
       "    mean_fit_time  std_fit_time  mean_score_time  std_score_time  \\\n",
       "0        0.034704      0.007252         0.158655        0.018946   \n",
       "1        0.031512      0.003467         0.141630        0.006971   \n",
       "2        0.022110      0.000370         0.152845        0.013771   \n",
       "3        0.027611      0.001162         0.146443        0.009282   \n",
       "4        0.030704      0.005210         0.144938        0.008760   \n",
       "5        0.026904      0.007878         0.151856        0.016444   \n",
       "6        0.027408      0.002225         0.149542        0.005593   \n",
       "7        0.028903      0.001428         0.154454        0.010978   \n",
       "8        0.022607      0.001597         0.155838        0.012731   \n",
       "9        0.028522      0.002784         0.158402        0.011710   \n",
       "10       0.029105      0.002293         0.161430        0.010205   \n",
       "11       0.022509      0.001683         0.147974        0.012006   \n",
       "12       0.027905      0.003262         0.137631        0.007326   \n",
       "13       0.030712      0.004062         0.148043        0.015314   \n",
       "14       0.023610      0.005007         0.145202        0.015265   \n",
       "15       0.026803      0.001719         0.146446        0.009341   \n",
       "16       0.028304      0.000876         0.143218        0.005193   \n",
       "17       0.025905      0.005749         0.135835        0.004585   \n",
       "18       0.026506      0.001261         0.149730        0.013155   \n",
       "19       0.031111      0.005027         0.150836        0.015905   \n",
       "20       0.021804      0.000401         0.139140        0.004337   \n",
       "21       0.025502      0.000447         0.143829        0.002644   \n",
       "22       0.028814      0.002291         0.147733        0.008127   \n",
       "23       0.025607      0.005743         0.160741        0.019410   \n",
       "24       0.028104      0.003262         0.147727        0.010385   \n",
       "25       0.029404      0.001242         0.154452        0.017814   \n",
       "26       0.022504      0.001003         0.143226        0.006212   \n",
       "27       0.026103      0.000205         0.157228        0.013668   \n",
       "28       0.028703      0.000869         0.148532        0.007446   \n",
       "29       0.021711      0.001086         0.142063        0.004659   \n",
       "\n",
       "   param_KNN__n_neighbors         param_SCL  \\\n",
       "0                       1    MinMaxScaler()   \n",
       "1                       1  StandardScaler()   \n",
       "2                       1              None   \n",
       "3                       2    MinMaxScaler()   \n",
       "4                       2  StandardScaler()   \n",
       "5                       2              None   \n",
       "6                       3    MinMaxScaler()   \n",
       "7                       3  StandardScaler()   \n",
       "8                       3              None   \n",
       "9                       4    MinMaxScaler()   \n",
       "10                      4  StandardScaler()   \n",
       "11                      4              None   \n",
       "12                      5    MinMaxScaler()   \n",
       "13                      5  StandardScaler()   \n",
       "14                      5              None   \n",
       "15                      6    MinMaxScaler()   \n",
       "16                      6  StandardScaler()   \n",
       "17                      6              None   \n",
       "18                      7    MinMaxScaler()   \n",
       "19                      7  StandardScaler()   \n",
       "20                      7              None   \n",
       "21                      8    MinMaxScaler()   \n",
       "22                      8  StandardScaler()   \n",
       "23                      8              None   \n",
       "24                      9    MinMaxScaler()   \n",
       "25                      9  StandardScaler()   \n",
       "26                      9              None   \n",
       "27                     10    MinMaxScaler()   \n",
       "28                     10  StandardScaler()   \n",
       "29                     10              None   \n",
       "\n",
       "                                               params  split0_test_score  \\\n",
       "0      {'KNN__n_neighbors': 1, 'SCL': MinMaxScaler()}          -1.201856   \n",
       "1    {'KNN__n_neighbors': 1, 'SCL': StandardScaler()}          -1.273967   \n",
       "2                {'KNN__n_neighbors': 1, 'SCL': None}          -1.550394   \n",
       "3      {'KNN__n_neighbors': 2, 'SCL': MinMaxScaler()}          -1.010714   \n",
       "4    {'KNN__n_neighbors': 2, 'SCL': StandardScaler()}          -0.965645   \n",
       "5                {'KNN__n_neighbors': 2, 'SCL': None}          -1.143381   \n",
       "6      {'KNN__n_neighbors': 3, 'SCL': MinMaxScaler()}          -0.853438   \n",
       "7    {'KNN__n_neighbors': 3, 'SCL': StandardScaler()}          -0.770503   \n",
       "8                {'KNN__n_neighbors': 3, 'SCL': None}          -1.022532   \n",
       "9      {'KNN__n_neighbors': 4, 'SCL': MinMaxScaler()}          -0.725743   \n",
       "10   {'KNN__n_neighbors': 4, 'SCL': StandardScaler()}          -0.688881   \n",
       "11               {'KNN__n_neighbors': 4, 'SCL': None}          -0.781901   \n",
       "12     {'KNN__n_neighbors': 5, 'SCL': MinMaxScaler()}          -0.710142   \n",
       "13   {'KNN__n_neighbors': 5, 'SCL': StandardScaler()}          -0.650766   \n",
       "14               {'KNN__n_neighbors': 5, 'SCL': None}          -0.707535   \n",
       "15     {'KNN__n_neighbors': 6, 'SCL': MinMaxScaler()}          -0.649770   \n",
       "16   {'KNN__n_neighbors': 6, 'SCL': StandardScaler()}          -0.647241   \n",
       "17               {'KNN__n_neighbors': 6, 'SCL': None}          -0.656252   \n",
       "18     {'KNN__n_neighbors': 7, 'SCL': MinMaxScaler()}          -0.644294   \n",
       "19   {'KNN__n_neighbors': 7, 'SCL': StandardScaler()}          -0.596987   \n",
       "20               {'KNN__n_neighbors': 7, 'SCL': None}          -0.637874   \n",
       "21     {'KNN__n_neighbors': 8, 'SCL': MinMaxScaler()}          -0.616433   \n",
       "22   {'KNN__n_neighbors': 8, 'SCL': StandardScaler()}          -0.589298   \n",
       "23               {'KNN__n_neighbors': 8, 'SCL': None}          -0.572300   \n",
       "24     {'KNN__n_neighbors': 9, 'SCL': MinMaxScaler()}          -0.599919   \n",
       "25   {'KNN__n_neighbors': 9, 'SCL': StandardScaler()}          -0.593523   \n",
       "26               {'KNN__n_neighbors': 9, 'SCL': None}          -0.542380   \n",
       "27    {'KNN__n_neighbors': 10, 'SCL': MinMaxScaler()}          -0.571009   \n",
       "28  {'KNN__n_neighbors': 10, 'SCL': StandardScaler()}          -0.575965   \n",
       "29              {'KNN__n_neighbors': 10, 'SCL': None}          -0.522068   \n",
       "\n",
       "    split1_test_score  split2_test_score  split3_test_score  \\\n",
       "0           -1.261949          -1.141763          -1.105707   \n",
       "1           -1.237911          -1.165800          -1.105707   \n",
       "2           -1.622505          -1.682598          -1.394153   \n",
       "3           -0.954320          -0.867647          -0.777277   \n",
       "4           -0.954089          -0.869728          -0.774735   \n",
       "5           -1.175970          -1.153782          -0.976277   \n",
       "6           -0.751560          -0.672410          -0.584438   \n",
       "7           -0.748956          -0.697777          -0.607337   \n",
       "8           -0.891217          -1.008224          -0.797380   \n",
       "9           -0.670312          -0.577857          -0.572231   \n",
       "10          -0.631404          -0.556136          -0.593940   \n",
       "11          -0.764602          -0.810208          -0.658079   \n",
       "12          -0.655543          -0.539955          -0.536892   \n",
       "13          -0.617432          -0.538671          -0.523507   \n",
       "14          -0.690607          -0.745663          -0.571368   \n",
       "15          -0.617654          -0.523488          -0.467021   \n",
       "16          -0.602457          -0.498930          -0.462186   \n",
       "17          -0.569707          -0.738107          -0.454796   \n",
       "18          -0.600048          -0.472154          -0.461717   \n",
       "19          -0.608288          -0.481565          -0.422602   \n",
       "20          -0.538704          -0.672726          -0.402374   \n",
       "21          -0.582092          -0.431655          -0.455776   \n",
       "22          -0.579810          -0.461868          -0.406347   \n",
       "23          -0.498556          -0.620981          -0.394653   \n",
       "24          -0.587207          -0.435088          -0.439276   \n",
       "25          -0.549709          -0.465665          -0.399007   \n",
       "26          -0.478891          -0.589776          -0.351443   \n",
       "27          -0.591645          -0.428679          -0.435104   \n",
       "28          -0.553469          -0.425043          -0.403501   \n",
       "29          -0.471768          -0.558994          -0.342410   \n",
       "\n",
       "    split4_test_score  mean_test_score  std_test_score  rank_test_score  \n",
       "0           -1.117726        -1.165800        0.058386               28  \n",
       "1           -1.105707        -1.177819        0.068411               29  \n",
       "2           -1.466264        -1.543183        0.103834               30  \n",
       "3           -0.857016        -0.893395        0.081173               25  \n",
       "4           -0.843841        -0.881607        0.071141               24  \n",
       "5           -0.958018        -1.081485        0.094126               27  \n",
       "6           -0.599095        -0.692188        0.100194               22  \n",
       "7           -0.608222        -0.686559        0.068525               21  \n",
       "8           -0.793172        -0.902505        0.098707               26  \n",
       "9           -0.495162        -0.608261        0.080828               19  \n",
       "10          -0.482716        -0.590615        0.069515               17  \n",
       "11          -0.699660        -0.742890        0.055833               23  \n",
       "12          -0.494333        -0.587373        0.081453               16  \n",
       "13          -0.467969        -0.559669        0.066019               15  \n",
       "14          -0.603909        -0.663816        0.065518               20  \n",
       "15          -0.457495        -0.543086        0.078023               13  \n",
       "16          -0.428215        -0.527806        0.083541               12  \n",
       "17          -0.563105        -0.596394        0.095432               18  \n",
       "18          -0.452211        -0.526085        0.079941               11  \n",
       "19          -0.435366        -0.508962        0.079043                9  \n",
       "20          -0.541701        -0.558676        0.094230               14  \n",
       "21          -0.400894        -0.497370        0.085685                8  \n",
       "22          -0.396509        -0.486766        0.082950                6  \n",
       "23          -0.487121        -0.514722        0.077519               10  \n",
       "24          -0.383265        -0.488951        0.087757                7  \n",
       "25          -0.378471        -0.477275        0.083406                3  \n",
       "26          -0.467661        -0.486030        0.080549                5  \n",
       "27          -0.376980        -0.480683        0.084862                4  \n",
       "28          -0.361054        -0.463806        0.085225                1  \n",
       "29          -0.447341        -0.468516        0.074048                2  "
      ]
     },
     "execution_count": 157,
     "metadata": {},
     "output_type": "execute_result"
    }
   ],
   "source": [
    "pd_cv"
   ]
  },
  {
   "cell_type": "code",
   "execution_count": 64,
   "id": "59c0b02f-d3d2-4f28-a351-5054c3feb944",
   "metadata": {},
   "outputs": [
    {
     "data": {
      "image/png": "[encoded data removed]",
      "text/plain": [
       "<Figure size 640x480 with 1 Axes>"
      ]
     },
     "metadata": {},
     "output_type": "display_data"
    },
    {
     "name": "stdout",
     "output_type": "stream",
     "text": [
      "ROC_AUC_Score 0.8100274459462038\n"
     ]
    }
   ],
   "source": [
    "plt.plot([0,1],[0,1],'k--')\n",
    "plt.plot(m1spec,sens)\n",
    "plt.scatter(m1spec,sens,c='red')\n",
    "plt.xlabel('1- Specificity')\n",
    "plt.ylabel('Sensitivity')\n",
    "plt.title('ROC curve')\n",
    "plt.show()\n",
    "print(\"ROC_AUC_Score\",roc_auc_score(y_test,p_y_1))"
   ]
  },
  {
   "cell_type": "code",
   "execution_count": 65,
   "id": "3729fa46-0486-49ad-a192-e5371e840186",
   "metadata": {},
   "outputs": [],
   "source": [
    "kfold = StratifiedKFold(n_splits=5, random_state=24,shuffle=True)"
   ]
  },
  {
   "cell_type": "code",
   "execution_count": 66,
   "id": "11d792f0-526a-4dec-bb79-93c4098cef5c",
   "metadata": {},
   "outputs": [],
   "source": [
    "scaler_mm = MinMaxScaler()\n",
    "scaler_std = StandardScaler()"
   ]
  },
  {
   "cell_type": "code",
   "execution_count": 67,
   "id": "48d48486-bf2d-47ed-b628-484b0417682a",
   "metadata": {},
   "outputs": [],
   "source": [
    "params = {'LR__solver':['lbfgs','liblinear','newton-cg','newton-cholesky','sag','saga'],\n",
    "          'LR__C':np.linspace(0.001, 10, 20),\n",
    "        'SCL':[scaler_mm,scaler_std,None]}"
   ]
  },
  {
   "cell_type": "code",
   "execution_count": 68,
   "id": "14f64924-6aee-4a85-a949-8dc8b3274570",
   "metadata": {},
   "outputs": [],
   "source": [
    "gcv = GridSearchCV(pipe, param_grid = params,scoring = 'roc_auc',cv=kfold, verbose=3)"
   ]
  },
  {
   "cell_type": "code",
   "execution_count": 69,
   "id": "0f5a838e-7763-44b4-bb5a-ec3b7036d47d",
   "metadata": {},
   "outputs": [
    {
     "name": "stdout",
     "output_type": "stream",
     "text": [
      "Fitting 5 folds for each of 360 candidates, totalling 1800 fits\n",
      "[CV 1/5] END LR__C=0.001, LR__solver=lbfgs, SCL=MinMaxScaler();, score=0.783 total time=   0.0s\n",
      "[CV 2/5] END LR__C=0.001, LR__solver=lbfgs, SCL=MinMaxScaler();, score=0.766 total time=   0.0s\n",
      "[CV 3/5] END LR__C=0.001, LR__solver=lbfgs, SCL=MinMaxScaler();, score=0.788 total time=   0.0s\n",
      "[CV 4/5] END LR__C=0.001, LR__solver=lbfgs, SCL=MinMaxScaler();, score=0.780 total time=   0.0s\n",
      "[CV 5/5] END LR__C=0.001, LR__solver=lbfgs, SCL=MinMaxScaler();, score=0.797 total time=   0.0s\n",
      "[CV 1/5] END LR__C=0.001, LR__solver=lbfgs, SCL=StandardScaler();, score=0.817 total time=   0.0s\n",
      "[CV 2/5] END LR__C=0.001, LR__solver=lbfgs, SCL=StandardScaler();, score=0.804 total time=   0.0s\n",
      "[CV 3/5] END LR__C=0.001, LR__solver=lbfgs, SCL=StandardScaler();, score=0.817 total time=   0.0s\n",
      "[CV 4/5] END LR__C=0.001, LR__solver=lbfgs, SCL=StandardScaler();, score=0.811 total time=   0.0s\n",
      "[CV 5/5] END LR__C=0.001, LR__solver=lbfgs, SCL=StandardScaler();, score=0.823 total time=   0.0s\n"
     ]
    },
    {
     "name": "stderr",
     "output_type": "stream",
     "text": [
      "C:\\Users\\dai.STUDENTSDC\\AppData\\Local\\anaconda3\\Lib\\site-packages\\sklearn\\linear_model\\_logistic.py:469: ConvergenceWarning: lbfgs failed to converge (status=1):\n",
      "STOP: TOTAL NO. of ITERATIONS REACHED LIMIT.\n",
      "\n",
      "Increase the number of iterations (max_iter) or scale the data as shown in:\n",
      "    https://scikit-learn.org/stable/modules/preprocessing.html\n",
      "Please also refer to the documentation for alternative solver options:\n",
      "    https://scikit-learn.org/stable/modules/linear_model.html#logistic-regression\n",
      "  n_iter_i = _check_optimize_result(\n"
     ]
    },
    {
     "name": "stdout",
     "output_type": "stream",
     "text": [
      "[CV 1/5] END LR__C=0.001, LR__solver=lbfgs, SCL=None;, score=0.798 total time=   0.2s\n",
      "[CV 2/5] END LR__C=0.001, LR__solver=lbfgs, SCL=None;, score=0.765 total time=   0.2s\n"
     ]
    },
    {
     "name": "stderr",
     "output_type": "stream",
     "text": [
      "C:\\Users\\dai.STUDENTSDC\\AppData\\Local\\anaconda3\\Lib\\site-packages\\sklearn\\linear_model\\_logistic.py:469: ConvergenceWarning: lbfgs failed to converge (status=1):\n",
      "STOP: TOTAL NO. of ITERATIONS REACHED LIMIT.\n",
      "\n",
      "Increase the number of iterations (max_iter) or scale the data as shown in:\n",
      "    https://scikit-learn.org/stable/modules/preprocessing.html\n",
      "Please also refer to the documentation for alternative solver options:\n",
      "    https://scikit-learn.org/stable/modules/linear_model.html#logistic-regression\n",
      "  n_iter_i = _check_optimize_result(\n",
      "C:\\Users\\dai.STUDENTSDC\\AppData\\Local\\anaconda3\\Lib\\site-packages\\sklearn\\linear_model\\_logistic.py:469: ConvergenceWarning: lbfgs failed to converge (status=1):\n",
      "STOP: TOTAL NO. of ITERATIONS REACHED LIMIT.\n",
      "\n",
      "Increase the number of iterations (max_iter) or scale the data as shown in:\n",
      "    https://scikit-learn.org/stable/modules/preprocessing.html\n",
      "Please also refer to the documentation for alternative solver options:\n",
      "    https://scikit-learn.org/stable/modules/linear_model.html#logistic-regression\n",
      "  n_iter_i = _check_optimize_result(\n"
     ]
    },
    {
     "name": "stdout",
     "output_type": "stream",
     "text": [
      "[CV 3/5] END LR__C=0.001, LR__solver=lbfgs, SCL=None;, score=0.784 total time=   0.2s\n"
     ]
    },
    {
     "name": "stderr",
     "output_type": "stream",
     "text": [
      "C:\\Users\\dai.STUDENTSDC\\AppData\\Local\\anaconda3\\Lib\\site-packages\\sklearn\\linear_model\\_logistic.py:469: ConvergenceWarning: lbfgs failed to converge (status=1):\n",
      "STOP: TOTAL NO. of ITERATIONS REACHED LIMIT.\n",
      "\n",
      "Increase the number of iterations (max_iter) or scale the data as shown in:\n",
      "    https://scikit-learn.org/stable/modules/preprocessing.html\n",
      "Please also refer to the documentation for alternative solver options:\n",
      "    https://scikit-learn.org/stable/modules/linear_model.html#logistic-regression\n",
      "  n_iter_i = _check_optimize_result(\n"
     ]
    },
    {
     "name": "stdout",
     "output_type": "stream",
     "text": [
      "[CV 4/5] END LR__C=0.001, LR__solver=lbfgs, SCL=None;, score=0.782 total time=   0.2s\n"
     ]
    },
    {
     "name": "stderr",
     "output_type": "stream",
     "text": [
      "C:\\Users\\dai.STUDENTSDC\\AppData\\Local\\anaconda3\\Lib\\site-packages\\sklearn\\linear_model\\_logistic.py:469: ConvergenceWarning: lbfgs failed to converge (status=1):\n",
      "STOP: TOTAL NO. of ITERATIONS REACHED LIMIT.\n",
      "\n",
      "Increase the number of iterations (max_iter) or scale the data as shown in:\n",
      "    https://scikit-learn.org/stable/modules/preprocessing.html\n",
      "Please also refer to the documentation for alternative solver options:\n",
      "    https://scikit-learn.org/stable/modules/linear_model.html#logistic-regression\n",
      "  n_iter_i = _check_optimize_result(\n"
     ]
    },
    {
     "name": "stdout",
     "output_type": "stream",
     "text": [
      "[CV 5/5] END LR__C=0.001, LR__solver=lbfgs, SCL=None;, score=0.785 total time=   0.2s\n",
      "[CV 1/5] END LR__C=0.001, LR__solver=liblinear, SCL=MinMaxScaler();, score=nan total time=   0.0s\n",
      "[CV 2/5] END LR__C=0.001, LR__solver=liblinear, SCL=MinMaxScaler();, score=nan total time=   0.0s\n",
      "[CV 3/5] END LR__C=0.001, LR__solver=liblinear, SCL=MinMaxScaler();, score=nan total time=   0.0s\n",
      "[CV 4/5] END LR__C=0.001, LR__solver=liblinear, SCL=MinMaxScaler();, score=nan total time=   0.0s\n",
      "[CV 5/5] END LR__C=0.001, LR__solver=liblinear, SCL=MinMaxScaler();, score=nan total time=   0.0s\n",
      "[CV 1/5] END LR__C=0.001, LR__solver=liblinear, SCL=StandardScaler();, score=nan total time=   0.0s\n",
      "[CV 2/5] END LR__C=0.001, LR__solver=liblinear, SCL=StandardScaler();, score=nan total time=   0.0s\n",
      "[CV 3/5] END LR__C=0.001, LR__solver=liblinear, SCL=StandardScaler();, score=nan total time=   0.0s\n",
      "[CV 4/5] END LR__C=0.001, LR__solver=liblinear, SCL=StandardScaler();, score=nan total time=   0.0s\n",
      "[CV 5/5] END LR__C=0.001, LR__solver=liblinear, SCL=StandardScaler();, score=nan total time=   0.0s\n",
      "[CV 1/5] END LR__C=0.001, LR__solver=liblinear, SCL=None;, score=nan total time=   0.0s\n",
      "[CV 2/5] END LR__C=0.001, LR__solver=liblinear, SCL=None;, score=nan total time=   0.0s\n",
      "[CV 3/5] END LR__C=0.001, LR__solver=liblinear, SCL=None;, score=nan total time=   0.0s\n",
      "[CV 4/5] END LR__C=0.001, LR__solver=liblinear, SCL=None;, score=nan total time=   0.0s\n",
      "[CV 5/5] END LR__C=0.001, LR__solver=liblinear, SCL=None;, score=nan total time=   0.0s\n",
      "[CV 1/5] END LR__C=0.001, LR__solver=newton-cg, SCL=MinMaxScaler();, score=0.783 total time=   0.0s\n",
      "[CV 2/5] END LR__C=0.001, LR__solver=newton-cg, SCL=MinMaxScaler();, score=0.766 total time=   0.0s\n",
      "[CV 3/5] END LR__C=0.001, LR__solver=newton-cg, SCL=MinMaxScaler();, score=0.788 total time=   0.0s\n",
      "[CV 4/5] END LR__C=0.001, LR__solver=newton-cg, SCL=MinMaxScaler();, score=0.780 total time=   0.0s\n",
      "[CV 5/5] END LR__C=0.001, LR__solver=newton-cg, SCL=MinMaxScaler();, score=0.797 total time=   0.0s\n",
      "[CV 1/5] END LR__C=0.001, LR__solver=newton-cg, SCL=StandardScaler();, score=0.817 total time=   0.0s\n",
      "[CV 2/5] END LR__C=0.001, LR__solver=newton-cg, SCL=StandardScaler();, score=0.804 total time=   0.0s\n",
      "[CV 3/5] END LR__C=0.001, LR__solver=newton-cg, SCL=StandardScaler();, score=0.817 total time=   0.0s\n",
      "[CV 4/5] END LR__C=0.001, LR__solver=newton-cg, SCL=StandardScaler();, score=0.811 total time=   0.0s\n",
      "[CV 5/5] END LR__C=0.001, LR__solver=newton-cg, SCL=StandardScaler();, score=0.823 total time=   0.0s\n",
      "[CV 1/5] END LR__C=0.001, LR__solver=newton-cg, SCL=None;, score=0.799 total time=   0.2s\n",
      "[CV 2/5] END LR__C=0.001, LR__solver=newton-cg, SCL=None;, score=0.764 total time=   0.2s\n",
      "[CV 3/5] END LR__C=0.001, LR__solver=newton-cg, SCL=None;, score=0.784 total time=   0.2s\n",
      "[CV 4/5] END LR__C=0.001, LR__solver=newton-cg, SCL=None;, score=0.781 total time=   0.2s\n",
      "[CV 5/5] END LR__C=0.001, LR__solver=newton-cg, SCL=None;, score=0.784 total time=   0.2s\n",
      "[CV 1/5] END LR__C=0.001, LR__solver=newton-cholesky, SCL=MinMaxScaler();, score=nan total time=   0.0s\n",
      "[CV 2/5] END LR__C=0.001, LR__solver=newton-cholesky, SCL=MinMaxScaler();, score=nan total time=   0.0s\n",
      "[CV 3/5] END LR__C=0.001, LR__solver=newton-cholesky, SCL=MinMaxScaler();, score=nan total time=   0.0s\n",
      "[CV 4/5] END LR__C=0.001, LR__solver=newton-cholesky, SCL=MinMaxScaler();, score=nan total time=   0.0s\n",
      "[CV 5/5] END LR__C=0.001, LR__solver=newton-cholesky, SCL=MinMaxScaler();, score=nan total time=   0.0s\n",
      "[CV 1/5] END LR__C=0.001, LR__solver=newton-cholesky, SCL=StandardScaler();, score=nan total time=   0.0s\n",
      "[CV 2/5] END LR__C=0.001, LR__solver=newton-cholesky, SCL=StandardScaler();, score=nan total time=   0.0s\n",
      "[CV 3/5] END LR__C=0.001, LR__solver=newton-cholesky, SCL=StandardScaler();, score=nan total time=   0.0s\n",
      "[CV 4/5] END LR__C=0.001, LR__solver=newton-cholesky, SCL=StandardScaler();, score=nan total time=   0.0s\n",
      "[CV 5/5] END LR__C=0.001, LR__solver=newton-cholesky, SCL=StandardScaler();, score=nan total time=   0.0s\n",
      "[CV 1/5] END LR__C=0.001, LR__solver=newton-cholesky, SCL=None;, score=nan total time=   0.0s\n",
      "[CV 2/5] END LR__C=0.001, LR__solver=newton-cholesky, SCL=None;, score=nan total time=   0.0s\n",
      "[CV 3/5] END LR__C=0.001, LR__solver=newton-cholesky, SCL=None;, score=nan total time=   0.0s\n",
      "[CV 4/5] END LR__C=0.001, LR__solver=newton-cholesky, SCL=None;, score=nan total time=   0.0s\n",
      "[CV 5/5] END LR__C=0.001, LR__solver=newton-cholesky, SCL=None;, score=nan total time=   0.0s\n",
      "[CV 1/5] END LR__C=0.001, LR__solver=sag, SCL=MinMaxScaler();, score=0.783 total time=   0.0s\n",
      "[CV 2/5] END LR__C=0.001, LR__solver=sag, SCL=MinMaxScaler();, score=0.766 total time=   0.0s\n",
      "[CV 3/5] END LR__C=0.001, LR__solver=sag, SCL=MinMaxScaler();, score=0.788 total time=   0.0s\n",
      "[CV 4/5] END LR__C=0.001, LR__solver=sag, SCL=MinMaxScaler();, score=0.780 total time=   0.0s\n",
      "[CV 5/5] END LR__C=0.001, LR__solver=sag, SCL=MinMaxScaler();, score=0.797 total time=   0.0s\n",
      "[CV 1/5] END LR__C=0.001, LR__solver=sag, SCL=StandardScaler();, score=0.817 total time=   0.0s\n",
      "[CV 2/5] END LR__C=0.001, LR__solver=sag, SCL=StandardScaler();, score=0.804 total time=   0.0s\n",
      "[CV 3/5] END LR__C=0.001, LR__solver=sag, SCL=StandardScaler();, score=0.817 total time=   0.0s\n",
      "[CV 4/5] END LR__C=0.001, LR__solver=sag, SCL=StandardScaler();, score=0.811 total time=   0.0s\n",
      "[CV 5/5] END LR__C=0.001, LR__solver=sag, SCL=StandardScaler();, score=0.823 total time=   0.0s\n"
     ]
    },
    {
     "name": "stderr",
     "output_type": "stream",
     "text": [
      "C:\\Users\\dai.STUDENTSDC\\AppData\\Local\\anaconda3\\Lib\\site-packages\\sklearn\\linear_model\\_sag.py:350: ConvergenceWarning: The max_iter was reached which means the coef_ did not converge\n",
      "  warnings.warn(\n"
     ]
    },
    {
     "name": "stdout",
     "output_type": "stream",
     "text": [
      "[CV 1/5] END LR__C=0.001, LR__solver=sag, SCL=None;, score=0.808 total time=   0.4s\n"
     ]
    },
    {
     "name": "stderr",
     "output_type": "stream",
     "text": [
      "C:\\Users\\dai.STUDENTSDC\\AppData\\Local\\anaconda3\\Lib\\site-packages\\sklearn\\linear_model\\_sag.py:350: ConvergenceWarning: The max_iter was reached which means the coef_ did not converge\n",
      "  warnings.warn(\n"
     ]
    },
    {
     "name": "stdout",
     "output_type": "stream",
     "text": [
      "[CV 2/5] END LR__C=0.001, LR__solver=sag, SCL=None;, score=0.785 total time=   0.5s\n"
     ]
    },
    {
     "name": "stderr",
     "output_type": "stream",
     "text": [
      "C:\\Users\\dai.STUDENTSDC\\AppData\\Local\\anaconda3\\Lib\\site-packages\\sklearn\\linear_model\\_sag.py:350: ConvergenceWarning: The max_iter was reached which means the coef_ did not converge\n",
      "  warnings.warn(\n"
     ]
    },
    {
     "name": "stdout",
     "output_type": "stream",
     "text": [
      "[CV 3/5] END LR__C=0.001, LR__solver=sag, SCL=None;, score=0.807 total time=   0.5s\n"
     ]
    },
    {
     "name": "stderr",
     "output_type": "stream",
     "text": [
      "C:\\Users\\dai.STUDENTSDC\\AppData\\Local\\anaconda3\\Lib\\site-packages\\sklearn\\linear_model\\_sag.py:350: ConvergenceWarning: The max_iter was reached which means the coef_ did not converge\n",
      "  warnings.warn(\n"
     ]
    },
    {
     "name": "stdout",
     "output_type": "stream",
     "text": [
      "[CV 4/5] END LR__C=0.001, LR__solver=sag, SCL=None;, score=0.804 total time=   0.5s\n"
     ]
    },
    {
     "name": "stderr",
     "output_type": "stream",
     "text": [
      "C:\\Users\\dai.STUDENTSDC\\AppData\\Local\\anaconda3\\Lib\\site-packages\\sklearn\\linear_model\\_sag.py:350: ConvergenceWarning: The max_iter was reached which means the coef_ did not converge\n",
      "  warnings.warn(\n"
     ]
    },
    {
     "name": "stdout",
     "output_type": "stream",
     "text": [
      "[CV 5/5] END LR__C=0.001, LR__solver=sag, SCL=None;, score=0.804 total time=   0.5s\n",
      "[CV 1/5] END LR__C=0.001, LR__solver=saga, SCL=MinMaxScaler();, score=0.783 total time=   0.1s\n",
      "[CV 2/5] END LR__C=0.001, LR__solver=saga, SCL=MinMaxScaler();, score=0.766 total time=   0.1s\n",
      "[CV 3/5] END LR__C=0.001, LR__solver=saga, SCL=MinMaxScaler();, score=0.788 total time=   0.1s\n",
      "[CV 4/5] END LR__C=0.001, LR__solver=saga, SCL=MinMaxScaler();, score=0.780 total time=   0.1s\n",
      "[CV 5/5] END LR__C=0.001, LR__solver=saga, SCL=MinMaxScaler();, score=0.797 total time=   0.1s\n",
      "[CV 1/5] END LR__C=0.001, LR__solver=saga, SCL=StandardScaler();, score=0.817 total time=   0.0s\n",
      "[CV 2/5] END LR__C=0.001, LR__solver=saga, SCL=StandardScaler();, score=0.804 total time=   0.0s\n",
      "[CV 3/5] END LR__C=0.001, LR__solver=saga, SCL=StandardScaler();, score=0.817 total time=   0.0s\n",
      "[CV 4/5] END LR__C=0.001, LR__solver=saga, SCL=StandardScaler();, score=0.811 total time=   0.1s\n",
      "[CV 5/5] END LR__C=0.001, LR__solver=saga, SCL=StandardScaler();, score=0.823 total time=   0.1s\n"
     ]
    },
    {
     "name": "stderr",
     "output_type": "stream",
     "text": [
      "C:\\Users\\dai.STUDENTSDC\\AppData\\Local\\anaconda3\\Lib\\site-packages\\sklearn\\linear_model\\_sag.py:350: ConvergenceWarning: The max_iter was reached which means the coef_ did not converge\n",
      "  warnings.warn(\n"
     ]
    },
    {
     "name": "stdout",
     "output_type": "stream",
     "text": [
      "[CV 1/5] END LR__C=0.001, LR__solver=saga, SCL=None;, score=0.788 total time=   0.5s\n"
     ]
    },
    {
     "name": "stderr",
     "output_type": "stream",
     "text": [
      "C:\\Users\\dai.STUDENTSDC\\AppData\\Local\\anaconda3\\Lib\\site-packages\\sklearn\\linear_model\\_sag.py:350: ConvergenceWarning: The max_iter was reached which means the coef_ did not converge\n",
      "  warnings.warn(\n"
     ]
    },
    {
     "name": "stdout",
     "output_type": "stream",
     "text": [
      "[CV 2/5] END LR__C=0.001, LR__solver=saga, SCL=None;, score=0.772 total time=   0.5s\n"
     ]
    },
    {
     "name": "stderr",
     "output_type": "stream",
     "text": [
      "C:\\Users\\dai.STUDENTSDC\\AppData\\Local\\anaconda3\\Lib\\site-packages\\sklearn\\linear_model\\_sag.py:350: ConvergenceWarning: The max_iter was reached which means the coef_ did not converge\n",
      "  warnings.warn(\n"
     ]
    },
    {
     "name": "stdout",
     "output_type": "stream",
     "text": [
      "[CV 3/5] END LR__C=0.001, LR__solver=saga, SCL=None;, score=0.792 total time=   0.5s\n"
     ]
    },
    {
     "name": "stderr",
     "output_type": "stream",
     "text": [
      "C:\\Users\\dai.STUDENTSDC\\AppData\\Local\\anaconda3\\Lib\\site-packages\\sklearn\\linear_model\\_sag.py:350: ConvergenceWarning: The max_iter was reached which means the coef_ did not converge\n",
      "  warnings.warn(\n"
     ]
    },
    {
     "name": "stdout",
     "output_type": "stream",
     "text": [
      "[CV 4/5] END LR__C=0.001, LR__solver=saga, SCL=None;, score=0.790 total time=   0.5s\n"
     ]
    },
    {
     "name": "stderr",
     "output_type": "stream",
     "text": [
      "C:\\Users\\dai.STUDENTSDC\\AppData\\Local\\anaconda3\\Lib\\site-packages\\sklearn\\linear_model\\_sag.py:350: ConvergenceWarning: The max_iter was reached which means the coef_ did not converge\n",
      "  warnings.warn(\n"
     ]
    },
    {
     "name": "stdout",
     "output_type": "stream",
     "text": [
      "[CV 5/5] END LR__C=0.001, LR__solver=saga, SCL=None;, score=0.788 total time=   0.5s\n",
      "[CV 1/5] END LR__C=0.5272631578947369, LR__solver=lbfgs, SCL=MinMaxScaler();, score=0.821 total time=   0.0s\n",
      "[CV 2/5] END LR__C=0.5272631578947369, LR__solver=lbfgs, SCL=MinMaxScaler();, score=0.810 total time=   0.0s\n",
      "[CV 3/5] END LR__C=0.5272631578947369, LR__solver=lbfgs, SCL=MinMaxScaler();, score=0.825 total time=   0.0s\n",
      "[CV 4/5] END LR__C=0.5272631578947369, LR__solver=lbfgs, SCL=MinMaxScaler();, score=0.816 total time=   0.0s\n",
      "[CV 5/5] END LR__C=0.5272631578947369, LR__solver=lbfgs, SCL=MinMaxScaler();, score=0.827 total time=   0.0s\n",
      "[CV 1/5] END LR__C=0.5272631578947369, LR__solver=lbfgs, SCL=StandardScaler();, score=0.821 total time=   0.0s\n",
      "[CV 2/5] END LR__C=0.5272631578947369, LR__solver=lbfgs, SCL=StandardScaler();, score=0.810 total time=   0.0s\n",
      "[CV 3/5] END LR__C=0.5272631578947369, LR__solver=lbfgs, SCL=StandardScaler();, score=0.825 total time=   0.0s\n",
      "[CV 4/5] END LR__C=0.5272631578947369, LR__solver=lbfgs, SCL=StandardScaler();, score=0.816 total time=   0.0s\n",
      "[CV 5/5] END LR__C=0.5272631578947369, LR__solver=lbfgs, SCL=StandardScaler();, score=0.827 total time=   0.0s\n"
     ]
    },
    {
     "name": "stderr",
     "output_type": "stream",
     "text": [
      "C:\\Users\\dai.STUDENTSDC\\AppData\\Local\\anaconda3\\Lib\\site-packages\\sklearn\\linear_model\\_logistic.py:469: ConvergenceWarning: lbfgs failed to converge (status=1):\n",
      "STOP: TOTAL NO. of ITERATIONS REACHED LIMIT.\n",
      "\n",
      "Increase the number of iterations (max_iter) or scale the data as shown in:\n",
      "    https://scikit-learn.org/stable/modules/preprocessing.html\n",
      "Please also refer to the documentation for alternative solver options:\n",
      "    https://scikit-learn.org/stable/modules/linear_model.html#logistic-regression\n",
      "  n_iter_i = _check_optimize_result(\n"
     ]
    },
    {
     "name": "stdout",
     "output_type": "stream",
     "text": [
      "[CV 1/5] END LR__C=0.5272631578947369, LR__solver=lbfgs, SCL=None;, score=0.813 total time=   0.2s\n"
     ]
    },
    {
     "name": "stderr",
     "output_type": "stream",
     "text": [
      "C:\\Users\\dai.STUDENTSDC\\AppData\\Local\\anaconda3\\Lib\\site-packages\\sklearn\\linear_model\\_logistic.py:469: ConvergenceWarning: lbfgs failed to converge (status=1):\n",
      "STOP: TOTAL NO. of ITERATIONS REACHED LIMIT.\n",
      "\n",
      "Increase the number of iterations (max_iter) or scale the data as shown in:\n",
      "    https://scikit-learn.org/stable/modules/preprocessing.html\n",
      "Please also refer to the documentation for alternative solver options:\n",
      "    https://scikit-learn.org/stable/modules/linear_model.html#logistic-regression\n",
      "  n_iter_i = _check_optimize_result(\n"
     ]
    },
    {
     "name": "stdout",
     "output_type": "stream",
     "text": [
      "[CV 2/5] END LR__C=0.5272631578947369, LR__solver=lbfgs, SCL=None;, score=0.805 total time=   0.2s\n"
     ]
    },
    {
     "name": "stderr",
     "output_type": "stream",
     "text": [
      "C:\\Users\\dai.STUDENTSDC\\AppData\\Local\\anaconda3\\Lib\\site-packages\\sklearn\\linear_model\\_logistic.py:469: ConvergenceWarning: lbfgs failed to converge (status=1):\n",
      "STOP: TOTAL NO. of ITERATIONS REACHED LIMIT.\n",
      "\n",
      "Increase the number of iterations (max_iter) or scale the data as shown in:\n",
      "    https://scikit-learn.org/stable/modules/preprocessing.html\n",
      "Please also refer to the documentation for alternative solver options:\n",
      "    https://scikit-learn.org/stable/modules/linear_model.html#logistic-regression\n",
      "  n_iter_i = _check_optimize_result(\n"
     ]
    },
    {
     "name": "stdout",
     "output_type": "stream",
     "text": [
      "[CV 3/5] END LR__C=0.5272631578947369, LR__solver=lbfgs, SCL=None;, score=0.819 total time=   0.2s\n"
     ]
    },
    {
     "name": "stderr",
     "output_type": "stream",
     "text": [
      "C:\\Users\\dai.STUDENTSDC\\AppData\\Local\\anaconda3\\Lib\\site-packages\\sklearn\\linear_model\\_logistic.py:469: ConvergenceWarning: lbfgs failed to converge (status=1):\n",
      "STOP: TOTAL NO. of ITERATIONS REACHED LIMIT.\n",
      "\n",
      "Increase the number of iterations (max_iter) or scale the data as shown in:\n",
      "    https://scikit-learn.org/stable/modules/preprocessing.html\n",
      "Please also refer to the documentation for alternative solver options:\n",
      "    https://scikit-learn.org/stable/modules/linear_model.html#logistic-regression\n",
      "  n_iter_i = _check_optimize_result(\n"
     ]
    },
    {
     "name": "stdout",
     "output_type": "stream",
     "text": [
      "[CV 4/5] END LR__C=0.5272631578947369, LR__solver=lbfgs, SCL=None;, score=0.812 total time=   0.2s\n"
     ]
    },
    {
     "name": "stderr",
     "output_type": "stream",
     "text": [
      "C:\\Users\\dai.STUDENTSDC\\AppData\\Local\\anaconda3\\Lib\\site-packages\\sklearn\\linear_model\\_logistic.py:469: ConvergenceWarning: lbfgs failed to converge (status=1):\n",
      "STOP: TOTAL NO. of ITERATIONS REACHED LIMIT.\n",
      "\n",
      "Increase the number of iterations (max_iter) or scale the data as shown in:\n",
      "    https://scikit-learn.org/stable/modules/preprocessing.html\n",
      "Please also refer to the documentation for alternative solver options:\n",
      "    https://scikit-learn.org/stable/modules/linear_model.html#logistic-regression\n",
      "  n_iter_i = _check_optimize_result(\n"
     ]
    },
    {
     "name": "stdout",
     "output_type": "stream",
     "text": [
      "[CV 5/5] END LR__C=0.5272631578947369, LR__solver=lbfgs, SCL=None;, score=0.826 total time=   0.2s\n",
      "[CV 1/5] END LR__C=0.5272631578947369, LR__solver=liblinear, SCL=MinMaxScaler();, score=nan total time=   0.0s\n",
      "[CV 2/5] END LR__C=0.5272631578947369, LR__solver=liblinear, SCL=MinMaxScaler();, score=nan total time=   0.0s\n",
      "[CV 3/5] END LR__C=0.5272631578947369, LR__solver=liblinear, SCL=MinMaxScaler();, score=nan total time=   0.0s\n",
      "[CV 4/5] END LR__C=0.5272631578947369, LR__solver=liblinear, SCL=MinMaxScaler();, score=nan total time=   0.0s\n",
      "[CV 5/5] END LR__C=0.5272631578947369, LR__solver=liblinear, SCL=MinMaxScaler();, score=nan total time=   0.0s\n",
      "[CV 1/5] END LR__C=0.5272631578947369, LR__solver=liblinear, SCL=StandardScaler();, score=nan total time=   0.0s\n",
      "[CV 2/5] END LR__C=0.5272631578947369, LR__solver=liblinear, SCL=StandardScaler();, score=nan total time=   0.0s\n",
      "[CV 3/5] END LR__C=0.5272631578947369, LR__solver=liblinear, SCL=StandardScaler();, score=nan total time=   0.0s\n",
      "[CV 4/5] END LR__C=0.5272631578947369, LR__solver=liblinear, SCL=StandardScaler();, score=nan total time=   0.0s\n",
      "[CV 5/5] END LR__C=0.5272631578947369, LR__solver=liblinear, SCL=StandardScaler();, score=nan total time=   0.0s\n",
      "[CV 1/5] END LR__C=0.5272631578947369, LR__solver=liblinear, SCL=None;, score=nan total time=   0.0s\n",
      "[CV 2/5] END LR__C=0.5272631578947369, LR__solver=liblinear, SCL=None;, score=nan total time=   0.0s\n",
      "[CV 3/5] END LR__C=0.5272631578947369, LR__solver=liblinear, SCL=None;, score=nan total time=   0.0s\n",
      "[CV 4/5] END LR__C=0.5272631578947369, LR__solver=liblinear, SCL=None;, score=nan total time=   0.0s\n",
      "[CV 5/5] END LR__C=0.5272631578947369, LR__solver=liblinear, SCL=None;, score=nan total time=   0.0s\n",
      "[CV 1/5] END LR__C=0.5272631578947369, LR__solver=newton-cg, SCL=MinMaxScaler();, score=0.821 total time=   0.0s\n",
      "[CV 2/5] END LR__C=0.5272631578947369, LR__solver=newton-cg, SCL=MinMaxScaler();, score=0.810 total time=   0.0s\n",
      "[CV 3/5] END LR__C=0.5272631578947369, LR__solver=newton-cg, SCL=MinMaxScaler();, score=0.825 total time=   0.0s\n",
      "[CV 4/5] END LR__C=0.5272631578947369, LR__solver=newton-cg, SCL=MinMaxScaler();, score=0.816 total time=   0.0s\n",
      "[CV 5/5] END LR__C=0.5272631578947369, LR__solver=newton-cg, SCL=MinMaxScaler();, score=0.827 total time=   0.0s\n",
      "[CV 1/5] END LR__C=0.5272631578947369, LR__solver=newton-cg, SCL=StandardScaler();, score=0.821 total time=   0.0s\n",
      "[CV 2/5] END LR__C=0.5272631578947369, LR__solver=newton-cg, SCL=StandardScaler();, score=0.810 total time=   0.0s\n",
      "[CV 3/5] END LR__C=0.5272631578947369, LR__solver=newton-cg, SCL=StandardScaler();, score=0.825 total time=   0.0s\n",
      "[CV 4/5] END LR__C=0.5272631578947369, LR__solver=newton-cg, SCL=StandardScaler();, score=0.816 total time=   0.0s\n",
      "[CV 5/5] END LR__C=0.5272631578947369, LR__solver=newton-cg, SCL=StandardScaler();, score=0.827 total time=   0.0s\n",
      "[CV 1/5] END LR__C=0.5272631578947369, LR__solver=newton-cg, SCL=None;, score=0.822 total time=   0.4s\n",
      "[CV 2/5] END LR__C=0.5272631578947369, LR__solver=newton-cg, SCL=None;, score=0.810 total time=   0.3s\n",
      "[CV 3/5] END LR__C=0.5272631578947369, LR__solver=newton-cg, SCL=None;, score=0.825 total time=   0.4s\n",
      "[CV 4/5] END LR__C=0.5272631578947369, LR__solver=newton-cg, SCL=None;, score=0.816 total time=   0.4s\n",
      "[CV 5/5] END LR__C=0.5272631578947369, LR__solver=newton-cg, SCL=None;, score=0.827 total time=   0.4s\n",
      "[CV 1/5] END LR__C=0.5272631578947369, LR__solver=newton-cholesky, SCL=MinMaxScaler();, score=nan total time=   0.0s\n",
      "[CV 2/5] END LR__C=0.5272631578947369, LR__solver=newton-cholesky, SCL=MinMaxScaler();, score=nan total time=   0.0s\n",
      "[CV 3/5] END LR__C=0.5272631578947369, LR__solver=newton-cholesky, SCL=MinMaxScaler();, score=nan total time=   0.0s\n",
      "[CV 4/5] END LR__C=0.5272631578947369, LR__solver=newton-cholesky, SCL=MinMaxScaler();, score=nan total time=   0.0s\n",
      "[CV 5/5] END LR__C=0.5272631578947369, LR__solver=newton-cholesky, SCL=MinMaxScaler();, score=nan total time=   0.0s\n",
      "[CV 1/5] END LR__C=0.5272631578947369, LR__solver=newton-cholesky, SCL=StandardScaler();, score=nan total time=   0.0s\n",
      "[CV 2/5] END LR__C=0.5272631578947369, LR__solver=newton-cholesky, SCL=StandardScaler();, score=nan total time=   0.0s\n",
      "[CV 3/5] END LR__C=0.5272631578947369, LR__solver=newton-cholesky, SCL=StandardScaler();, score=nan total time=   0.0s\n",
      "[CV 4/5] END LR__C=0.5272631578947369, LR__solver=newton-cholesky, SCL=StandardScaler();, score=nan total time=   0.0s\n",
      "[CV 5/5] END LR__C=0.5272631578947369, LR__solver=newton-cholesky, SCL=StandardScaler();, score=nan total time=   0.0s\n",
      "[CV 1/5] END LR__C=0.5272631578947369, LR__solver=newton-cholesky, SCL=None;, score=nan total time=   0.0s\n",
      "[CV 2/5] END LR__C=0.5272631578947369, LR__solver=newton-cholesky, SCL=None;, score=nan total time=   0.0s\n",
      "[CV 3/5] END LR__C=0.5272631578947369, LR__solver=newton-cholesky, SCL=None;, score=nan total time=   0.0s\n",
      "[CV 4/5] END LR__C=0.5272631578947369, LR__solver=newton-cholesky, SCL=None;, score=nan total time=   0.0s\n",
      "[CV 5/5] END LR__C=0.5272631578947369, LR__solver=newton-cholesky, SCL=None;, score=nan total time=   0.0s\n",
      "[CV 1/5] END LR__C=0.5272631578947369, LR__solver=sag, SCL=MinMaxScaler();, score=0.821 total time=   0.1s\n",
      "[CV 2/5] END LR__C=0.5272631578947369, LR__solver=sag, SCL=MinMaxScaler();, score=0.810 total time=   0.2s\n",
      "[CV 3/5] END LR__C=0.5272631578947369, LR__solver=sag, SCL=MinMaxScaler();, score=0.825 total time=   0.1s\n",
      "[CV 4/5] END LR__C=0.5272631578947369, LR__solver=sag, SCL=MinMaxScaler();, score=0.816 total time=   0.1s\n",
      "[CV 5/5] END LR__C=0.5272631578947369, LR__solver=sag, SCL=MinMaxScaler();, score=0.827 total time=   0.1s\n",
      "[CV 1/5] END LR__C=0.5272631578947369, LR__solver=sag, SCL=StandardScaler();, score=0.821 total time=   0.2s\n",
      "[CV 2/5] END LR__C=0.5272631578947369, LR__solver=sag, SCL=StandardScaler();, score=0.810 total time=   0.2s\n",
      "[CV 3/5] END LR__C=0.5272631578947369, LR__solver=sag, SCL=StandardScaler();, score=0.825 total time=   0.2s\n",
      "[CV 4/5] END LR__C=0.5272631578947369, LR__solver=sag, SCL=StandardScaler();, score=0.816 total time=   0.2s\n",
      "[CV 5/5] END LR__C=0.5272631578947369, LR__solver=sag, SCL=StandardScaler();, score=0.827 total time=   0.1s\n"
     ]
    },
    {
     "name": "stderr",
     "output_type": "stream",
     "text": [
      "C:\\Users\\dai.STUDENTSDC\\AppData\\Local\\anaconda3\\Lib\\site-packages\\sklearn\\linear_model\\_sag.py:350: ConvergenceWarning: The max_iter was reached which means the coef_ did not converge\n",
      "  warnings.warn(\n"
     ]
    },
    {
     "name": "stdout",
     "output_type": "stream",
     "text": [
      "[CV 1/5] END LR__C=0.5272631578947369, LR__solver=sag, SCL=None;, score=0.819 total time=   0.5s\n"
     ]
    },
    {
     "name": "stderr",
     "output_type": "stream",
     "text": [
      "C:\\Users\\dai.STUDENTSDC\\AppData\\Local\\anaconda3\\Lib\\site-packages\\sklearn\\linear_model\\_sag.py:350: ConvergenceWarning: The max_iter was reached which means the coef_ did not converge\n",
      "  warnings.warn(\n"
     ]
    },
    {
     "name": "stdout",
     "output_type": "stream",
     "text": [
      "[CV 2/5] END LR__C=0.5272631578947369, LR__solver=sag, SCL=None;, score=0.802 total time=   0.5s\n"
     ]
    },
    {
     "name": "stderr",
     "output_type": "stream",
     "text": [
      "C:\\Users\\dai.STUDENTSDC\\AppData\\Local\\anaconda3\\Lib\\site-packages\\sklearn\\linear_model\\_sag.py:350: ConvergenceWarning: The max_iter was reached which means the coef_ did not converge\n",
      "  warnings.warn(\n"
     ]
    },
    {
     "name": "stdout",
     "output_type": "stream",
     "text": [
      "[CV 3/5] END LR__C=0.5272631578947369, LR__solver=sag, SCL=None;, score=0.818 total time=   0.5s\n"
     ]
    },
    {
     "name": "stderr",
     "output_type": "stream",
     "text": [
      "C:\\Users\\dai.STUDENTSDC\\AppData\\Local\\anaconda3\\Lib\\site-packages\\sklearn\\linear_model\\_sag.py:350: ConvergenceWarning: The max_iter was reached which means the coef_ did not converge\n",
      "  warnings.warn(\n"
     ]
    },
    {
     "name": "stdout",
     "output_type": "stream",
     "text": [
      "[CV 4/5] END LR__C=0.5272631578947369, LR__solver=sag, SCL=None;, score=0.813 total time=   0.5s\n"
     ]
    },
    {
     "name": "stderr",
     "output_type": "stream",
     "text": [
      "C:\\Users\\dai.STUDENTSDC\\AppData\\Local\\anaconda3\\Lib\\site-packages\\sklearn\\linear_model\\_sag.py:350: ConvergenceWarning: The max_iter was reached which means the coef_ did not converge\n",
      "  warnings.warn(\n"
     ]
    },
    {
     "name": "stdout",
     "output_type": "stream",
     "text": [
      "[CV 5/5] END LR__C=0.5272631578947369, LR__solver=sag, SCL=None;, score=0.820 total time=   0.5s\n",
      "[CV 1/5] END LR__C=0.5272631578947369, LR__solver=saga, SCL=MinMaxScaler();, score=0.821 total time=   0.1s\n",
      "[CV 2/5] END LR__C=0.5272631578947369, LR__solver=saga, SCL=MinMaxScaler();, score=0.810 total time=   0.1s\n",
      "[CV 3/5] END LR__C=0.5272631578947369, LR__solver=saga, SCL=MinMaxScaler();, score=0.825 total time=   0.1s\n",
      "[CV 4/5] END LR__C=0.5272631578947369, LR__solver=saga, SCL=MinMaxScaler();, score=0.816 total time=   0.1s\n",
      "[CV 5/5] END LR__C=0.5272631578947369, LR__solver=saga, SCL=MinMaxScaler();, score=0.827 total time=   0.1s\n",
      "[CV 1/5] END LR__C=0.5272631578947369, LR__solver=saga, SCL=StandardScaler();, score=0.821 total time=   0.1s\n",
      "[CV 2/5] END LR__C=0.5272631578947369, LR__solver=saga, SCL=StandardScaler();, score=0.810 total time=   0.1s\n",
      "[CV 3/5] END LR__C=0.5272631578947369, LR__solver=saga, SCL=StandardScaler();, score=0.825 total time=   0.1s\n",
      "[CV 4/5] END LR__C=0.5272631578947369, LR__solver=saga, SCL=StandardScaler();, score=0.816 total time=   0.0s\n",
      "[CV 5/5] END LR__C=0.5272631578947369, LR__solver=saga, SCL=StandardScaler();, score=0.827 total time=   0.1s\n"
     ]
    },
    {
     "name": "stderr",
     "output_type": "stream",
     "text": [
      "C:\\Users\\dai.STUDENTSDC\\AppData\\Local\\anaconda3\\Lib\\site-packages\\sklearn\\linear_model\\_sag.py:350: ConvergenceWarning: The max_iter was reached which means the coef_ did not converge\n",
      "  warnings.warn(\n"
     ]
    },
    {
     "name": "stdout",
     "output_type": "stream",
     "text": [
      "[CV 1/5] END LR__C=0.5272631578947369, LR__solver=saga, SCL=None;, score=0.812 total time=   0.5s\n"
     ]
    },
    {
     "name": "stderr",
     "output_type": "stream",
     "text": [
      "C:\\Users\\dai.STUDENTSDC\\AppData\\Local\\anaconda3\\Lib\\site-packages\\sklearn\\linear_model\\_sag.py:350: ConvergenceWarning: The max_iter was reached which means the coef_ did not converge\n",
      "  warnings.warn(\n"
     ]
    },
    {
     "name": "stdout",
     "output_type": "stream",
     "text": [
      "[CV 2/5] END LR__C=0.5272631578947369, LR__solver=saga, SCL=None;, score=0.792 total time=   0.5s\n"
     ]
    },
    {
     "name": "stderr",
     "output_type": "stream",
     "text": [
      "C:\\Users\\dai.STUDENTSDC\\AppData\\Local\\anaconda3\\Lib\\site-packages\\sklearn\\linear_model\\_sag.py:350: ConvergenceWarning: The max_iter was reached which means the coef_ did not converge\n",
      "  warnings.warn(\n"
     ]
    },
    {
     "name": "stdout",
     "output_type": "stream",
     "text": [
      "[CV 3/5] END LR__C=0.5272631578947369, LR__solver=saga, SCL=None;, score=0.812 total time=   0.5s\n"
     ]
    },
    {
     "name": "stderr",
     "output_type": "stream",
     "text": [
      "C:\\Users\\dai.STUDENTSDC\\AppData\\Local\\anaconda3\\Lib\\site-packages\\sklearn\\linear_model\\_sag.py:350: ConvergenceWarning: The max_iter was reached which means the coef_ did not converge\n",
      "  warnings.warn(\n"
     ]
    },
    {
     "name": "stdout",
     "output_type": "stream",
     "text": [
      "[CV 4/5] END LR__C=0.5272631578947369, LR__solver=saga, SCL=None;, score=0.807 total time=   0.5s\n"
     ]
    },
    {
     "name": "stderr",
     "output_type": "stream",
     "text": [
      "C:\\Users\\dai.STUDENTSDC\\AppData\\Local\\anaconda3\\Lib\\site-packages\\sklearn\\linear_model\\_sag.py:350: ConvergenceWarning: The max_iter was reached which means the coef_ did not converge\n",
      "  warnings.warn(\n"
     ]
    },
    {
     "name": "stdout",
     "output_type": "stream",
     "text": [
      "[CV 5/5] END LR__C=0.5272631578947369, LR__solver=saga, SCL=None;, score=0.814 total time=   0.5s\n",
      "[CV 1/5] END LR__C=1.0535263157894736, LR__solver=lbfgs, SCL=MinMaxScaler();, score=0.821 total time=   0.0s\n",
      "[CV 2/5] END LR__C=1.0535263157894736, LR__solver=lbfgs, SCL=MinMaxScaler();, score=0.810 total time=   0.0s\n",
      "[CV 3/5] END LR__C=1.0535263157894736, LR__solver=lbfgs, SCL=MinMaxScaler();, score=0.825 total time=   0.0s\n",
      "[CV 4/5] END LR__C=1.0535263157894736, LR__solver=lbfgs, SCL=MinMaxScaler();, score=0.816 total time=   0.0s\n",
      "[CV 5/5] END LR__C=1.0535263157894736, LR__solver=lbfgs, SCL=MinMaxScaler();, score=0.827 total time=   0.0s\n",
      "[CV 1/5] END LR__C=1.0535263157894736, LR__solver=lbfgs, SCL=StandardScaler();, score=0.821 total time=   0.0s\n",
      "[CV 2/5] END LR__C=1.0535263157894736, LR__solver=lbfgs, SCL=StandardScaler();, score=0.810 total time=   0.0s\n",
      "[CV 3/5] END LR__C=1.0535263157894736, LR__solver=lbfgs, SCL=StandardScaler();, score=0.825 total time=   0.0s\n",
      "[CV 4/5] END LR__C=1.0535263157894736, LR__solver=lbfgs, SCL=StandardScaler();, score=0.816 total time=   0.0s\n",
      "[CV 5/5] END LR__C=1.0535263157894736, LR__solver=lbfgs, SCL=StandardScaler();, score=0.827 total time=   0.0s\n"
     ]
    },
    {
     "name": "stderr",
     "output_type": "stream",
     "text": [
      "C:\\Users\\dai.STUDENTSDC\\AppData\\Local\\anaconda3\\Lib\\site-packages\\sklearn\\linear_model\\_logistic.py:469: ConvergenceWarning: lbfgs failed to converge (status=1):\n",
      "STOP: TOTAL NO. of ITERATIONS REACHED LIMIT.\n",
      "\n",
      "Increase the number of iterations (max_iter) or scale the data as shown in:\n",
      "    https://scikit-learn.org/stable/modules/preprocessing.html\n",
      "Please also refer to the documentation for alternative solver options:\n",
      "    https://scikit-learn.org/stable/modules/linear_model.html#logistic-regression\n",
      "  n_iter_i = _check_optimize_result(\n"
     ]
    },
    {
     "name": "stdout",
     "output_type": "stream",
     "text": [
      "[CV 1/5] END LR__C=1.0535263157894736, LR__solver=lbfgs, SCL=None;, score=0.815 total time=   0.2s\n"
     ]
    },
    {
     "name": "stderr",
     "output_type": "stream",
     "text": [
      "C:\\Users\\dai.STUDENTSDC\\AppData\\Local\\anaconda3\\Lib\\site-packages\\sklearn\\linear_model\\_logistic.py:469: ConvergenceWarning: lbfgs failed to converge (status=1):\n",
      "STOP: TOTAL NO. of ITERATIONS REACHED LIMIT.\n",
      "\n",
      "Increase the number of iterations (max_iter) or scale the data as shown in:\n",
      "    https://scikit-learn.org/stable/modules/preprocessing.html\n",
      "Please also refer to the documentation for alternative solver options:\n",
      "    https://scikit-learn.org/stable/modules/linear_model.html#logistic-regression\n",
      "  n_iter_i = _check_optimize_result(\n"
     ]
    },
    {
     "name": "stdout",
     "output_type": "stream",
     "text": [
      "[CV 2/5] END LR__C=1.0535263157894736, LR__solver=lbfgs, SCL=None;, score=0.805 total time=   0.2s\n"
     ]
    },
    {
     "name": "stderr",
     "output_type": "stream",
     "text": [
      "C:\\Users\\dai.STUDENTSDC\\AppData\\Local\\anaconda3\\Lib\\site-packages\\sklearn\\linear_model\\_logistic.py:469: ConvergenceWarning: lbfgs failed to converge (status=1):\n",
      "STOP: TOTAL NO. of ITERATIONS REACHED LIMIT.\n",
      "\n",
      "Increase the number of iterations (max_iter) or scale the data as shown in:\n",
      "    https://scikit-learn.org/stable/modules/preprocessing.html\n",
      "Please also refer to the documentation for alternative solver options:\n",
      "    https://scikit-learn.org/stable/modules/linear_model.html#logistic-regression\n",
      "  n_iter_i = _check_optimize_result(\n"
     ]
    },
    {
     "name": "stdout",
     "output_type": "stream",
     "text": [
      "[CV 3/5] END LR__C=1.0535263157894736, LR__solver=lbfgs, SCL=None;, score=0.815 total time=   0.2s\n"
     ]
    },
    {
     "name": "stderr",
     "output_type": "stream",
     "text": [
      "C:\\Users\\dai.STUDENTSDC\\AppData\\Local\\anaconda3\\Lib\\site-packages\\sklearn\\linear_model\\_logistic.py:469: ConvergenceWarning: lbfgs failed to converge (status=1):\n",
      "STOP: TOTAL NO. of ITERATIONS REACHED LIMIT.\n",
      "\n",
      "Increase the number of iterations (max_iter) or scale the data as shown in:\n",
      "    https://scikit-learn.org/stable/modules/preprocessing.html\n",
      "Please also refer to the documentation for alternative solver options:\n",
      "    https://scikit-learn.org/stable/modules/linear_model.html#logistic-regression\n",
      "  n_iter_i = _check_optimize_result(\n"
     ]
    },
    {
     "name": "stdout",
     "output_type": "stream",
     "text": [
      "[CV 4/5] END LR__C=1.0535263157894736, LR__solver=lbfgs, SCL=None;, score=0.812 total time=   0.2s\n"
     ]
    },
    {
     "name": "stderr",
     "output_type": "stream",
     "text": [
      "C:\\Users\\dai.STUDENTSDC\\AppData\\Local\\anaconda3\\Lib\\site-packages\\sklearn\\linear_model\\_logistic.py:469: ConvergenceWarning: lbfgs failed to converge (status=1):\n",
      "STOP: TOTAL NO. of ITERATIONS REACHED LIMIT.\n",
      "\n",
      "Increase the number of iterations (max_iter) or scale the data as shown in:\n",
      "    https://scikit-learn.org/stable/modules/preprocessing.html\n",
      "Please also refer to the documentation for alternative solver options:\n",
      "    https://scikit-learn.org/stable/modules/linear_model.html#logistic-regression\n",
      "  n_iter_i = _check_optimize_result(\n"
     ]
    },
    {
     "name": "stdout",
     "output_type": "stream",
     "text": [
      "[CV 5/5] END LR__C=1.0535263157894736, LR__solver=lbfgs, SCL=None;, score=0.821 total time=   0.2s\n",
      "[CV 1/5] END LR__C=1.0535263157894736, LR__solver=liblinear, SCL=MinMaxScaler();, score=nan total time=   0.0s\n",
      "[CV 2/5] END LR__C=1.0535263157894736, LR__solver=liblinear, SCL=MinMaxScaler();, score=nan total time=   0.0s\n",
      "[CV 3/5] END LR__C=1.0535263157894736, LR__solver=liblinear, SCL=MinMaxScaler();, score=nan total time=   0.0s\n",
      "[CV 4/5] END LR__C=1.0535263157894736, LR__solver=liblinear, SCL=MinMaxScaler();, score=nan total time=   0.0s\n",
      "[CV 5/5] END LR__C=1.0535263157894736, LR__solver=liblinear, SCL=MinMaxScaler();, score=nan total time=   0.0s\n",
      "[CV 1/5] END LR__C=1.0535263157894736, LR__solver=liblinear, SCL=StandardScaler();, score=nan total time=   0.0s\n",
      "[CV 2/5] END LR__C=1.0535263157894736, LR__solver=liblinear, SCL=StandardScaler();, score=nan total time=   0.0s\n",
      "[CV 3/5] END LR__C=1.0535263157894736, LR__solver=liblinear, SCL=StandardScaler();, score=nan total time=   0.0s\n",
      "[CV 4/5] END LR__C=1.0535263157894736, LR__solver=liblinear, SCL=StandardScaler();, score=nan total time=   0.0s\n",
      "[CV 5/5] END LR__C=1.0535263157894736, LR__solver=liblinear, SCL=StandardScaler();, score=nan total time=   0.0s\n",
      "[CV 1/5] END LR__C=1.0535263157894736, LR__solver=liblinear, SCL=None;, score=nan total time=   0.0s\n",
      "[CV 2/5] END LR__C=1.0535263157894736, LR__solver=liblinear, SCL=None;, score=nan total time=   0.0s\n",
      "[CV 3/5] END LR__C=1.0535263157894736, LR__solver=liblinear, SCL=None;, score=nan total time=   0.0s\n",
      "[CV 4/5] END LR__C=1.0535263157894736, LR__solver=liblinear, SCL=None;, score=nan total time=   0.0s\n",
      "[CV 5/5] END LR__C=1.0535263157894736, LR__solver=liblinear, SCL=None;, score=nan total time=   0.0s\n",
      "[CV 1/5] END LR__C=1.0535263157894736, LR__solver=newton-cg, SCL=MinMaxScaler();, score=0.821 total time=   0.0s\n",
      "[CV 2/5] END LR__C=1.0535263157894736, LR__solver=newton-cg, SCL=MinMaxScaler();, score=0.810 total time=   0.0s\n",
      "[CV 3/5] END LR__C=1.0535263157894736, LR__solver=newton-cg, SCL=MinMaxScaler();, score=0.825 total time=   0.0s\n",
      "[CV 4/5] END LR__C=1.0535263157894736, LR__solver=newton-cg, SCL=MinMaxScaler();, score=0.816 total time=   0.0s\n",
      "[CV 5/5] END LR__C=1.0535263157894736, LR__solver=newton-cg, SCL=MinMaxScaler();, score=0.827 total time=   0.0s\n",
      "[CV 1/5] END LR__C=1.0535263157894736, LR__solver=newton-cg, SCL=StandardScaler();, score=0.821 total time=   0.0s\n",
      "[CV 2/5] END LR__C=1.0535263157894736, LR__solver=newton-cg, SCL=StandardScaler();, score=0.810 total time=   0.0s\n",
      "[CV 3/5] END LR__C=1.0535263157894736, LR__solver=newton-cg, SCL=StandardScaler();, score=0.825 total time=   0.0s\n",
      "[CV 4/5] END LR__C=1.0535263157894736, LR__solver=newton-cg, SCL=StandardScaler();, score=0.816 total time=   0.0s\n",
      "[CV 5/5] END LR__C=1.0535263157894736, LR__solver=newton-cg, SCL=StandardScaler();, score=0.827 total time=   0.0s\n",
      "[CV 1/5] END LR__C=1.0535263157894736, LR__solver=newton-cg, SCL=None;, score=0.822 total time=   0.3s\n",
      "[CV 2/5] END LR__C=1.0535263157894736, LR__solver=newton-cg, SCL=None;, score=0.810 total time=   0.4s\n",
      "[CV 3/5] END LR__C=1.0535263157894736, LR__solver=newton-cg, SCL=None;, score=0.825 total time=   0.4s\n",
      "[CV 4/5] END LR__C=1.0535263157894736, LR__solver=newton-cg, SCL=None;, score=0.816 total time=   0.4s\n",
      "[CV 5/5] END LR__C=1.0535263157894736, LR__solver=newton-cg, SCL=None;, score=0.827 total time=   0.4s\n",
      "[CV 1/5] END LR__C=1.0535263157894736, LR__solver=newton-cholesky, SCL=MinMaxScaler();, score=nan total time=   0.0s\n",
      "[CV 2/5] END LR__C=1.0535263157894736, LR__solver=newton-cholesky, SCL=MinMaxScaler();, score=nan total time=   0.0s\n",
      "[CV 3/5] END LR__C=1.0535263157894736, LR__solver=newton-cholesky, SCL=MinMaxScaler();, score=nan total time=   0.0s\n",
      "[CV 4/5] END LR__C=1.0535263157894736, LR__solver=newton-cholesky, SCL=MinMaxScaler();, score=nan total time=   0.0s\n",
      "[CV 5/5] END LR__C=1.0535263157894736, LR__solver=newton-cholesky, SCL=MinMaxScaler();, score=nan total time=   0.0s\n",
      "[CV 1/5] END LR__C=1.0535263157894736, LR__solver=newton-cholesky, SCL=StandardScaler();, score=nan total time=   0.0s\n",
      "[CV 2/5] END LR__C=1.0535263157894736, LR__solver=newton-cholesky, SCL=StandardScaler();, score=nan total time=   0.0s\n",
      "[CV 3/5] END LR__C=1.0535263157894736, LR__solver=newton-cholesky, SCL=StandardScaler();, score=nan total time=   0.0s\n",
      "[CV 4/5] END LR__C=1.0535263157894736, LR__solver=newton-cholesky, SCL=StandardScaler();, score=nan total time=   0.0s\n",
      "[CV 5/5] END LR__C=1.0535263157894736, LR__solver=newton-cholesky, SCL=StandardScaler();, score=nan total time=   0.0s\n",
      "[CV 1/5] END LR__C=1.0535263157894736, LR__solver=newton-cholesky, SCL=None;, score=nan total time=   0.0s\n",
      "[CV 2/5] END LR__C=1.0535263157894736, LR__solver=newton-cholesky, SCL=None;, score=nan total time=   0.0s\n",
      "[CV 3/5] END LR__C=1.0535263157894736, LR__solver=newton-cholesky, SCL=None;, score=nan total time=   0.0s\n",
      "[CV 4/5] END LR__C=1.0535263157894736, LR__solver=newton-cholesky, SCL=None;, score=nan total time=   0.0s\n",
      "[CV 5/5] END LR__C=1.0535263157894736, LR__solver=newton-cholesky, SCL=None;, score=nan total time=   0.0s\n",
      "[CV 1/5] END LR__C=1.0535263157894736, LR__solver=sag, SCL=MinMaxScaler();, score=0.821 total time=   0.1s\n",
      "[CV 2/5] END LR__C=1.0535263157894736, LR__solver=sag, SCL=MinMaxScaler();, score=0.810 total time=   0.1s\n",
      "[CV 3/5] END LR__C=1.0535263157894736, LR__solver=sag, SCL=MinMaxScaler();, score=0.825 total time=   0.2s\n",
      "[CV 4/5] END LR__C=1.0535263157894736, LR__solver=sag, SCL=MinMaxScaler();, score=0.816 total time=   0.2s\n",
      "[CV 5/5] END LR__C=1.0535263157894736, LR__solver=sag, SCL=MinMaxScaler();, score=0.827 total time=   0.2s\n",
      "[CV 1/5] END LR__C=1.0535263157894736, LR__solver=sag, SCL=StandardScaler();, score=0.821 total time=   0.2s\n",
      "[CV 2/5] END LR__C=1.0535263157894736, LR__solver=sag, SCL=StandardScaler();, score=0.810 total time=   0.1s\n",
      "[CV 3/5] END LR__C=1.0535263157894736, LR__solver=sag, SCL=StandardScaler();, score=0.825 total time=   0.2s\n",
      "[CV 4/5] END LR__C=1.0535263157894736, LR__solver=sag, SCL=StandardScaler();, score=0.816 total time=   0.2s\n",
      "[CV 5/5] END LR__C=1.0535263157894736, LR__solver=sag, SCL=StandardScaler();, score=0.827 total time=   0.2s\n"
     ]
    },
    {
     "name": "stderr",
     "output_type": "stream",
     "text": [
      "C:\\Users\\dai.STUDENTSDC\\AppData\\Local\\anaconda3\\Lib\\site-packages\\sklearn\\linear_model\\_sag.py:350: ConvergenceWarning: The max_iter was reached which means the coef_ did not converge\n",
      "  warnings.warn(\n"
     ]
    },
    {
     "name": "stdout",
     "output_type": "stream",
     "text": [
      "[CV 1/5] END LR__C=1.0535263157894736, LR__solver=sag, SCL=None;, score=0.819 total time=   0.5s\n"
     ]
    },
    {
     "name": "stderr",
     "output_type": "stream",
     "text": [
      "C:\\Users\\dai.STUDENTSDC\\AppData\\Local\\anaconda3\\Lib\\site-packages\\sklearn\\linear_model\\_sag.py:350: ConvergenceWarning: The max_iter was reached which means the coef_ did not converge\n",
      "  warnings.warn(\n"
     ]
    },
    {
     "name": "stdout",
     "output_type": "stream",
     "text": [
      "[CV 2/5] END LR__C=1.0535263157894736, LR__solver=sag, SCL=None;, score=0.802 total time=   0.4s\n"
     ]
    },
    {
     "name": "stderr",
     "output_type": "stream",
     "text": [
      "C:\\Users\\dai.STUDENTSDC\\AppData\\Local\\anaconda3\\Lib\\site-packages\\sklearn\\linear_model\\_sag.py:350: ConvergenceWarning: The max_iter was reached which means the coef_ did not converge\n",
      "  warnings.warn(\n"
     ]
    },
    {
     "name": "stdout",
     "output_type": "stream",
     "text": [
      "[CV 3/5] END LR__C=1.0535263157894736, LR__solver=sag, SCL=None;, score=0.818 total time=   0.4s\n"
     ]
    },
    {
     "name": "stderr",
     "output_type": "stream",
     "text": [
      "C:\\Users\\dai.STUDENTSDC\\AppData\\Local\\anaconda3\\Lib\\site-packages\\sklearn\\linear_model\\_sag.py:350: ConvergenceWarning: The max_iter was reached which means the coef_ did not converge\n",
      "  warnings.warn(\n"
     ]
    },
    {
     "name": "stdout",
     "output_type": "stream",
     "text": [
      "[CV 4/5] END LR__C=1.0535263157894736, LR__solver=sag, SCL=None;, score=0.813 total time=   0.5s\n"
     ]
    },
    {
     "name": "stderr",
     "output_type": "stream",
     "text": [
      "C:\\Users\\dai.STUDENTSDC\\AppData\\Local\\anaconda3\\Lib\\site-packages\\sklearn\\linear_model\\_sag.py:350: ConvergenceWarning: The max_iter was reached which means the coef_ did not converge\n",
      "  warnings.warn(\n"
     ]
    },
    {
     "name": "stdout",
     "output_type": "stream",
     "text": [
      "[CV 5/5] END LR__C=1.0535263157894736, LR__solver=sag, SCL=None;, score=0.820 total time=   0.4s\n",
      "[CV 1/5] END LR__C=1.0535263157894736, LR__solver=saga, SCL=MinMaxScaler();, score=0.821 total time=   0.1s\n",
      "[CV 2/5] END LR__C=1.0535263157894736, LR__solver=saga, SCL=MinMaxScaler();, score=0.810 total time=   0.1s\n",
      "[CV 3/5] END LR__C=1.0535263157894736, LR__solver=saga, SCL=MinMaxScaler();, score=0.825 total time=   0.1s\n",
      "[CV 4/5] END LR__C=1.0535263157894736, LR__solver=saga, SCL=MinMaxScaler();, score=0.816 total time=   0.1s\n",
      "[CV 5/5] END LR__C=1.0535263157894736, LR__solver=saga, SCL=MinMaxScaler();, score=0.827 total time=   0.1s\n",
      "[CV 1/5] END LR__C=1.0535263157894736, LR__solver=saga, SCL=StandardScaler();, score=0.821 total time=   0.1s\n",
      "[CV 2/5] END LR__C=1.0535263157894736, LR__solver=saga, SCL=StandardScaler();, score=0.810 total time=   0.1s\n",
      "[CV 3/5] END LR__C=1.0535263157894736, LR__solver=saga, SCL=StandardScaler();, score=0.825 total time=   0.1s\n",
      "[CV 4/5] END LR__C=1.0535263157894736, LR__solver=saga, SCL=StandardScaler();, score=0.816 total time=   0.0s\n",
      "[CV 5/5] END LR__C=1.0535263157894736, LR__solver=saga, SCL=StandardScaler();, score=0.827 total time=   0.1s\n"
     ]
    },
    {
     "name": "stderr",
     "output_type": "stream",
     "text": [
      "C:\\Users\\dai.STUDENTSDC\\AppData\\Local\\anaconda3\\Lib\\site-packages\\sklearn\\linear_model\\_sag.py:350: ConvergenceWarning: The max_iter was reached which means the coef_ did not converge\n",
      "  warnings.warn(\n"
     ]
    },
    {
     "name": "stdout",
     "output_type": "stream",
     "text": [
      "[CV 1/5] END LR__C=1.0535263157894736, LR__solver=saga, SCL=None;, score=0.812 total time=   0.5s\n"
     ]
    },
    {
     "name": "stderr",
     "output_type": "stream",
     "text": [
      "C:\\Users\\dai.STUDENTSDC\\AppData\\Local\\anaconda3\\Lib\\site-packages\\sklearn\\linear_model\\_sag.py:350: ConvergenceWarning: The max_iter was reached which means the coef_ did not converge\n",
      "  warnings.warn(\n"
     ]
    },
    {
     "name": "stdout",
     "output_type": "stream",
     "text": [
      "[CV 2/5] END LR__C=1.0535263157894736, LR__solver=saga, SCL=None;, score=0.792 total time=   0.5s\n"
     ]
    },
    {
     "name": "stderr",
     "output_type": "stream",
     "text": [
      "C:\\Users\\dai.STUDENTSDC\\AppData\\Local\\anaconda3\\Lib\\site-packages\\sklearn\\linear_model\\_sag.py:350: ConvergenceWarning: The max_iter was reached which means the coef_ did not converge\n",
      "  warnings.warn(\n"
     ]
    },
    {
     "name": "stdout",
     "output_type": "stream",
     "text": [
      "[CV 3/5] END LR__C=1.0535263157894736, LR__solver=saga, SCL=None;, score=0.812 total time=   0.5s\n"
     ]
    },
    {
     "name": "stderr",
     "output_type": "stream",
     "text": [
      "C:\\Users\\dai.STUDENTSDC\\AppData\\Local\\anaconda3\\Lib\\site-packages\\sklearn\\linear_model\\_sag.py:350: ConvergenceWarning: The max_iter was reached which means the coef_ did not converge\n",
      "  warnings.warn(\n"
     ]
    },
    {
     "name": "stdout",
     "output_type": "stream",
     "text": [
      "[CV 4/5] END LR__C=1.0535263157894736, LR__solver=saga, SCL=None;, score=0.807 total time=   0.5s\n"
     ]
    },
    {
     "name": "stderr",
     "output_type": "stream",
     "text": [
      "C:\\Users\\dai.STUDENTSDC\\AppData\\Local\\anaconda3\\Lib\\site-packages\\sklearn\\linear_model\\_sag.py:350: ConvergenceWarning: The max_iter was reached which means the coef_ did not converge\n",
      "  warnings.warn(\n"
     ]
    },
    {
     "name": "stdout",
     "output_type": "stream",
     "text": [
      "[CV 5/5] END LR__C=1.0535263157894736, LR__solver=saga, SCL=None;, score=0.814 total time=   0.5s\n",
      "[CV 1/5] END LR__C=1.5797894736842104, LR__solver=lbfgs, SCL=MinMaxScaler();, score=0.821 total time=   0.0s\n",
      "[CV 2/5] END LR__C=1.5797894736842104, LR__solver=lbfgs, SCL=MinMaxScaler();, score=0.810 total time=   0.0s\n",
      "[CV 3/5] END LR__C=1.5797894736842104, LR__solver=lbfgs, SCL=MinMaxScaler();, score=0.825 total time=   0.0s\n",
      "[CV 4/5] END LR__C=1.5797894736842104, LR__solver=lbfgs, SCL=MinMaxScaler();, score=0.816 total time=   0.0s\n",
      "[CV 5/5] END LR__C=1.5797894736842104, LR__solver=lbfgs, SCL=MinMaxScaler();, score=0.827 total time=   0.0s\n",
      "[CV 1/5] END LR__C=1.5797894736842104, LR__solver=lbfgs, SCL=StandardScaler();, score=0.821 total time=   0.0s\n",
      "[CV 2/5] END LR__C=1.5797894736842104, LR__solver=lbfgs, SCL=StandardScaler();, score=0.810 total time=   0.0s\n",
      "[CV 3/5] END LR__C=1.5797894736842104, LR__solver=lbfgs, SCL=StandardScaler();, score=0.825 total time=   0.0s\n",
      "[CV 4/5] END LR__C=1.5797894736842104, LR__solver=lbfgs, SCL=StandardScaler();, score=0.816 total time=   0.0s\n",
      "[CV 5/5] END LR__C=1.5797894736842104, LR__solver=lbfgs, SCL=StandardScaler();, score=0.827 total time=   0.0s\n"
     ]
    },
    {
     "name": "stderr",
     "output_type": "stream",
     "text": [
      "C:\\Users\\dai.STUDENTSDC\\AppData\\Local\\anaconda3\\Lib\\site-packages\\sklearn\\linear_model\\_logistic.py:469: ConvergenceWarning: lbfgs failed to converge (status=1):\n",
      "STOP: TOTAL NO. of ITERATIONS REACHED LIMIT.\n",
      "\n",
      "Increase the number of iterations (max_iter) or scale the data as shown in:\n",
      "    https://scikit-learn.org/stable/modules/preprocessing.html\n",
      "Please also refer to the documentation for alternative solver options:\n",
      "    https://scikit-learn.org/stable/modules/linear_model.html#logistic-regression\n",
      "  n_iter_i = _check_optimize_result(\n"
     ]
    },
    {
     "name": "stdout",
     "output_type": "stream",
     "text": [
      "[CV 1/5] END LR__C=1.5797894736842104, LR__solver=lbfgs, SCL=None;, score=0.814 total time=   0.2s\n"
     ]
    },
    {
     "name": "stderr",
     "output_type": "stream",
     "text": [
      "C:\\Users\\dai.STUDENTSDC\\AppData\\Local\\anaconda3\\Lib\\site-packages\\sklearn\\linear_model\\_logistic.py:469: ConvergenceWarning: lbfgs failed to converge (status=1):\n",
      "STOP: TOTAL NO. of ITERATIONS REACHED LIMIT.\n",
      "\n",
      "Increase the number of iterations (max_iter) or scale the data as shown in:\n",
      "    https://scikit-learn.org/stable/modules/preprocessing.html\n",
      "Please also refer to the documentation for alternative solver options:\n",
      "    https://scikit-learn.org/stable/modules/linear_model.html#logistic-regression\n",
      "  n_iter_i = _check_optimize_result(\n"
     ]
    },
    {
     "name": "stdout",
     "output_type": "stream",
     "text": [
      "[CV 2/5] END LR__C=1.5797894736842104, LR__solver=lbfgs, SCL=None;, score=0.805 total time=   0.2s\n"
     ]
    },
    {
     "name": "stderr",
     "output_type": "stream",
     "text": [
      "C:\\Users\\dai.STUDENTSDC\\AppData\\Local\\anaconda3\\Lib\\site-packages\\sklearn\\linear_model\\_logistic.py:469: ConvergenceWarning: lbfgs failed to converge (status=1):\n",
      "STOP: TOTAL NO. of ITERATIONS REACHED LIMIT.\n",
      "\n",
      "Increase the number of iterations (max_iter) or scale the data as shown in:\n",
      "    https://scikit-learn.org/stable/modules/preprocessing.html\n",
      "Please also refer to the documentation for alternative solver options:\n",
      "    https://scikit-learn.org/stable/modules/linear_model.html#logistic-regression\n",
      "  n_iter_i = _check_optimize_result(\n"
     ]
    },
    {
     "name": "stdout",
     "output_type": "stream",
     "text": [
      "[CV 3/5] END LR__C=1.5797894736842104, LR__solver=lbfgs, SCL=None;, score=0.819 total time=   0.2s\n"
     ]
    },
    {
     "name": "stderr",
     "output_type": "stream",
     "text": [
      "C:\\Users\\dai.STUDENTSDC\\AppData\\Local\\anaconda3\\Lib\\site-packages\\sklearn\\linear_model\\_logistic.py:469: ConvergenceWarning: lbfgs failed to converge (status=1):\n",
      "STOP: TOTAL NO. of ITERATIONS REACHED LIMIT.\n",
      "\n",
      "Increase the number of iterations (max_iter) or scale the data as shown in:\n",
      "    https://scikit-learn.org/stable/modules/preprocessing.html\n",
      "Please also refer to the documentation for alternative solver options:\n",
      "    https://scikit-learn.org/stable/modules/linear_model.html#logistic-regression\n",
      "  n_iter_i = _check_optimize_result(\n"
     ]
    },
    {
     "name": "stdout",
     "output_type": "stream",
     "text": [
      "[CV 4/5] END LR__C=1.5797894736842104, LR__solver=lbfgs, SCL=None;, score=0.810 total time=   0.2s\n"
     ]
    },
    {
     "name": "stderr",
     "output_type": "stream",
     "text": [
      "C:\\Users\\dai.STUDENTSDC\\AppData\\Local\\anaconda3\\Lib\\site-packages\\sklearn\\linear_model\\_logistic.py:469: ConvergenceWarning: lbfgs failed to converge (status=1):\n",
      "STOP: TOTAL NO. of ITERATIONS REACHED LIMIT.\n",
      "\n",
      "Increase the number of iterations (max_iter) or scale the data as shown in:\n",
      "    https://scikit-learn.org/stable/modules/preprocessing.html\n",
      "Please also refer to the documentation for alternative solver options:\n",
      "    https://scikit-learn.org/stable/modules/linear_model.html#logistic-regression\n",
      "  n_iter_i = _check_optimize_result(\n"
     ]
    },
    {
     "name": "stdout",
     "output_type": "stream",
     "text": [
      "[CV 5/5] END LR__C=1.5797894736842104, LR__solver=lbfgs, SCL=None;, score=0.822 total time=   0.2s\n",
      "[CV 1/5] END LR__C=1.5797894736842104, LR__solver=liblinear, SCL=MinMaxScaler();, score=nan total time=   0.0s\n",
      "[CV 2/5] END LR__C=1.5797894736842104, LR__solver=liblinear, SCL=MinMaxScaler();, score=nan total time=   0.0s\n",
      "[CV 3/5] END LR__C=1.5797894736842104, LR__solver=liblinear, SCL=MinMaxScaler();, score=nan total time=   0.0s\n",
      "[CV 4/5] END LR__C=1.5797894736842104, LR__solver=liblinear, SCL=MinMaxScaler();, score=nan total time=   0.0s\n",
      "[CV 5/5] END LR__C=1.5797894736842104, LR__solver=liblinear, SCL=MinMaxScaler();, score=nan total time=   0.0s\n",
      "[CV 1/5] END LR__C=1.5797894736842104, LR__solver=liblinear, SCL=StandardScaler();, score=nan total time=   0.0s\n",
      "[CV 2/5] END LR__C=1.5797894736842104, LR__solver=liblinear, SCL=StandardScaler();, score=nan total time=   0.0s\n",
      "[CV 3/5] END LR__C=1.5797894736842104, LR__solver=liblinear, SCL=StandardScaler();, score=nan total time=   0.0s\n",
      "[CV 4/5] END LR__C=1.5797894736842104, LR__solver=liblinear, SCL=StandardScaler();, score=nan total time=   0.0s\n",
      "[CV 5/5] END LR__C=1.5797894736842104, LR__solver=liblinear, SCL=StandardScaler();, score=nan total time=   0.0s\n",
      "[CV 1/5] END LR__C=1.5797894736842104, LR__solver=liblinear, SCL=None;, score=nan total time=   0.0s\n",
      "[CV 2/5] END LR__C=1.5797894736842104, LR__solver=liblinear, SCL=None;, score=nan total time=   0.0s\n",
      "[CV 3/5] END LR__C=1.5797894736842104, LR__solver=liblinear, SCL=None;, score=nan total time=   0.0s\n",
      "[CV 4/5] END LR__C=1.5797894736842104, LR__solver=liblinear, SCL=None;, score=nan total time=   0.0s\n",
      "[CV 5/5] END LR__C=1.5797894736842104, LR__solver=liblinear, SCL=None;, score=nan total time=   0.0s\n",
      "[CV 1/5] END LR__C=1.5797894736842104, LR__solver=newton-cg, SCL=MinMaxScaler();, score=0.821 total time=   0.0s\n",
      "[CV 2/5] END LR__C=1.5797894736842104, LR__solver=newton-cg, SCL=MinMaxScaler();, score=0.810 total time=   0.0s\n",
      "[CV 3/5] END LR__C=1.5797894736842104, LR__solver=newton-cg, SCL=MinMaxScaler();, score=0.825 total time=   0.0s\n",
      "[CV 4/5] END LR__C=1.5797894736842104, LR__solver=newton-cg, SCL=MinMaxScaler();, score=0.816 total time=   0.0s\n",
      "[CV 5/5] END LR__C=1.5797894736842104, LR__solver=newton-cg, SCL=MinMaxScaler();, score=0.827 total time=   0.0s\n",
      "[CV 1/5] END LR__C=1.5797894736842104, LR__solver=newton-cg, SCL=StandardScaler();, score=0.821 total time=   0.0s\n",
      "[CV 2/5] END LR__C=1.5797894736842104, LR__solver=newton-cg, SCL=StandardScaler();, score=0.810 total time=   0.0s\n",
      "[CV 3/5] END LR__C=1.5797894736842104, LR__solver=newton-cg, SCL=StandardScaler();, score=0.825 total time=   0.0s\n",
      "[CV 4/5] END LR__C=1.5797894736842104, LR__solver=newton-cg, SCL=StandardScaler();, score=0.816 total time=   0.0s\n",
      "[CV 5/5] END LR__C=1.5797894736842104, LR__solver=newton-cg, SCL=StandardScaler();, score=0.827 total time=   0.0s\n",
      "[CV 1/5] END LR__C=1.5797894736842104, LR__solver=newton-cg, SCL=None;, score=0.821 total time=   0.4s\n",
      "[CV 2/5] END LR__C=1.5797894736842104, LR__solver=newton-cg, SCL=None;, score=0.810 total time=   0.3s\n",
      "[CV 3/5] END LR__C=1.5797894736842104, LR__solver=newton-cg, SCL=None;, score=0.825 total time=   0.4s\n",
      "[CV 4/5] END LR__C=1.5797894736842104, LR__solver=newton-cg, SCL=None;, score=0.816 total time=   0.4s\n",
      "[CV 5/5] END LR__C=1.5797894736842104, LR__solver=newton-cg, SCL=None;, score=0.827 total time=   0.3s\n",
      "[CV 1/5] END LR__C=1.5797894736842104, LR__solver=newton-cholesky, SCL=MinMaxScaler();, score=nan total time=   0.0s\n",
      "[CV 2/5] END LR__C=1.5797894736842104, LR__solver=newton-cholesky, SCL=MinMaxScaler();, score=nan total time=   0.0s\n",
      "[CV 3/5] END LR__C=1.5797894736842104, LR__solver=newton-cholesky, SCL=MinMaxScaler();, score=nan total time=   0.0s\n",
      "[CV 4/5] END LR__C=1.5797894736842104, LR__solver=newton-cholesky, SCL=MinMaxScaler();, score=nan total time=   0.0s\n",
      "[CV 5/5] END LR__C=1.5797894736842104, LR__solver=newton-cholesky, SCL=MinMaxScaler();, score=nan total time=   0.0s\n",
      "[CV 1/5] END LR__C=1.5797894736842104, LR__solver=newton-cholesky, SCL=StandardScaler();, score=nan total time=   0.0s\n",
      "[CV 2/5] END LR__C=1.5797894736842104, LR__solver=newton-cholesky, SCL=StandardScaler();, score=nan total time=   0.0s\n",
      "[CV 3/5] END LR__C=1.5797894736842104, LR__solver=newton-cholesky, SCL=StandardScaler();, score=nan total time=   0.0s\n",
      "[CV 4/5] END LR__C=1.5797894736842104, LR__solver=newton-cholesky, SCL=StandardScaler();, score=nan total time=   0.0s\n",
      "[CV 5/5] END LR__C=1.5797894736842104, LR__solver=newton-cholesky, SCL=StandardScaler();, score=nan total time=   0.0s\n",
      "[CV 1/5] END LR__C=1.5797894736842104, LR__solver=newton-cholesky, SCL=None;, score=nan total time=   0.0s\n",
      "[CV 2/5] END LR__C=1.5797894736842104, LR__solver=newton-cholesky, SCL=None;, score=nan total time=   0.0s\n",
      "[CV 3/5] END LR__C=1.5797894736842104, LR__solver=newton-cholesky, SCL=None;, score=nan total time=   0.0s\n",
      "[CV 4/5] END LR__C=1.5797894736842104, LR__solver=newton-cholesky, SCL=None;, score=nan total time=   0.0s\n",
      "[CV 5/5] END LR__C=1.5797894736842104, LR__solver=newton-cholesky, SCL=None;, score=nan total time=   0.0s\n",
      "[CV 1/5] END LR__C=1.5797894736842104, LR__solver=sag, SCL=MinMaxScaler();, score=0.821 total time=   0.2s\n",
      "[CV 2/5] END LR__C=1.5797894736842104, LR__solver=sag, SCL=MinMaxScaler();, score=0.810 total time=   0.2s\n",
      "[CV 3/5] END LR__C=1.5797894736842104, LR__solver=sag, SCL=MinMaxScaler();, score=0.825 total time=   0.2s\n",
      "[CV 4/5] END LR__C=1.5797894736842104, LR__solver=sag, SCL=MinMaxScaler();, score=0.816 total time=   0.2s\n",
      "[CV 5/5] END LR__C=1.5797894736842104, LR__solver=sag, SCL=MinMaxScaler();, score=0.827 total time=   0.2s\n",
      "[CV 1/5] END LR__C=1.5797894736842104, LR__solver=sag, SCL=StandardScaler();, score=0.821 total time=   0.2s\n",
      "[CV 2/5] END LR__C=1.5797894736842104, LR__solver=sag, SCL=StandardScaler();, score=0.810 total time=   0.1s\n",
      "[CV 3/5] END LR__C=1.5797894736842104, LR__solver=sag, SCL=StandardScaler();, score=0.825 total time=   0.2s\n",
      "[CV 4/5] END LR__C=1.5797894736842104, LR__solver=sag, SCL=StandardScaler();, score=0.816 total time=   0.2s\n",
      "[CV 5/5] END LR__C=1.5797894736842104, LR__solver=sag, SCL=StandardScaler();, score=0.827 total time=   0.2s\n"
     ]
    },
    {
     "name": "stderr",
     "output_type": "stream",
     "text": [
      "C:\\Users\\dai.STUDENTSDC\\AppData\\Local\\anaconda3\\Lib\\site-packages\\sklearn\\linear_model\\_sag.py:350: ConvergenceWarning: The max_iter was reached which means the coef_ did not converge\n",
      "  warnings.warn(\n"
     ]
    },
    {
     "name": "stdout",
     "output_type": "stream",
     "text": [
      "[CV 1/5] END LR__C=1.5797894736842104, LR__solver=sag, SCL=None;, score=0.819 total time=   0.5s\n"
     ]
    },
    {
     "name": "stderr",
     "output_type": "stream",
     "text": [
      "C:\\Users\\dai.STUDENTSDC\\AppData\\Local\\anaconda3\\Lib\\site-packages\\sklearn\\linear_model\\_sag.py:350: ConvergenceWarning: The max_iter was reached which means the coef_ did not converge\n",
      "  warnings.warn(\n"
     ]
    },
    {
     "name": "stdout",
     "output_type": "stream",
     "text": [
      "[CV 2/5] END LR__C=1.5797894736842104, LR__solver=sag, SCL=None;, score=0.802 total time=   0.4s\n"
     ]
    },
    {
     "name": "stderr",
     "output_type": "stream",
     "text": [
      "C:\\Users\\dai.STUDENTSDC\\AppData\\Local\\anaconda3\\Lib\\site-packages\\sklearn\\linear_model\\_sag.py:350: ConvergenceWarning: The max_iter was reached which means the coef_ did not converge\n",
      "  warnings.warn(\n"
     ]
    },
    {
     "name": "stdout",
     "output_type": "stream",
     "text": [
      "[CV 3/5] END LR__C=1.5797894736842104, LR__solver=sag, SCL=None;, score=0.818 total time=   0.4s\n"
     ]
    },
    {
     "name": "stderr",
     "output_type": "stream",
     "text": [
      "C:\\Users\\dai.STUDENTSDC\\AppData\\Local\\anaconda3\\Lib\\site-packages\\sklearn\\linear_model\\_sag.py:350: ConvergenceWarning: The max_iter was reached which means the coef_ did not converge\n",
      "  warnings.warn(\n"
     ]
    },
    {
     "name": "stdout",
     "output_type": "stream",
     "text": [
      "[CV 4/5] END LR__C=1.5797894736842104, LR__solver=sag, SCL=None;, score=0.813 total time=   0.5s\n"
     ]
    },
    {
     "name": "stderr",
     "output_type": "stream",
     "text": [
      "C:\\Users\\dai.STUDENTSDC\\AppData\\Local\\anaconda3\\Lib\\site-packages\\sklearn\\linear_model\\_sag.py:350: ConvergenceWarning: The max_iter was reached which means the coef_ did not converge\n",
      "  warnings.warn(\n"
     ]
    },
    {
     "name": "stdout",
     "output_type": "stream",
     "text": [
      "[CV 5/5] END LR__C=1.5797894736842104, LR__solver=sag, SCL=None;, score=0.820 total time=   0.5s\n",
      "[CV 1/5] END LR__C=1.5797894736842104, LR__solver=saga, SCL=MinMaxScaler();, score=0.821 total time=   0.1s\n",
      "[CV 2/5] END LR__C=1.5797894736842104, LR__solver=saga, SCL=MinMaxScaler();, score=0.810 total time=   0.1s\n",
      "[CV 3/5] END LR__C=1.5797894736842104, LR__solver=saga, SCL=MinMaxScaler();, score=0.825 total time=   0.1s\n",
      "[CV 4/5] END LR__C=1.5797894736842104, LR__solver=saga, SCL=MinMaxScaler();, score=0.816 total time=   0.1s\n",
      "[CV 5/5] END LR__C=1.5797894736842104, LR__solver=saga, SCL=MinMaxScaler();, score=0.827 total time=   0.1s\n",
      "[CV 1/5] END LR__C=1.5797894736842104, LR__solver=saga, SCL=StandardScaler();, score=0.821 total time=   0.1s\n",
      "[CV 2/5] END LR__C=1.5797894736842104, LR__solver=saga, SCL=StandardScaler();, score=0.810 total time=   0.0s\n",
      "[CV 3/5] END LR__C=1.5797894736842104, LR__solver=saga, SCL=StandardScaler();, score=0.825 total time=   0.1s\n",
      "[CV 4/5] END LR__C=1.5797894736842104, LR__solver=saga, SCL=StandardScaler();, score=0.816 total time=   0.1s\n",
      "[CV 5/5] END LR__C=1.5797894736842104, LR__solver=saga, SCL=StandardScaler();, score=0.827 total time=   0.1s\n"
     ]
    },
    {
     "name": "stderr",
     "output_type": "stream",
     "text": [
      "C:\\Users\\dai.STUDENTSDC\\AppData\\Local\\anaconda3\\Lib\\site-packages\\sklearn\\linear_model\\_sag.py:350: ConvergenceWarning: The max_iter was reached which means the coef_ did not converge\n",
      "  warnings.warn(\n"
     ]
    },
    {
     "name": "stdout",
     "output_type": "stream",
     "text": [
      "[CV 1/5] END LR__C=1.5797894736842104, LR__solver=saga, SCL=None;, score=0.812 total time=   0.5s\n"
     ]
    },
    {
     "name": "stderr",
     "output_type": "stream",
     "text": [
      "C:\\Users\\dai.STUDENTSDC\\AppData\\Local\\anaconda3\\Lib\\site-packages\\sklearn\\linear_model\\_sag.py:350: ConvergenceWarning: The max_iter was reached which means the coef_ did not converge\n",
      "  warnings.warn(\n"
     ]
    },
    {
     "name": "stdout",
     "output_type": "stream",
     "text": [
      "[CV 2/5] END LR__C=1.5797894736842104, LR__solver=saga, SCL=None;, score=0.792 total time=   0.5s\n"
     ]
    },
    {
     "name": "stderr",
     "output_type": "stream",
     "text": [
      "C:\\Users\\dai.STUDENTSDC\\AppData\\Local\\anaconda3\\Lib\\site-packages\\sklearn\\linear_model\\_sag.py:350: ConvergenceWarning: The max_iter was reached which means the coef_ did not converge\n",
      "  warnings.warn(\n"
     ]
    },
    {
     "name": "stdout",
     "output_type": "stream",
     "text": [
      "[CV 3/5] END LR__C=1.5797894736842104, LR__solver=saga, SCL=None;, score=0.812 total time=   0.5s\n"
     ]
    },
    {
     "name": "stderr",
     "output_type": "stream",
     "text": [
      "C:\\Users\\dai.STUDENTSDC\\AppData\\Local\\anaconda3\\Lib\\site-packages\\sklearn\\linear_model\\_sag.py:350: ConvergenceWarning: The max_iter was reached which means the coef_ did not converge\n",
      "  warnings.warn(\n"
     ]
    },
    {
     "name": "stdout",
     "output_type": "stream",
     "text": [
      "[CV 4/5] END LR__C=1.5797894736842104, LR__solver=saga, SCL=None;, score=0.807 total time=   0.5s\n"
     ]
    },
    {
     "name": "stderr",
     "output_type": "stream",
     "text": [
      "C:\\Users\\dai.STUDENTSDC\\AppData\\Local\\anaconda3\\Lib\\site-packages\\sklearn\\linear_model\\_sag.py:350: ConvergenceWarning: The max_iter was reached which means the coef_ did not converge\n",
      "  warnings.warn(\n"
     ]
    },
    {
     "name": "stdout",
     "output_type": "stream",
     "text": [
      "[CV 5/5] END LR__C=1.5797894736842104, LR__solver=saga, SCL=None;, score=0.814 total time=   0.5s\n",
      "[CV 1/5] END LR__C=2.1060526315789474, LR__solver=lbfgs, SCL=MinMaxScaler();, score=0.821 total time=   0.0s\n",
      "[CV 2/5] END LR__C=2.1060526315789474, LR__solver=lbfgs, SCL=MinMaxScaler();, score=0.810 total time=   0.0s\n",
      "[CV 3/5] END LR__C=2.1060526315789474, LR__solver=lbfgs, SCL=MinMaxScaler();, score=0.825 total time=   0.0s\n",
      "[CV 4/5] END LR__C=2.1060526315789474, LR__solver=lbfgs, SCL=MinMaxScaler();, score=0.816 total time=   0.0s\n",
      "[CV 5/5] END LR__C=2.1060526315789474, LR__solver=lbfgs, SCL=MinMaxScaler();, score=0.827 total time=   0.0s\n",
      "[CV 1/5] END LR__C=2.1060526315789474, LR__solver=lbfgs, SCL=StandardScaler();, score=0.821 total time=   0.0s\n",
      "[CV 2/5] END LR__C=2.1060526315789474, LR__solver=lbfgs, SCL=StandardScaler();, score=0.810 total time=   0.0s\n",
      "[CV 3/5] END LR__C=2.1060526315789474, LR__solver=lbfgs, SCL=StandardScaler();, score=0.825 total time=   0.0s\n",
      "[CV 4/5] END LR__C=2.1060526315789474, LR__solver=lbfgs, SCL=StandardScaler();, score=0.816 total time=   0.0s\n",
      "[CV 5/5] END LR__C=2.1060526315789474, LR__solver=lbfgs, SCL=StandardScaler();, score=0.827 total time=   0.0s\n"
     ]
    },
    {
     "name": "stderr",
     "output_type": "stream",
     "text": [
      "C:\\Users\\dai.STUDENTSDC\\AppData\\Local\\anaconda3\\Lib\\site-packages\\sklearn\\linear_model\\_logistic.py:469: ConvergenceWarning: lbfgs failed to converge (status=1):\n",
      "STOP: TOTAL NO. of ITERATIONS REACHED LIMIT.\n",
      "\n",
      "Increase the number of iterations (max_iter) or scale the data as shown in:\n",
      "    https://scikit-learn.org/stable/modules/preprocessing.html\n",
      "Please also refer to the documentation for alternative solver options:\n",
      "    https://scikit-learn.org/stable/modules/linear_model.html#logistic-regression\n",
      "  n_iter_i = _check_optimize_result(\n"
     ]
    },
    {
     "name": "stdout",
     "output_type": "stream",
     "text": [
      "[CV 1/5] END LR__C=2.1060526315789474, LR__solver=lbfgs, SCL=None;, score=0.818 total time=   0.2s\n"
     ]
    },
    {
     "name": "stderr",
     "output_type": "stream",
     "text": [
      "C:\\Users\\dai.STUDENTSDC\\AppData\\Local\\anaconda3\\Lib\\site-packages\\sklearn\\linear_model\\_logistic.py:469: ConvergenceWarning: lbfgs failed to converge (status=1):\n",
      "STOP: TOTAL NO. of ITERATIONS REACHED LIMIT.\n",
      "\n",
      "Increase the number of iterations (max_iter) or scale the data as shown in:\n",
      "    https://scikit-learn.org/stable/modules/preprocessing.html\n",
      "Please also refer to the documentation for alternative solver options:\n",
      "    https://scikit-learn.org/stable/modules/linear_model.html#logistic-regression\n",
      "  n_iter_i = _check_optimize_result(\n"
     ]
    },
    {
     "name": "stdout",
     "output_type": "stream",
     "text": [
      "[CV 2/5] END LR__C=2.1060526315789474, LR__solver=lbfgs, SCL=None;, score=0.806 total time=   0.2s\n"
     ]
    },
    {
     "name": "stderr",
     "output_type": "stream",
     "text": [
      "C:\\Users\\dai.STUDENTSDC\\AppData\\Local\\anaconda3\\Lib\\site-packages\\sklearn\\linear_model\\_logistic.py:469: ConvergenceWarning: lbfgs failed to converge (status=1):\n",
      "STOP: TOTAL NO. of ITERATIONS REACHED LIMIT.\n",
      "\n",
      "Increase the number of iterations (max_iter) or scale the data as shown in:\n",
      "    https://scikit-learn.org/stable/modules/preprocessing.html\n",
      "Please also refer to the documentation for alternative solver options:\n",
      "    https://scikit-learn.org/stable/modules/linear_model.html#logistic-regression\n",
      "  n_iter_i = _check_optimize_result(\n"
     ]
    },
    {
     "name": "stdout",
     "output_type": "stream",
     "text": [
      "[CV 3/5] END LR__C=2.1060526315789474, LR__solver=lbfgs, SCL=None;, score=0.819 total time=   0.2s\n"
     ]
    },
    {
     "name": "stderr",
     "output_type": "stream",
     "text": [
      "C:\\Users\\dai.STUDENTSDC\\AppData\\Local\\anaconda3\\Lib\\site-packages\\sklearn\\linear_model\\_logistic.py:469: ConvergenceWarning: lbfgs failed to converge (status=1):\n",
      "STOP: TOTAL NO. of ITERATIONS REACHED LIMIT.\n",
      "\n",
      "Increase the number of iterations (max_iter) or scale the data as shown in:\n",
      "    https://scikit-learn.org/stable/modules/preprocessing.html\n",
      "Please also refer to the documentation for alternative solver options:\n",
      "    https://scikit-learn.org/stable/modules/linear_model.html#logistic-regression\n",
      "  n_iter_i = _check_optimize_result(\n"
     ]
    },
    {
     "name": "stdout",
     "output_type": "stream",
     "text": [
      "[CV 4/5] END LR__C=2.1060526315789474, LR__solver=lbfgs, SCL=None;, score=0.812 total time=   0.2s\n"
     ]
    },
    {
     "name": "stderr",
     "output_type": "stream",
     "text": [
      "C:\\Users\\dai.STUDENTSDC\\AppData\\Local\\anaconda3\\Lib\\site-packages\\sklearn\\linear_model\\_logistic.py:469: ConvergenceWarning: lbfgs failed to converge (status=1):\n",
      "STOP: TOTAL NO. of ITERATIONS REACHED LIMIT.\n",
      "\n",
      "Increase the number of iterations (max_iter) or scale the data as shown in:\n",
      "    https://scikit-learn.org/stable/modules/preprocessing.html\n",
      "Please also refer to the documentation for alternative solver options:\n",
      "    https://scikit-learn.org/stable/modules/linear_model.html#logistic-regression\n",
      "  n_iter_i = _check_optimize_result(\n"
     ]
    },
    {
     "name": "stdout",
     "output_type": "stream",
     "text": [
      "[CV 5/5] END LR__C=2.1060526315789474, LR__solver=lbfgs, SCL=None;, score=0.822 total time=   0.2s\n",
      "[CV 1/5] END LR__C=2.1060526315789474, LR__solver=liblinear, SCL=MinMaxScaler();, score=nan total time=   0.0s\n",
      "[CV 2/5] END LR__C=2.1060526315789474, LR__solver=liblinear, SCL=MinMaxScaler();, score=nan total time=   0.0s\n",
      "[CV 3/5] END LR__C=2.1060526315789474, LR__solver=liblinear, SCL=MinMaxScaler();, score=nan total time=   0.0s\n",
      "[CV 4/5] END LR__C=2.1060526315789474, LR__solver=liblinear, SCL=MinMaxScaler();, score=nan total time=   0.0s\n",
      "[CV 5/5] END LR__C=2.1060526315789474, LR__solver=liblinear, SCL=MinMaxScaler();, score=nan total time=   0.0s\n",
      "[CV 1/5] END LR__C=2.1060526315789474, LR__solver=liblinear, SCL=StandardScaler();, score=nan total time=   0.0s\n",
      "[CV 2/5] END LR__C=2.1060526315789474, LR__solver=liblinear, SCL=StandardScaler();, score=nan total time=   0.0s\n",
      "[CV 3/5] END LR__C=2.1060526315789474, LR__solver=liblinear, SCL=StandardScaler();, score=nan total time=   0.0s\n",
      "[CV 4/5] END LR__C=2.1060526315789474, LR__solver=liblinear, SCL=StandardScaler();, score=nan total time=   0.0s\n",
      "[CV 5/5] END LR__C=2.1060526315789474, LR__solver=liblinear, SCL=StandardScaler();, score=nan total time=   0.0s\n",
      "[CV 1/5] END LR__C=2.1060526315789474, LR__solver=liblinear, SCL=None;, score=nan total time=   0.0s\n",
      "[CV 2/5] END LR__C=2.1060526315789474, LR__solver=liblinear, SCL=None;, score=nan total time=   0.0s\n",
      "[CV 3/5] END LR__C=2.1060526315789474, LR__solver=liblinear, SCL=None;, score=nan total time=   0.0s\n",
      "[CV 4/5] END LR__C=2.1060526315789474, LR__solver=liblinear, SCL=None;, score=nan total time=   0.0s\n",
      "[CV 5/5] END LR__C=2.1060526315789474, LR__solver=liblinear, SCL=None;, score=nan total time=   0.0s\n",
      "[CV 1/5] END LR__C=2.1060526315789474, LR__solver=newton-cg, SCL=MinMaxScaler();, score=0.821 total time=   0.0s\n",
      "[CV 2/5] END LR__C=2.1060526315789474, LR__solver=newton-cg, SCL=MinMaxScaler();, score=0.810 total time=   0.0s\n",
      "[CV 3/5] END LR__C=2.1060526315789474, LR__solver=newton-cg, SCL=MinMaxScaler();, score=0.825 total time=   0.1s\n",
      "[CV 4/5] END LR__C=2.1060526315789474, LR__solver=newton-cg, SCL=MinMaxScaler();, score=0.816 total time=   0.0s\n",
      "[CV 5/5] END LR__C=2.1060526315789474, LR__solver=newton-cg, SCL=MinMaxScaler();, score=0.827 total time=   0.0s\n",
      "[CV 1/5] END LR__C=2.1060526315789474, LR__solver=newton-cg, SCL=StandardScaler();, score=0.821 total time=   0.0s\n",
      "[CV 2/5] END LR__C=2.1060526315789474, LR__solver=newton-cg, SCL=StandardScaler();, score=0.810 total time=   0.0s\n",
      "[CV 3/5] END LR__C=2.1060526315789474, LR__solver=newton-cg, SCL=StandardScaler();, score=0.825 total time=   0.0s\n",
      "[CV 4/5] END LR__C=2.1060526315789474, LR__solver=newton-cg, SCL=StandardScaler();, score=0.816 total time=   0.0s\n",
      "[CV 5/5] END LR__C=2.1060526315789474, LR__solver=newton-cg, SCL=StandardScaler();, score=0.827 total time=   0.0s\n",
      "[CV 1/5] END LR__C=2.1060526315789474, LR__solver=newton-cg, SCL=None;, score=0.821 total time=   0.4s\n",
      "[CV 2/5] END LR__C=2.1060526315789474, LR__solver=newton-cg, SCL=None;, score=0.810 total time=   0.4s\n",
      "[CV 3/5] END LR__C=2.1060526315789474, LR__solver=newton-cg, SCL=None;, score=0.825 total time=   0.4s\n",
      "[CV 4/5] END LR__C=2.1060526315789474, LR__solver=newton-cg, SCL=None;, score=0.816 total time=   0.4s\n",
      "[CV 5/5] END LR__C=2.1060526315789474, LR__solver=newton-cg, SCL=None;, score=0.827 total time=   0.4s\n",
      "[CV 1/5] END LR__C=2.1060526315789474, LR__solver=newton-cholesky, SCL=MinMaxScaler();, score=nan total time=   0.0s\n",
      "[CV 2/5] END LR__C=2.1060526315789474, LR__solver=newton-cholesky, SCL=MinMaxScaler();, score=nan total time=   0.0s\n",
      "[CV 3/5] END LR__C=2.1060526315789474, LR__solver=newton-cholesky, SCL=MinMaxScaler();, score=nan total time=   0.0s\n",
      "[CV 4/5] END LR__C=2.1060526315789474, LR__solver=newton-cholesky, SCL=MinMaxScaler();, score=nan total time=   0.0s\n",
      "[CV 5/5] END LR__C=2.1060526315789474, LR__solver=newton-cholesky, SCL=MinMaxScaler();, score=nan total time=   0.0s\n",
      "[CV 1/5] END LR__C=2.1060526315789474, LR__solver=newton-cholesky, SCL=StandardScaler();, score=nan total time=   0.0s\n",
      "[CV 2/5] END LR__C=2.1060526315789474, LR__solver=newton-cholesky, SCL=StandardScaler();, score=nan total time=   0.0s\n",
      "[CV 3/5] END LR__C=2.1060526315789474, LR__solver=newton-cholesky, SCL=StandardScaler();, score=nan total time=   0.0s\n",
      "[CV 4/5] END LR__C=2.1060526315789474, LR__solver=newton-cholesky, SCL=StandardScaler();, score=nan total time=   0.0s\n",
      "[CV 5/5] END LR__C=2.1060526315789474, LR__solver=newton-cholesky, SCL=StandardScaler();, score=nan total time=   0.0s\n",
      "[CV 1/5] END LR__C=2.1060526315789474, LR__solver=newton-cholesky, SCL=None;, score=nan total time=   0.0s\n",
      "[CV 2/5] END LR__C=2.1060526315789474, LR__solver=newton-cholesky, SCL=None;, score=nan total time=   0.0s\n",
      "[CV 3/5] END LR__C=2.1060526315789474, LR__solver=newton-cholesky, SCL=None;, score=nan total time=   0.0s\n",
      "[CV 4/5] END LR__C=2.1060526315789474, LR__solver=newton-cholesky, SCL=None;, score=nan total time=   0.0s\n",
      "[CV 5/5] END LR__C=2.1060526315789474, LR__solver=newton-cholesky, SCL=None;, score=nan total time=   0.0s\n",
      "[CV 1/5] END LR__C=2.1060526315789474, LR__solver=sag, SCL=MinMaxScaler();, score=0.821 total time=   0.2s\n",
      "[CV 2/5] END LR__C=2.1060526315789474, LR__solver=sag, SCL=MinMaxScaler();, score=0.810 total time=   0.2s\n",
      "[CV 3/5] END LR__C=2.1060526315789474, LR__solver=sag, SCL=MinMaxScaler();, score=0.825 total time=   0.2s\n",
      "[CV 4/5] END LR__C=2.1060526315789474, LR__solver=sag, SCL=MinMaxScaler();, score=0.816 total time=   0.2s\n",
      "[CV 5/5] END LR__C=2.1060526315789474, LR__solver=sag, SCL=MinMaxScaler();, score=0.827 total time=   0.3s\n",
      "[CV 1/5] END LR__C=2.1060526315789474, LR__solver=sag, SCL=StandardScaler();, score=0.821 total time=   0.2s\n",
      "[CV 2/5] END LR__C=2.1060526315789474, LR__solver=sag, SCL=StandardScaler();, score=0.810 total time=   0.1s\n",
      "[CV 3/5] END LR__C=2.1060526315789474, LR__solver=sag, SCL=StandardScaler();, score=0.825 total time=   0.2s\n",
      "[CV 4/5] END LR__C=2.1060526315789474, LR__solver=sag, SCL=StandardScaler();, score=0.816 total time=   0.2s\n",
      "[CV 5/5] END LR__C=2.1060526315789474, LR__solver=sag, SCL=StandardScaler();, score=0.827 total time=   0.2s\n"
     ]
    },
    {
     "name": "stderr",
     "output_type": "stream",
     "text": [
      "C:\\Users\\dai.STUDENTSDC\\AppData\\Local\\anaconda3\\Lib\\site-packages\\sklearn\\linear_model\\_sag.py:350: ConvergenceWarning: The max_iter was reached which means the coef_ did not converge\n",
      "  warnings.warn(\n"
     ]
    },
    {
     "name": "stdout",
     "output_type": "stream",
     "text": [
      "[CV 1/5] END LR__C=2.1060526315789474, LR__solver=sag, SCL=None;, score=0.819 total time=   0.5s\n"
     ]
    },
    {
     "name": "stderr",
     "output_type": "stream",
     "text": [
      "C:\\Users\\dai.STUDENTSDC\\AppData\\Local\\anaconda3\\Lib\\site-packages\\sklearn\\linear_model\\_sag.py:350: ConvergenceWarning: The max_iter was reached which means the coef_ did not converge\n",
      "  warnings.warn(\n"
     ]
    },
    {
     "name": "stdout",
     "output_type": "stream",
     "text": [
      "[CV 2/5] END LR__C=2.1060526315789474, LR__solver=sag, SCL=None;, score=0.802 total time=   0.5s\n"
     ]
    },
    {
     "name": "stderr",
     "output_type": "stream",
     "text": [
      "C:\\Users\\dai.STUDENTSDC\\AppData\\Local\\anaconda3\\Lib\\site-packages\\sklearn\\linear_model\\_sag.py:350: ConvergenceWarning: The max_iter was reached which means the coef_ did not converge\n",
      "  warnings.warn(\n"
     ]
    },
    {
     "name": "stdout",
     "output_type": "stream",
     "text": [
      "[CV 3/5] END LR__C=2.1060526315789474, LR__solver=sag, SCL=None;, score=0.818 total time=   0.5s\n"
     ]
    },
    {
     "name": "stderr",
     "output_type": "stream",
     "text": [
      "C:\\Users\\dai.STUDENTSDC\\AppData\\Local\\anaconda3\\Lib\\site-packages\\sklearn\\linear_model\\_sag.py:350: ConvergenceWarning: The max_iter was reached which means the coef_ did not converge\n",
      "  warnings.warn(\n"
     ]
    },
    {
     "name": "stdout",
     "output_type": "stream",
     "text": [
      "[CV 4/5] END LR__C=2.1060526315789474, LR__solver=sag, SCL=None;, score=0.813 total time=   0.5s\n"
     ]
    },
    {
     "name": "stderr",
     "output_type": "stream",
     "text": [
      "C:\\Users\\dai.STUDENTSDC\\AppData\\Local\\anaconda3\\Lib\\site-packages\\sklearn\\linear_model\\_sag.py:350: ConvergenceWarning: The max_iter was reached which means the coef_ did not converge\n",
      "  warnings.warn(\n"
     ]
    },
    {
     "name": "stdout",
     "output_type": "stream",
     "text": [
      "[CV 5/5] END LR__C=2.1060526315789474, LR__solver=sag, SCL=None;, score=0.820 total time=   0.4s\n",
      "[CV 1/5] END LR__C=2.1060526315789474, LR__solver=saga, SCL=MinMaxScaler();, score=0.821 total time=   0.1s\n",
      "[CV 2/5] END LR__C=2.1060526315789474, LR__solver=saga, SCL=MinMaxScaler();, score=0.810 total time=   0.1s\n",
      "[CV 3/5] END LR__C=2.1060526315789474, LR__solver=saga, SCL=MinMaxScaler();, score=0.825 total time=   0.1s\n",
      "[CV 4/5] END LR__C=2.1060526315789474, LR__solver=saga, SCL=MinMaxScaler();, score=0.816 total time=   0.1s\n",
      "[CV 5/5] END LR__C=2.1060526315789474, LR__solver=saga, SCL=MinMaxScaler();, score=0.827 total time=   0.1s\n",
      "[CV 1/5] END LR__C=2.1060526315789474, LR__solver=saga, SCL=StandardScaler();, score=0.821 total time=   0.1s\n",
      "[CV 2/5] END LR__C=2.1060526315789474, LR__solver=saga, SCL=StandardScaler();, score=0.810 total time=   0.1s\n",
      "[CV 3/5] END LR__C=2.1060526315789474, LR__solver=saga, SCL=StandardScaler();, score=0.825 total time=   0.1s\n",
      "[CV 4/5] END LR__C=2.1060526315789474, LR__solver=saga, SCL=StandardScaler();, score=0.816 total time=   0.1s\n",
      "[CV 5/5] END LR__C=2.1060526315789474, LR__solver=saga, SCL=StandardScaler();, score=0.827 total time=   0.1s\n"
     ]
    },
    {
     "name": "stderr",
     "output_type": "stream",
     "text": [
      "C:\\Users\\dai.STUDENTSDC\\AppData\\Local\\anaconda3\\Lib\\site-packages\\sklearn\\linear_model\\_sag.py:350: ConvergenceWarning: The max_iter was reached which means the coef_ did not converge\n",
      "  warnings.warn(\n"
     ]
    },
    {
     "name": "stdout",
     "output_type": "stream",
     "text": [
      "[CV 1/5] END LR__C=2.1060526315789474, LR__solver=saga, SCL=None;, score=0.812 total time=   0.5s\n"
     ]
    },
    {
     "name": "stderr",
     "output_type": "stream",
     "text": [
      "C:\\Users\\dai.STUDENTSDC\\AppData\\Local\\anaconda3\\Lib\\site-packages\\sklearn\\linear_model\\_sag.py:350: ConvergenceWarning: The max_iter was reached which means the coef_ did not converge\n",
      "  warnings.warn(\n"
     ]
    },
    {
     "name": "stdout",
     "output_type": "stream",
     "text": [
      "[CV 2/5] END LR__C=2.1060526315789474, LR__solver=saga, SCL=None;, score=0.792 total time=   0.5s\n"
     ]
    },
    {
     "name": "stderr",
     "output_type": "stream",
     "text": [
      "C:\\Users\\dai.STUDENTSDC\\AppData\\Local\\anaconda3\\Lib\\site-packages\\sklearn\\linear_model\\_sag.py:350: ConvergenceWarning: The max_iter was reached which means the coef_ did not converge\n",
      "  warnings.warn(\n"
     ]
    },
    {
     "name": "stdout",
     "output_type": "stream",
     "text": [
      "[CV 3/5] END LR__C=2.1060526315789474, LR__solver=saga, SCL=None;, score=0.812 total time=   0.5s\n"
     ]
    },
    {
     "name": "stderr",
     "output_type": "stream",
     "text": [
      "C:\\Users\\dai.STUDENTSDC\\AppData\\Local\\anaconda3\\Lib\\site-packages\\sklearn\\linear_model\\_sag.py:350: ConvergenceWarning: The max_iter was reached which means the coef_ did not converge\n",
      "  warnings.warn(\n"
     ]
    },
    {
     "name": "stdout",
     "output_type": "stream",
     "text": [
      "[CV 4/5] END LR__C=2.1060526315789474, LR__solver=saga, SCL=None;, score=0.807 total time=   0.5s\n"
     ]
    },
    {
     "name": "stderr",
     "output_type": "stream",
     "text": [
      "C:\\Users\\dai.STUDENTSDC\\AppData\\Local\\anaconda3\\Lib\\site-packages\\sklearn\\linear_model\\_sag.py:350: ConvergenceWarning: The max_iter was reached which means the coef_ did not converge\n",
      "  warnings.warn(\n"
     ]
    },
    {
     "name": "stdout",
     "output_type": "stream",
     "text": [
      "[CV 5/5] END LR__C=2.1060526315789474, LR__solver=saga, SCL=None;, score=0.814 total time=   0.5s\n",
      "[CV 1/5] END LR__C=2.6323157894736844, LR__solver=lbfgs, SCL=MinMaxScaler();, score=0.821 total time=   0.0s\n",
      "[CV 2/5] END LR__C=2.6323157894736844, LR__solver=lbfgs, SCL=MinMaxScaler();, score=0.810 total time=   0.0s\n",
      "[CV 3/5] END LR__C=2.6323157894736844, LR__solver=lbfgs, SCL=MinMaxScaler();, score=0.825 total time=   0.0s\n",
      "[CV 4/5] END LR__C=2.6323157894736844, LR__solver=lbfgs, SCL=MinMaxScaler();, score=0.816 total time=   0.0s\n",
      "[CV 5/5] END LR__C=2.6323157894736844, LR__solver=lbfgs, SCL=MinMaxScaler();, score=0.827 total time=   0.0s\n",
      "[CV 1/5] END LR__C=2.6323157894736844, LR__solver=lbfgs, SCL=StandardScaler();, score=0.821 total time=   0.0s\n",
      "[CV 2/5] END LR__C=2.6323157894736844, LR__solver=lbfgs, SCL=StandardScaler();, score=0.810 total time=   0.0s\n",
      "[CV 3/5] END LR__C=2.6323157894736844, LR__solver=lbfgs, SCL=StandardScaler();, score=0.825 total time=   0.0s\n",
      "[CV 4/5] END LR__C=2.6323157894736844, LR__solver=lbfgs, SCL=StandardScaler();, score=0.816 total time=   0.0s\n",
      "[CV 5/5] END LR__C=2.6323157894736844, LR__solver=lbfgs, SCL=StandardScaler();, score=0.827 total time=   0.0s\n"
     ]
    },
    {
     "name": "stderr",
     "output_type": "stream",
     "text": [
      "C:\\Users\\dai.STUDENTSDC\\AppData\\Local\\anaconda3\\Lib\\site-packages\\sklearn\\linear_model\\_logistic.py:469: ConvergenceWarning: lbfgs failed to converge (status=1):\n",
      "STOP: TOTAL NO. of ITERATIONS REACHED LIMIT.\n",
      "\n",
      "Increase the number of iterations (max_iter) or scale the data as shown in:\n",
      "    https://scikit-learn.org/stable/modules/preprocessing.html\n",
      "Please also refer to the documentation for alternative solver options:\n",
      "    https://scikit-learn.org/stable/modules/linear_model.html#logistic-regression\n",
      "  n_iter_i = _check_optimize_result(\n"
     ]
    },
    {
     "name": "stdout",
     "output_type": "stream",
     "text": [
      "[CV 1/5] END LR__C=2.6323157894736844, LR__solver=lbfgs, SCL=None;, score=0.816 total time=   0.2s\n"
     ]
    },
    {
     "name": "stderr",
     "output_type": "stream",
     "text": [
      "C:\\Users\\dai.STUDENTSDC\\AppData\\Local\\anaconda3\\Lib\\site-packages\\sklearn\\linear_model\\_logistic.py:469: ConvergenceWarning: lbfgs failed to converge (status=1):\n",
      "STOP: TOTAL NO. of ITERATIONS REACHED LIMIT.\n",
      "\n",
      "Increase the number of iterations (max_iter) or scale the data as shown in:\n",
      "    https://scikit-learn.org/stable/modules/preprocessing.html\n",
      "Please also refer to the documentation for alternative solver options:\n",
      "    https://scikit-learn.org/stable/modules/linear_model.html#logistic-regression\n",
      "  n_iter_i = _check_optimize_result(\n"
     ]
    },
    {
     "name": "stdout",
     "output_type": "stream",
     "text": [
      "[CV 2/5] END LR__C=2.6323157894736844, LR__solver=lbfgs, SCL=None;, score=0.805 total time=   0.2s\n"
     ]
    },
    {
     "name": "stderr",
     "output_type": "stream",
     "text": [
      "C:\\Users\\dai.STUDENTSDC\\AppData\\Local\\anaconda3\\Lib\\site-packages\\sklearn\\linear_model\\_logistic.py:469: ConvergenceWarning: lbfgs failed to converge (status=1):\n",
      "STOP: TOTAL NO. of ITERATIONS REACHED LIMIT.\n",
      "\n",
      "Increase the number of iterations (max_iter) or scale the data as shown in:\n",
      "    https://scikit-learn.org/stable/modules/preprocessing.html\n",
      "Please also refer to the documentation for alternative solver options:\n",
      "    https://scikit-learn.org/stable/modules/linear_model.html#logistic-regression\n",
      "  n_iter_i = _check_optimize_result(\n"
     ]
    },
    {
     "name": "stdout",
     "output_type": "stream",
     "text": [
      "[CV 3/5] END LR__C=2.6323157894736844, LR__solver=lbfgs, SCL=None;, score=0.818 total time=   0.2s\n"
     ]
    },
    {
     "name": "stderr",
     "output_type": "stream",
     "text": [
      "C:\\Users\\dai.STUDENTSDC\\AppData\\Local\\anaconda3\\Lib\\site-packages\\sklearn\\linear_model\\_logistic.py:469: ConvergenceWarning: lbfgs failed to converge (status=1):\n",
      "STOP: TOTAL NO. of ITERATIONS REACHED LIMIT.\n",
      "\n",
      "Increase the number of iterations (max_iter) or scale the data as shown in:\n",
      "    https://scikit-learn.org/stable/modules/preprocessing.html\n",
      "Please also refer to the documentation for alternative solver options:\n",
      "    https://scikit-learn.org/stable/modules/linear_model.html#logistic-regression\n",
      "  n_iter_i = _check_optimize_result(\n"
     ]
    },
    {
     "name": "stdout",
     "output_type": "stream",
     "text": [
      "[CV 4/5] END LR__C=2.6323157894736844, LR__solver=lbfgs, SCL=None;, score=0.811 total time=   0.2s\n"
     ]
    },
    {
     "name": "stderr",
     "output_type": "stream",
     "text": [
      "C:\\Users\\dai.STUDENTSDC\\AppData\\Local\\anaconda3\\Lib\\site-packages\\sklearn\\linear_model\\_logistic.py:469: ConvergenceWarning: lbfgs failed to converge (status=1):\n",
      "STOP: TOTAL NO. of ITERATIONS REACHED LIMIT.\n",
      "\n",
      "Increase the number of iterations (max_iter) or scale the data as shown in:\n",
      "    https://scikit-learn.org/stable/modules/preprocessing.html\n",
      "Please also refer to the documentation for alternative solver options:\n",
      "    https://scikit-learn.org/stable/modules/linear_model.html#logistic-regression\n",
      "  n_iter_i = _check_optimize_result(\n"
     ]
    },
    {
     "name": "stdout",
     "output_type": "stream",
     "text": [
      "[CV 5/5] END LR__C=2.6323157894736844, LR__solver=lbfgs, SCL=None;, score=0.822 total time=   0.2s\n",
      "[CV 1/5] END LR__C=2.6323157894736844, LR__solver=liblinear, SCL=MinMaxScaler();, score=nan total time=   0.0s\n",
      "[CV 2/5] END LR__C=2.6323157894736844, LR__solver=liblinear, SCL=MinMaxScaler();, score=nan total time=   0.0s\n",
      "[CV 3/5] END LR__C=2.6323157894736844, LR__solver=liblinear, SCL=MinMaxScaler();, score=nan total time=   0.0s\n",
      "[CV 4/5] END LR__C=2.6323157894736844, LR__solver=liblinear, SCL=MinMaxScaler();, score=nan total time=   0.0s\n",
      "[CV 5/5] END LR__C=2.6323157894736844, LR__solver=liblinear, SCL=MinMaxScaler();, score=nan total time=   0.0s\n",
      "[CV 1/5] END LR__C=2.6323157894736844, LR__solver=liblinear, SCL=StandardScaler();, score=nan total time=   0.0s\n",
      "[CV 2/5] END LR__C=2.6323157894736844, LR__solver=liblinear, SCL=StandardScaler();, score=nan total time=   0.0s\n",
      "[CV 3/5] END LR__C=2.6323157894736844, LR__solver=liblinear, SCL=StandardScaler();, score=nan total time=   0.0s\n",
      "[CV 4/5] END LR__C=2.6323157894736844, LR__solver=liblinear, SCL=StandardScaler();, score=nan total time=   0.0s\n",
      "[CV 5/5] END LR__C=2.6323157894736844, LR__solver=liblinear, SCL=StandardScaler();, score=nan total time=   0.0s\n",
      "[CV 1/5] END LR__C=2.6323157894736844, LR__solver=liblinear, SCL=None;, score=nan total time=   0.0s\n",
      "[CV 2/5] END LR__C=2.6323157894736844, LR__solver=liblinear, SCL=None;, score=nan total time=   0.0s\n",
      "[CV 3/5] END LR__C=2.6323157894736844, LR__solver=liblinear, SCL=None;, score=nan total time=   0.0s\n",
      "[CV 4/5] END LR__C=2.6323157894736844, LR__solver=liblinear, SCL=None;, score=nan total time=   0.0s\n",
      "[CV 5/5] END LR__C=2.6323157894736844, LR__solver=liblinear, SCL=None;, score=nan total time=   0.0s\n",
      "[CV 1/5] END LR__C=2.6323157894736844, LR__solver=newton-cg, SCL=MinMaxScaler();, score=0.821 total time=   0.0s\n",
      "[CV 2/5] END LR__C=2.6323157894736844, LR__solver=newton-cg, SCL=MinMaxScaler();, score=0.810 total time=   0.0s\n",
      "[CV 3/5] END LR__C=2.6323157894736844, LR__solver=newton-cg, SCL=MinMaxScaler();, score=0.825 total time=   0.0s\n",
      "[CV 4/5] END LR__C=2.6323157894736844, LR__solver=newton-cg, SCL=MinMaxScaler();, score=0.816 total time=   0.1s\n",
      "[CV 5/5] END LR__C=2.6323157894736844, LR__solver=newton-cg, SCL=MinMaxScaler();, score=0.827 total time=   0.0s\n",
      "[CV 1/5] END LR__C=2.6323157894736844, LR__solver=newton-cg, SCL=StandardScaler();, score=0.821 total time=   0.0s\n",
      "[CV 2/5] END LR__C=2.6323157894736844, LR__solver=newton-cg, SCL=StandardScaler();, score=0.810 total time=   0.0s\n",
      "[CV 3/5] END LR__C=2.6323157894736844, LR__solver=newton-cg, SCL=StandardScaler();, score=0.825 total time=   0.0s\n",
      "[CV 4/5] END LR__C=2.6323157894736844, LR__solver=newton-cg, SCL=StandardScaler();, score=0.816 total time=   0.0s\n",
      "[CV 5/5] END LR__C=2.6323157894736844, LR__solver=newton-cg, SCL=StandardScaler();, score=0.827 total time=   0.0s\n",
      "[CV 1/5] END LR__C=2.6323157894736844, LR__solver=newton-cg, SCL=None;, score=0.821 total time=   0.4s\n",
      "[CV 2/5] END LR__C=2.6323157894736844, LR__solver=newton-cg, SCL=None;, score=0.810 total time=   0.3s\n",
      "[CV 3/5] END LR__C=2.6323157894736844, LR__solver=newton-cg, SCL=None;, score=0.825 total time=   0.3s\n",
      "[CV 4/5] END LR__C=2.6323157894736844, LR__solver=newton-cg, SCL=None;, score=0.816 total time=   0.4s\n",
      "[CV 5/5] END LR__C=2.6323157894736844, LR__solver=newton-cg, SCL=None;, score=0.827 total time=   0.4s\n",
      "[CV 1/5] END LR__C=2.6323157894736844, LR__solver=newton-cholesky, SCL=MinMaxScaler();, score=nan total time=   0.0s\n",
      "[CV 2/5] END LR__C=2.6323157894736844, LR__solver=newton-cholesky, SCL=MinMaxScaler();, score=nan total time=   0.0s\n",
      "[CV 3/5] END LR__C=2.6323157894736844, LR__solver=newton-cholesky, SCL=MinMaxScaler();, score=nan total time=   0.0s\n",
      "[CV 4/5] END LR__C=2.6323157894736844, LR__solver=newton-cholesky, SCL=MinMaxScaler();, score=nan total time=   0.0s\n",
      "[CV 5/5] END LR__C=2.6323157894736844, LR__solver=newton-cholesky, SCL=MinMaxScaler();, score=nan total time=   0.0s\n",
      "[CV 1/5] END LR__C=2.6323157894736844, LR__solver=newton-cholesky, SCL=StandardScaler();, score=nan total time=   0.0s\n",
      "[CV 2/5] END LR__C=2.6323157894736844, LR__solver=newton-cholesky, SCL=StandardScaler();, score=nan total time=   0.0s\n",
      "[CV 3/5] END LR__C=2.6323157894736844, LR__solver=newton-cholesky, SCL=StandardScaler();, score=nan total time=   0.0s\n",
      "[CV 4/5] END LR__C=2.6323157894736844, LR__solver=newton-cholesky, SCL=StandardScaler();, score=nan total time=   0.0s\n",
      "[CV 5/5] END LR__C=2.6323157894736844, LR__solver=newton-cholesky, SCL=StandardScaler();, score=nan total time=   0.0s\n",
      "[CV 1/5] END LR__C=2.6323157894736844, LR__solver=newton-cholesky, SCL=None;, score=nan total time=   0.0s\n",
      "[CV 2/5] END LR__C=2.6323157894736844, LR__solver=newton-cholesky, SCL=None;, score=nan total time=   0.0s\n",
      "[CV 3/5] END LR__C=2.6323157894736844, LR__solver=newton-cholesky, SCL=None;, score=nan total time=   0.0s\n",
      "[CV 4/5] END LR__C=2.6323157894736844, LR__solver=newton-cholesky, SCL=None;, score=nan total time=   0.0s\n",
      "[CV 5/5] END LR__C=2.6323157894736844, LR__solver=newton-cholesky, SCL=None;, score=nan total time=   0.0s\n",
      "[CV 1/5] END LR__C=2.6323157894736844, LR__solver=sag, SCL=MinMaxScaler();, score=0.821 total time=   0.2s\n",
      "[CV 2/5] END LR__C=2.6323157894736844, LR__solver=sag, SCL=MinMaxScaler();, score=0.810 total time=   0.2s\n",
      "[CV 3/5] END LR__C=2.6323157894736844, LR__solver=sag, SCL=MinMaxScaler();, score=0.825 total time=   0.2s\n",
      "[CV 4/5] END LR__C=2.6323157894736844, LR__solver=sag, SCL=MinMaxScaler();, score=0.816 total time=   0.3s\n",
      "[CV 5/5] END LR__C=2.6323157894736844, LR__solver=sag, SCL=MinMaxScaler();, score=0.827 total time=   0.3s\n",
      "[CV 1/5] END LR__C=2.6323157894736844, LR__solver=sag, SCL=StandardScaler();, score=0.821 total time=   0.2s\n",
      "[CV 2/5] END LR__C=2.6323157894736844, LR__solver=sag, SCL=StandardScaler();, score=0.810 total time=   0.1s\n",
      "[CV 3/5] END LR__C=2.6323157894736844, LR__solver=sag, SCL=StandardScaler();, score=0.825 total time=   0.2s\n",
      "[CV 4/5] END LR__C=2.6323157894736844, LR__solver=sag, SCL=StandardScaler();, score=0.816 total time=   0.2s\n",
      "[CV 5/5] END LR__C=2.6323157894736844, LR__solver=sag, SCL=StandardScaler();, score=0.827 total time=   0.2s\n"
     ]
    },
    {
     "name": "stderr",
     "output_type": "stream",
     "text": [
      "C:\\Users\\dai.STUDENTSDC\\AppData\\Local\\anaconda3\\Lib\\site-packages\\sklearn\\linear_model\\_sag.py:350: ConvergenceWarning: The max_iter was reached which means the coef_ did not converge\n",
      "  warnings.warn(\n"
     ]
    },
    {
     "name": "stdout",
     "output_type": "stream",
     "text": [
      "[CV 1/5] END LR__C=2.6323157894736844, LR__solver=sag, SCL=None;, score=0.819 total time=   0.4s\n"
     ]
    },
    {
     "name": "stderr",
     "output_type": "stream",
     "text": [
      "C:\\Users\\dai.STUDENTSDC\\AppData\\Local\\anaconda3\\Lib\\site-packages\\sklearn\\linear_model\\_sag.py:350: ConvergenceWarning: The max_iter was reached which means the coef_ did not converge\n",
      "  warnings.warn(\n"
     ]
    },
    {
     "name": "stdout",
     "output_type": "stream",
     "text": [
      "[CV 2/5] END LR__C=2.6323157894736844, LR__solver=sag, SCL=None;, score=0.802 total time=   0.4s\n"
     ]
    },
    {
     "name": "stderr",
     "output_type": "stream",
     "text": [
      "C:\\Users\\dai.STUDENTSDC\\AppData\\Local\\anaconda3\\Lib\\site-packages\\sklearn\\linear_model\\_sag.py:350: ConvergenceWarning: The max_iter was reached which means the coef_ did not converge\n",
      "  warnings.warn(\n"
     ]
    },
    {
     "name": "stdout",
     "output_type": "stream",
     "text": [
      "[CV 3/5] END LR__C=2.6323157894736844, LR__solver=sag, SCL=None;, score=0.818 total time=   0.4s\n"
     ]
    },
    {
     "name": "stderr",
     "output_type": "stream",
     "text": [
      "C:\\Users\\dai.STUDENTSDC\\AppData\\Local\\anaconda3\\Lib\\site-packages\\sklearn\\linear_model\\_sag.py:350: ConvergenceWarning: The max_iter was reached which means the coef_ did not converge\n",
      "  warnings.warn(\n"
     ]
    },
    {
     "name": "stdout",
     "output_type": "stream",
     "text": [
      "[CV 4/5] END LR__C=2.6323157894736844, LR__solver=sag, SCL=None;, score=0.813 total time=   0.4s\n"
     ]
    },
    {
     "name": "stderr",
     "output_type": "stream",
     "text": [
      "C:\\Users\\dai.STUDENTSDC\\AppData\\Local\\anaconda3\\Lib\\site-packages\\sklearn\\linear_model\\_sag.py:350: ConvergenceWarning: The max_iter was reached which means the coef_ did not converge\n",
      "  warnings.warn(\n"
     ]
    },
    {
     "name": "stdout",
     "output_type": "stream",
     "text": [
      "[CV 5/5] END LR__C=2.6323157894736844, LR__solver=sag, SCL=None;, score=0.820 total time=   0.5s\n",
      "[CV 1/5] END LR__C=2.6323157894736844, LR__solver=saga, SCL=MinMaxScaler();, score=0.821 total time=   0.1s\n",
      "[CV 2/5] END LR__C=2.6323157894736844, LR__solver=saga, SCL=MinMaxScaler();, score=0.810 total time=   0.1s\n",
      "[CV 3/5] END LR__C=2.6323157894736844, LR__solver=saga, SCL=MinMaxScaler();, score=0.825 total time=   0.1s\n",
      "[CV 4/5] END LR__C=2.6323157894736844, LR__solver=saga, SCL=MinMaxScaler();, score=0.816 total time=   0.1s\n",
      "[CV 5/5] END LR__C=2.6323157894736844, LR__solver=saga, SCL=MinMaxScaler();, score=0.827 total time=   0.1s\n",
      "[CV 1/5] END LR__C=2.6323157894736844, LR__solver=saga, SCL=StandardScaler();, score=0.821 total time=   0.1s\n",
      "[CV 2/5] END LR__C=2.6323157894736844, LR__solver=saga, SCL=StandardScaler();, score=0.810 total time=   0.1s\n",
      "[CV 3/5] END LR__C=2.6323157894736844, LR__solver=saga, SCL=StandardScaler();, score=0.825 total time=   0.1s\n",
      "[CV 4/5] END LR__C=2.6323157894736844, LR__solver=saga, SCL=StandardScaler();, score=0.816 total time=   0.1s\n",
      "[CV 5/5] END LR__C=2.6323157894736844, LR__solver=saga, SCL=StandardScaler();, score=0.827 total time=   0.1s\n"
     ]
    },
    {
     "name": "stderr",
     "output_type": "stream",
     "text": [
      "C:\\Users\\dai.STUDENTSDC\\AppData\\Local\\anaconda3\\Lib\\site-packages\\sklearn\\linear_model\\_sag.py:350: ConvergenceWarning: The max_iter was reached which means the coef_ did not converge\n",
      "  warnings.warn(\n"
     ]
    },
    {
     "name": "stdout",
     "output_type": "stream",
     "text": [
      "[CV 1/5] END LR__C=2.6323157894736844, LR__solver=saga, SCL=None;, score=0.812 total time=   0.5s\n"
     ]
    },
    {
     "name": "stderr",
     "output_type": "stream",
     "text": [
      "C:\\Users\\dai.STUDENTSDC\\AppData\\Local\\anaconda3\\Lib\\site-packages\\sklearn\\linear_model\\_sag.py:350: ConvergenceWarning: The max_iter was reached which means the coef_ did not converge\n",
      "  warnings.warn(\n"
     ]
    },
    {
     "name": "stdout",
     "output_type": "stream",
     "text": [
      "[CV 2/5] END LR__C=2.6323157894736844, LR__solver=saga, SCL=None;, score=0.792 total time=   0.5s\n"
     ]
    },
    {
     "name": "stderr",
     "output_type": "stream",
     "text": [
      "C:\\Users\\dai.STUDENTSDC\\AppData\\Local\\anaconda3\\Lib\\site-packages\\sklearn\\linear_model\\_sag.py:350: ConvergenceWarning: The max_iter was reached which means the coef_ did not converge\n",
      "  warnings.warn(\n"
     ]
    },
    {
     "name": "stdout",
     "output_type": "stream",
     "text": [
      "[CV 3/5] END LR__C=2.6323157894736844, LR__solver=saga, SCL=None;, score=0.812 total time=   0.5s\n"
     ]
    },
    {
     "name": "stderr",
     "output_type": "stream",
     "text": [
      "C:\\Users\\dai.STUDENTSDC\\AppData\\Local\\anaconda3\\Lib\\site-packages\\sklearn\\linear_model\\_sag.py:350: ConvergenceWarning: The max_iter was reached which means the coef_ did not converge\n",
      "  warnings.warn(\n"
     ]
    },
    {
     "name": "stdout",
     "output_type": "stream",
     "text": [
      "[CV 4/5] END LR__C=2.6323157894736844, LR__solver=saga, SCL=None;, score=0.807 total time=   0.5s\n"
     ]
    },
    {
     "name": "stderr",
     "output_type": "stream",
     "text": [
      "C:\\Users\\dai.STUDENTSDC\\AppData\\Local\\anaconda3\\Lib\\site-packages\\sklearn\\linear_model\\_sag.py:350: ConvergenceWarning: The max_iter was reached which means the coef_ did not converge\n",
      "  warnings.warn(\n"
     ]
    },
    {
     "name": "stdout",
     "output_type": "stream",
     "text": [
      "[CV 5/5] END LR__C=2.6323157894736844, LR__solver=saga, SCL=None;, score=0.814 total time=   0.5s\n",
      "[CV 1/5] END LR__C=3.158578947368421, LR__solver=lbfgs, SCL=MinMaxScaler();, score=0.821 total time=   0.0s\n",
      "[CV 2/5] END LR__C=3.158578947368421, LR__solver=lbfgs, SCL=MinMaxScaler();, score=0.810 total time=   0.0s\n",
      "[CV 3/5] END LR__C=3.158578947368421, LR__solver=lbfgs, SCL=MinMaxScaler();, score=0.825 total time=   0.0s\n",
      "[CV 4/5] END LR__C=3.158578947368421, LR__solver=lbfgs, SCL=MinMaxScaler();, score=0.816 total time=   0.0s\n",
      "[CV 5/5] END LR__C=3.158578947368421, LR__solver=lbfgs, SCL=MinMaxScaler();, score=0.827 total time=   0.0s\n",
      "[CV 1/5] END LR__C=3.158578947368421, LR__solver=lbfgs, SCL=StandardScaler();, score=0.821 total time=   0.0s\n",
      "[CV 2/5] END LR__C=3.158578947368421, LR__solver=lbfgs, SCL=StandardScaler();, score=0.810 total time=   0.0s\n",
      "[CV 3/5] END LR__C=3.158578947368421, LR__solver=lbfgs, SCL=StandardScaler();, score=0.825 total time=   0.0s\n",
      "[CV 4/5] END LR__C=3.158578947368421, LR__solver=lbfgs, SCL=StandardScaler();, score=0.816 total time=   0.0s\n",
      "[CV 5/5] END LR__C=3.158578947368421, LR__solver=lbfgs, SCL=StandardScaler();, score=0.827 total time=   0.0s\n"
     ]
    },
    {
     "name": "stderr",
     "output_type": "stream",
     "text": [
      "C:\\Users\\dai.STUDENTSDC\\AppData\\Local\\anaconda3\\Lib\\site-packages\\sklearn\\linear_model\\_logistic.py:469: ConvergenceWarning: lbfgs failed to converge (status=1):\n",
      "STOP: TOTAL NO. of ITERATIONS REACHED LIMIT.\n",
      "\n",
      "Increase the number of iterations (max_iter) or scale the data as shown in:\n",
      "    https://scikit-learn.org/stable/modules/preprocessing.html\n",
      "Please also refer to the documentation for alternative solver options:\n",
      "    https://scikit-learn.org/stable/modules/linear_model.html#logistic-regression\n",
      "  n_iter_i = _check_optimize_result(\n"
     ]
    },
    {
     "name": "stdout",
     "output_type": "stream",
     "text": [
      "[CV 1/5] END LR__C=3.158578947368421, LR__solver=lbfgs, SCL=None;, score=0.814 total time=   0.2s\n"
     ]
    },
    {
     "name": "stderr",
     "output_type": "stream",
     "text": [
      "C:\\Users\\dai.STUDENTSDC\\AppData\\Local\\anaconda3\\Lib\\site-packages\\sklearn\\linear_model\\_logistic.py:469: ConvergenceWarning: lbfgs failed to converge (status=1):\n",
      "STOP: TOTAL NO. of ITERATIONS REACHED LIMIT.\n",
      "\n",
      "Increase the number of iterations (max_iter) or scale the data as shown in:\n",
      "    https://scikit-learn.org/stable/modules/preprocessing.html\n",
      "Please also refer to the documentation for alternative solver options:\n",
      "    https://scikit-learn.org/stable/modules/linear_model.html#logistic-regression\n",
      "  n_iter_i = _check_optimize_result(\n"
     ]
    },
    {
     "name": "stdout",
     "output_type": "stream",
     "text": [
      "[CV 2/5] END LR__C=3.158578947368421, LR__solver=lbfgs, SCL=None;, score=0.805 total time=   0.2s\n"
     ]
    },
    {
     "name": "stderr",
     "output_type": "stream",
     "text": [
      "C:\\Users\\dai.STUDENTSDC\\AppData\\Local\\anaconda3\\Lib\\site-packages\\sklearn\\linear_model\\_logistic.py:469: ConvergenceWarning: lbfgs failed to converge (status=1):\n",
      "STOP: TOTAL NO. of ITERATIONS REACHED LIMIT.\n",
      "\n",
      "Increase the number of iterations (max_iter) or scale the data as shown in:\n",
      "    https://scikit-learn.org/stable/modules/preprocessing.html\n",
      "Please also refer to the documentation for alternative solver options:\n",
      "    https://scikit-learn.org/stable/modules/linear_model.html#logistic-regression\n",
      "  n_iter_i = _check_optimize_result(\n"
     ]
    },
    {
     "name": "stdout",
     "output_type": "stream",
     "text": [
      "[CV 3/5] END LR__C=3.158578947368421, LR__solver=lbfgs, SCL=None;, score=0.815 total time=   0.2s\n"
     ]
    },
    {
     "name": "stderr",
     "output_type": "stream",
     "text": [
      "C:\\Users\\dai.STUDENTSDC\\AppData\\Local\\anaconda3\\Lib\\site-packages\\sklearn\\linear_model\\_logistic.py:469: ConvergenceWarning: lbfgs failed to converge (status=1):\n",
      "STOP: TOTAL NO. of ITERATIONS REACHED LIMIT.\n",
      "\n",
      "Increase the number of iterations (max_iter) or scale the data as shown in:\n",
      "    https://scikit-learn.org/stable/modules/preprocessing.html\n",
      "Please also refer to the documentation for alternative solver options:\n",
      "    https://scikit-learn.org/stable/modules/linear_model.html#logistic-regression\n",
      "  n_iter_i = _check_optimize_result(\n"
     ]
    },
    {
     "name": "stdout",
     "output_type": "stream",
     "text": [
      "[CV 4/5] END LR__C=3.158578947368421, LR__solver=lbfgs, SCL=None;, score=0.812 total time=   0.2s\n"
     ]
    },
    {
     "name": "stderr",
     "output_type": "stream",
     "text": [
      "C:\\Users\\dai.STUDENTSDC\\AppData\\Local\\anaconda3\\Lib\\site-packages\\sklearn\\linear_model\\_logistic.py:469: ConvergenceWarning: lbfgs failed to converge (status=1):\n",
      "STOP: TOTAL NO. of ITERATIONS REACHED LIMIT.\n",
      "\n",
      "Increase the number of iterations (max_iter) or scale the data as shown in:\n",
      "    https://scikit-learn.org/stable/modules/preprocessing.html\n",
      "Please also refer to the documentation for alternative solver options:\n",
      "    https://scikit-learn.org/stable/modules/linear_model.html#logistic-regression\n",
      "  n_iter_i = _check_optimize_result(\n"
     ]
    },
    {
     "name": "stdout",
     "output_type": "stream",
     "text": [
      "[CV 5/5] END LR__C=3.158578947368421, LR__solver=lbfgs, SCL=None;, score=0.821 total time=   0.2s\n",
      "[CV 1/5] END LR__C=3.158578947368421, LR__solver=liblinear, SCL=MinMaxScaler();, score=nan total time=   0.0s\n",
      "[CV 2/5] END LR__C=3.158578947368421, LR__solver=liblinear, SCL=MinMaxScaler();, score=nan total time=   0.0s\n",
      "[CV 3/5] END LR__C=3.158578947368421, LR__solver=liblinear, SCL=MinMaxScaler();, score=nan total time=   0.0s\n",
      "[CV 4/5] END LR__C=3.158578947368421, LR__solver=liblinear, SCL=MinMaxScaler();, score=nan total time=   0.0s\n",
      "[CV 5/5] END LR__C=3.158578947368421, LR__solver=liblinear, SCL=MinMaxScaler();, score=nan total time=   0.0s\n",
      "[CV 1/5] END LR__C=3.158578947368421, LR__solver=liblinear, SCL=StandardScaler();, score=nan total time=   0.0s\n",
      "[CV 2/5] END LR__C=3.158578947368421, LR__solver=liblinear, SCL=StandardScaler();, score=nan total time=   0.0s\n",
      "[CV 3/5] END LR__C=3.158578947368421, LR__solver=liblinear, SCL=StandardScaler();, score=nan total time=   0.0s\n",
      "[CV 4/5] END LR__C=3.158578947368421, LR__solver=liblinear, SCL=StandardScaler();, score=nan total time=   0.0s\n",
      "[CV 5/5] END LR__C=3.158578947368421, LR__solver=liblinear, SCL=StandardScaler();, score=nan total time=   0.0s\n",
      "[CV 1/5] END LR__C=3.158578947368421, LR__solver=liblinear, SCL=None;, score=nan total time=   0.0s\n",
      "[CV 2/5] END LR__C=3.158578947368421, LR__solver=liblinear, SCL=None;, score=nan total time=   0.0s\n",
      "[CV 3/5] END LR__C=3.158578947368421, LR__solver=liblinear, SCL=None;, score=nan total time=   0.0s\n",
      "[CV 4/5] END LR__C=3.158578947368421, LR__solver=liblinear, SCL=None;, score=nan total time=   0.0s\n",
      "[CV 5/5] END LR__C=3.158578947368421, LR__solver=liblinear, SCL=None;, score=nan total time=   0.0s\n",
      "[CV 1/5] END LR__C=3.158578947368421, LR__solver=newton-cg, SCL=MinMaxScaler();, score=0.821 total time=   0.0s\n",
      "[CV 2/5] END LR__C=3.158578947368421, LR__solver=newton-cg, SCL=MinMaxScaler();, score=0.810 total time=   0.0s\n",
      "[CV 3/5] END LR__C=3.158578947368421, LR__solver=newton-cg, SCL=MinMaxScaler();, score=0.825 total time=   0.0s\n",
      "[CV 4/5] END LR__C=3.158578947368421, LR__solver=newton-cg, SCL=MinMaxScaler();, score=0.816 total time=   0.0s\n",
      "[CV 5/5] END LR__C=3.158578947368421, LR__solver=newton-cg, SCL=MinMaxScaler();, score=0.827 total time=   0.0s\n",
      "[CV 1/5] END LR__C=3.158578947368421, LR__solver=newton-cg, SCL=StandardScaler();, score=0.821 total time=   0.0s\n",
      "[CV 2/5] END LR__C=3.158578947368421, LR__solver=newton-cg, SCL=StandardScaler();, score=0.810 total time=   0.0s\n",
      "[CV 3/5] END LR__C=3.158578947368421, LR__solver=newton-cg, SCL=StandardScaler();, score=0.825 total time=   0.0s\n",
      "[CV 4/5] END LR__C=3.158578947368421, LR__solver=newton-cg, SCL=StandardScaler();, score=0.816 total time=   0.0s\n",
      "[CV 5/5] END LR__C=3.158578947368421, LR__solver=newton-cg, SCL=StandardScaler();, score=0.827 total time=   0.0s\n",
      "[CV 1/5] END LR__C=3.158578947368421, LR__solver=newton-cg, SCL=None;, score=0.821 total time=   0.4s\n",
      "[CV 2/5] END LR__C=3.158578947368421, LR__solver=newton-cg, SCL=None;, score=0.810 total time=   0.4s\n",
      "[CV 3/5] END LR__C=3.158578947368421, LR__solver=newton-cg, SCL=None;, score=0.825 total time=   0.4s\n",
      "[CV 4/5] END LR__C=3.158578947368421, LR__solver=newton-cg, SCL=None;, score=0.816 total time=   0.5s\n",
      "[CV 5/5] END LR__C=3.158578947368421, LR__solver=newton-cg, SCL=None;, score=0.827 total time=   0.4s\n",
      "[CV 1/5] END LR__C=3.158578947368421, LR__solver=newton-cholesky, SCL=MinMaxScaler();, score=nan total time=   0.0s\n",
      "[CV 2/5] END LR__C=3.158578947368421, LR__solver=newton-cholesky, SCL=MinMaxScaler();, score=nan total time=   0.0s\n",
      "[CV 3/5] END LR__C=3.158578947368421, LR__solver=newton-cholesky, SCL=MinMaxScaler();, score=nan total time=   0.0s\n",
      "[CV 4/5] END LR__C=3.158578947368421, LR__solver=newton-cholesky, SCL=MinMaxScaler();, score=nan total time=   0.0s\n",
      "[CV 5/5] END LR__C=3.158578947368421, LR__solver=newton-cholesky, SCL=MinMaxScaler();, score=nan total time=   0.0s\n",
      "[CV 1/5] END LR__C=3.158578947368421, LR__solver=newton-cholesky, SCL=StandardScaler();, score=nan total time=   0.0s\n",
      "[CV 2/5] END LR__C=3.158578947368421, LR__solver=newton-cholesky, SCL=StandardScaler();, score=nan total time=   0.0s\n",
      "[CV 3/5] END LR__C=3.158578947368421, LR__solver=newton-cholesky, SCL=StandardScaler();, score=nan total time=   0.0s\n",
      "[CV 4/5] END LR__C=3.158578947368421, LR__solver=newton-cholesky, SCL=StandardScaler();, score=nan total time=   0.0s\n",
      "[CV 5/5] END LR__C=3.158578947368421, LR__solver=newton-cholesky, SCL=StandardScaler();, score=nan total time=   0.0s\n",
      "[CV 1/5] END LR__C=3.158578947368421, LR__solver=newton-cholesky, SCL=None;, score=nan total time=   0.0s\n",
      "[CV 2/5] END LR__C=3.158578947368421, LR__solver=newton-cholesky, SCL=None;, score=nan total time=   0.0s\n",
      "[CV 3/5] END LR__C=3.158578947368421, LR__solver=newton-cholesky, SCL=None;, score=nan total time=   0.0s\n",
      "[CV 4/5] END LR__C=3.158578947368421, LR__solver=newton-cholesky, SCL=None;, score=nan total time=   0.0s\n",
      "[CV 5/5] END LR__C=3.158578947368421, LR__solver=newton-cholesky, SCL=None;, score=nan total time=   0.0s\n",
      "[CV 1/5] END LR__C=3.158578947368421, LR__solver=sag, SCL=MinMaxScaler();, score=0.821 total time=   0.2s\n",
      "[CV 2/5] END LR__C=3.158578947368421, LR__solver=sag, SCL=MinMaxScaler();, score=0.810 total time=   0.3s\n",
      "[CV 3/5] END LR__C=3.158578947368421, LR__solver=sag, SCL=MinMaxScaler();, score=0.825 total time=   0.2s\n",
      "[CV 4/5] END LR__C=3.158578947368421, LR__solver=sag, SCL=MinMaxScaler();, score=0.816 total time=   0.2s\n",
      "[CV 5/5] END LR__C=3.158578947368421, LR__solver=sag, SCL=MinMaxScaler();, score=0.827 total time=   0.3s\n",
      "[CV 1/5] END LR__C=3.158578947368421, LR__solver=sag, SCL=StandardScaler();, score=0.821 total time=   0.2s\n",
      "[CV 2/5] END LR__C=3.158578947368421, LR__solver=sag, SCL=StandardScaler();, score=0.810 total time=   0.2s\n",
      "[CV 3/5] END LR__C=3.158578947368421, LR__solver=sag, SCL=StandardScaler();, score=0.825 total time=   0.2s\n",
      "[CV 4/5] END LR__C=3.158578947368421, LR__solver=sag, SCL=StandardScaler();, score=0.816 total time=   0.2s\n",
      "[CV 5/5] END LR__C=3.158578947368421, LR__solver=sag, SCL=StandardScaler();, score=0.827 total time=   0.2s\n"
     ]
    },
    {
     "name": "stderr",
     "output_type": "stream",
     "text": [
      "C:\\Users\\dai.STUDENTSDC\\AppData\\Local\\anaconda3\\Lib\\site-packages\\sklearn\\linear_model\\_sag.py:350: ConvergenceWarning: The max_iter was reached which means the coef_ did not converge\n",
      "  warnings.warn(\n"
     ]
    },
    {
     "name": "stdout",
     "output_type": "stream",
     "text": [
      "[CV 1/5] END LR__C=3.158578947368421, LR__solver=sag, SCL=None;, score=0.819 total time=   0.5s\n"
     ]
    },
    {
     "name": "stderr",
     "output_type": "stream",
     "text": [
      "C:\\Users\\dai.STUDENTSDC\\AppData\\Local\\anaconda3\\Lib\\site-packages\\sklearn\\linear_model\\_sag.py:350: ConvergenceWarning: The max_iter was reached which means the coef_ did not converge\n",
      "  warnings.warn(\n"
     ]
    },
    {
     "name": "stdout",
     "output_type": "stream",
     "text": [
      "[CV 2/5] END LR__C=3.158578947368421, LR__solver=sag, SCL=None;, score=0.802 total time=   0.5s\n"
     ]
    },
    {
     "name": "stderr",
     "output_type": "stream",
     "text": [
      "C:\\Users\\dai.STUDENTSDC\\AppData\\Local\\anaconda3\\Lib\\site-packages\\sklearn\\linear_model\\_sag.py:350: ConvergenceWarning: The max_iter was reached which means the coef_ did not converge\n",
      "  warnings.warn(\n"
     ]
    },
    {
     "name": "stdout",
     "output_type": "stream",
     "text": [
      "[CV 3/5] END LR__C=3.158578947368421, LR__solver=sag, SCL=None;, score=0.818 total time=   0.5s\n"
     ]
    },
    {
     "name": "stderr",
     "output_type": "stream",
     "text": [
      "C:\\Users\\dai.STUDENTSDC\\AppData\\Local\\anaconda3\\Lib\\site-packages\\sklearn\\linear_model\\_sag.py:350: ConvergenceWarning: The max_iter was reached which means the coef_ did not converge\n",
      "  warnings.warn(\n"
     ]
    },
    {
     "name": "stdout",
     "output_type": "stream",
     "text": [
      "[CV 4/5] END LR__C=3.158578947368421, LR__solver=sag, SCL=None;, score=0.813 total time=   0.5s\n"
     ]
    },
    {
     "name": "stderr",
     "output_type": "stream",
     "text": [
      "C:\\Users\\dai.STUDENTSDC\\AppData\\Local\\anaconda3\\Lib\\site-packages\\sklearn\\linear_model\\_sag.py:350: ConvergenceWarning: The max_iter was reached which means the coef_ did not converge\n",
      "  warnings.warn(\n"
     ]
    },
    {
     "name": "stdout",
     "output_type": "stream",
     "text": [
      "[CV 5/5] END LR__C=3.158578947368421, LR__solver=sag, SCL=None;, score=0.820 total time=   0.5s\n",
      "[CV 1/5] END LR__C=3.158578947368421, LR__solver=saga, SCL=MinMaxScaler();, score=0.821 total time=   0.1s\n",
      "[CV 2/5] END LR__C=3.158578947368421, LR__solver=saga, SCL=MinMaxScaler();, score=0.810 total time=   0.1s\n",
      "[CV 3/5] END LR__C=3.158578947368421, LR__solver=saga, SCL=MinMaxScaler();, score=0.825 total time=   0.1s\n",
      "[CV 4/5] END LR__C=3.158578947368421, LR__solver=saga, SCL=MinMaxScaler();, score=0.816 total time=   0.1s\n",
      "[CV 5/5] END LR__C=3.158578947368421, LR__solver=saga, SCL=MinMaxScaler();, score=0.827 total time=   0.1s\n",
      "[CV 1/5] END LR__C=3.158578947368421, LR__solver=saga, SCL=StandardScaler();, score=0.821 total time=   0.1s\n",
      "[CV 2/5] END LR__C=3.158578947368421, LR__solver=saga, SCL=StandardScaler();, score=0.810 total time=   0.1s\n",
      "[CV 3/5] END LR__C=3.158578947368421, LR__solver=saga, SCL=StandardScaler();, score=0.825 total time=   0.1s\n",
      "[CV 4/5] END LR__C=3.158578947368421, LR__solver=saga, SCL=StandardScaler();, score=0.816 total time=   0.1s\n",
      "[CV 5/5] END LR__C=3.158578947368421, LR__solver=saga, SCL=StandardScaler();, score=0.827 total time=   0.1s\n"
     ]
    },
    {
     "name": "stderr",
     "output_type": "stream",
     "text": [
      "C:\\Users\\dai.STUDENTSDC\\AppData\\Local\\anaconda3\\Lib\\site-packages\\sklearn\\linear_model\\_sag.py:350: ConvergenceWarning: The max_iter was reached which means the coef_ did not converge\n",
      "  warnings.warn(\n"
     ]
    },
    {
     "name": "stdout",
     "output_type": "stream",
     "text": [
      "[CV 1/5] END LR__C=3.158578947368421, LR__solver=saga, SCL=None;, score=0.812 total time=   0.5s\n"
     ]
    },
    {
     "name": "stderr",
     "output_type": "stream",
     "text": [
      "C:\\Users\\dai.STUDENTSDC\\AppData\\Local\\anaconda3\\Lib\\site-packages\\sklearn\\linear_model\\_sag.py:350: ConvergenceWarning: The max_iter was reached which means the coef_ did not converge\n",
      "  warnings.warn(\n"
     ]
    },
    {
     "name": "stdout",
     "output_type": "stream",
     "text": [
      "[CV 2/5] END LR__C=3.158578947368421, LR__solver=saga, SCL=None;, score=0.792 total time=   0.5s\n"
     ]
    },
    {
     "name": "stderr",
     "output_type": "stream",
     "text": [
      "C:\\Users\\dai.STUDENTSDC\\AppData\\Local\\anaconda3\\Lib\\site-packages\\sklearn\\linear_model\\_sag.py:350: ConvergenceWarning: The max_iter was reached which means the coef_ did not converge\n",
      "  warnings.warn(\n"
     ]
    },
    {
     "name": "stdout",
     "output_type": "stream",
     "text": [
      "[CV 3/5] END LR__C=3.158578947368421, LR__solver=saga, SCL=None;, score=0.812 total time=   0.5s\n"
     ]
    },
    {
     "name": "stderr",
     "output_type": "stream",
     "text": [
      "C:\\Users\\dai.STUDENTSDC\\AppData\\Local\\anaconda3\\Lib\\site-packages\\sklearn\\linear_model\\_sag.py:350: ConvergenceWarning: The max_iter was reached which means the coef_ did not converge\n",
      "  warnings.warn(\n"
     ]
    },
    {
     "name": "stdout",
     "output_type": "stream",
     "text": [
      "[CV 4/5] END LR__C=3.158578947368421, LR__solver=saga, SCL=None;, score=0.807 total time=   0.5s\n"
     ]
    },
    {
     "name": "stderr",
     "output_type": "stream",
     "text": [
      "C:\\Users\\dai.STUDENTSDC\\AppData\\Local\\anaconda3\\Lib\\site-packages\\sklearn\\linear_model\\_sag.py:350: ConvergenceWarning: The max_iter was reached which means the coef_ did not converge\n",
      "  warnings.warn(\n"
     ]
    },
    {
     "name": "stdout",
     "output_type": "stream",
     "text": [
      "[CV 5/5] END LR__C=3.158578947368421, LR__solver=saga, SCL=None;, score=0.814 total time=   0.5s\n",
      "[CV 1/5] END LR__C=3.684842105263158, LR__solver=lbfgs, SCL=MinMaxScaler();, score=0.821 total time=   0.0s\n",
      "[CV 2/5] END LR__C=3.684842105263158, LR__solver=lbfgs, SCL=MinMaxScaler();, score=0.810 total time=   0.0s\n",
      "[CV 3/5] END LR__C=3.684842105263158, LR__solver=lbfgs, SCL=MinMaxScaler();, score=0.825 total time=   0.0s\n",
      "[CV 4/5] END LR__C=3.684842105263158, LR__solver=lbfgs, SCL=MinMaxScaler();, score=0.816 total time=   0.0s\n",
      "[CV 5/5] END LR__C=3.684842105263158, LR__solver=lbfgs, SCL=MinMaxScaler();, score=0.827 total time=   0.0s\n",
      "[CV 1/5] END LR__C=3.684842105263158, LR__solver=lbfgs, SCL=StandardScaler();, score=0.821 total time=   0.0s\n",
      "[CV 2/5] END LR__C=3.684842105263158, LR__solver=lbfgs, SCL=StandardScaler();, score=0.810 total time=   0.0s\n",
      "[CV 3/5] END LR__C=3.684842105263158, LR__solver=lbfgs, SCL=StandardScaler();, score=0.825 total time=   0.0s\n",
      "[CV 4/5] END LR__C=3.684842105263158, LR__solver=lbfgs, SCL=StandardScaler();, score=0.816 total time=   0.0s\n",
      "[CV 5/5] END LR__C=3.684842105263158, LR__solver=lbfgs, SCL=StandardScaler();, score=0.827 total time=   0.0s\n"
     ]
    },
    {
     "name": "stderr",
     "output_type": "stream",
     "text": [
      "C:\\Users\\dai.STUDENTSDC\\AppData\\Local\\anaconda3\\Lib\\site-packages\\sklearn\\linear_model\\_logistic.py:469: ConvergenceWarning: lbfgs failed to converge (status=1):\n",
      "STOP: TOTAL NO. of ITERATIONS REACHED LIMIT.\n",
      "\n",
      "Increase the number of iterations (max_iter) or scale the data as shown in:\n",
      "    https://scikit-learn.org/stable/modules/preprocessing.html\n",
      "Please also refer to the documentation for alternative solver options:\n",
      "    https://scikit-learn.org/stable/modules/linear_model.html#logistic-regression\n",
      "  n_iter_i = _check_optimize_result(\n"
     ]
    },
    {
     "name": "stdout",
     "output_type": "stream",
     "text": [
      "[CV 1/5] END LR__C=3.684842105263158, LR__solver=lbfgs, SCL=None;, score=0.814 total time=   0.2s\n"
     ]
    },
    {
     "name": "stderr",
     "output_type": "stream",
     "text": [
      "C:\\Users\\dai.STUDENTSDC\\AppData\\Local\\anaconda3\\Lib\\site-packages\\sklearn\\linear_model\\_logistic.py:469: ConvergenceWarning: lbfgs failed to converge (status=1):\n",
      "STOP: TOTAL NO. of ITERATIONS REACHED LIMIT.\n",
      "\n",
      "Increase the number of iterations (max_iter) or scale the data as shown in:\n",
      "    https://scikit-learn.org/stable/modules/preprocessing.html\n",
      "Please also refer to the documentation for alternative solver options:\n",
      "    https://scikit-learn.org/stable/modules/linear_model.html#logistic-regression\n",
      "  n_iter_i = _check_optimize_result(\n"
     ]
    },
    {
     "name": "stdout",
     "output_type": "stream",
     "text": [
      "[CV 2/5] END LR__C=3.684842105263158, LR__solver=lbfgs, SCL=None;, score=0.804 total time=   0.2s\n"
     ]
    },
    {
     "name": "stderr",
     "output_type": "stream",
     "text": [
      "C:\\Users\\dai.STUDENTSDC\\AppData\\Local\\anaconda3\\Lib\\site-packages\\sklearn\\linear_model\\_logistic.py:469: ConvergenceWarning: lbfgs failed to converge (status=1):\n",
      "STOP: TOTAL NO. of ITERATIONS REACHED LIMIT.\n",
      "\n",
      "Increase the number of iterations (max_iter) or scale the data as shown in:\n",
      "    https://scikit-learn.org/stable/modules/preprocessing.html\n",
      "Please also refer to the documentation for alternative solver options:\n",
      "    https://scikit-learn.org/stable/modules/linear_model.html#logistic-regression\n",
      "  n_iter_i = _check_optimize_result(\n"
     ]
    },
    {
     "name": "stdout",
     "output_type": "stream",
     "text": [
      "[CV 3/5] END LR__C=3.684842105263158, LR__solver=lbfgs, SCL=None;, score=0.814 total time=   0.2s\n"
     ]
    },
    {
     "name": "stderr",
     "output_type": "stream",
     "text": [
      "C:\\Users\\dai.STUDENTSDC\\AppData\\Local\\anaconda3\\Lib\\site-packages\\sklearn\\linear_model\\_logistic.py:469: ConvergenceWarning: lbfgs failed to converge (status=1):\n",
      "STOP: TOTAL NO. of ITERATIONS REACHED LIMIT.\n",
      "\n",
      "Increase the number of iterations (max_iter) or scale the data as shown in:\n",
      "    https://scikit-learn.org/stable/modules/preprocessing.html\n",
      "Please also refer to the documentation for alternative solver options:\n",
      "    https://scikit-learn.org/stable/modules/linear_model.html#logistic-regression\n",
      "  n_iter_i = _check_optimize_result(\n"
     ]
    },
    {
     "name": "stdout",
     "output_type": "stream",
     "text": [
      "[CV 4/5] END LR__C=3.684842105263158, LR__solver=lbfgs, SCL=None;, score=0.810 total time=   0.2s\n"
     ]
    },
    {
     "name": "stderr",
     "output_type": "stream",
     "text": [
      "C:\\Users\\dai.STUDENTSDC\\AppData\\Local\\anaconda3\\Lib\\site-packages\\sklearn\\linear_model\\_logistic.py:469: ConvergenceWarning: lbfgs failed to converge (status=1):\n",
      "STOP: TOTAL NO. of ITERATIONS REACHED LIMIT.\n",
      "\n",
      "Increase the number of iterations (max_iter) or scale the data as shown in:\n",
      "    https://scikit-learn.org/stable/modules/preprocessing.html\n",
      "Please also refer to the documentation for alternative solver options:\n",
      "    https://scikit-learn.org/stable/modules/linear_model.html#logistic-regression\n",
      "  n_iter_i = _check_optimize_result(\n"
     ]
    },
    {
     "name": "stdout",
     "output_type": "stream",
     "text": [
      "[CV 5/5] END LR__C=3.684842105263158, LR__solver=lbfgs, SCL=None;, score=0.822 total time=   0.2s\n",
      "[CV 1/5] END LR__C=3.684842105263158, LR__solver=liblinear, SCL=MinMaxScaler();, score=nan total time=   0.0s\n",
      "[CV 2/5] END LR__C=3.684842105263158, LR__solver=liblinear, SCL=MinMaxScaler();, score=nan total time=   0.0s\n",
      "[CV 3/5] END LR__C=3.684842105263158, LR__solver=liblinear, SCL=MinMaxScaler();, score=nan total time=   0.0s\n",
      "[CV 4/5] END LR__C=3.684842105263158, LR__solver=liblinear, SCL=MinMaxScaler();, score=nan total time=   0.0s\n",
      "[CV 5/5] END LR__C=3.684842105263158, LR__solver=liblinear, SCL=MinMaxScaler();, score=nan total time=   0.0s\n",
      "[CV 1/5] END LR__C=3.684842105263158, LR__solver=liblinear, SCL=StandardScaler();, score=nan total time=   0.0s\n",
      "[CV 2/5] END LR__C=3.684842105263158, LR__solver=liblinear, SCL=StandardScaler();, score=nan total time=   0.0s\n",
      "[CV 3/5] END LR__C=3.684842105263158, LR__solver=liblinear, SCL=StandardScaler();, score=nan total time=   0.0s\n",
      "[CV 4/5] END LR__C=3.684842105263158, LR__solver=liblinear, SCL=StandardScaler();, score=nan total time=   0.0s\n",
      "[CV 5/5] END LR__C=3.684842105263158, LR__solver=liblinear, SCL=StandardScaler();, score=nan total time=   0.0s\n",
      "[CV 1/5] END LR__C=3.684842105263158, LR__solver=liblinear, SCL=None;, score=nan total time=   0.0s\n",
      "[CV 2/5] END LR__C=3.684842105263158, LR__solver=liblinear, SCL=None;, score=nan total time=   0.0s\n",
      "[CV 3/5] END LR__C=3.684842105263158, LR__solver=liblinear, SCL=None;, score=nan total time=   0.0s\n",
      "[CV 4/5] END LR__C=3.684842105263158, LR__solver=liblinear, SCL=None;, score=nan total time=   0.0s\n",
      "[CV 5/5] END LR__C=3.684842105263158, LR__solver=liblinear, SCL=None;, score=nan total time=   0.0s\n",
      "[CV 1/5] END LR__C=3.684842105263158, LR__solver=newton-cg, SCL=MinMaxScaler();, score=0.821 total time=   0.1s\n",
      "[CV 2/5] END LR__C=3.684842105263158, LR__solver=newton-cg, SCL=MinMaxScaler();, score=0.810 total time=   0.0s\n",
      "[CV 3/5] END LR__C=3.684842105263158, LR__solver=newton-cg, SCL=MinMaxScaler();, score=0.825 total time=   0.0s\n",
      "[CV 4/5] END LR__C=3.684842105263158, LR__solver=newton-cg, SCL=MinMaxScaler();, score=0.816 total time=   0.0s\n",
      "[CV 5/5] END LR__C=3.684842105263158, LR__solver=newton-cg, SCL=MinMaxScaler();, score=0.827 total time=   0.0s\n",
      "[CV 1/5] END LR__C=3.684842105263158, LR__solver=newton-cg, SCL=StandardScaler();, score=0.821 total time=   0.0s\n",
      "[CV 2/5] END LR__C=3.684842105263158, LR__solver=newton-cg, SCL=StandardScaler();, score=0.810 total time=   0.0s\n",
      "[CV 3/5] END LR__C=3.684842105263158, LR__solver=newton-cg, SCL=StandardScaler();, score=0.825 total time=   0.0s\n",
      "[CV 4/5] END LR__C=3.684842105263158, LR__solver=newton-cg, SCL=StandardScaler();, score=0.816 total time=   0.0s\n",
      "[CV 5/5] END LR__C=3.684842105263158, LR__solver=newton-cg, SCL=StandardScaler();, score=0.827 total time=   0.0s\n",
      "[CV 1/5] END LR__C=3.684842105263158, LR__solver=newton-cg, SCL=None;, score=0.821 total time=   0.4s\n",
      "[CV 2/5] END LR__C=3.684842105263158, LR__solver=newton-cg, SCL=None;, score=0.810 total time=   0.4s\n",
      "[CV 3/5] END LR__C=3.684842105263158, LR__solver=newton-cg, SCL=None;, score=0.825 total time=   0.4s\n",
      "[CV 4/5] END LR__C=3.684842105263158, LR__solver=newton-cg, SCL=None;, score=0.816 total time=   0.4s\n",
      "[CV 5/5] END LR__C=3.684842105263158, LR__solver=newton-cg, SCL=None;, score=0.827 total time=   0.4s\n",
      "[CV 1/5] END LR__C=3.684842105263158, LR__solver=newton-cholesky, SCL=MinMaxScaler();, score=nan total time=   0.0s\n",
      "[CV 2/5] END LR__C=3.684842105263158, LR__solver=newton-cholesky, SCL=MinMaxScaler();, score=nan total time=   0.0s\n",
      "[CV 3/5] END LR__C=3.684842105263158, LR__solver=newton-cholesky, SCL=MinMaxScaler();, score=nan total time=   0.0s\n",
      "[CV 4/5] END LR__C=3.684842105263158, LR__solver=newton-cholesky, SCL=MinMaxScaler();, score=nan total time=   0.0s\n",
      "[CV 5/5] END LR__C=3.684842105263158, LR__solver=newton-cholesky, SCL=MinMaxScaler();, score=nan total time=   0.0s\n",
      "[CV 1/5] END LR__C=3.684842105263158, LR__solver=newton-cholesky, SCL=StandardScaler();, score=nan total time=   0.0s\n",
      "[CV 2/5] END LR__C=3.684842105263158, LR__solver=newton-cholesky, SCL=StandardScaler();, score=nan total time=   0.0s\n",
      "[CV 3/5] END LR__C=3.684842105263158, LR__solver=newton-cholesky, SCL=StandardScaler();, score=nan total time=   0.0s\n",
      "[CV 4/5] END LR__C=3.684842105263158, LR__solver=newton-cholesky, SCL=StandardScaler();, score=nan total time=   0.0s\n",
      "[CV 5/5] END LR__C=3.684842105263158, LR__solver=newton-cholesky, SCL=StandardScaler();, score=nan total time=   0.0s\n",
      "[CV 1/5] END LR__C=3.684842105263158, LR__solver=newton-cholesky, SCL=None;, score=nan total time=   0.0s\n",
      "[CV 2/5] END LR__C=3.684842105263158, LR__solver=newton-cholesky, SCL=None;, score=nan total time=   0.0s\n",
      "[CV 3/5] END LR__C=3.684842105263158, LR__solver=newton-cholesky, SCL=None;, score=nan total time=   0.0s\n",
      "[CV 4/5] END LR__C=3.684842105263158, LR__solver=newton-cholesky, SCL=None;, score=nan total time=   0.0s\n",
      "[CV 5/5] END LR__C=3.684842105263158, LR__solver=newton-cholesky, SCL=None;, score=nan total time=   0.0s\n",
      "[CV 1/5] END LR__C=3.684842105263158, LR__solver=sag, SCL=MinMaxScaler();, score=0.821 total time=   0.2s\n",
      "[CV 2/5] END LR__C=3.684842105263158, LR__solver=sag, SCL=MinMaxScaler();, score=0.810 total time=   0.2s\n",
      "[CV 3/5] END LR__C=3.684842105263158, LR__solver=sag, SCL=MinMaxScaler();, score=0.825 total time=   0.2s\n",
      "[CV 4/5] END LR__C=3.684842105263158, LR__solver=sag, SCL=MinMaxScaler();, score=0.816 total time=   0.3s\n",
      "[CV 5/5] END LR__C=3.684842105263158, LR__solver=sag, SCL=MinMaxScaler();, score=0.827 total time=   0.4s\n",
      "[CV 1/5] END LR__C=3.684842105263158, LR__solver=sag, SCL=StandardScaler();, score=0.821 total time=   0.2s\n",
      "[CV 2/5] END LR__C=3.684842105263158, LR__solver=sag, SCL=StandardScaler();, score=0.810 total time=   0.1s\n",
      "[CV 3/5] END LR__C=3.684842105263158, LR__solver=sag, SCL=StandardScaler();, score=0.825 total time=   0.2s\n",
      "[CV 4/5] END LR__C=3.684842105263158, LR__solver=sag, SCL=StandardScaler();, score=0.816 total time=   0.2s\n",
      "[CV 5/5] END LR__C=3.684842105263158, LR__solver=sag, SCL=StandardScaler();, score=0.827 total time=   0.2s\n"
     ]
    },
    {
     "name": "stderr",
     "output_type": "stream",
     "text": [
      "C:\\Users\\dai.STUDENTSDC\\AppData\\Local\\anaconda3\\Lib\\site-packages\\sklearn\\linear_model\\_sag.py:350: ConvergenceWarning: The max_iter was reached which means the coef_ did not converge\n",
      "  warnings.warn(\n"
     ]
    },
    {
     "name": "stdout",
     "output_type": "stream",
     "text": [
      "[CV 1/5] END LR__C=3.684842105263158, LR__solver=sag, SCL=None;, score=0.819 total time=   0.5s\n"
     ]
    },
    {
     "name": "stderr",
     "output_type": "stream",
     "text": [
      "C:\\Users\\dai.STUDENTSDC\\AppData\\Local\\anaconda3\\Lib\\site-packages\\sklearn\\linear_model\\_sag.py:350: ConvergenceWarning: The max_iter was reached which means the coef_ did not converge\n",
      "  warnings.warn(\n"
     ]
    },
    {
     "name": "stdout",
     "output_type": "stream",
     "text": [
      "[CV 2/5] END LR__C=3.684842105263158, LR__solver=sag, SCL=None;, score=0.802 total time=   0.5s\n"
     ]
    },
    {
     "name": "stderr",
     "output_type": "stream",
     "text": [
      "C:\\Users\\dai.STUDENTSDC\\AppData\\Local\\anaconda3\\Lib\\site-packages\\sklearn\\linear_model\\_sag.py:350: ConvergenceWarning: The max_iter was reached which means the coef_ did not converge\n",
      "  warnings.warn(\n"
     ]
    },
    {
     "name": "stdout",
     "output_type": "stream",
     "text": [
      "[CV 3/5] END LR__C=3.684842105263158, LR__solver=sag, SCL=None;, score=0.818 total time=   0.5s\n"
     ]
    },
    {
     "name": "stderr",
     "output_type": "stream",
     "text": [
      "C:\\Users\\dai.STUDENTSDC\\AppData\\Local\\anaconda3\\Lib\\site-packages\\sklearn\\linear_model\\_sag.py:350: ConvergenceWarning: The max_iter was reached which means the coef_ did not converge\n",
      "  warnings.warn(\n"
     ]
    },
    {
     "name": "stdout",
     "output_type": "stream",
     "text": [
      "[CV 4/5] END LR__C=3.684842105263158, LR__solver=sag, SCL=None;, score=0.813 total time=   0.5s\n"
     ]
    },
    {
     "name": "stderr",
     "output_type": "stream",
     "text": [
      "C:\\Users\\dai.STUDENTSDC\\AppData\\Local\\anaconda3\\Lib\\site-packages\\sklearn\\linear_model\\_sag.py:350: ConvergenceWarning: The max_iter was reached which means the coef_ did not converge\n",
      "  warnings.warn(\n"
     ]
    },
    {
     "name": "stdout",
     "output_type": "stream",
     "text": [
      "[CV 5/5] END LR__C=3.684842105263158, LR__solver=sag, SCL=None;, score=0.820 total time=   0.5s\n",
      "[CV 1/5] END LR__C=3.684842105263158, LR__solver=saga, SCL=MinMaxScaler();, score=0.821 total time=   0.1s\n",
      "[CV 2/5] END LR__C=3.684842105263158, LR__solver=saga, SCL=MinMaxScaler();, score=0.810 total time=   0.1s\n",
      "[CV 3/5] END LR__C=3.684842105263158, LR__solver=saga, SCL=MinMaxScaler();, score=0.825 total time=   0.1s\n",
      "[CV 4/5] END LR__C=3.684842105263158, LR__solver=saga, SCL=MinMaxScaler();, score=0.816 total time=   0.1s\n",
      "[CV 5/5] END LR__C=3.684842105263158, LR__solver=saga, SCL=MinMaxScaler();, score=0.827 total time=   0.1s\n",
      "[CV 1/5] END LR__C=3.684842105263158, LR__solver=saga, SCL=StandardScaler();, score=0.821 total time=   0.1s\n",
      "[CV 2/5] END LR__C=3.684842105263158, LR__solver=saga, SCL=StandardScaler();, score=0.810 total time=   0.1s\n",
      "[CV 3/5] END LR__C=3.684842105263158, LR__solver=saga, SCL=StandardScaler();, score=0.825 total time=   0.1s\n",
      "[CV 4/5] END LR__C=3.684842105263158, LR__solver=saga, SCL=StandardScaler();, score=0.816 total time=   0.0s\n",
      "[CV 5/5] END LR__C=3.684842105263158, LR__solver=saga, SCL=StandardScaler();, score=0.827 total time=   0.1s\n"
     ]
    },
    {
     "name": "stderr",
     "output_type": "stream",
     "text": [
      "C:\\Users\\dai.STUDENTSDC\\AppData\\Local\\anaconda3\\Lib\\site-packages\\sklearn\\linear_model\\_sag.py:350: ConvergenceWarning: The max_iter was reached which means the coef_ did not converge\n",
      "  warnings.warn(\n"
     ]
    },
    {
     "name": "stdout",
     "output_type": "stream",
     "text": [
      "[CV 1/5] END LR__C=3.684842105263158, LR__solver=saga, SCL=None;, score=0.812 total time=   0.5s\n"
     ]
    },
    {
     "name": "stderr",
     "output_type": "stream",
     "text": [
      "C:\\Users\\dai.STUDENTSDC\\AppData\\Local\\anaconda3\\Lib\\site-packages\\sklearn\\linear_model\\_sag.py:350: ConvergenceWarning: The max_iter was reached which means the coef_ did not converge\n",
      "  warnings.warn(\n"
     ]
    },
    {
     "name": "stdout",
     "output_type": "stream",
     "text": [
      "[CV 2/5] END LR__C=3.684842105263158, LR__solver=saga, SCL=None;, score=0.792 total time=   0.5s\n"
     ]
    },
    {
     "name": "stderr",
     "output_type": "stream",
     "text": [
      "C:\\Users\\dai.STUDENTSDC\\AppData\\Local\\anaconda3\\Lib\\site-packages\\sklearn\\linear_model\\_sag.py:350: ConvergenceWarning: The max_iter was reached which means the coef_ did not converge\n",
      "  warnings.warn(\n"
     ]
    },
    {
     "name": "stdout",
     "output_type": "stream",
     "text": [
      "[CV 3/5] END LR__C=3.684842105263158, LR__solver=saga, SCL=None;, score=0.812 total time=   0.5s\n"
     ]
    },
    {
     "name": "stderr",
     "output_type": "stream",
     "text": [
      "C:\\Users\\dai.STUDENTSDC\\AppData\\Local\\anaconda3\\Lib\\site-packages\\sklearn\\linear_model\\_sag.py:350: ConvergenceWarning: The max_iter was reached which means the coef_ did not converge\n",
      "  warnings.warn(\n"
     ]
    },
    {
     "name": "stdout",
     "output_type": "stream",
     "text": [
      "[CV 4/5] END LR__C=3.684842105263158, LR__solver=saga, SCL=None;, score=0.807 total time=   0.5s\n"
     ]
    },
    {
     "name": "stderr",
     "output_type": "stream",
     "text": [
      "C:\\Users\\dai.STUDENTSDC\\AppData\\Local\\anaconda3\\Lib\\site-packages\\sklearn\\linear_model\\_sag.py:350: ConvergenceWarning: The max_iter was reached which means the coef_ did not converge\n",
      "  warnings.warn(\n"
     ]
    },
    {
     "name": "stdout",
     "output_type": "stream",
     "text": [
      "[CV 5/5] END LR__C=3.684842105263158, LR__solver=saga, SCL=None;, score=0.814 total time=   0.5s\n",
      "[CV 1/5] END LR__C=4.211105263157895, LR__solver=lbfgs, SCL=MinMaxScaler();, score=0.821 total time=   0.0s\n",
      "[CV 2/5] END LR__C=4.211105263157895, LR__solver=lbfgs, SCL=MinMaxScaler();, score=0.810 total time=   0.0s\n",
      "[CV 3/5] END LR__C=4.211105263157895, LR__solver=lbfgs, SCL=MinMaxScaler();, score=0.825 total time=   0.0s\n",
      "[CV 4/5] END LR__C=4.211105263157895, LR__solver=lbfgs, SCL=MinMaxScaler();, score=0.816 total time=   0.0s\n",
      "[CV 5/5] END LR__C=4.211105263157895, LR__solver=lbfgs, SCL=MinMaxScaler();, score=0.827 total time=   0.0s\n",
      "[CV 1/5] END LR__C=4.211105263157895, LR__solver=lbfgs, SCL=StandardScaler();, score=0.821 total time=   0.0s\n",
      "[CV 2/5] END LR__C=4.211105263157895, LR__solver=lbfgs, SCL=StandardScaler();, score=0.810 total time=   0.0s\n",
      "[CV 3/5] END LR__C=4.211105263157895, LR__solver=lbfgs, SCL=StandardScaler();, score=0.825 total time=   0.0s\n",
      "[CV 4/5] END LR__C=4.211105263157895, LR__solver=lbfgs, SCL=StandardScaler();, score=0.816 total time=   0.0s\n",
      "[CV 5/5] END LR__C=4.211105263157895, LR__solver=lbfgs, SCL=StandardScaler();, score=0.827 total time=   0.0s\n"
     ]
    },
    {
     "name": "stderr",
     "output_type": "stream",
     "text": [
      "C:\\Users\\dai.STUDENTSDC\\AppData\\Local\\anaconda3\\Lib\\site-packages\\sklearn\\linear_model\\_logistic.py:469: ConvergenceWarning: lbfgs failed to converge (status=1):\n",
      "STOP: TOTAL NO. of ITERATIONS REACHED LIMIT.\n",
      "\n",
      "Increase the number of iterations (max_iter) or scale the data as shown in:\n",
      "    https://scikit-learn.org/stable/modules/preprocessing.html\n",
      "Please also refer to the documentation for alternative solver options:\n",
      "    https://scikit-learn.org/stable/modules/linear_model.html#logistic-regression\n",
      "  n_iter_i = _check_optimize_result(\n"
     ]
    },
    {
     "name": "stdout",
     "output_type": "stream",
     "text": [
      "[CV 1/5] END LR__C=4.211105263157895, LR__solver=lbfgs, SCL=None;, score=0.813 total time=   0.2s\n"
     ]
    },
    {
     "name": "stderr",
     "output_type": "stream",
     "text": [
      "C:\\Users\\dai.STUDENTSDC\\AppData\\Local\\anaconda3\\Lib\\site-packages\\sklearn\\linear_model\\_logistic.py:469: ConvergenceWarning: lbfgs failed to converge (status=1):\n",
      "STOP: TOTAL NO. of ITERATIONS REACHED LIMIT.\n",
      "\n",
      "Increase the number of iterations (max_iter) or scale the data as shown in:\n",
      "    https://scikit-learn.org/stable/modules/preprocessing.html\n",
      "Please also refer to the documentation for alternative solver options:\n",
      "    https://scikit-learn.org/stable/modules/linear_model.html#logistic-regression\n",
      "  n_iter_i = _check_optimize_result(\n"
     ]
    },
    {
     "name": "stdout",
     "output_type": "stream",
     "text": [
      "[CV 2/5] END LR__C=4.211105263157895, LR__solver=lbfgs, SCL=None;, score=0.805 total time=   0.2s\n"
     ]
    },
    {
     "name": "stderr",
     "output_type": "stream",
     "text": [
      "C:\\Users\\dai.STUDENTSDC\\AppData\\Local\\anaconda3\\Lib\\site-packages\\sklearn\\linear_model\\_logistic.py:469: ConvergenceWarning: lbfgs failed to converge (status=1):\n",
      "STOP: TOTAL NO. of ITERATIONS REACHED LIMIT.\n",
      "\n",
      "Increase the number of iterations (max_iter) or scale the data as shown in:\n",
      "    https://scikit-learn.org/stable/modules/preprocessing.html\n",
      "Please also refer to the documentation for alternative solver options:\n",
      "    https://scikit-learn.org/stable/modules/linear_model.html#logistic-regression\n",
      "  n_iter_i = _check_optimize_result(\n"
     ]
    },
    {
     "name": "stdout",
     "output_type": "stream",
     "text": [
      "[CV 3/5] END LR__C=4.211105263157895, LR__solver=lbfgs, SCL=None;, score=0.814 total time=   0.2s\n"
     ]
    },
    {
     "name": "stderr",
     "output_type": "stream",
     "text": [
      "C:\\Users\\dai.STUDENTSDC\\AppData\\Local\\anaconda3\\Lib\\site-packages\\sklearn\\linear_model\\_logistic.py:469: ConvergenceWarning: lbfgs failed to converge (status=1):\n",
      "STOP: TOTAL NO. of ITERATIONS REACHED LIMIT.\n",
      "\n",
      "Increase the number of iterations (max_iter) or scale the data as shown in:\n",
      "    https://scikit-learn.org/stable/modules/preprocessing.html\n",
      "Please also refer to the documentation for alternative solver options:\n",
      "    https://scikit-learn.org/stable/modules/linear_model.html#logistic-regression\n",
      "  n_iter_i = _check_optimize_result(\n"
     ]
    },
    {
     "name": "stdout",
     "output_type": "stream",
     "text": [
      "[CV 4/5] END LR__C=4.211105263157895, LR__solver=lbfgs, SCL=None;, score=0.812 total time=   0.2s\n"
     ]
    },
    {
     "name": "stderr",
     "output_type": "stream",
     "text": [
      "C:\\Users\\dai.STUDENTSDC\\AppData\\Local\\anaconda3\\Lib\\site-packages\\sklearn\\linear_model\\_logistic.py:469: ConvergenceWarning: lbfgs failed to converge (status=1):\n",
      "STOP: TOTAL NO. of ITERATIONS REACHED LIMIT.\n",
      "\n",
      "Increase the number of iterations (max_iter) or scale the data as shown in:\n",
      "    https://scikit-learn.org/stable/modules/preprocessing.html\n",
      "Please also refer to the documentation for alternative solver options:\n",
      "    https://scikit-learn.org/stable/modules/linear_model.html#logistic-regression\n",
      "  n_iter_i = _check_optimize_result(\n"
     ]
    },
    {
     "name": "stdout",
     "output_type": "stream",
     "text": [
      "[CV 5/5] END LR__C=4.211105263157895, LR__solver=lbfgs, SCL=None;, score=0.821 total time=   0.2s\n",
      "[CV 1/5] END LR__C=4.211105263157895, LR__solver=liblinear, SCL=MinMaxScaler();, score=nan total time=   0.0s\n",
      "[CV 2/5] END LR__C=4.211105263157895, LR__solver=liblinear, SCL=MinMaxScaler();, score=nan total time=   0.0s\n",
      "[CV 3/5] END LR__C=4.211105263157895, LR__solver=liblinear, SCL=MinMaxScaler();, score=nan total time=   0.0s\n",
      "[CV 4/5] END LR__C=4.211105263157895, LR__solver=liblinear, SCL=MinMaxScaler();, score=nan total time=   0.0s\n",
      "[CV 5/5] END LR__C=4.211105263157895, LR__solver=liblinear, SCL=MinMaxScaler();, score=nan total time=   0.0s\n",
      "[CV 1/5] END LR__C=4.211105263157895, LR__solver=liblinear, SCL=StandardScaler();, score=nan total time=   0.0s\n",
      "[CV 2/5] END LR__C=4.211105263157895, LR__solver=liblinear, SCL=StandardScaler();, score=nan total time=   0.0s\n",
      "[CV 3/5] END LR__C=4.211105263157895, LR__solver=liblinear, SCL=StandardScaler();, score=nan total time=   0.0s\n",
      "[CV 4/5] END LR__C=4.211105263157895, LR__solver=liblinear, SCL=StandardScaler();, score=nan total time=   0.0s\n",
      "[CV 5/5] END LR__C=4.211105263157895, LR__solver=liblinear, SCL=StandardScaler();, score=nan total time=   0.0s\n",
      "[CV 1/5] END LR__C=4.211105263157895, LR__solver=liblinear, SCL=None;, score=nan total time=   0.0s\n",
      "[CV 2/5] END LR__C=4.211105263157895, LR__solver=liblinear, SCL=None;, score=nan total time=   0.0s\n",
      "[CV 3/5] END LR__C=4.211105263157895, LR__solver=liblinear, SCL=None;, score=nan total time=   0.0s\n",
      "[CV 4/5] END LR__C=4.211105263157895, LR__solver=liblinear, SCL=None;, score=nan total time=   0.0s\n",
      "[CV 5/5] END LR__C=4.211105263157895, LR__solver=liblinear, SCL=None;, score=nan total time=   0.0s\n",
      "[CV 1/5] END LR__C=4.211105263157895, LR__solver=newton-cg, SCL=MinMaxScaler();, score=0.821 total time=   0.0s\n",
      "[CV 2/5] END LR__C=4.211105263157895, LR__solver=newton-cg, SCL=MinMaxScaler();, score=0.810 total time=   0.0s\n",
      "[CV 3/5] END LR__C=4.211105263157895, LR__solver=newton-cg, SCL=MinMaxScaler();, score=0.825 total time=   0.0s\n",
      "[CV 4/5] END LR__C=4.211105263157895, LR__solver=newton-cg, SCL=MinMaxScaler();, score=0.816 total time=   0.0s\n",
      "[CV 5/5] END LR__C=4.211105263157895, LR__solver=newton-cg, SCL=MinMaxScaler();, score=0.827 total time=   0.0s\n",
      "[CV 1/5] END LR__C=4.211105263157895, LR__solver=newton-cg, SCL=StandardScaler();, score=0.821 total time=   0.0s\n",
      "[CV 2/5] END LR__C=4.211105263157895, LR__solver=newton-cg, SCL=StandardScaler();, score=0.810 total time=   0.0s\n",
      "[CV 3/5] END LR__C=4.211105263157895, LR__solver=newton-cg, SCL=StandardScaler();, score=0.825 total time=   0.0s\n",
      "[CV 4/5] END LR__C=4.211105263157895, LR__solver=newton-cg, SCL=StandardScaler();, score=0.816 total time=   0.0s\n",
      "[CV 5/5] END LR__C=4.211105263157895, LR__solver=newton-cg, SCL=StandardScaler();, score=0.827 total time=   0.0s\n",
      "[CV 1/5] END LR__C=4.211105263157895, LR__solver=newton-cg, SCL=None;, score=0.821 total time=   0.4s\n",
      "[CV 2/5] END LR__C=4.211105263157895, LR__solver=newton-cg, SCL=None;, score=0.810 total time=   0.5s\n",
      "[CV 3/5] END LR__C=4.211105263157895, LR__solver=newton-cg, SCL=None;, score=0.825 total time=   0.3s\n",
      "[CV 4/5] END LR__C=4.211105263157895, LR__solver=newton-cg, SCL=None;, score=0.816 total time=   0.5s\n",
      "[CV 5/5] END LR__C=4.211105263157895, LR__solver=newton-cg, SCL=None;, score=0.827 total time=   0.4s\n",
      "[CV 1/5] END LR__C=4.211105263157895, LR__solver=newton-cholesky, SCL=MinMaxScaler();, score=nan total time=   0.0s\n",
      "[CV 2/5] END LR__C=4.211105263157895, LR__solver=newton-cholesky, SCL=MinMaxScaler();, score=nan total time=   0.0s\n",
      "[CV 3/5] END LR__C=4.211105263157895, LR__solver=newton-cholesky, SCL=MinMaxScaler();, score=nan total time=   0.0s\n",
      "[CV 4/5] END LR__C=4.211105263157895, LR__solver=newton-cholesky, SCL=MinMaxScaler();, score=nan total time=   0.0s\n",
      "[CV 5/5] END LR__C=4.211105263157895, LR__solver=newton-cholesky, SCL=MinMaxScaler();, score=nan total time=   0.0s\n",
      "[CV 1/5] END LR__C=4.211105263157895, LR__solver=newton-cholesky, SCL=StandardScaler();, score=nan total time=   0.0s\n",
      "[CV 2/5] END LR__C=4.211105263157895, LR__solver=newton-cholesky, SCL=StandardScaler();, score=nan total time=   0.0s\n",
      "[CV 3/5] END LR__C=4.211105263157895, LR__solver=newton-cholesky, SCL=StandardScaler();, score=nan total time=   0.0s\n",
      "[CV 4/5] END LR__C=4.211105263157895, LR__solver=newton-cholesky, SCL=StandardScaler();, score=nan total time=   0.0s\n",
      "[CV 5/5] END LR__C=4.211105263157895, LR__solver=newton-cholesky, SCL=StandardScaler();, score=nan total time=   0.0s\n",
      "[CV 1/5] END LR__C=4.211105263157895, LR__solver=newton-cholesky, SCL=None;, score=nan total time=   0.0s\n",
      "[CV 2/5] END LR__C=4.211105263157895, LR__solver=newton-cholesky, SCL=None;, score=nan total time=   0.0s\n",
      "[CV 3/5] END LR__C=4.211105263157895, LR__solver=newton-cholesky, SCL=None;, score=nan total time=   0.0s\n",
      "[CV 4/5] END LR__C=4.211105263157895, LR__solver=newton-cholesky, SCL=None;, score=nan total time=   0.0s\n",
      "[CV 5/5] END LR__C=4.211105263157895, LR__solver=newton-cholesky, SCL=None;, score=nan total time=   0.0s\n",
      "[CV 1/5] END LR__C=4.211105263157895, LR__solver=sag, SCL=MinMaxScaler();, score=0.821 total time=   0.2s\n",
      "[CV 2/5] END LR__C=4.211105263157895, LR__solver=sag, SCL=MinMaxScaler();, score=0.810 total time=   0.3s\n",
      "[CV 3/5] END LR__C=4.211105263157895, LR__solver=sag, SCL=MinMaxScaler();, score=0.825 total time=   0.2s\n",
      "[CV 4/5] END LR__C=4.211105263157895, LR__solver=sag, SCL=MinMaxScaler();, score=0.816 total time=   0.3s\n",
      "[CV 5/5] END LR__C=4.211105263157895, LR__solver=sag, SCL=MinMaxScaler();, score=0.827 total time=   0.4s\n",
      "[CV 1/5] END LR__C=4.211105263157895, LR__solver=sag, SCL=StandardScaler();, score=0.821 total time=   0.2s\n",
      "[CV 2/5] END LR__C=4.211105263157895, LR__solver=sag, SCL=StandardScaler();, score=0.810 total time=   0.2s\n",
      "[CV 3/5] END LR__C=4.211105263157895, LR__solver=sag, SCL=StandardScaler();, score=0.825 total time=   0.2s\n",
      "[CV 4/5] END LR__C=4.211105263157895, LR__solver=sag, SCL=StandardScaler();, score=0.816 total time=   0.2s\n",
      "[CV 5/5] END LR__C=4.211105263157895, LR__solver=sag, SCL=StandardScaler();, score=0.827 total time=   0.2s\n"
     ]
    },
    {
     "name": "stderr",
     "output_type": "stream",
     "text": [
      "C:\\Users\\dai.STUDENTSDC\\AppData\\Local\\anaconda3\\Lib\\site-packages\\sklearn\\linear_model\\_sag.py:350: ConvergenceWarning: The max_iter was reached which means the coef_ did not converge\n",
      "  warnings.warn(\n"
     ]
    },
    {
     "name": "stdout",
     "output_type": "stream",
     "text": [
      "[CV 1/5] END LR__C=4.211105263157895, LR__solver=sag, SCL=None;, score=0.819 total time=   0.5s\n"
     ]
    },
    {
     "name": "stderr",
     "output_type": "stream",
     "text": [
      "C:\\Users\\dai.STUDENTSDC\\AppData\\Local\\anaconda3\\Lib\\site-packages\\sklearn\\linear_model\\_sag.py:350: ConvergenceWarning: The max_iter was reached which means the coef_ did not converge\n",
      "  warnings.warn(\n"
     ]
    },
    {
     "name": "stdout",
     "output_type": "stream",
     "text": [
      "[CV 2/5] END LR__C=4.211105263157895, LR__solver=sag, SCL=None;, score=0.802 total time=   0.4s\n"
     ]
    },
    {
     "name": "stderr",
     "output_type": "stream",
     "text": [
      "C:\\Users\\dai.STUDENTSDC\\AppData\\Local\\anaconda3\\Lib\\site-packages\\sklearn\\linear_model\\_sag.py:350: ConvergenceWarning: The max_iter was reached which means the coef_ did not converge\n",
      "  warnings.warn(\n"
     ]
    },
    {
     "name": "stdout",
     "output_type": "stream",
     "text": [
      "[CV 3/5] END LR__C=4.211105263157895, LR__solver=sag, SCL=None;, score=0.818 total time=   0.5s\n"
     ]
    },
    {
     "name": "stderr",
     "output_type": "stream",
     "text": [
      "C:\\Users\\dai.STUDENTSDC\\AppData\\Local\\anaconda3\\Lib\\site-packages\\sklearn\\linear_model\\_sag.py:350: ConvergenceWarning: The max_iter was reached which means the coef_ did not converge\n",
      "  warnings.warn(\n"
     ]
    },
    {
     "name": "stdout",
     "output_type": "stream",
     "text": [
      "[CV 4/5] END LR__C=4.211105263157895, LR__solver=sag, SCL=None;, score=0.813 total time=   0.5s\n"
     ]
    },
    {
     "name": "stderr",
     "output_type": "stream",
     "text": [
      "C:\\Users\\dai.STUDENTSDC\\AppData\\Local\\anaconda3\\Lib\\site-packages\\sklearn\\linear_model\\_sag.py:350: ConvergenceWarning: The max_iter was reached which means the coef_ did not converge\n",
      "  warnings.warn(\n"
     ]
    },
    {
     "name": "stdout",
     "output_type": "stream",
     "text": [
      "[CV 5/5] END LR__C=4.211105263157895, LR__solver=sag, SCL=None;, score=0.820 total time=   0.5s\n",
      "[CV 1/5] END LR__C=4.211105263157895, LR__solver=saga, SCL=MinMaxScaler();, score=0.821 total time=   0.1s\n",
      "[CV 2/5] END LR__C=4.211105263157895, LR__solver=saga, SCL=MinMaxScaler();, score=0.810 total time=   0.1s\n",
      "[CV 3/5] END LR__C=4.211105263157895, LR__solver=saga, SCL=MinMaxScaler();, score=0.825 total time=   0.1s\n",
      "[CV 4/5] END LR__C=4.211105263157895, LR__solver=saga, SCL=MinMaxScaler();, score=0.816 total time=   0.1s\n",
      "[CV 5/5] END LR__C=4.211105263157895, LR__solver=saga, SCL=MinMaxScaler();, score=0.827 total time=   0.1s\n",
      "[CV 1/5] END LR__C=4.211105263157895, LR__solver=saga, SCL=StandardScaler();, score=0.821 total time=   0.1s\n",
      "[CV 2/5] END LR__C=4.211105263157895, LR__solver=saga, SCL=StandardScaler();, score=0.810 total time=   0.1s\n",
      "[CV 3/5] END LR__C=4.211105263157895, LR__solver=saga, SCL=StandardScaler();, score=0.825 total time=   0.1s\n",
      "[CV 4/5] END LR__C=4.211105263157895, LR__solver=saga, SCL=StandardScaler();, score=0.816 total time=   0.1s\n",
      "[CV 5/5] END LR__C=4.211105263157895, LR__solver=saga, SCL=StandardScaler();, score=0.827 total time=   0.1s\n"
     ]
    },
    {
     "name": "stderr",
     "output_type": "stream",
     "text": [
      "C:\\Users\\dai.STUDENTSDC\\AppData\\Local\\anaconda3\\Lib\\site-packages\\sklearn\\linear_model\\_sag.py:350: ConvergenceWarning: The max_iter was reached which means the coef_ did not converge\n",
      "  warnings.warn(\n"
     ]
    },
    {
     "name": "stdout",
     "output_type": "stream",
     "text": [
      "[CV 1/5] END LR__C=4.211105263157895, LR__solver=saga, SCL=None;, score=0.812 total time=   0.5s\n"
     ]
    },
    {
     "name": "stderr",
     "output_type": "stream",
     "text": [
      "C:\\Users\\dai.STUDENTSDC\\AppData\\Local\\anaconda3\\Lib\\site-packages\\sklearn\\linear_model\\_sag.py:350: ConvergenceWarning: The max_iter was reached which means the coef_ did not converge\n",
      "  warnings.warn(\n"
     ]
    },
    {
     "name": "stdout",
     "output_type": "stream",
     "text": [
      "[CV 2/5] END LR__C=4.211105263157895, LR__solver=saga, SCL=None;, score=0.792 total time=   0.5s\n"
     ]
    },
    {
     "name": "stderr",
     "output_type": "stream",
     "text": [
      "C:\\Users\\dai.STUDENTSDC\\AppData\\Local\\anaconda3\\Lib\\site-packages\\sklearn\\linear_model\\_sag.py:350: ConvergenceWarning: The max_iter was reached which means the coef_ did not converge\n",
      "  warnings.warn(\n"
     ]
    },
    {
     "name": "stdout",
     "output_type": "stream",
     "text": [
      "[CV 3/5] END LR__C=4.211105263157895, LR__solver=saga, SCL=None;, score=0.812 total time=   0.5s\n"
     ]
    },
    {
     "name": "stderr",
     "output_type": "stream",
     "text": [
      "C:\\Users\\dai.STUDENTSDC\\AppData\\Local\\anaconda3\\Lib\\site-packages\\sklearn\\linear_model\\_sag.py:350: ConvergenceWarning: The max_iter was reached which means the coef_ did not converge\n",
      "  warnings.warn(\n"
     ]
    },
    {
     "name": "stdout",
     "output_type": "stream",
     "text": [
      "[CV 4/5] END LR__C=4.211105263157895, LR__solver=saga, SCL=None;, score=0.807 total time=   0.5s\n"
     ]
    },
    {
     "name": "stderr",
     "output_type": "stream",
     "text": [
      "C:\\Users\\dai.STUDENTSDC\\AppData\\Local\\anaconda3\\Lib\\site-packages\\sklearn\\linear_model\\_sag.py:350: ConvergenceWarning: The max_iter was reached which means the coef_ did not converge\n",
      "  warnings.warn(\n"
     ]
    },
    {
     "name": "stdout",
     "output_type": "stream",
     "text": [
      "[CV 5/5] END LR__C=4.211105263157895, LR__solver=saga, SCL=None;, score=0.814 total time=   0.5s\n",
      "[CV 1/5] END LR__C=4.737368421052632, LR__solver=lbfgs, SCL=MinMaxScaler();, score=0.821 total time=   0.1s\n",
      "[CV 2/5] END LR__C=4.737368421052632, LR__solver=lbfgs, SCL=MinMaxScaler();, score=0.810 total time=   0.0s\n",
      "[CV 3/5] END LR__C=4.737368421052632, LR__solver=lbfgs, SCL=MinMaxScaler();, score=0.825 total time=   0.0s\n",
      "[CV 4/5] END LR__C=4.737368421052632, LR__solver=lbfgs, SCL=MinMaxScaler();, score=0.816 total time=   0.0s\n",
      "[CV 5/5] END LR__C=4.737368421052632, LR__solver=lbfgs, SCL=MinMaxScaler();, score=0.827 total time=   0.0s\n",
      "[CV 1/5] END LR__C=4.737368421052632, LR__solver=lbfgs, SCL=StandardScaler();, score=0.821 total time=   0.0s\n",
      "[CV 2/5] END LR__C=4.737368421052632, LR__solver=lbfgs, SCL=StandardScaler();, score=0.810 total time=   0.0s\n",
      "[CV 3/5] END LR__C=4.737368421052632, LR__solver=lbfgs, SCL=StandardScaler();, score=0.825 total time=   0.0s\n",
      "[CV 4/5] END LR__C=4.737368421052632, LR__solver=lbfgs, SCL=StandardScaler();, score=0.816 total time=   0.0s\n",
      "[CV 5/5] END LR__C=4.737368421052632, LR__solver=lbfgs, SCL=StandardScaler();, score=0.827 total time=   0.0s\n"
     ]
    },
    {
     "name": "stderr",
     "output_type": "stream",
     "text": [
      "C:\\Users\\dai.STUDENTSDC\\AppData\\Local\\anaconda3\\Lib\\site-packages\\sklearn\\linear_model\\_logistic.py:469: ConvergenceWarning: lbfgs failed to converge (status=1):\n",
      "STOP: TOTAL NO. of ITERATIONS REACHED LIMIT.\n",
      "\n",
      "Increase the number of iterations (max_iter) or scale the data as shown in:\n",
      "    https://scikit-learn.org/stable/modules/preprocessing.html\n",
      "Please also refer to the documentation for alternative solver options:\n",
      "    https://scikit-learn.org/stable/modules/linear_model.html#logistic-regression\n",
      "  n_iter_i = _check_optimize_result(\n"
     ]
    },
    {
     "name": "stdout",
     "output_type": "stream",
     "text": [
      "[CV 1/5] END LR__C=4.737368421052632, LR__solver=lbfgs, SCL=None;, score=0.813 total time=   0.2s\n"
     ]
    },
    {
     "name": "stderr",
     "output_type": "stream",
     "text": [
      "C:\\Users\\dai.STUDENTSDC\\AppData\\Local\\anaconda3\\Lib\\site-packages\\sklearn\\linear_model\\_logistic.py:469: ConvergenceWarning: lbfgs failed to converge (status=1):\n",
      "STOP: TOTAL NO. of ITERATIONS REACHED LIMIT.\n",
      "\n",
      "Increase the number of iterations (max_iter) or scale the data as shown in:\n",
      "    https://scikit-learn.org/stable/modules/preprocessing.html\n",
      "Please also refer to the documentation for alternative solver options:\n",
      "    https://scikit-learn.org/stable/modules/linear_model.html#logistic-regression\n",
      "  n_iter_i = _check_optimize_result(\n"
     ]
    },
    {
     "name": "stdout",
     "output_type": "stream",
     "text": [
      "[CV 2/5] END LR__C=4.737368421052632, LR__solver=lbfgs, SCL=None;, score=0.805 total time=   0.2s\n"
     ]
    },
    {
     "name": "stderr",
     "output_type": "stream",
     "text": [
      "C:\\Users\\dai.STUDENTSDC\\AppData\\Local\\anaconda3\\Lib\\site-packages\\sklearn\\linear_model\\_logistic.py:469: ConvergenceWarning: lbfgs failed to converge (status=1):\n",
      "STOP: TOTAL NO. of ITERATIONS REACHED LIMIT.\n",
      "\n",
      "Increase the number of iterations (max_iter) or scale the data as shown in:\n",
      "    https://scikit-learn.org/stable/modules/preprocessing.html\n",
      "Please also refer to the documentation for alternative solver options:\n",
      "    https://scikit-learn.org/stable/modules/linear_model.html#logistic-regression\n",
      "  n_iter_i = _check_optimize_result(\n"
     ]
    },
    {
     "name": "stdout",
     "output_type": "stream",
     "text": [
      "[CV 3/5] END LR__C=4.737368421052632, LR__solver=lbfgs, SCL=None;, score=0.814 total time=   0.2s\n"
     ]
    },
    {
     "name": "stderr",
     "output_type": "stream",
     "text": [
      "C:\\Users\\dai.STUDENTSDC\\AppData\\Local\\anaconda3\\Lib\\site-packages\\sklearn\\linear_model\\_logistic.py:469: ConvergenceWarning: lbfgs failed to converge (status=1):\n",
      "STOP: TOTAL NO. of ITERATIONS REACHED LIMIT.\n",
      "\n",
      "Increase the number of iterations (max_iter) or scale the data as shown in:\n",
      "    https://scikit-learn.org/stable/modules/preprocessing.html\n",
      "Please also refer to the documentation for alternative solver options:\n",
      "    https://scikit-learn.org/stable/modules/linear_model.html#logistic-regression\n",
      "  n_iter_i = _check_optimize_result(\n"
     ]
    },
    {
     "name": "stdout",
     "output_type": "stream",
     "text": [
      "[CV 4/5] END LR__C=4.737368421052632, LR__solver=lbfgs, SCL=None;, score=0.812 total time=   0.2s\n"
     ]
    },
    {
     "name": "stderr",
     "output_type": "stream",
     "text": [
      "C:\\Users\\dai.STUDENTSDC\\AppData\\Local\\anaconda3\\Lib\\site-packages\\sklearn\\linear_model\\_logistic.py:469: ConvergenceWarning: lbfgs failed to converge (status=1):\n",
      "STOP: TOTAL NO. of ITERATIONS REACHED LIMIT.\n",
      "\n",
      "Increase the number of iterations (max_iter) or scale the data as shown in:\n",
      "    https://scikit-learn.org/stable/modules/preprocessing.html\n",
      "Please also refer to the documentation for alternative solver options:\n",
      "    https://scikit-learn.org/stable/modules/linear_model.html#logistic-regression\n",
      "  n_iter_i = _check_optimize_result(\n"
     ]
    },
    {
     "name": "stdout",
     "output_type": "stream",
     "text": [
      "[CV 5/5] END LR__C=4.737368421052632, LR__solver=lbfgs, SCL=None;, score=0.822 total time=   0.2s\n",
      "[CV 1/5] END LR__C=4.737368421052632, LR__solver=liblinear, SCL=MinMaxScaler();, score=nan total time=   0.0s\n",
      "[CV 2/5] END LR__C=4.737368421052632, LR__solver=liblinear, SCL=MinMaxScaler();, score=nan total time=   0.0s\n",
      "[CV 3/5] END LR__C=4.737368421052632, LR__solver=liblinear, SCL=MinMaxScaler();, score=nan total time=   0.0s\n",
      "[CV 4/5] END LR__C=4.737368421052632, LR__solver=liblinear, SCL=MinMaxScaler();, score=nan total time=   0.0s\n",
      "[CV 5/5] END LR__C=4.737368421052632, LR__solver=liblinear, SCL=MinMaxScaler();, score=nan total time=   0.0s\n",
      "[CV 1/5] END LR__C=4.737368421052632, LR__solver=liblinear, SCL=StandardScaler();, score=nan total time=   0.0s\n",
      "[CV 2/5] END LR__C=4.737368421052632, LR__solver=liblinear, SCL=StandardScaler();, score=nan total time=   0.0s\n",
      "[CV 3/5] END LR__C=4.737368421052632, LR__solver=liblinear, SCL=StandardScaler();, score=nan total time=   0.0s\n",
      "[CV 4/5] END LR__C=4.737368421052632, LR__solver=liblinear, SCL=StandardScaler();, score=nan total time=   0.0s\n",
      "[CV 5/5] END LR__C=4.737368421052632, LR__solver=liblinear, SCL=StandardScaler();, score=nan total time=   0.0s\n",
      "[CV 1/5] END LR__C=4.737368421052632, LR__solver=liblinear, SCL=None;, score=nan total time=   0.0s\n",
      "[CV 2/5] END LR__C=4.737368421052632, LR__solver=liblinear, SCL=None;, score=nan total time=   0.0s\n",
      "[CV 3/5] END LR__C=4.737368421052632, LR__solver=liblinear, SCL=None;, score=nan total time=   0.0s\n",
      "[CV 4/5] END LR__C=4.737368421052632, LR__solver=liblinear, SCL=None;, score=nan total time=   0.0s\n",
      "[CV 5/5] END LR__C=4.737368421052632, LR__solver=liblinear, SCL=None;, score=nan total time=   0.0s\n",
      "[CV 1/5] END LR__C=4.737368421052632, LR__solver=newton-cg, SCL=MinMaxScaler();, score=0.821 total time=   0.0s\n",
      "[CV 2/5] END LR__C=4.737368421052632, LR__solver=newton-cg, SCL=MinMaxScaler();, score=0.810 total time=   0.0s\n",
      "[CV 3/5] END LR__C=4.737368421052632, LR__solver=newton-cg, SCL=MinMaxScaler();, score=0.825 total time=   0.0s\n",
      "[CV 4/5] END LR__C=4.737368421052632, LR__solver=newton-cg, SCL=MinMaxScaler();, score=0.816 total time=   0.0s\n",
      "[CV 5/5] END LR__C=4.737368421052632, LR__solver=newton-cg, SCL=MinMaxScaler();, score=0.827 total time=   0.0s\n",
      "[CV 1/5] END LR__C=4.737368421052632, LR__solver=newton-cg, SCL=StandardScaler();, score=0.821 total time=   0.0s\n",
      "[CV 2/5] END LR__C=4.737368421052632, LR__solver=newton-cg, SCL=StandardScaler();, score=0.810 total time=   0.0s\n",
      "[CV 3/5] END LR__C=4.737368421052632, LR__solver=newton-cg, SCL=StandardScaler();, score=0.825 total time=   0.0s\n",
      "[CV 4/5] END LR__C=4.737368421052632, LR__solver=newton-cg, SCL=StandardScaler();, score=0.816 total time=   0.0s\n",
      "[CV 5/5] END LR__C=4.737368421052632, LR__solver=newton-cg, SCL=StandardScaler();, score=0.827 total time=   0.0s\n",
      "[CV 1/5] END LR__C=4.737368421052632, LR__solver=newton-cg, SCL=None;, score=0.821 total time=   0.3s\n",
      "[CV 2/5] END LR__C=4.737368421052632, LR__solver=newton-cg, SCL=None;, score=0.810 total time=   0.3s\n",
      "[CV 3/5] END LR__C=4.737368421052632, LR__solver=newton-cg, SCL=None;, score=0.825 total time=   0.4s\n",
      "[CV 4/5] END LR__C=4.737368421052632, LR__solver=newton-cg, SCL=None;, score=0.816 total time=   0.4s\n",
      "[CV 5/5] END LR__C=4.737368421052632, LR__solver=newton-cg, SCL=None;, score=0.827 total time=   0.4s\n",
      "[CV 1/5] END LR__C=4.737368421052632, LR__solver=newton-cholesky, SCL=MinMaxScaler();, score=nan total time=   0.0s\n",
      "[CV 2/5] END LR__C=4.737368421052632, LR__solver=newton-cholesky, SCL=MinMaxScaler();, score=nan total time=   0.0s\n",
      "[CV 3/5] END LR__C=4.737368421052632, LR__solver=newton-cholesky, SCL=MinMaxScaler();, score=nan total time=   0.0s\n",
      "[CV 4/5] END LR__C=4.737368421052632, LR__solver=newton-cholesky, SCL=MinMaxScaler();, score=nan total time=   0.0s\n",
      "[CV 5/5] END LR__C=4.737368421052632, LR__solver=newton-cholesky, SCL=MinMaxScaler();, score=nan total time=   0.0s\n",
      "[CV 1/5] END LR__C=4.737368421052632, LR__solver=newton-cholesky, SCL=StandardScaler();, score=nan total time=   0.0s\n",
      "[CV 2/5] END LR__C=4.737368421052632, LR__solver=newton-cholesky, SCL=StandardScaler();, score=nan total time=   0.0s\n",
      "[CV 3/5] END LR__C=4.737368421052632, LR__solver=newton-cholesky, SCL=StandardScaler();, score=nan total time=   0.0s\n",
      "[CV 4/5] END LR__C=4.737368421052632, LR__solver=newton-cholesky, SCL=StandardScaler();, score=nan total time=   0.0s\n",
      "[CV 5/5] END LR__C=4.737368421052632, LR__solver=newton-cholesky, SCL=StandardScaler();, score=nan total time=   0.0s\n",
      "[CV 1/5] END LR__C=4.737368421052632, LR__solver=newton-cholesky, SCL=None;, score=nan total time=   0.0s\n",
      "[CV 2/5] END LR__C=4.737368421052632, LR__solver=newton-cholesky, SCL=None;, score=nan total time=   0.0s\n",
      "[CV 3/5] END LR__C=4.737368421052632, LR__solver=newton-cholesky, SCL=None;, score=nan total time=   0.0s\n",
      "[CV 4/5] END LR__C=4.737368421052632, LR__solver=newton-cholesky, SCL=None;, score=nan total time=   0.0s\n",
      "[CV 5/5] END LR__C=4.737368421052632, LR__solver=newton-cholesky, SCL=None;, score=nan total time=   0.0s\n",
      "[CV 1/5] END LR__C=4.737368421052632, LR__solver=sag, SCL=MinMaxScaler();, score=0.821 total time=   0.2s\n",
      "[CV 2/5] END LR__C=4.737368421052632, LR__solver=sag, SCL=MinMaxScaler();, score=0.810 total time=   0.3s\n",
      "[CV 3/5] END LR__C=4.737368421052632, LR__solver=sag, SCL=MinMaxScaler();, score=0.825 total time=   0.3s\n",
      "[CV 4/5] END LR__C=4.737368421052632, LR__solver=sag, SCL=MinMaxScaler();, score=0.816 total time=   0.4s\n",
      "[CV 5/5] END LR__C=4.737368421052632, LR__solver=sag, SCL=MinMaxScaler();, score=0.827 total time=   0.4s\n",
      "[CV 1/5] END LR__C=4.737368421052632, LR__solver=sag, SCL=StandardScaler();, score=0.821 total time=   0.2s\n",
      "[CV 2/5] END LR__C=4.737368421052632, LR__solver=sag, SCL=StandardScaler();, score=0.810 total time=   0.1s\n",
      "[CV 3/5] END LR__C=4.737368421052632, LR__solver=sag, SCL=StandardScaler();, score=0.825 total time=   0.2s\n",
      "[CV 4/5] END LR__C=4.737368421052632, LR__solver=sag, SCL=StandardScaler();, score=0.816 total time=   0.2s\n",
      "[CV 5/5] END LR__C=4.737368421052632, LR__solver=sag, SCL=StandardScaler();, score=0.827 total time=   0.2s\n"
     ]
    },
    {
     "name": "stderr",
     "output_type": "stream",
     "text": [
      "C:\\Users\\dai.STUDENTSDC\\AppData\\Local\\anaconda3\\Lib\\site-packages\\sklearn\\linear_model\\_sag.py:350: ConvergenceWarning: The max_iter was reached which means the coef_ did not converge\n",
      "  warnings.warn(\n"
     ]
    },
    {
     "name": "stdout",
     "output_type": "stream",
     "text": [
      "[CV 1/5] END LR__C=4.737368421052632, LR__solver=sag, SCL=None;, score=0.819 total time=   0.5s\n"
     ]
    },
    {
     "name": "stderr",
     "output_type": "stream",
     "text": [
      "C:\\Users\\dai.STUDENTSDC\\AppData\\Local\\anaconda3\\Lib\\site-packages\\sklearn\\linear_model\\_sag.py:350: ConvergenceWarning: The max_iter was reached which means the coef_ did not converge\n",
      "  warnings.warn(\n"
     ]
    },
    {
     "name": "stdout",
     "output_type": "stream",
     "text": [
      "[CV 2/5] END LR__C=4.737368421052632, LR__solver=sag, SCL=None;, score=0.802 total time=   0.5s\n"
     ]
    },
    {
     "name": "stderr",
     "output_type": "stream",
     "text": [
      "C:\\Users\\dai.STUDENTSDC\\AppData\\Local\\anaconda3\\Lib\\site-packages\\sklearn\\linear_model\\_sag.py:350: ConvergenceWarning: The max_iter was reached which means the coef_ did not converge\n",
      "  warnings.warn(\n"
     ]
    },
    {
     "name": "stdout",
     "output_type": "stream",
     "text": [
      "[CV 3/5] END LR__C=4.737368421052632, LR__solver=sag, SCL=None;, score=0.818 total time=   0.5s\n"
     ]
    },
    {
     "name": "stderr",
     "output_type": "stream",
     "text": [
      "C:\\Users\\dai.STUDENTSDC\\AppData\\Local\\anaconda3\\Lib\\site-packages\\sklearn\\linear_model\\_sag.py:350: ConvergenceWarning: The max_iter was reached which means the coef_ did not converge\n",
      "  warnings.warn(\n"
     ]
    },
    {
     "name": "stdout",
     "output_type": "stream",
     "text": [
      "[CV 4/5] END LR__C=4.737368421052632, LR__solver=sag, SCL=None;, score=0.813 total time=   0.5s\n"
     ]
    },
    {
     "name": "stderr",
     "output_type": "stream",
     "text": [
      "C:\\Users\\dai.STUDENTSDC\\AppData\\Local\\anaconda3\\Lib\\site-packages\\sklearn\\linear_model\\_sag.py:350: ConvergenceWarning: The max_iter was reached which means the coef_ did not converge\n",
      "  warnings.warn(\n"
     ]
    },
    {
     "name": "stdout",
     "output_type": "stream",
     "text": [
      "[CV 5/5] END LR__C=4.737368421052632, LR__solver=sag, SCL=None;, score=0.820 total time=   0.5s\n",
      "[CV 1/5] END LR__C=4.737368421052632, LR__solver=saga, SCL=MinMaxScaler();, score=0.821 total time=   0.1s\n",
      "[CV 2/5] END LR__C=4.737368421052632, LR__solver=saga, SCL=MinMaxScaler();, score=0.810 total time=   0.1s\n",
      "[CV 3/5] END LR__C=4.737368421052632, LR__solver=saga, SCL=MinMaxScaler();, score=0.825 total time=   0.1s\n",
      "[CV 4/5] END LR__C=4.737368421052632, LR__solver=saga, SCL=MinMaxScaler();, score=0.816 total time=   0.1s\n",
      "[CV 5/5] END LR__C=4.737368421052632, LR__solver=saga, SCL=MinMaxScaler();, score=0.827 total time=   0.1s\n",
      "[CV 1/5] END LR__C=4.737368421052632, LR__solver=saga, SCL=StandardScaler();, score=0.821 total time=   0.1s\n",
      "[CV 2/5] END LR__C=4.737368421052632, LR__solver=saga, SCL=StandardScaler();, score=0.810 total time=   0.1s\n",
      "[CV 3/5] END LR__C=4.737368421052632, LR__solver=saga, SCL=StandardScaler();, score=0.825 total time=   0.1s\n",
      "[CV 4/5] END LR__C=4.737368421052632, LR__solver=saga, SCL=StandardScaler();, score=0.816 total time=   0.1s\n",
      "[CV 5/5] END LR__C=4.737368421052632, LR__solver=saga, SCL=StandardScaler();, score=0.827 total time=   0.1s\n"
     ]
    },
    {
     "name": "stderr",
     "output_type": "stream",
     "text": [
      "C:\\Users\\dai.STUDENTSDC\\AppData\\Local\\anaconda3\\Lib\\site-packages\\sklearn\\linear_model\\_sag.py:350: ConvergenceWarning: The max_iter was reached which means the coef_ did not converge\n",
      "  warnings.warn(\n"
     ]
    },
    {
     "name": "stdout",
     "output_type": "stream",
     "text": [
      "[CV 1/5] END LR__C=4.737368421052632, LR__solver=saga, SCL=None;, score=0.812 total time=   0.5s\n"
     ]
    },
    {
     "name": "stderr",
     "output_type": "stream",
     "text": [
      "C:\\Users\\dai.STUDENTSDC\\AppData\\Local\\anaconda3\\Lib\\site-packages\\sklearn\\linear_model\\_sag.py:350: ConvergenceWarning: The max_iter was reached which means the coef_ did not converge\n",
      "  warnings.warn(\n"
     ]
    },
    {
     "name": "stdout",
     "output_type": "stream",
     "text": [
      "[CV 2/5] END LR__C=4.737368421052632, LR__solver=saga, SCL=None;, score=0.792 total time=   0.5s\n"
     ]
    },
    {
     "name": "stderr",
     "output_type": "stream",
     "text": [
      "C:\\Users\\dai.STUDENTSDC\\AppData\\Local\\anaconda3\\Lib\\site-packages\\sklearn\\linear_model\\_sag.py:350: ConvergenceWarning: The max_iter was reached which means the coef_ did not converge\n",
      "  warnings.warn(\n"
     ]
    },
    {
     "name": "stdout",
     "output_type": "stream",
     "text": [
      "[CV 3/5] END LR__C=4.737368421052632, LR__solver=saga, SCL=None;, score=0.812 total time=   0.5s\n"
     ]
    },
    {
     "name": "stderr",
     "output_type": "stream",
     "text": [
      "C:\\Users\\dai.STUDENTSDC\\AppData\\Local\\anaconda3\\Lib\\site-packages\\sklearn\\linear_model\\_sag.py:350: ConvergenceWarning: The max_iter was reached which means the coef_ did not converge\n",
      "  warnings.warn(\n"
     ]
    },
    {
     "name": "stdout",
     "output_type": "stream",
     "text": [
      "[CV 4/5] END LR__C=4.737368421052632, LR__solver=saga, SCL=None;, score=0.807 total time=   0.5s\n"
     ]
    },
    {
     "name": "stderr",
     "output_type": "stream",
     "text": [
      "C:\\Users\\dai.STUDENTSDC\\AppData\\Local\\anaconda3\\Lib\\site-packages\\sklearn\\linear_model\\_sag.py:350: ConvergenceWarning: The max_iter was reached which means the coef_ did not converge\n",
      "  warnings.warn(\n"
     ]
    },
    {
     "name": "stdout",
     "output_type": "stream",
     "text": [
      "[CV 5/5] END LR__C=4.737368421052632, LR__solver=saga, SCL=None;, score=0.814 total time=   0.5s\n",
      "[CV 1/5] END LR__C=5.263631578947369, LR__solver=lbfgs, SCL=MinMaxScaler();, score=0.821 total time=   0.0s\n",
      "[CV 2/5] END LR__C=5.263631578947369, LR__solver=lbfgs, SCL=MinMaxScaler();, score=0.810 total time=   0.0s\n",
      "[CV 3/5] END LR__C=5.263631578947369, LR__solver=lbfgs, SCL=MinMaxScaler();, score=0.825 total time=   0.0s\n",
      "[CV 4/5] END LR__C=5.263631578947369, LR__solver=lbfgs, SCL=MinMaxScaler();, score=0.816 total time=   0.0s\n",
      "[CV 5/5] END LR__C=5.263631578947369, LR__solver=lbfgs, SCL=MinMaxScaler();, score=0.827 total time=   0.0s\n",
      "[CV 1/5] END LR__C=5.263631578947369, LR__solver=lbfgs, SCL=StandardScaler();, score=0.821 total time=   0.0s\n",
      "[CV 2/5] END LR__C=5.263631578947369, LR__solver=lbfgs, SCL=StandardScaler();, score=0.810 total time=   0.0s\n",
      "[CV 3/5] END LR__C=5.263631578947369, LR__solver=lbfgs, SCL=StandardScaler();, score=0.825 total time=   0.0s\n",
      "[CV 4/5] END LR__C=5.263631578947369, LR__solver=lbfgs, SCL=StandardScaler();, score=0.816 total time=   0.0s\n",
      "[CV 5/5] END LR__C=5.263631578947369, LR__solver=lbfgs, SCL=StandardScaler();, score=0.827 total time=   0.0s\n"
     ]
    },
    {
     "name": "stderr",
     "output_type": "stream",
     "text": [
      "C:\\Users\\dai.STUDENTSDC\\AppData\\Local\\anaconda3\\Lib\\site-packages\\sklearn\\linear_model\\_logistic.py:469: ConvergenceWarning: lbfgs failed to converge (status=1):\n",
      "STOP: TOTAL NO. of ITERATIONS REACHED LIMIT.\n",
      "\n",
      "Increase the number of iterations (max_iter) or scale the data as shown in:\n",
      "    https://scikit-learn.org/stable/modules/preprocessing.html\n",
      "Please also refer to the documentation for alternative solver options:\n",
      "    https://scikit-learn.org/stable/modules/linear_model.html#logistic-regression\n",
      "  n_iter_i = _check_optimize_result(\n"
     ]
    },
    {
     "name": "stdout",
     "output_type": "stream",
     "text": [
      "[CV 1/5] END LR__C=5.263631578947369, LR__solver=lbfgs, SCL=None;, score=0.814 total time=   0.2s\n"
     ]
    },
    {
     "name": "stderr",
     "output_type": "stream",
     "text": [
      "C:\\Users\\dai.STUDENTSDC\\AppData\\Local\\anaconda3\\Lib\\site-packages\\sklearn\\linear_model\\_logistic.py:469: ConvergenceWarning: lbfgs failed to converge (status=1):\n",
      "STOP: TOTAL NO. of ITERATIONS REACHED LIMIT.\n",
      "\n",
      "Increase the number of iterations (max_iter) or scale the data as shown in:\n",
      "    https://scikit-learn.org/stable/modules/preprocessing.html\n",
      "Please also refer to the documentation for alternative solver options:\n",
      "    https://scikit-learn.org/stable/modules/linear_model.html#logistic-regression\n",
      "  n_iter_i = _check_optimize_result(\n"
     ]
    },
    {
     "name": "stdout",
     "output_type": "stream",
     "text": [
      "[CV 2/5] END LR__C=5.263631578947369, LR__solver=lbfgs, SCL=None;, score=0.805 total time=   0.2s\n"
     ]
    },
    {
     "name": "stderr",
     "output_type": "stream",
     "text": [
      "C:\\Users\\dai.STUDENTSDC\\AppData\\Local\\anaconda3\\Lib\\site-packages\\sklearn\\linear_model\\_logistic.py:469: ConvergenceWarning: lbfgs failed to converge (status=1):\n",
      "STOP: TOTAL NO. of ITERATIONS REACHED LIMIT.\n",
      "\n",
      "Increase the number of iterations (max_iter) or scale the data as shown in:\n",
      "    https://scikit-learn.org/stable/modules/preprocessing.html\n",
      "Please also refer to the documentation for alternative solver options:\n",
      "    https://scikit-learn.org/stable/modules/linear_model.html#logistic-regression\n",
      "  n_iter_i = _check_optimize_result(\n"
     ]
    },
    {
     "name": "stdout",
     "output_type": "stream",
     "text": [
      "[CV 3/5] END LR__C=5.263631578947369, LR__solver=lbfgs, SCL=None;, score=0.818 total time=   0.2s\n"
     ]
    },
    {
     "name": "stderr",
     "output_type": "stream",
     "text": [
      "C:\\Users\\dai.STUDENTSDC\\AppData\\Local\\anaconda3\\Lib\\site-packages\\sklearn\\linear_model\\_logistic.py:469: ConvergenceWarning: lbfgs failed to converge (status=1):\n",
      "STOP: TOTAL NO. of ITERATIONS REACHED LIMIT.\n",
      "\n",
      "Increase the number of iterations (max_iter) or scale the data as shown in:\n",
      "    https://scikit-learn.org/stable/modules/preprocessing.html\n",
      "Please also refer to the documentation for alternative solver options:\n",
      "    https://scikit-learn.org/stable/modules/linear_model.html#logistic-regression\n",
      "  n_iter_i = _check_optimize_result(\n"
     ]
    },
    {
     "name": "stdout",
     "output_type": "stream",
     "text": [
      "[CV 4/5] END LR__C=5.263631578947369, LR__solver=lbfgs, SCL=None;, score=0.812 total time=   0.2s\n"
     ]
    },
    {
     "name": "stderr",
     "output_type": "stream",
     "text": [
      "C:\\Users\\dai.STUDENTSDC\\AppData\\Local\\anaconda3\\Lib\\site-packages\\sklearn\\linear_model\\_logistic.py:469: ConvergenceWarning: lbfgs failed to converge (status=1):\n",
      "STOP: TOTAL NO. of ITERATIONS REACHED LIMIT.\n",
      "\n",
      "Increase the number of iterations (max_iter) or scale the data as shown in:\n",
      "    https://scikit-learn.org/stable/modules/preprocessing.html\n",
      "Please also refer to the documentation for alternative solver options:\n",
      "    https://scikit-learn.org/stable/modules/linear_model.html#logistic-regression\n",
      "  n_iter_i = _check_optimize_result(\n"
     ]
    },
    {
     "name": "stdout",
     "output_type": "stream",
     "text": [
      "[CV 5/5] END LR__C=5.263631578947369, LR__solver=lbfgs, SCL=None;, score=0.822 total time=   0.2s\n",
      "[CV 1/5] END LR__C=5.263631578947369, LR__solver=liblinear, SCL=MinMaxScaler();, score=nan total time=   0.0s\n",
      "[CV 2/5] END LR__C=5.263631578947369, LR__solver=liblinear, SCL=MinMaxScaler();, score=nan total time=   0.0s\n",
      "[CV 3/5] END LR__C=5.263631578947369, LR__solver=liblinear, SCL=MinMaxScaler();, score=nan total time=   0.0s\n",
      "[CV 4/5] END LR__C=5.263631578947369, LR__solver=liblinear, SCL=MinMaxScaler();, score=nan total time=   0.0s\n",
      "[CV 5/5] END LR__C=5.263631578947369, LR__solver=liblinear, SCL=MinMaxScaler();, score=nan total time=   0.0s\n",
      "[CV 1/5] END LR__C=5.263631578947369, LR__solver=liblinear, SCL=StandardScaler();, score=nan total time=   0.0s\n",
      "[CV 2/5] END LR__C=5.263631578947369, LR__solver=liblinear, SCL=StandardScaler();, score=nan total time=   0.0s\n",
      "[CV 3/5] END LR__C=5.263631578947369, LR__solver=liblinear, SCL=StandardScaler();, score=nan total time=   0.0s\n",
      "[CV 4/5] END LR__C=5.263631578947369, LR__solver=liblinear, SCL=StandardScaler();, score=nan total time=   0.0s\n",
      "[CV 5/5] END LR__C=5.263631578947369, LR__solver=liblinear, SCL=StandardScaler();, score=nan total time=   0.0s\n",
      "[CV 1/5] END LR__C=5.263631578947369, LR__solver=liblinear, SCL=None;, score=nan total time=   0.0s\n",
      "[CV 2/5] END LR__C=5.263631578947369, LR__solver=liblinear, SCL=None;, score=nan total time=   0.0s\n",
      "[CV 3/5] END LR__C=5.263631578947369, LR__solver=liblinear, SCL=None;, score=nan total time=   0.0s\n",
      "[CV 4/5] END LR__C=5.263631578947369, LR__solver=liblinear, SCL=None;, score=nan total time=   0.0s\n",
      "[CV 5/5] END LR__C=5.263631578947369, LR__solver=liblinear, SCL=None;, score=nan total time=   0.0s\n",
      "[CV 1/5] END LR__C=5.263631578947369, LR__solver=newton-cg, SCL=MinMaxScaler();, score=0.821 total time=   0.0s\n",
      "[CV 2/5] END LR__C=5.263631578947369, LR__solver=newton-cg, SCL=MinMaxScaler();, score=0.810 total time=   0.0s\n",
      "[CV 3/5] END LR__C=5.263631578947369, LR__solver=newton-cg, SCL=MinMaxScaler();, score=0.825 total time=   0.0s\n",
      "[CV 4/5] END LR__C=5.263631578947369, LR__solver=newton-cg, SCL=MinMaxScaler();, score=0.816 total time=   0.0s\n",
      "[CV 5/5] END LR__C=5.263631578947369, LR__solver=newton-cg, SCL=MinMaxScaler();, score=0.827 total time=   0.0s\n",
      "[CV 1/5] END LR__C=5.263631578947369, LR__solver=newton-cg, SCL=StandardScaler();, score=0.821 total time=   0.0s\n",
      "[CV 2/5] END LR__C=5.263631578947369, LR__solver=newton-cg, SCL=StandardScaler();, score=0.810 total time=   0.0s\n",
      "[CV 3/5] END LR__C=5.263631578947369, LR__solver=newton-cg, SCL=StandardScaler();, score=0.825 total time=   0.0s\n",
      "[CV 4/5] END LR__C=5.263631578947369, LR__solver=newton-cg, SCL=StandardScaler();, score=0.816 total time=   0.0s\n",
      "[CV 5/5] END LR__C=5.263631578947369, LR__solver=newton-cg, SCL=StandardScaler();, score=0.827 total time=   0.0s\n",
      "[CV 1/5] END LR__C=5.263631578947369, LR__solver=newton-cg, SCL=None;, score=0.821 total time=   0.3s\n",
      "[CV 2/5] END LR__C=5.263631578947369, LR__solver=newton-cg, SCL=None;, score=0.810 total time=   0.4s\n",
      "[CV 3/5] END LR__C=5.263631578947369, LR__solver=newton-cg, SCL=None;, score=0.825 total time=   0.4s\n",
      "[CV 4/5] END LR__C=5.263631578947369, LR__solver=newton-cg, SCL=None;, score=0.816 total time=   0.4s\n",
      "[CV 5/5] END LR__C=5.263631578947369, LR__solver=newton-cg, SCL=None;, score=0.827 total time=   0.3s\n",
      "[CV 1/5] END LR__C=5.263631578947369, LR__solver=newton-cholesky, SCL=MinMaxScaler();, score=nan total time=   0.0s\n",
      "[CV 2/5] END LR__C=5.263631578947369, LR__solver=newton-cholesky, SCL=MinMaxScaler();, score=nan total time=   0.0s\n",
      "[CV 3/5] END LR__C=5.263631578947369, LR__solver=newton-cholesky, SCL=MinMaxScaler();, score=nan total time=   0.0s\n",
      "[CV 4/5] END LR__C=5.263631578947369, LR__solver=newton-cholesky, SCL=MinMaxScaler();, score=nan total time=   0.0s\n",
      "[CV 5/5] END LR__C=5.263631578947369, LR__solver=newton-cholesky, SCL=MinMaxScaler();, score=nan total time=   0.0s\n",
      "[CV 1/5] END LR__C=5.263631578947369, LR__solver=newton-cholesky, SCL=StandardScaler();, score=nan total time=   0.0s\n",
      "[CV 2/5] END LR__C=5.263631578947369, LR__solver=newton-cholesky, SCL=StandardScaler();, score=nan total time=   0.0s\n",
      "[CV 3/5] END LR__C=5.263631578947369, LR__solver=newton-cholesky, SCL=StandardScaler();, score=nan total time=   0.0s\n",
      "[CV 4/5] END LR__C=5.263631578947369, LR__solver=newton-cholesky, SCL=StandardScaler();, score=nan total time=   0.0s\n",
      "[CV 5/5] END LR__C=5.263631578947369, LR__solver=newton-cholesky, SCL=StandardScaler();, score=nan total time=   0.0s\n",
      "[CV 1/5] END LR__C=5.263631578947369, LR__solver=newton-cholesky, SCL=None;, score=nan total time=   0.0s\n",
      "[CV 2/5] END LR__C=5.263631578947369, LR__solver=newton-cholesky, SCL=None;, score=nan total time=   0.0s\n",
      "[CV 3/5] END LR__C=5.263631578947369, LR__solver=newton-cholesky, SCL=None;, score=nan total time=   0.0s\n",
      "[CV 4/5] END LR__C=5.263631578947369, LR__solver=newton-cholesky, SCL=None;, score=nan total time=   0.0s\n",
      "[CV 5/5] END LR__C=5.263631578947369, LR__solver=newton-cholesky, SCL=None;, score=nan total time=   0.0s\n",
      "[CV 1/5] END LR__C=5.263631578947369, LR__solver=sag, SCL=MinMaxScaler();, score=0.821 total time=   0.2s\n",
      "[CV 2/5] END LR__C=5.263631578947369, LR__solver=sag, SCL=MinMaxScaler();, score=0.810 total time=   0.2s\n",
      "[CV 3/5] END LR__C=5.263631578947369, LR__solver=sag, SCL=MinMaxScaler();, score=0.825 total time=   0.3s\n",
      "[CV 4/5] END LR__C=5.263631578947369, LR__solver=sag, SCL=MinMaxScaler();, score=0.816 total time=   0.2s\n",
      "[CV 5/5] END LR__C=5.263631578947369, LR__solver=sag, SCL=MinMaxScaler();, score=0.827 total time=   0.2s\n",
      "[CV 1/5] END LR__C=5.263631578947369, LR__solver=sag, SCL=StandardScaler();, score=0.821 total time=   0.2s\n",
      "[CV 2/5] END LR__C=5.263631578947369, LR__solver=sag, SCL=StandardScaler();, score=0.810 total time=   0.2s\n",
      "[CV 3/5] END LR__C=5.263631578947369, LR__solver=sag, SCL=StandardScaler();, score=0.825 total time=   0.2s\n",
      "[CV 4/5] END LR__C=5.263631578947369, LR__solver=sag, SCL=StandardScaler();, score=0.816 total time=   0.2s\n",
      "[CV 5/5] END LR__C=5.263631578947369, LR__solver=sag, SCL=StandardScaler();, score=0.827 total time=   0.2s\n"
     ]
    },
    {
     "name": "stderr",
     "output_type": "stream",
     "text": [
      "C:\\Users\\dai.STUDENTSDC\\AppData\\Local\\anaconda3\\Lib\\site-packages\\sklearn\\linear_model\\_sag.py:350: ConvergenceWarning: The max_iter was reached which means the coef_ did not converge\n",
      "  warnings.warn(\n"
     ]
    },
    {
     "name": "stdout",
     "output_type": "stream",
     "text": [
      "[CV 1/5] END LR__C=5.263631578947369, LR__solver=sag, SCL=None;, score=0.819 total time=   0.5s\n"
     ]
    },
    {
     "name": "stderr",
     "output_type": "stream",
     "text": [
      "C:\\Users\\dai.STUDENTSDC\\AppData\\Local\\anaconda3\\Lib\\site-packages\\sklearn\\linear_model\\_sag.py:350: ConvergenceWarning: The max_iter was reached which means the coef_ did not converge\n",
      "  warnings.warn(\n"
     ]
    },
    {
     "name": "stdout",
     "output_type": "stream",
     "text": [
      "[CV 2/5] END LR__C=5.263631578947369, LR__solver=sag, SCL=None;, score=0.802 total time=   0.5s\n"
     ]
    },
    {
     "name": "stderr",
     "output_type": "stream",
     "text": [
      "C:\\Users\\dai.STUDENTSDC\\AppData\\Local\\anaconda3\\Lib\\site-packages\\sklearn\\linear_model\\_sag.py:350: ConvergenceWarning: The max_iter was reached which means the coef_ did not converge\n",
      "  warnings.warn(\n"
     ]
    },
    {
     "name": "stdout",
     "output_type": "stream",
     "text": [
      "[CV 3/5] END LR__C=5.263631578947369, LR__solver=sag, SCL=None;, score=0.818 total time=   0.4s\n"
     ]
    },
    {
     "name": "stderr",
     "output_type": "stream",
     "text": [
      "C:\\Users\\dai.STUDENTSDC\\AppData\\Local\\anaconda3\\Lib\\site-packages\\sklearn\\linear_model\\_sag.py:350: ConvergenceWarning: The max_iter was reached which means the coef_ did not converge\n",
      "  warnings.warn(\n"
     ]
    },
    {
     "name": "stdout",
     "output_type": "stream",
     "text": [
      "[CV 4/5] END LR__C=5.263631578947369, LR__solver=sag, SCL=None;, score=0.813 total time=   0.5s\n"
     ]
    },
    {
     "name": "stderr",
     "output_type": "stream",
     "text": [
      "C:\\Users\\dai.STUDENTSDC\\AppData\\Local\\anaconda3\\Lib\\site-packages\\sklearn\\linear_model\\_sag.py:350: ConvergenceWarning: The max_iter was reached which means the coef_ did not converge\n",
      "  warnings.warn(\n"
     ]
    },
    {
     "name": "stdout",
     "output_type": "stream",
     "text": [
      "[CV 5/5] END LR__C=5.263631578947369, LR__solver=sag, SCL=None;, score=0.820 total time=   0.4s\n",
      "[CV 1/5] END LR__C=5.263631578947369, LR__solver=saga, SCL=MinMaxScaler();, score=0.821 total time=   0.1s\n",
      "[CV 2/5] END LR__C=5.263631578947369, LR__solver=saga, SCL=MinMaxScaler();, score=0.810 total time=   0.1s\n",
      "[CV 3/5] END LR__C=5.263631578947369, LR__solver=saga, SCL=MinMaxScaler();, score=0.825 total time=   0.1s\n",
      "[CV 4/5] END LR__C=5.263631578947369, LR__solver=saga, SCL=MinMaxScaler();, score=0.816 total time=   0.1s\n",
      "[CV 5/5] END LR__C=5.263631578947369, LR__solver=saga, SCL=MinMaxScaler();, score=0.827 total time=   0.1s\n",
      "[CV 1/5] END LR__C=5.263631578947369, LR__solver=saga, SCL=StandardScaler();, score=0.821 total time=   0.1s\n",
      "[CV 2/5] END LR__C=5.263631578947369, LR__solver=saga, SCL=StandardScaler();, score=0.810 total time=   0.1s\n",
      "[CV 3/5] END LR__C=5.263631578947369, LR__solver=saga, SCL=StandardScaler();, score=0.825 total time=   0.1s\n",
      "[CV 4/5] END LR__C=5.263631578947369, LR__solver=saga, SCL=StandardScaler();, score=0.816 total time=   0.0s\n",
      "[CV 5/5] END LR__C=5.263631578947369, LR__solver=saga, SCL=StandardScaler();, score=0.827 total time=   0.1s\n"
     ]
    },
    {
     "name": "stderr",
     "output_type": "stream",
     "text": [
      "C:\\Users\\dai.STUDENTSDC\\AppData\\Local\\anaconda3\\Lib\\site-packages\\sklearn\\linear_model\\_sag.py:350: ConvergenceWarning: The max_iter was reached which means the coef_ did not converge\n",
      "  warnings.warn(\n"
     ]
    },
    {
     "name": "stdout",
     "output_type": "stream",
     "text": [
      "[CV 1/5] END LR__C=5.263631578947369, LR__solver=saga, SCL=None;, score=0.812 total time=   0.5s\n"
     ]
    },
    {
     "name": "stderr",
     "output_type": "stream",
     "text": [
      "C:\\Users\\dai.STUDENTSDC\\AppData\\Local\\anaconda3\\Lib\\site-packages\\sklearn\\linear_model\\_sag.py:350: ConvergenceWarning: The max_iter was reached which means the coef_ did not converge\n",
      "  warnings.warn(\n"
     ]
    },
    {
     "name": "stdout",
     "output_type": "stream",
     "text": [
      "[CV 2/5] END LR__C=5.263631578947369, LR__solver=saga, SCL=None;, score=0.792 total time=   0.5s\n"
     ]
    },
    {
     "name": "stderr",
     "output_type": "stream",
     "text": [
      "C:\\Users\\dai.STUDENTSDC\\AppData\\Local\\anaconda3\\Lib\\site-packages\\sklearn\\linear_model\\_sag.py:350: ConvergenceWarning: The max_iter was reached which means the coef_ did not converge\n",
      "  warnings.warn(\n"
     ]
    },
    {
     "name": "stdout",
     "output_type": "stream",
     "text": [
      "[CV 3/5] END LR__C=5.263631578947369, LR__solver=saga, SCL=None;, score=0.812 total time=   0.5s\n"
     ]
    },
    {
     "name": "stderr",
     "output_type": "stream",
     "text": [
      "C:\\Users\\dai.STUDENTSDC\\AppData\\Local\\anaconda3\\Lib\\site-packages\\sklearn\\linear_model\\_sag.py:350: ConvergenceWarning: The max_iter was reached which means the coef_ did not converge\n",
      "  warnings.warn(\n"
     ]
    },
    {
     "name": "stdout",
     "output_type": "stream",
     "text": [
      "[CV 4/5] END LR__C=5.263631578947369, LR__solver=saga, SCL=None;, score=0.807 total time=   0.5s\n"
     ]
    },
    {
     "name": "stderr",
     "output_type": "stream",
     "text": [
      "C:\\Users\\dai.STUDENTSDC\\AppData\\Local\\anaconda3\\Lib\\site-packages\\sklearn\\linear_model\\_sag.py:350: ConvergenceWarning: The max_iter was reached which means the coef_ did not converge\n",
      "  warnings.warn(\n"
     ]
    },
    {
     "name": "stdout",
     "output_type": "stream",
     "text": [
      "[CV 5/5] END LR__C=5.263631578947369, LR__solver=saga, SCL=None;, score=0.814 total time=   0.5s\n",
      "[CV 1/5] END LR__C=5.789894736842106, LR__solver=lbfgs, SCL=MinMaxScaler();, score=0.821 total time=   0.0s\n",
      "[CV 2/5] END LR__C=5.789894736842106, LR__solver=lbfgs, SCL=MinMaxScaler();, score=0.810 total time=   0.0s\n",
      "[CV 3/5] END LR__C=5.789894736842106, LR__solver=lbfgs, SCL=MinMaxScaler();, score=0.825 total time=   0.0s\n",
      "[CV 4/5] END LR__C=5.789894736842106, LR__solver=lbfgs, SCL=MinMaxScaler();, score=0.816 total time=   0.0s\n",
      "[CV 5/5] END LR__C=5.789894736842106, LR__solver=lbfgs, SCL=MinMaxScaler();, score=0.827 total time=   0.0s\n",
      "[CV 1/5] END LR__C=5.789894736842106, LR__solver=lbfgs, SCL=StandardScaler();, score=0.821 total time=   0.0s\n",
      "[CV 2/5] END LR__C=5.789894736842106, LR__solver=lbfgs, SCL=StandardScaler();, score=0.810 total time=   0.0s\n",
      "[CV 3/5] END LR__C=5.789894736842106, LR__solver=lbfgs, SCL=StandardScaler();, score=0.825 total time=   0.0s\n",
      "[CV 4/5] END LR__C=5.789894736842106, LR__solver=lbfgs, SCL=StandardScaler();, score=0.816 total time=   0.0s\n",
      "[CV 5/5] END LR__C=5.789894736842106, LR__solver=lbfgs, SCL=StandardScaler();, score=0.827 total time=   0.0s\n"
     ]
    },
    {
     "name": "stderr",
     "output_type": "stream",
     "text": [
      "C:\\Users\\dai.STUDENTSDC\\AppData\\Local\\anaconda3\\Lib\\site-packages\\sklearn\\linear_model\\_logistic.py:469: ConvergenceWarning: lbfgs failed to converge (status=1):\n",
      "STOP: TOTAL NO. of ITERATIONS REACHED LIMIT.\n",
      "\n",
      "Increase the number of iterations (max_iter) or scale the data as shown in:\n",
      "    https://scikit-learn.org/stable/modules/preprocessing.html\n",
      "Please also refer to the documentation for alternative solver options:\n",
      "    https://scikit-learn.org/stable/modules/linear_model.html#logistic-regression\n",
      "  n_iter_i = _check_optimize_result(\n"
     ]
    },
    {
     "name": "stdout",
     "output_type": "stream",
     "text": [
      "[CV 1/5] END LR__C=5.789894736842106, LR__solver=lbfgs, SCL=None;, score=0.817 total time=   0.2s\n"
     ]
    },
    {
     "name": "stderr",
     "output_type": "stream",
     "text": [
      "C:\\Users\\dai.STUDENTSDC\\AppData\\Local\\anaconda3\\Lib\\site-packages\\sklearn\\linear_model\\_logistic.py:469: ConvergenceWarning: lbfgs failed to converge (status=1):\n",
      "STOP: TOTAL NO. of ITERATIONS REACHED LIMIT.\n",
      "\n",
      "Increase the number of iterations (max_iter) or scale the data as shown in:\n",
      "    https://scikit-learn.org/stable/modules/preprocessing.html\n",
      "Please also refer to the documentation for alternative solver options:\n",
      "    https://scikit-learn.org/stable/modules/linear_model.html#logistic-regression\n",
      "  n_iter_i = _check_optimize_result(\n"
     ]
    },
    {
     "name": "stdout",
     "output_type": "stream",
     "text": [
      "[CV 2/5] END LR__C=5.789894736842106, LR__solver=lbfgs, SCL=None;, score=0.805 total time=   0.2s\n"
     ]
    },
    {
     "name": "stderr",
     "output_type": "stream",
     "text": [
      "C:\\Users\\dai.STUDENTSDC\\AppData\\Local\\anaconda3\\Lib\\site-packages\\sklearn\\linear_model\\_logistic.py:469: ConvergenceWarning: lbfgs failed to converge (status=1):\n",
      "STOP: TOTAL NO. of ITERATIONS REACHED LIMIT.\n",
      "\n",
      "Increase the number of iterations (max_iter) or scale the data as shown in:\n",
      "    https://scikit-learn.org/stable/modules/preprocessing.html\n",
      "Please also refer to the documentation for alternative solver options:\n",
      "    https://scikit-learn.org/stable/modules/linear_model.html#logistic-regression\n",
      "  n_iter_i = _check_optimize_result(\n"
     ]
    },
    {
     "name": "stdout",
     "output_type": "stream",
     "text": [
      "[CV 3/5] END LR__C=5.789894736842106, LR__solver=lbfgs, SCL=None;, score=0.819 total time=   0.2s\n"
     ]
    },
    {
     "name": "stderr",
     "output_type": "stream",
     "text": [
      "C:\\Users\\dai.STUDENTSDC\\AppData\\Local\\anaconda3\\Lib\\site-packages\\sklearn\\linear_model\\_logistic.py:469: ConvergenceWarning: lbfgs failed to converge (status=1):\n",
      "STOP: TOTAL NO. of ITERATIONS REACHED LIMIT.\n",
      "\n",
      "Increase the number of iterations (max_iter) or scale the data as shown in:\n",
      "    https://scikit-learn.org/stable/modules/preprocessing.html\n",
      "Please also refer to the documentation for alternative solver options:\n",
      "    https://scikit-learn.org/stable/modules/linear_model.html#logistic-regression\n",
      "  n_iter_i = _check_optimize_result(\n"
     ]
    },
    {
     "name": "stdout",
     "output_type": "stream",
     "text": [
      "[CV 4/5] END LR__C=5.789894736842106, LR__solver=lbfgs, SCL=None;, score=0.811 total time=   0.2s\n"
     ]
    },
    {
     "name": "stderr",
     "output_type": "stream",
     "text": [
      "C:\\Users\\dai.STUDENTSDC\\AppData\\Local\\anaconda3\\Lib\\site-packages\\sklearn\\linear_model\\_logistic.py:469: ConvergenceWarning: lbfgs failed to converge (status=1):\n",
      "STOP: TOTAL NO. of ITERATIONS REACHED LIMIT.\n",
      "\n",
      "Increase the number of iterations (max_iter) or scale the data as shown in:\n",
      "    https://scikit-learn.org/stable/modules/preprocessing.html\n",
      "Please also refer to the documentation for alternative solver options:\n",
      "    https://scikit-learn.org/stable/modules/linear_model.html#logistic-regression\n",
      "  n_iter_i = _check_optimize_result(\n"
     ]
    },
    {
     "name": "stdout",
     "output_type": "stream",
     "text": [
      "[CV 5/5] END LR__C=5.789894736842106, LR__solver=lbfgs, SCL=None;, score=0.821 total time=   0.2s\n",
      "[CV 1/5] END LR__C=5.789894736842106, LR__solver=liblinear, SCL=MinMaxScaler();, score=nan total time=   0.0s\n",
      "[CV 2/5] END LR__C=5.789894736842106, LR__solver=liblinear, SCL=MinMaxScaler();, score=nan total time=   0.0s\n",
      "[CV 3/5] END LR__C=5.789894736842106, LR__solver=liblinear, SCL=MinMaxScaler();, score=nan total time=   0.0s\n",
      "[CV 4/5] END LR__C=5.789894736842106, LR__solver=liblinear, SCL=MinMaxScaler();, score=nan total time=   0.0s\n",
      "[CV 5/5] END LR__C=5.789894736842106, LR__solver=liblinear, SCL=MinMaxScaler();, score=nan total time=   0.0s\n",
      "[CV 1/5] END LR__C=5.789894736842106, LR__solver=liblinear, SCL=StandardScaler();, score=nan total time=   0.0s\n",
      "[CV 2/5] END LR__C=5.789894736842106, LR__solver=liblinear, SCL=StandardScaler();, score=nan total time=   0.0s\n",
      "[CV 3/5] END LR__C=5.789894736842106, LR__solver=liblinear, SCL=StandardScaler();, score=nan total time=   0.0s\n",
      "[CV 4/5] END LR__C=5.789894736842106, LR__solver=liblinear, SCL=StandardScaler();, score=nan total time=   0.0s\n",
      "[CV 5/5] END LR__C=5.789894736842106, LR__solver=liblinear, SCL=StandardScaler();, score=nan total time=   0.0s\n",
      "[CV 1/5] END LR__C=5.789894736842106, LR__solver=liblinear, SCL=None;, score=nan total time=   0.0s\n",
      "[CV 2/5] END LR__C=5.789894736842106, LR__solver=liblinear, SCL=None;, score=nan total time=   0.0s\n",
      "[CV 3/5] END LR__C=5.789894736842106, LR__solver=liblinear, SCL=None;, score=nan total time=   0.0s\n",
      "[CV 4/5] END LR__C=5.789894736842106, LR__solver=liblinear, SCL=None;, score=nan total time=   0.0s\n",
      "[CV 5/5] END LR__C=5.789894736842106, LR__solver=liblinear, SCL=None;, score=nan total time=   0.0s\n",
      "[CV 1/5] END LR__C=5.789894736842106, LR__solver=newton-cg, SCL=MinMaxScaler();, score=0.821 total time=   0.0s\n",
      "[CV 2/5] END LR__C=5.789894736842106, LR__solver=newton-cg, SCL=MinMaxScaler();, score=0.810 total time=   0.0s\n",
      "[CV 3/5] END LR__C=5.789894736842106, LR__solver=newton-cg, SCL=MinMaxScaler();, score=0.825 total time=   0.0s\n",
      "[CV 4/5] END LR__C=5.789894736842106, LR__solver=newton-cg, SCL=MinMaxScaler();, score=0.816 total time=   0.0s\n",
      "[CV 5/5] END LR__C=5.789894736842106, LR__solver=newton-cg, SCL=MinMaxScaler();, score=0.827 total time=   0.0s\n",
      "[CV 1/5] END LR__C=5.789894736842106, LR__solver=newton-cg, SCL=StandardScaler();, score=0.821 total time=   0.0s\n",
      "[CV 2/5] END LR__C=5.789894736842106, LR__solver=newton-cg, SCL=StandardScaler();, score=0.810 total time=   0.0s\n",
      "[CV 3/5] END LR__C=5.789894736842106, LR__solver=newton-cg, SCL=StandardScaler();, score=0.825 total time=   0.0s\n",
      "[CV 4/5] END LR__C=5.789894736842106, LR__solver=newton-cg, SCL=StandardScaler();, score=0.816 total time=   0.0s\n",
      "[CV 5/5] END LR__C=5.789894736842106, LR__solver=newton-cg, SCL=StandardScaler();, score=0.827 total time=   0.0s\n",
      "[CV 1/5] END LR__C=5.789894736842106, LR__solver=newton-cg, SCL=None;, score=0.821 total time=   0.4s\n",
      "[CV 2/5] END LR__C=5.789894736842106, LR__solver=newton-cg, SCL=None;, score=0.810 total time=   0.3s\n",
      "[CV 3/5] END LR__C=5.789894736842106, LR__solver=newton-cg, SCL=None;, score=0.825 total time=   0.4s\n",
      "[CV 4/5] END LR__C=5.789894736842106, LR__solver=newton-cg, SCL=None;, score=0.816 total time=   0.4s\n",
      "[CV 5/5] END LR__C=5.789894736842106, LR__solver=newton-cg, SCL=None;, score=0.827 total time=   0.4s\n",
      "[CV 1/5] END LR__C=5.789894736842106, LR__solver=newton-cholesky, SCL=MinMaxScaler();, score=nan total time=   0.0s\n",
      "[CV 2/5] END LR__C=5.789894736842106, LR__solver=newton-cholesky, SCL=MinMaxScaler();, score=nan total time=   0.0s\n",
      "[CV 3/5] END LR__C=5.789894736842106, LR__solver=newton-cholesky, SCL=MinMaxScaler();, score=nan total time=   0.0s\n",
      "[CV 4/5] END LR__C=5.789894736842106, LR__solver=newton-cholesky, SCL=MinMaxScaler();, score=nan total time=   0.0s\n",
      "[CV 5/5] END LR__C=5.789894736842106, LR__solver=newton-cholesky, SCL=MinMaxScaler();, score=nan total time=   0.0s\n",
      "[CV 1/5] END LR__C=5.789894736842106, LR__solver=newton-cholesky, SCL=StandardScaler();, score=nan total time=   0.0s\n",
      "[CV 2/5] END LR__C=5.789894736842106, LR__solver=newton-cholesky, SCL=StandardScaler();, score=nan total time=   0.0s\n",
      "[CV 3/5] END LR__C=5.789894736842106, LR__solver=newton-cholesky, SCL=StandardScaler();, score=nan total time=   0.0s\n",
      "[CV 4/5] END LR__C=5.789894736842106, LR__solver=newton-cholesky, SCL=StandardScaler();, score=nan total time=   0.0s\n",
      "[CV 5/5] END LR__C=5.789894736842106, LR__solver=newton-cholesky, SCL=StandardScaler();, score=nan total time=   0.0s\n",
      "[CV 1/5] END LR__C=5.789894736842106, LR__solver=newton-cholesky, SCL=None;, score=nan total time=   0.0s\n",
      "[CV 2/5] END LR__C=5.789894736842106, LR__solver=newton-cholesky, SCL=None;, score=nan total time=   0.0s\n",
      "[CV 3/5] END LR__C=5.789894736842106, LR__solver=newton-cholesky, SCL=None;, score=nan total time=   0.0s\n",
      "[CV 4/5] END LR__C=5.789894736842106, LR__solver=newton-cholesky, SCL=None;, score=nan total time=   0.0s\n",
      "[CV 5/5] END LR__C=5.789894736842106, LR__solver=newton-cholesky, SCL=None;, score=nan total time=   0.0s\n",
      "[CV 1/5] END LR__C=5.789894736842106, LR__solver=sag, SCL=MinMaxScaler();, score=0.821 total time=   0.2s\n",
      "[CV 2/5] END LR__C=5.789894736842106, LR__solver=sag, SCL=MinMaxScaler();, score=0.810 total time=   0.3s\n",
      "[CV 3/5] END LR__C=5.789894736842106, LR__solver=sag, SCL=MinMaxScaler();, score=0.825 total time=   0.2s\n",
      "[CV 4/5] END LR__C=5.789894736842106, LR__solver=sag, SCL=MinMaxScaler();, score=0.816 total time=   0.2s\n",
      "[CV 5/5] END LR__C=5.789894736842106, LR__solver=sag, SCL=MinMaxScaler();, score=0.827 total time=   0.4s\n",
      "[CV 1/5] END LR__C=5.789894736842106, LR__solver=sag, SCL=StandardScaler();, score=0.821 total time=   0.2s\n",
      "[CV 2/5] END LR__C=5.789894736842106, LR__solver=sag, SCL=StandardScaler();, score=0.810 total time=   0.1s\n",
      "[CV 3/5] END LR__C=5.789894736842106, LR__solver=sag, SCL=StandardScaler();, score=0.825 total time=   0.2s\n",
      "[CV 4/5] END LR__C=5.789894736842106, LR__solver=sag, SCL=StandardScaler();, score=0.816 total time=   0.2s\n",
      "[CV 5/5] END LR__C=5.789894736842106, LR__solver=sag, SCL=StandardScaler();, score=0.827 total time=   0.2s\n"
     ]
    },
    {
     "name": "stderr",
     "output_type": "stream",
     "text": [
      "C:\\Users\\dai.STUDENTSDC\\AppData\\Local\\anaconda3\\Lib\\site-packages\\sklearn\\linear_model\\_sag.py:350: ConvergenceWarning: The max_iter was reached which means the coef_ did not converge\n",
      "  warnings.warn(\n"
     ]
    },
    {
     "name": "stdout",
     "output_type": "stream",
     "text": [
      "[CV 1/5] END LR__C=5.789894736842106, LR__solver=sag, SCL=None;, score=0.819 total time=   0.5s\n"
     ]
    },
    {
     "name": "stderr",
     "output_type": "stream",
     "text": [
      "C:\\Users\\dai.STUDENTSDC\\AppData\\Local\\anaconda3\\Lib\\site-packages\\sklearn\\linear_model\\_sag.py:350: ConvergenceWarning: The max_iter was reached which means the coef_ did not converge\n",
      "  warnings.warn(\n"
     ]
    },
    {
     "name": "stdout",
     "output_type": "stream",
     "text": [
      "[CV 2/5] END LR__C=5.789894736842106, LR__solver=sag, SCL=None;, score=0.802 total time=   0.4s\n"
     ]
    },
    {
     "name": "stderr",
     "output_type": "stream",
     "text": [
      "C:\\Users\\dai.STUDENTSDC\\AppData\\Local\\anaconda3\\Lib\\site-packages\\sklearn\\linear_model\\_sag.py:350: ConvergenceWarning: The max_iter was reached which means the coef_ did not converge\n",
      "  warnings.warn(\n"
     ]
    },
    {
     "name": "stdout",
     "output_type": "stream",
     "text": [
      "[CV 3/5] END LR__C=5.789894736842106, LR__solver=sag, SCL=None;, score=0.818 total time=   0.5s\n"
     ]
    },
    {
     "name": "stderr",
     "output_type": "stream",
     "text": [
      "C:\\Users\\dai.STUDENTSDC\\AppData\\Local\\anaconda3\\Lib\\site-packages\\sklearn\\linear_model\\_sag.py:350: ConvergenceWarning: The max_iter was reached which means the coef_ did not converge\n",
      "  warnings.warn(\n"
     ]
    },
    {
     "name": "stdout",
     "output_type": "stream",
     "text": [
      "[CV 4/5] END LR__C=5.789894736842106, LR__solver=sag, SCL=None;, score=0.813 total time=   0.5s\n"
     ]
    },
    {
     "name": "stderr",
     "output_type": "stream",
     "text": [
      "C:\\Users\\dai.STUDENTSDC\\AppData\\Local\\anaconda3\\Lib\\site-packages\\sklearn\\linear_model\\_sag.py:350: ConvergenceWarning: The max_iter was reached which means the coef_ did not converge\n",
      "  warnings.warn(\n"
     ]
    },
    {
     "name": "stdout",
     "output_type": "stream",
     "text": [
      "[CV 5/5] END LR__C=5.789894736842106, LR__solver=sag, SCL=None;, score=0.820 total time=   0.5s\n",
      "[CV 1/5] END LR__C=5.789894736842106, LR__solver=saga, SCL=MinMaxScaler();, score=0.821 total time=   0.1s\n",
      "[CV 2/5] END LR__C=5.789894736842106, LR__solver=saga, SCL=MinMaxScaler();, score=0.810 total time=   0.1s\n",
      "[CV 3/5] END LR__C=5.789894736842106, LR__solver=saga, SCL=MinMaxScaler();, score=0.825 total time=   0.1s\n",
      "[CV 4/5] END LR__C=5.789894736842106, LR__solver=saga, SCL=MinMaxScaler();, score=0.816 total time=   0.1s\n",
      "[CV 5/5] END LR__C=5.789894736842106, LR__solver=saga, SCL=MinMaxScaler();, score=0.827 total time=   0.1s\n",
      "[CV 1/5] END LR__C=5.789894736842106, LR__solver=saga, SCL=StandardScaler();, score=0.821 total time=   0.1s\n",
      "[CV 2/5] END LR__C=5.789894736842106, LR__solver=saga, SCL=StandardScaler();, score=0.810 total time=   0.0s\n",
      "[CV 3/5] END LR__C=5.789894736842106, LR__solver=saga, SCL=StandardScaler();, score=0.825 total time=   0.1s\n",
      "[CV 4/5] END LR__C=5.789894736842106, LR__solver=saga, SCL=StandardScaler();, score=0.816 total time=   0.1s\n",
      "[CV 5/5] END LR__C=5.789894736842106, LR__solver=saga, SCL=StandardScaler();, score=0.827 total time=   0.1s\n"
     ]
    },
    {
     "name": "stderr",
     "output_type": "stream",
     "text": [
      "C:\\Users\\dai.STUDENTSDC\\AppData\\Local\\anaconda3\\Lib\\site-packages\\sklearn\\linear_model\\_sag.py:350: ConvergenceWarning: The max_iter was reached which means the coef_ did not converge\n",
      "  warnings.warn(\n"
     ]
    },
    {
     "name": "stdout",
     "output_type": "stream",
     "text": [
      "[CV 1/5] END LR__C=5.789894736842106, LR__solver=saga, SCL=None;, score=0.812 total time=   0.5s\n"
     ]
    },
    {
     "name": "stderr",
     "output_type": "stream",
     "text": [
      "C:\\Users\\dai.STUDENTSDC\\AppData\\Local\\anaconda3\\Lib\\site-packages\\sklearn\\linear_model\\_sag.py:350: ConvergenceWarning: The max_iter was reached which means the coef_ did not converge\n",
      "  warnings.warn(\n"
     ]
    },
    {
     "name": "stdout",
     "output_type": "stream",
     "text": [
      "[CV 2/5] END LR__C=5.789894736842106, LR__solver=saga, SCL=None;, score=0.792 total time=   0.5s\n"
     ]
    },
    {
     "name": "stderr",
     "output_type": "stream",
     "text": [
      "C:\\Users\\dai.STUDENTSDC\\AppData\\Local\\anaconda3\\Lib\\site-packages\\sklearn\\linear_model\\_sag.py:350: ConvergenceWarning: The max_iter was reached which means the coef_ did not converge\n",
      "  warnings.warn(\n"
     ]
    },
    {
     "name": "stdout",
     "output_type": "stream",
     "text": [
      "[CV 3/5] END LR__C=5.789894736842106, LR__solver=saga, SCL=None;, score=0.812 total time=   0.5s\n"
     ]
    },
    {
     "name": "stderr",
     "output_type": "stream",
     "text": [
      "C:\\Users\\dai.STUDENTSDC\\AppData\\Local\\anaconda3\\Lib\\site-packages\\sklearn\\linear_model\\_sag.py:350: ConvergenceWarning: The max_iter was reached which means the coef_ did not converge\n",
      "  warnings.warn(\n"
     ]
    },
    {
     "name": "stdout",
     "output_type": "stream",
     "text": [
      "[CV 4/5] END LR__C=5.789894736842106, LR__solver=saga, SCL=None;, score=0.807 total time=   0.5s\n"
     ]
    },
    {
     "name": "stderr",
     "output_type": "stream",
     "text": [
      "C:\\Users\\dai.STUDENTSDC\\AppData\\Local\\anaconda3\\Lib\\site-packages\\sklearn\\linear_model\\_sag.py:350: ConvergenceWarning: The max_iter was reached which means the coef_ did not converge\n",
      "  warnings.warn(\n"
     ]
    },
    {
     "name": "stdout",
     "output_type": "stream",
     "text": [
      "[CV 5/5] END LR__C=5.789894736842106, LR__solver=saga, SCL=None;, score=0.814 total time=   0.5s\n",
      "[CV 1/5] END LR__C=6.316157894736842, LR__solver=lbfgs, SCL=MinMaxScaler();, score=0.821 total time=   0.0s\n",
      "[CV 2/5] END LR__C=6.316157894736842, LR__solver=lbfgs, SCL=MinMaxScaler();, score=0.810 total time=   0.0s\n",
      "[CV 3/5] END LR__C=6.316157894736842, LR__solver=lbfgs, SCL=MinMaxScaler();, score=0.825 total time=   0.0s\n",
      "[CV 4/5] END LR__C=6.316157894736842, LR__solver=lbfgs, SCL=MinMaxScaler();, score=0.816 total time=   0.0s\n",
      "[CV 5/5] END LR__C=6.316157894736842, LR__solver=lbfgs, SCL=MinMaxScaler();, score=0.827 total time=   0.0s\n",
      "[CV 1/5] END LR__C=6.316157894736842, LR__solver=lbfgs, SCL=StandardScaler();, score=0.821 total time=   0.0s\n",
      "[CV 2/5] END LR__C=6.316157894736842, LR__solver=lbfgs, SCL=StandardScaler();, score=0.810 total time=   0.0s\n",
      "[CV 3/5] END LR__C=6.316157894736842, LR__solver=lbfgs, SCL=StandardScaler();, score=0.825 total time=   0.0s\n",
      "[CV 4/5] END LR__C=6.316157894736842, LR__solver=lbfgs, SCL=StandardScaler();, score=0.816 total time=   0.0s\n",
      "[CV 5/5] END LR__C=6.316157894736842, LR__solver=lbfgs, SCL=StandardScaler();, score=0.827 total time=   0.0s\n"
     ]
    },
    {
     "name": "stderr",
     "output_type": "stream",
     "text": [
      "C:\\Users\\dai.STUDENTSDC\\AppData\\Local\\anaconda3\\Lib\\site-packages\\sklearn\\linear_model\\_logistic.py:469: ConvergenceWarning: lbfgs failed to converge (status=1):\n",
      "STOP: TOTAL NO. of ITERATIONS REACHED LIMIT.\n",
      "\n",
      "Increase the number of iterations (max_iter) or scale the data as shown in:\n",
      "    https://scikit-learn.org/stable/modules/preprocessing.html\n",
      "Please also refer to the documentation for alternative solver options:\n",
      "    https://scikit-learn.org/stable/modules/linear_model.html#logistic-regression\n",
      "  n_iter_i = _check_optimize_result(\n"
     ]
    },
    {
     "name": "stdout",
     "output_type": "stream",
     "text": [
      "[CV 1/5] END LR__C=6.316157894736842, LR__solver=lbfgs, SCL=None;, score=0.816 total time=   0.2s\n"
     ]
    },
    {
     "name": "stderr",
     "output_type": "stream",
     "text": [
      "C:\\Users\\dai.STUDENTSDC\\AppData\\Local\\anaconda3\\Lib\\site-packages\\sklearn\\linear_model\\_logistic.py:469: ConvergenceWarning: lbfgs failed to converge (status=1):\n",
      "STOP: TOTAL NO. of ITERATIONS REACHED LIMIT.\n",
      "\n",
      "Increase the number of iterations (max_iter) or scale the data as shown in:\n",
      "    https://scikit-learn.org/stable/modules/preprocessing.html\n",
      "Please also refer to the documentation for alternative solver options:\n",
      "    https://scikit-learn.org/stable/modules/linear_model.html#logistic-regression\n",
      "  n_iter_i = _check_optimize_result(\n"
     ]
    },
    {
     "name": "stdout",
     "output_type": "stream",
     "text": [
      "[CV 2/5] END LR__C=6.316157894736842, LR__solver=lbfgs, SCL=None;, score=0.806 total time=   0.2s\n"
     ]
    },
    {
     "name": "stderr",
     "output_type": "stream",
     "text": [
      "C:\\Users\\dai.STUDENTSDC\\AppData\\Local\\anaconda3\\Lib\\site-packages\\sklearn\\linear_model\\_logistic.py:469: ConvergenceWarning: lbfgs failed to converge (status=1):\n",
      "STOP: TOTAL NO. of ITERATIONS REACHED LIMIT.\n",
      "\n",
      "Increase the number of iterations (max_iter) or scale the data as shown in:\n",
      "    https://scikit-learn.org/stable/modules/preprocessing.html\n",
      "Please also refer to the documentation for alternative solver options:\n",
      "    https://scikit-learn.org/stable/modules/linear_model.html#logistic-regression\n",
      "  n_iter_i = _check_optimize_result(\n"
     ]
    },
    {
     "name": "stdout",
     "output_type": "stream",
     "text": [
      "[CV 3/5] END LR__C=6.316157894736842, LR__solver=lbfgs, SCL=None;, score=0.818 total time=   0.2s\n"
     ]
    },
    {
     "name": "stderr",
     "output_type": "stream",
     "text": [
      "C:\\Users\\dai.STUDENTSDC\\AppData\\Local\\anaconda3\\Lib\\site-packages\\sklearn\\linear_model\\_logistic.py:469: ConvergenceWarning: lbfgs failed to converge (status=1):\n",
      "STOP: TOTAL NO. of ITERATIONS REACHED LIMIT.\n",
      "\n",
      "Increase the number of iterations (max_iter) or scale the data as shown in:\n",
      "    https://scikit-learn.org/stable/modules/preprocessing.html\n",
      "Please also refer to the documentation for alternative solver options:\n",
      "    https://scikit-learn.org/stable/modules/linear_model.html#logistic-regression\n",
      "  n_iter_i = _check_optimize_result(\n"
     ]
    },
    {
     "name": "stdout",
     "output_type": "stream",
     "text": [
      "[CV 4/5] END LR__C=6.316157894736842, LR__solver=lbfgs, SCL=None;, score=0.813 total time=   0.2s\n"
     ]
    },
    {
     "name": "stderr",
     "output_type": "stream",
     "text": [
      "C:\\Users\\dai.STUDENTSDC\\AppData\\Local\\anaconda3\\Lib\\site-packages\\sklearn\\linear_model\\_logistic.py:469: ConvergenceWarning: lbfgs failed to converge (status=1):\n",
      "STOP: TOTAL NO. of ITERATIONS REACHED LIMIT.\n",
      "\n",
      "Increase the number of iterations (max_iter) or scale the data as shown in:\n",
      "    https://scikit-learn.org/stable/modules/preprocessing.html\n",
      "Please also refer to the documentation for alternative solver options:\n",
      "    https://scikit-learn.org/stable/modules/linear_model.html#logistic-regression\n",
      "  n_iter_i = _check_optimize_result(\n"
     ]
    },
    {
     "name": "stdout",
     "output_type": "stream",
     "text": [
      "[CV 5/5] END LR__C=6.316157894736842, LR__solver=lbfgs, SCL=None;, score=0.822 total time=   0.2s\n",
      "[CV 1/5] END LR__C=6.316157894736842, LR__solver=liblinear, SCL=MinMaxScaler();, score=nan total time=   0.0s\n",
      "[CV 2/5] END LR__C=6.316157894736842, LR__solver=liblinear, SCL=MinMaxScaler();, score=nan total time=   0.0s\n",
      "[CV 3/5] END LR__C=6.316157894736842, LR__solver=liblinear, SCL=MinMaxScaler();, score=nan total time=   0.0s\n",
      "[CV 4/5] END LR__C=6.316157894736842, LR__solver=liblinear, SCL=MinMaxScaler();, score=nan total time=   0.0s\n",
      "[CV 5/5] END LR__C=6.316157894736842, LR__solver=liblinear, SCL=MinMaxScaler();, score=nan total time=   0.0s\n",
      "[CV 1/5] END LR__C=6.316157894736842, LR__solver=liblinear, SCL=StandardScaler();, score=nan total time=   0.0s\n",
      "[CV 2/5] END LR__C=6.316157894736842, LR__solver=liblinear, SCL=StandardScaler();, score=nan total time=   0.0s\n",
      "[CV 3/5] END LR__C=6.316157894736842, LR__solver=liblinear, SCL=StandardScaler();, score=nan total time=   0.0s\n",
      "[CV 4/5] END LR__C=6.316157894736842, LR__solver=liblinear, SCL=StandardScaler();, score=nan total time=   0.0s\n",
      "[CV 5/5] END LR__C=6.316157894736842, LR__solver=liblinear, SCL=StandardScaler();, score=nan total time=   0.0s\n",
      "[CV 1/5] END LR__C=6.316157894736842, LR__solver=liblinear, SCL=None;, score=nan total time=   0.0s\n",
      "[CV 2/5] END LR__C=6.316157894736842, LR__solver=liblinear, SCL=None;, score=nan total time=   0.0s\n",
      "[CV 3/5] END LR__C=6.316157894736842, LR__solver=liblinear, SCL=None;, score=nan total time=   0.0s\n",
      "[CV 4/5] END LR__C=6.316157894736842, LR__solver=liblinear, SCL=None;, score=nan total time=   0.0s\n",
      "[CV 5/5] END LR__C=6.316157894736842, LR__solver=liblinear, SCL=None;, score=nan total time=   0.0s\n",
      "[CV 1/5] END LR__C=6.316157894736842, LR__solver=newton-cg, SCL=MinMaxScaler();, score=0.821 total time=   0.0s\n",
      "[CV 2/5] END LR__C=6.316157894736842, LR__solver=newton-cg, SCL=MinMaxScaler();, score=0.810 total time=   0.0s\n",
      "[CV 3/5] END LR__C=6.316157894736842, LR__solver=newton-cg, SCL=MinMaxScaler();, score=0.825 total time=   0.0s\n",
      "[CV 4/5] END LR__C=6.316157894736842, LR__solver=newton-cg, SCL=MinMaxScaler();, score=0.816 total time=   0.1s\n",
      "[CV 5/5] END LR__C=6.316157894736842, LR__solver=newton-cg, SCL=MinMaxScaler();, score=0.827 total time=   0.0s\n",
      "[CV 1/5] END LR__C=6.316157894736842, LR__solver=newton-cg, SCL=StandardScaler();, score=0.821 total time=   0.0s\n",
      "[CV 2/5] END LR__C=6.316157894736842, LR__solver=newton-cg, SCL=StandardScaler();, score=0.810 total time=   0.0s\n",
      "[CV 3/5] END LR__C=6.316157894736842, LR__solver=newton-cg, SCL=StandardScaler();, score=0.825 total time=   0.0s\n",
      "[CV 4/5] END LR__C=6.316157894736842, LR__solver=newton-cg, SCL=StandardScaler();, score=0.816 total time=   0.0s\n",
      "[CV 5/5] END LR__C=6.316157894736842, LR__solver=newton-cg, SCL=StandardScaler();, score=0.827 total time=   0.0s\n",
      "[CV 1/5] END LR__C=6.316157894736842, LR__solver=newton-cg, SCL=None;, score=0.822 total time=   0.3s\n",
      "[CV 2/5] END LR__C=6.316157894736842, LR__solver=newton-cg, SCL=None;, score=0.810 total time=   0.4s\n",
      "[CV 3/5] END LR__C=6.316157894736842, LR__solver=newton-cg, SCL=None;, score=0.825 total time=   0.5s\n",
      "[CV 4/5] END LR__C=6.316157894736842, LR__solver=newton-cg, SCL=None;, score=0.816 total time=   0.5s\n",
      "[CV 5/5] END LR__C=6.316157894736842, LR__solver=newton-cg, SCL=None;, score=0.827 total time=   0.4s\n",
      "[CV 1/5] END LR__C=6.316157894736842, LR__solver=newton-cholesky, SCL=MinMaxScaler();, score=nan total time=   0.0s\n",
      "[CV 2/5] END LR__C=6.316157894736842, LR__solver=newton-cholesky, SCL=MinMaxScaler();, score=nan total time=   0.0s\n",
      "[CV 3/5] END LR__C=6.316157894736842, LR__solver=newton-cholesky, SCL=MinMaxScaler();, score=nan total time=   0.0s\n",
      "[CV 4/5] END LR__C=6.316157894736842, LR__solver=newton-cholesky, SCL=MinMaxScaler();, score=nan total time=   0.0s\n",
      "[CV 5/5] END LR__C=6.316157894736842, LR__solver=newton-cholesky, SCL=MinMaxScaler();, score=nan total time=   0.0s\n",
      "[CV 1/5] END LR__C=6.316157894736842, LR__solver=newton-cholesky, SCL=StandardScaler();, score=nan total time=   0.0s\n",
      "[CV 2/5] END LR__C=6.316157894736842, LR__solver=newton-cholesky, SCL=StandardScaler();, score=nan total time=   0.0s\n",
      "[CV 3/5] END LR__C=6.316157894736842, LR__solver=newton-cholesky, SCL=StandardScaler();, score=nan total time=   0.0s\n",
      "[CV 4/5] END LR__C=6.316157894736842, LR__solver=newton-cholesky, SCL=StandardScaler();, score=nan total time=   0.0s\n",
      "[CV 5/5] END LR__C=6.316157894736842, LR__solver=newton-cholesky, SCL=StandardScaler();, score=nan total time=   0.0s\n",
      "[CV 1/5] END LR__C=6.316157894736842, LR__solver=newton-cholesky, SCL=None;, score=nan total time=   0.0s\n",
      "[CV 2/5] END LR__C=6.316157894736842, LR__solver=newton-cholesky, SCL=None;, score=nan total time=   0.0s\n",
      "[CV 3/5] END LR__C=6.316157894736842, LR__solver=newton-cholesky, SCL=None;, score=nan total time=   0.0s\n",
      "[CV 4/5] END LR__C=6.316157894736842, LR__solver=newton-cholesky, SCL=None;, score=nan total time=   0.0s\n",
      "[CV 5/5] END LR__C=6.316157894736842, LR__solver=newton-cholesky, SCL=None;, score=nan total time=   0.0s\n",
      "[CV 1/5] END LR__C=6.316157894736842, LR__solver=sag, SCL=MinMaxScaler();, score=0.821 total time=   0.2s\n",
      "[CV 2/5] END LR__C=6.316157894736842, LR__solver=sag, SCL=MinMaxScaler();, score=0.810 total time=   0.3s\n",
      "[CV 3/5] END LR__C=6.316157894736842, LR__solver=sag, SCL=MinMaxScaler();, score=0.825 total time=   0.3s\n",
      "[CV 4/5] END LR__C=6.316157894736842, LR__solver=sag, SCL=MinMaxScaler();, score=0.816 total time=   0.4s\n",
      "[CV 5/5] END LR__C=6.316157894736842, LR__solver=sag, SCL=MinMaxScaler();, score=0.827 total time=   0.5s\n",
      "[CV 1/5] END LR__C=6.316157894736842, LR__solver=sag, SCL=StandardScaler();, score=0.821 total time=   0.2s\n",
      "[CV 2/5] END LR__C=6.316157894736842, LR__solver=sag, SCL=StandardScaler();, score=0.810 total time=   0.2s\n",
      "[CV 3/5] END LR__C=6.316157894736842, LR__solver=sag, SCL=StandardScaler();, score=0.825 total time=   0.2s\n",
      "[CV 4/5] END LR__C=6.316157894736842, LR__solver=sag, SCL=StandardScaler();, score=0.816 total time=   0.2s\n",
      "[CV 5/5] END LR__C=6.316157894736842, LR__solver=sag, SCL=StandardScaler();, score=0.827 total time=   0.2s\n"
     ]
    },
    {
     "name": "stderr",
     "output_type": "stream",
     "text": [
      "C:\\Users\\dai.STUDENTSDC\\AppData\\Local\\anaconda3\\Lib\\site-packages\\sklearn\\linear_model\\_sag.py:350: ConvergenceWarning: The max_iter was reached which means the coef_ did not converge\n",
      "  warnings.warn(\n"
     ]
    },
    {
     "name": "stdout",
     "output_type": "stream",
     "text": [
      "[CV 1/5] END LR__C=6.316157894736842, LR__solver=sag, SCL=None;, score=0.819 total time=   0.5s\n"
     ]
    },
    {
     "name": "stderr",
     "output_type": "stream",
     "text": [
      "C:\\Users\\dai.STUDENTSDC\\AppData\\Local\\anaconda3\\Lib\\site-packages\\sklearn\\linear_model\\_sag.py:350: ConvergenceWarning: The max_iter was reached which means the coef_ did not converge\n",
      "  warnings.warn(\n"
     ]
    },
    {
     "name": "stdout",
     "output_type": "stream",
     "text": [
      "[CV 2/5] END LR__C=6.316157894736842, LR__solver=sag, SCL=None;, score=0.802 total time=   0.5s\n"
     ]
    },
    {
     "name": "stderr",
     "output_type": "stream",
     "text": [
      "C:\\Users\\dai.STUDENTSDC\\AppData\\Local\\anaconda3\\Lib\\site-packages\\sklearn\\linear_model\\_sag.py:350: ConvergenceWarning: The max_iter was reached which means the coef_ did not converge\n",
      "  warnings.warn(\n"
     ]
    },
    {
     "name": "stdout",
     "output_type": "stream",
     "text": [
      "[CV 3/5] END LR__C=6.316157894736842, LR__solver=sag, SCL=None;, score=0.818 total time=   0.5s\n"
     ]
    },
    {
     "name": "stderr",
     "output_type": "stream",
     "text": [
      "C:\\Users\\dai.STUDENTSDC\\AppData\\Local\\anaconda3\\Lib\\site-packages\\sklearn\\linear_model\\_sag.py:350: ConvergenceWarning: The max_iter was reached which means the coef_ did not converge\n",
      "  warnings.warn(\n"
     ]
    },
    {
     "name": "stdout",
     "output_type": "stream",
     "text": [
      "[CV 4/5] END LR__C=6.316157894736842, LR__solver=sag, SCL=None;, score=0.813 total time=   0.5s\n"
     ]
    },
    {
     "name": "stderr",
     "output_type": "stream",
     "text": [
      "C:\\Users\\dai.STUDENTSDC\\AppData\\Local\\anaconda3\\Lib\\site-packages\\sklearn\\linear_model\\_sag.py:350: ConvergenceWarning: The max_iter was reached which means the coef_ did not converge\n",
      "  warnings.warn(\n"
     ]
    },
    {
     "name": "stdout",
     "output_type": "stream",
     "text": [
      "[CV 5/5] END LR__C=6.316157894736842, LR__solver=sag, SCL=None;, score=0.820 total time=   0.5s\n",
      "[CV 1/5] END LR__C=6.316157894736842, LR__solver=saga, SCL=MinMaxScaler();, score=0.821 total time=   0.1s\n",
      "[CV 2/5] END LR__C=6.316157894736842, LR__solver=saga, SCL=MinMaxScaler();, score=0.810 total time=   0.1s\n",
      "[CV 3/5] END LR__C=6.316157894736842, LR__solver=saga, SCL=MinMaxScaler();, score=0.825 total time=   0.1s\n",
      "[CV 4/5] END LR__C=6.316157894736842, LR__solver=saga, SCL=MinMaxScaler();, score=0.816 total time=   0.1s\n",
      "[CV 5/5] END LR__C=6.316157894736842, LR__solver=saga, SCL=MinMaxScaler();, score=0.827 total time=   0.1s\n",
      "[CV 1/5] END LR__C=6.316157894736842, LR__solver=saga, SCL=StandardScaler();, score=0.821 total time=   0.1s\n",
      "[CV 2/5] END LR__C=6.316157894736842, LR__solver=saga, SCL=StandardScaler();, score=0.810 total time=   0.1s\n",
      "[CV 3/5] END LR__C=6.316157894736842, LR__solver=saga, SCL=StandardScaler();, score=0.825 total time=   0.1s\n",
      "[CV 4/5] END LR__C=6.316157894736842, LR__solver=saga, SCL=StandardScaler();, score=0.816 total time=   0.0s\n",
      "[CV 5/5] END LR__C=6.316157894736842, LR__solver=saga, SCL=StandardScaler();, score=0.827 total time=   0.1s\n"
     ]
    },
    {
     "name": "stderr",
     "output_type": "stream",
     "text": [
      "C:\\Users\\dai.STUDENTSDC\\AppData\\Local\\anaconda3\\Lib\\site-packages\\sklearn\\linear_model\\_sag.py:350: ConvergenceWarning: The max_iter was reached which means the coef_ did not converge\n",
      "  warnings.warn(\n"
     ]
    },
    {
     "name": "stdout",
     "output_type": "stream",
     "text": [
      "[CV 1/5] END LR__C=6.316157894736842, LR__solver=saga, SCL=None;, score=0.812 total time=   0.5s\n"
     ]
    },
    {
     "name": "stderr",
     "output_type": "stream",
     "text": [
      "C:\\Users\\dai.STUDENTSDC\\AppData\\Local\\anaconda3\\Lib\\site-packages\\sklearn\\linear_model\\_sag.py:350: ConvergenceWarning: The max_iter was reached which means the coef_ did not converge\n",
      "  warnings.warn(\n"
     ]
    },
    {
     "name": "stdout",
     "output_type": "stream",
     "text": [
      "[CV 2/5] END LR__C=6.316157894736842, LR__solver=saga, SCL=None;, score=0.792 total time=   0.5s\n"
     ]
    },
    {
     "name": "stderr",
     "output_type": "stream",
     "text": [
      "C:\\Users\\dai.STUDENTSDC\\AppData\\Local\\anaconda3\\Lib\\site-packages\\sklearn\\linear_model\\_sag.py:350: ConvergenceWarning: The max_iter was reached which means the coef_ did not converge\n",
      "  warnings.warn(\n"
     ]
    },
    {
     "name": "stdout",
     "output_type": "stream",
     "text": [
      "[CV 3/5] END LR__C=6.316157894736842, LR__solver=saga, SCL=None;, score=0.812 total time=   0.5s\n"
     ]
    },
    {
     "name": "stderr",
     "output_type": "stream",
     "text": [
      "C:\\Users\\dai.STUDENTSDC\\AppData\\Local\\anaconda3\\Lib\\site-packages\\sklearn\\linear_model\\_sag.py:350: ConvergenceWarning: The max_iter was reached which means the coef_ did not converge\n",
      "  warnings.warn(\n"
     ]
    },
    {
     "name": "stdout",
     "output_type": "stream",
     "text": [
      "[CV 4/5] END LR__C=6.316157894736842, LR__solver=saga, SCL=None;, score=0.807 total time=   0.5s\n"
     ]
    },
    {
     "name": "stderr",
     "output_type": "stream",
     "text": [
      "C:\\Users\\dai.STUDENTSDC\\AppData\\Local\\anaconda3\\Lib\\site-packages\\sklearn\\linear_model\\_sag.py:350: ConvergenceWarning: The max_iter was reached which means the coef_ did not converge\n",
      "  warnings.warn(\n"
     ]
    },
    {
     "name": "stdout",
     "output_type": "stream",
     "text": [
      "[CV 5/5] END LR__C=6.316157894736842, LR__solver=saga, SCL=None;, score=0.814 total time=   0.5s\n",
      "[CV 1/5] END LR__C=6.84242105263158, LR__solver=lbfgs, SCL=MinMaxScaler();, score=0.821 total time=   0.0s\n",
      "[CV 2/5] END LR__C=6.84242105263158, LR__solver=lbfgs, SCL=MinMaxScaler();, score=0.810 total time=   0.0s\n",
      "[CV 3/5] END LR__C=6.84242105263158, LR__solver=lbfgs, SCL=MinMaxScaler();, score=0.825 total time=   0.0s\n",
      "[CV 4/5] END LR__C=6.84242105263158, LR__solver=lbfgs, SCL=MinMaxScaler();, score=0.816 total time=   0.0s\n",
      "[CV 5/5] END LR__C=6.84242105263158, LR__solver=lbfgs, SCL=MinMaxScaler();, score=0.827 total time=   0.0s\n",
      "[CV 1/5] END LR__C=6.84242105263158, LR__solver=lbfgs, SCL=StandardScaler();, score=0.821 total time=   0.0s\n",
      "[CV 2/5] END LR__C=6.84242105263158, LR__solver=lbfgs, SCL=StandardScaler();, score=0.810 total time=   0.0s\n",
      "[CV 3/5] END LR__C=6.84242105263158, LR__solver=lbfgs, SCL=StandardScaler();, score=0.825 total time=   0.0s\n",
      "[CV 4/5] END LR__C=6.84242105263158, LR__solver=lbfgs, SCL=StandardScaler();, score=0.816 total time=   0.0s\n",
      "[CV 5/5] END LR__C=6.84242105263158, LR__solver=lbfgs, SCL=StandardScaler();, score=0.827 total time=   0.0s\n"
     ]
    },
    {
     "name": "stderr",
     "output_type": "stream",
     "text": [
      "C:\\Users\\dai.STUDENTSDC\\AppData\\Local\\anaconda3\\Lib\\site-packages\\sklearn\\linear_model\\_logistic.py:469: ConvergenceWarning: lbfgs failed to converge (status=1):\n",
      "STOP: TOTAL NO. of ITERATIONS REACHED LIMIT.\n",
      "\n",
      "Increase the number of iterations (max_iter) or scale the data as shown in:\n",
      "    https://scikit-learn.org/stable/modules/preprocessing.html\n",
      "Please also refer to the documentation for alternative solver options:\n",
      "    https://scikit-learn.org/stable/modules/linear_model.html#logistic-regression\n",
      "  n_iter_i = _check_optimize_result(\n"
     ]
    },
    {
     "name": "stdout",
     "output_type": "stream",
     "text": [
      "[CV 1/5] END LR__C=6.84242105263158, LR__solver=lbfgs, SCL=None;, score=0.814 total time=   0.2s\n"
     ]
    },
    {
     "name": "stderr",
     "output_type": "stream",
     "text": [
      "C:\\Users\\dai.STUDENTSDC\\AppData\\Local\\anaconda3\\Lib\\site-packages\\sklearn\\linear_model\\_logistic.py:469: ConvergenceWarning: lbfgs failed to converge (status=1):\n",
      "STOP: TOTAL NO. of ITERATIONS REACHED LIMIT.\n",
      "\n",
      "Increase the number of iterations (max_iter) or scale the data as shown in:\n",
      "    https://scikit-learn.org/stable/modules/preprocessing.html\n",
      "Please also refer to the documentation for alternative solver options:\n",
      "    https://scikit-learn.org/stable/modules/linear_model.html#logistic-regression\n",
      "  n_iter_i = _check_optimize_result(\n"
     ]
    },
    {
     "name": "stdout",
     "output_type": "stream",
     "text": [
      "[CV 2/5] END LR__C=6.84242105263158, LR__solver=lbfgs, SCL=None;, score=0.805 total time=   0.2s\n"
     ]
    },
    {
     "name": "stderr",
     "output_type": "stream",
     "text": [
      "C:\\Users\\dai.STUDENTSDC\\AppData\\Local\\anaconda3\\Lib\\site-packages\\sklearn\\linear_model\\_logistic.py:469: ConvergenceWarning: lbfgs failed to converge (status=1):\n",
      "STOP: TOTAL NO. of ITERATIONS REACHED LIMIT.\n",
      "\n",
      "Increase the number of iterations (max_iter) or scale the data as shown in:\n",
      "    https://scikit-learn.org/stable/modules/preprocessing.html\n",
      "Please also refer to the documentation for alternative solver options:\n",
      "    https://scikit-learn.org/stable/modules/linear_model.html#logistic-regression\n",
      "  n_iter_i = _check_optimize_result(\n"
     ]
    },
    {
     "name": "stdout",
     "output_type": "stream",
     "text": [
      "[CV 3/5] END LR__C=6.84242105263158, LR__solver=lbfgs, SCL=None;, score=0.817 total time=   0.2s\n"
     ]
    },
    {
     "name": "stderr",
     "output_type": "stream",
     "text": [
      "C:\\Users\\dai.STUDENTSDC\\AppData\\Local\\anaconda3\\Lib\\site-packages\\sklearn\\linear_model\\_logistic.py:469: ConvergenceWarning: lbfgs failed to converge (status=1):\n",
      "STOP: TOTAL NO. of ITERATIONS REACHED LIMIT.\n",
      "\n",
      "Increase the number of iterations (max_iter) or scale the data as shown in:\n",
      "    https://scikit-learn.org/stable/modules/preprocessing.html\n",
      "Please also refer to the documentation for alternative solver options:\n",
      "    https://scikit-learn.org/stable/modules/linear_model.html#logistic-regression\n",
      "  n_iter_i = _check_optimize_result(\n"
     ]
    },
    {
     "name": "stdout",
     "output_type": "stream",
     "text": [
      "[CV 4/5] END LR__C=6.84242105263158, LR__solver=lbfgs, SCL=None;, score=0.812 total time=   0.2s\n"
     ]
    },
    {
     "name": "stderr",
     "output_type": "stream",
     "text": [
      "C:\\Users\\dai.STUDENTSDC\\AppData\\Local\\anaconda3\\Lib\\site-packages\\sklearn\\linear_model\\_logistic.py:469: ConvergenceWarning: lbfgs failed to converge (status=1):\n",
      "STOP: TOTAL NO. of ITERATIONS REACHED LIMIT.\n",
      "\n",
      "Increase the number of iterations (max_iter) or scale the data as shown in:\n",
      "    https://scikit-learn.org/stable/modules/preprocessing.html\n",
      "Please also refer to the documentation for alternative solver options:\n",
      "    https://scikit-learn.org/stable/modules/linear_model.html#logistic-regression\n",
      "  n_iter_i = _check_optimize_result(\n"
     ]
    },
    {
     "name": "stdout",
     "output_type": "stream",
     "text": [
      "[CV 5/5] END LR__C=6.84242105263158, LR__solver=lbfgs, SCL=None;, score=0.821 total time=   0.2s\n",
      "[CV 1/5] END LR__C=6.84242105263158, LR__solver=liblinear, SCL=MinMaxScaler();, score=nan total time=   0.0s\n",
      "[CV 2/5] END LR__C=6.84242105263158, LR__solver=liblinear, SCL=MinMaxScaler();, score=nan total time=   0.0s\n",
      "[CV 3/5] END LR__C=6.84242105263158, LR__solver=liblinear, SCL=MinMaxScaler();, score=nan total time=   0.0s\n",
      "[CV 4/5] END LR__C=6.84242105263158, LR__solver=liblinear, SCL=MinMaxScaler();, score=nan total time=   0.0s\n",
      "[CV 5/5] END LR__C=6.84242105263158, LR__solver=liblinear, SCL=MinMaxScaler();, score=nan total time=   0.0s\n",
      "[CV 1/5] END LR__C=6.84242105263158, LR__solver=liblinear, SCL=StandardScaler();, score=nan total time=   0.0s\n",
      "[CV 2/5] END LR__C=6.84242105263158, LR__solver=liblinear, SCL=StandardScaler();, score=nan total time=   0.0s\n",
      "[CV 3/5] END LR__C=6.84242105263158, LR__solver=liblinear, SCL=StandardScaler();, score=nan total time=   0.0s\n",
      "[CV 4/5] END LR__C=6.84242105263158, LR__solver=liblinear, SCL=StandardScaler();, score=nan total time=   0.0s\n",
      "[CV 5/5] END LR__C=6.84242105263158, LR__solver=liblinear, SCL=StandardScaler();, score=nan total time=   0.0s\n",
      "[CV 1/5] END LR__C=6.84242105263158, LR__solver=liblinear, SCL=None;, score=nan total time=   0.0s\n",
      "[CV 2/5] END LR__C=6.84242105263158, LR__solver=liblinear, SCL=None;, score=nan total time=   0.0s\n",
      "[CV 3/5] END LR__C=6.84242105263158, LR__solver=liblinear, SCL=None;, score=nan total time=   0.0s\n",
      "[CV 4/5] END LR__C=6.84242105263158, LR__solver=liblinear, SCL=None;, score=nan total time=   0.0s\n",
      "[CV 5/5] END LR__C=6.84242105263158, LR__solver=liblinear, SCL=None;, score=nan total time=   0.0s\n",
      "[CV 1/5] END LR__C=6.84242105263158, LR__solver=newton-cg, SCL=MinMaxScaler();, score=0.821 total time=   0.0s\n",
      "[CV 2/5] END LR__C=6.84242105263158, LR__solver=newton-cg, SCL=MinMaxScaler();, score=0.810 total time=   0.0s\n",
      "[CV 3/5] END LR__C=6.84242105263158, LR__solver=newton-cg, SCL=MinMaxScaler();, score=0.825 total time=   0.0s\n",
      "[CV 4/5] END LR__C=6.84242105263158, LR__solver=newton-cg, SCL=MinMaxScaler();, score=0.816 total time=   0.1s\n",
      "[CV 5/5] END LR__C=6.84242105263158, LR__solver=newton-cg, SCL=MinMaxScaler();, score=0.827 total time=   0.0s\n",
      "[CV 1/5] END LR__C=6.84242105263158, LR__solver=newton-cg, SCL=StandardScaler();, score=0.821 total time=   0.0s\n",
      "[CV 2/5] END LR__C=6.84242105263158, LR__solver=newton-cg, SCL=StandardScaler();, score=0.810 total time=   0.0s\n",
      "[CV 3/5] END LR__C=6.84242105263158, LR__solver=newton-cg, SCL=StandardScaler();, score=0.825 total time=   0.0s\n",
      "[CV 4/5] END LR__C=6.84242105263158, LR__solver=newton-cg, SCL=StandardScaler();, score=0.816 total time=   0.0s\n",
      "[CV 5/5] END LR__C=6.84242105263158, LR__solver=newton-cg, SCL=StandardScaler();, score=0.827 total time=   0.0s\n",
      "[CV 1/5] END LR__C=6.84242105263158, LR__solver=newton-cg, SCL=None;, score=0.821 total time=   0.3s\n",
      "[CV 2/5] END LR__C=6.84242105263158, LR__solver=newton-cg, SCL=None;, score=0.810 total time=   0.4s\n",
      "[CV 3/5] END LR__C=6.84242105263158, LR__solver=newton-cg, SCL=None;, score=0.825 total time=   0.4s\n",
      "[CV 4/5] END LR__C=6.84242105263158, LR__solver=newton-cg, SCL=None;, score=0.816 total time=   0.4s\n",
      "[CV 5/5] END LR__C=6.84242105263158, LR__solver=newton-cg, SCL=None;, score=0.827 total time=   0.4s\n",
      "[CV 1/5] END LR__C=6.84242105263158, LR__solver=newton-cholesky, SCL=MinMaxScaler();, score=nan total time=   0.0s\n",
      "[CV 2/5] END LR__C=6.84242105263158, LR__solver=newton-cholesky, SCL=MinMaxScaler();, score=nan total time=   0.0s\n",
      "[CV 3/5] END LR__C=6.84242105263158, LR__solver=newton-cholesky, SCL=MinMaxScaler();, score=nan total time=   0.0s\n",
      "[CV 4/5] END LR__C=6.84242105263158, LR__solver=newton-cholesky, SCL=MinMaxScaler();, score=nan total time=   0.0s\n",
      "[CV 5/5] END LR__C=6.84242105263158, LR__solver=newton-cholesky, SCL=MinMaxScaler();, score=nan total time=   0.0s\n",
      "[CV 1/5] END LR__C=6.84242105263158, LR__solver=newton-cholesky, SCL=StandardScaler();, score=nan total time=   0.0s\n",
      "[CV 2/5] END LR__C=6.84242105263158, LR__solver=newton-cholesky, SCL=StandardScaler();, score=nan total time=   0.0s\n",
      "[CV 3/5] END LR__C=6.84242105263158, LR__solver=newton-cholesky, SCL=StandardScaler();, score=nan total time=   0.0s\n",
      "[CV 4/5] END LR__C=6.84242105263158, LR__solver=newton-cholesky, SCL=StandardScaler();, score=nan total time=   0.0s\n",
      "[CV 5/5] END LR__C=6.84242105263158, LR__solver=newton-cholesky, SCL=StandardScaler();, score=nan total time=   0.0s\n",
      "[CV 1/5] END LR__C=6.84242105263158, LR__solver=newton-cholesky, SCL=None;, score=nan total time=   0.0s\n",
      "[CV 2/5] END LR__C=6.84242105263158, LR__solver=newton-cholesky, SCL=None;, score=nan total time=   0.0s\n",
      "[CV 3/5] END LR__C=6.84242105263158, LR__solver=newton-cholesky, SCL=None;, score=nan total time=   0.0s\n",
      "[CV 4/5] END LR__C=6.84242105263158, LR__solver=newton-cholesky, SCL=None;, score=nan total time=   0.0s\n",
      "[CV 5/5] END LR__C=6.84242105263158, LR__solver=newton-cholesky, SCL=None;, score=nan total time=   0.0s\n",
      "[CV 1/5] END LR__C=6.84242105263158, LR__solver=sag, SCL=MinMaxScaler();, score=0.821 total time=   0.2s\n",
      "[CV 2/5] END LR__C=6.84242105263158, LR__solver=sag, SCL=MinMaxScaler();, score=0.810 total time=   0.2s\n",
      "[CV 3/5] END LR__C=6.84242105263158, LR__solver=sag, SCL=MinMaxScaler();, score=0.825 total time=   0.3s\n",
      "[CV 4/5] END LR__C=6.84242105263158, LR__solver=sag, SCL=MinMaxScaler();, score=0.816 total time=   0.3s\n",
      "[CV 5/5] END LR__C=6.84242105263158, LR__solver=sag, SCL=MinMaxScaler();, score=0.827 total time=   0.3s\n",
      "[CV 1/5] END LR__C=6.84242105263158, LR__solver=sag, SCL=StandardScaler();, score=0.821 total time=   0.2s\n",
      "[CV 2/5] END LR__C=6.84242105263158, LR__solver=sag, SCL=StandardScaler();, score=0.810 total time=   0.2s\n",
      "[CV 3/5] END LR__C=6.84242105263158, LR__solver=sag, SCL=StandardScaler();, score=0.825 total time=   0.2s\n",
      "[CV 4/5] END LR__C=6.84242105263158, LR__solver=sag, SCL=StandardScaler();, score=0.816 total time=   0.2s\n",
      "[CV 5/5] END LR__C=6.84242105263158, LR__solver=sag, SCL=StandardScaler();, score=0.827 total time=   0.2s\n"
     ]
    },
    {
     "name": "stderr",
     "output_type": "stream",
     "text": [
      "C:\\Users\\dai.STUDENTSDC\\AppData\\Local\\anaconda3\\Lib\\site-packages\\sklearn\\linear_model\\_sag.py:350: ConvergenceWarning: The max_iter was reached which means the coef_ did not converge\n",
      "  warnings.warn(\n"
     ]
    },
    {
     "name": "stdout",
     "output_type": "stream",
     "text": [
      "[CV 1/5] END LR__C=6.84242105263158, LR__solver=sag, SCL=None;, score=0.819 total time=   0.5s\n"
     ]
    },
    {
     "name": "stderr",
     "output_type": "stream",
     "text": [
      "C:\\Users\\dai.STUDENTSDC\\AppData\\Local\\anaconda3\\Lib\\site-packages\\sklearn\\linear_model\\_sag.py:350: ConvergenceWarning: The max_iter was reached which means the coef_ did not converge\n",
      "  warnings.warn(\n"
     ]
    },
    {
     "name": "stdout",
     "output_type": "stream",
     "text": [
      "[CV 2/5] END LR__C=6.84242105263158, LR__solver=sag, SCL=None;, score=0.802 total time=   0.5s\n"
     ]
    },
    {
     "name": "stderr",
     "output_type": "stream",
     "text": [
      "C:\\Users\\dai.STUDENTSDC\\AppData\\Local\\anaconda3\\Lib\\site-packages\\sklearn\\linear_model\\_sag.py:350: ConvergenceWarning: The max_iter was reached which means the coef_ did not converge\n",
      "  warnings.warn(\n"
     ]
    },
    {
     "name": "stdout",
     "output_type": "stream",
     "text": [
      "[CV 3/5] END LR__C=6.84242105263158, LR__solver=sag, SCL=None;, score=0.818 total time=   0.4s\n"
     ]
    },
    {
     "name": "stderr",
     "output_type": "stream",
     "text": [
      "C:\\Users\\dai.STUDENTSDC\\AppData\\Local\\anaconda3\\Lib\\site-packages\\sklearn\\linear_model\\_sag.py:350: ConvergenceWarning: The max_iter was reached which means the coef_ did not converge\n",
      "  warnings.warn(\n"
     ]
    },
    {
     "name": "stdout",
     "output_type": "stream",
     "text": [
      "[CV 4/5] END LR__C=6.84242105263158, LR__solver=sag, SCL=None;, score=0.813 total time=   0.5s\n"
     ]
    },
    {
     "name": "stderr",
     "output_type": "stream",
     "text": [
      "C:\\Users\\dai.STUDENTSDC\\AppData\\Local\\anaconda3\\Lib\\site-packages\\sklearn\\linear_model\\_sag.py:350: ConvergenceWarning: The max_iter was reached which means the coef_ did not converge\n",
      "  warnings.warn(\n"
     ]
    },
    {
     "name": "stdout",
     "output_type": "stream",
     "text": [
      "[CV 5/5] END LR__C=6.84242105263158, LR__solver=sag, SCL=None;, score=0.820 total time=   0.5s\n",
      "[CV 1/5] END LR__C=6.84242105263158, LR__solver=saga, SCL=MinMaxScaler();, score=0.821 total time=   0.1s\n",
      "[CV 2/5] END LR__C=6.84242105263158, LR__solver=saga, SCL=MinMaxScaler();, score=0.810 total time=   0.1s\n",
      "[CV 3/5] END LR__C=6.84242105263158, LR__solver=saga, SCL=MinMaxScaler();, score=0.825 total time=   0.1s\n",
      "[CV 4/5] END LR__C=6.84242105263158, LR__solver=saga, SCL=MinMaxScaler();, score=0.816 total time=   0.1s\n",
      "[CV 5/5] END LR__C=6.84242105263158, LR__solver=saga, SCL=MinMaxScaler();, score=0.827 total time=   0.1s\n",
      "[CV 1/5] END LR__C=6.84242105263158, LR__solver=saga, SCL=StandardScaler();, score=0.821 total time=   0.1s\n",
      "[CV 2/5] END LR__C=6.84242105263158, LR__solver=saga, SCL=StandardScaler();, score=0.810 total time=   0.1s\n",
      "[CV 3/5] END LR__C=6.84242105263158, LR__solver=saga, SCL=StandardScaler();, score=0.825 total time=   0.1s\n",
      "[CV 4/5] END LR__C=6.84242105263158, LR__solver=saga, SCL=StandardScaler();, score=0.816 total time=   0.1s\n",
      "[CV 5/5] END LR__C=6.84242105263158, LR__solver=saga, SCL=StandardScaler();, score=0.827 total time=   0.1s\n"
     ]
    },
    {
     "name": "stderr",
     "output_type": "stream",
     "text": [
      "C:\\Users\\dai.STUDENTSDC\\AppData\\Local\\anaconda3\\Lib\\site-packages\\sklearn\\linear_model\\_sag.py:350: ConvergenceWarning: The max_iter was reached which means the coef_ did not converge\n",
      "  warnings.warn(\n"
     ]
    },
    {
     "name": "stdout",
     "output_type": "stream",
     "text": [
      "[CV 1/5] END LR__C=6.84242105263158, LR__solver=saga, SCL=None;, score=0.812 total time=   0.5s\n"
     ]
    },
    {
     "name": "stderr",
     "output_type": "stream",
     "text": [
      "C:\\Users\\dai.STUDENTSDC\\AppData\\Local\\anaconda3\\Lib\\site-packages\\sklearn\\linear_model\\_sag.py:350: ConvergenceWarning: The max_iter was reached which means the coef_ did not converge\n",
      "  warnings.warn(\n"
     ]
    },
    {
     "name": "stdout",
     "output_type": "stream",
     "text": [
      "[CV 2/5] END LR__C=6.84242105263158, LR__solver=saga, SCL=None;, score=0.792 total time=   0.5s\n"
     ]
    },
    {
     "name": "stderr",
     "output_type": "stream",
     "text": [
      "C:\\Users\\dai.STUDENTSDC\\AppData\\Local\\anaconda3\\Lib\\site-packages\\sklearn\\linear_model\\_sag.py:350: ConvergenceWarning: The max_iter was reached which means the coef_ did not converge\n",
      "  warnings.warn(\n"
     ]
    },
    {
     "name": "stdout",
     "output_type": "stream",
     "text": [
      "[CV 3/5] END LR__C=6.84242105263158, LR__solver=saga, SCL=None;, score=0.812 total time=   0.5s\n"
     ]
    },
    {
     "name": "stderr",
     "output_type": "stream",
     "text": [
      "C:\\Users\\dai.STUDENTSDC\\AppData\\Local\\anaconda3\\Lib\\site-packages\\sklearn\\linear_model\\_sag.py:350: ConvergenceWarning: The max_iter was reached which means the coef_ did not converge\n",
      "  warnings.warn(\n"
     ]
    },
    {
     "name": "stdout",
     "output_type": "stream",
     "text": [
      "[CV 4/5] END LR__C=6.84242105263158, LR__solver=saga, SCL=None;, score=0.807 total time=   0.5s\n"
     ]
    },
    {
     "name": "stderr",
     "output_type": "stream",
     "text": [
      "C:\\Users\\dai.STUDENTSDC\\AppData\\Local\\anaconda3\\Lib\\site-packages\\sklearn\\linear_model\\_sag.py:350: ConvergenceWarning: The max_iter was reached which means the coef_ did not converge\n",
      "  warnings.warn(\n"
     ]
    },
    {
     "name": "stdout",
     "output_type": "stream",
     "text": [
      "[CV 5/5] END LR__C=6.84242105263158, LR__solver=saga, SCL=None;, score=0.814 total time=   0.5s\n",
      "[CV 1/5] END LR__C=7.368684210526316, LR__solver=lbfgs, SCL=MinMaxScaler();, score=0.821 total time=   0.0s\n",
      "[CV 2/5] END LR__C=7.368684210526316, LR__solver=lbfgs, SCL=MinMaxScaler();, score=0.810 total time=   0.0s\n",
      "[CV 3/5] END LR__C=7.368684210526316, LR__solver=lbfgs, SCL=MinMaxScaler();, score=0.825 total time=   0.0s\n",
      "[CV 4/5] END LR__C=7.368684210526316, LR__solver=lbfgs, SCL=MinMaxScaler();, score=0.816 total time=   0.0s\n",
      "[CV 5/5] END LR__C=7.368684210526316, LR__solver=lbfgs, SCL=MinMaxScaler();, score=0.827 total time=   0.0s\n",
      "[CV 1/5] END LR__C=7.368684210526316, LR__solver=lbfgs, SCL=StandardScaler();, score=0.821 total time=   0.0s\n",
      "[CV 2/5] END LR__C=7.368684210526316, LR__solver=lbfgs, SCL=StandardScaler();, score=0.810 total time=   0.0s\n",
      "[CV 3/5] END LR__C=7.368684210526316, LR__solver=lbfgs, SCL=StandardScaler();, score=0.825 total time=   0.0s\n",
      "[CV 4/5] END LR__C=7.368684210526316, LR__solver=lbfgs, SCL=StandardScaler();, score=0.816 total time=   0.0s\n",
      "[CV 5/5] END LR__C=7.368684210526316, LR__solver=lbfgs, SCL=StandardScaler();, score=0.827 total time=   0.0s\n"
     ]
    },
    {
     "name": "stderr",
     "output_type": "stream",
     "text": [
      "C:\\Users\\dai.STUDENTSDC\\AppData\\Local\\anaconda3\\Lib\\site-packages\\sklearn\\linear_model\\_logistic.py:469: ConvergenceWarning: lbfgs failed to converge (status=1):\n",
      "STOP: TOTAL NO. of ITERATIONS REACHED LIMIT.\n",
      "\n",
      "Increase the number of iterations (max_iter) or scale the data as shown in:\n",
      "    https://scikit-learn.org/stable/modules/preprocessing.html\n",
      "Please also refer to the documentation for alternative solver options:\n",
      "    https://scikit-learn.org/stable/modules/linear_model.html#logistic-regression\n",
      "  n_iter_i = _check_optimize_result(\n"
     ]
    },
    {
     "name": "stdout",
     "output_type": "stream",
     "text": [
      "[CV 1/5] END LR__C=7.368684210526316, LR__solver=lbfgs, SCL=None;, score=0.818 total time=   0.2s\n"
     ]
    },
    {
     "name": "stderr",
     "output_type": "stream",
     "text": [
      "C:\\Users\\dai.STUDENTSDC\\AppData\\Local\\anaconda3\\Lib\\site-packages\\sklearn\\linear_model\\_logistic.py:469: ConvergenceWarning: lbfgs failed to converge (status=1):\n",
      "STOP: TOTAL NO. of ITERATIONS REACHED LIMIT.\n",
      "\n",
      "Increase the number of iterations (max_iter) or scale the data as shown in:\n",
      "    https://scikit-learn.org/stable/modules/preprocessing.html\n",
      "Please also refer to the documentation for alternative solver options:\n",
      "    https://scikit-learn.org/stable/modules/linear_model.html#logistic-regression\n",
      "  n_iter_i = _check_optimize_result(\n"
     ]
    },
    {
     "name": "stdout",
     "output_type": "stream",
     "text": [
      "[CV 2/5] END LR__C=7.368684210526316, LR__solver=lbfgs, SCL=None;, score=0.805 total time=   0.2s\n"
     ]
    },
    {
     "name": "stderr",
     "output_type": "stream",
     "text": [
      "C:\\Users\\dai.STUDENTSDC\\AppData\\Local\\anaconda3\\Lib\\site-packages\\sklearn\\linear_model\\_logistic.py:469: ConvergenceWarning: lbfgs failed to converge (status=1):\n",
      "STOP: TOTAL NO. of ITERATIONS REACHED LIMIT.\n",
      "\n",
      "Increase the number of iterations (max_iter) or scale the data as shown in:\n",
      "    https://scikit-learn.org/stable/modules/preprocessing.html\n",
      "Please also refer to the documentation for alternative solver options:\n",
      "    https://scikit-learn.org/stable/modules/linear_model.html#logistic-regression\n",
      "  n_iter_i = _check_optimize_result(\n"
     ]
    },
    {
     "name": "stdout",
     "output_type": "stream",
     "text": [
      "[CV 3/5] END LR__C=7.368684210526316, LR__solver=lbfgs, SCL=None;, score=0.820 total time=   0.2s\n"
     ]
    },
    {
     "name": "stderr",
     "output_type": "stream",
     "text": [
      "C:\\Users\\dai.STUDENTSDC\\AppData\\Local\\anaconda3\\Lib\\site-packages\\sklearn\\linear_model\\_logistic.py:469: ConvergenceWarning: lbfgs failed to converge (status=1):\n",
      "STOP: TOTAL NO. of ITERATIONS REACHED LIMIT.\n",
      "\n",
      "Increase the number of iterations (max_iter) or scale the data as shown in:\n",
      "    https://scikit-learn.org/stable/modules/preprocessing.html\n",
      "Please also refer to the documentation for alternative solver options:\n",
      "    https://scikit-learn.org/stable/modules/linear_model.html#logistic-regression\n",
      "  n_iter_i = _check_optimize_result(\n"
     ]
    },
    {
     "name": "stdout",
     "output_type": "stream",
     "text": [
      "[CV 4/5] END LR__C=7.368684210526316, LR__solver=lbfgs, SCL=None;, score=0.812 total time=   0.2s\n"
     ]
    },
    {
     "name": "stderr",
     "output_type": "stream",
     "text": [
      "C:\\Users\\dai.STUDENTSDC\\AppData\\Local\\anaconda3\\Lib\\site-packages\\sklearn\\linear_model\\_logistic.py:469: ConvergenceWarning: lbfgs failed to converge (status=1):\n",
      "STOP: TOTAL NO. of ITERATIONS REACHED LIMIT.\n",
      "\n",
      "Increase the number of iterations (max_iter) or scale the data as shown in:\n",
      "    https://scikit-learn.org/stable/modules/preprocessing.html\n",
      "Please also refer to the documentation for alternative solver options:\n",
      "    https://scikit-learn.org/stable/modules/linear_model.html#logistic-regression\n",
      "  n_iter_i = _check_optimize_result(\n"
     ]
    },
    {
     "name": "stdout",
     "output_type": "stream",
     "text": [
      "[CV 5/5] END LR__C=7.368684210526316, LR__solver=lbfgs, SCL=None;, score=0.821 total time=   0.2s\n",
      "[CV 1/5] END LR__C=7.368684210526316, LR__solver=liblinear, SCL=MinMaxScaler();, score=nan total time=   0.0s\n",
      "[CV 2/5] END LR__C=7.368684210526316, LR__solver=liblinear, SCL=MinMaxScaler();, score=nan total time=   0.0s\n",
      "[CV 3/5] END LR__C=7.368684210526316, LR__solver=liblinear, SCL=MinMaxScaler();, score=nan total time=   0.0s\n",
      "[CV 4/5] END LR__C=7.368684210526316, LR__solver=liblinear, SCL=MinMaxScaler();, score=nan total time=   0.0s\n",
      "[CV 5/5] END LR__C=7.368684210526316, LR__solver=liblinear, SCL=MinMaxScaler();, score=nan total time=   0.0s\n",
      "[CV 1/5] END LR__C=7.368684210526316, LR__solver=liblinear, SCL=StandardScaler();, score=nan total time=   0.0s\n",
      "[CV 2/5] END LR__C=7.368684210526316, LR__solver=liblinear, SCL=StandardScaler();, score=nan total time=   0.0s\n",
      "[CV 3/5] END LR__C=7.368684210526316, LR__solver=liblinear, SCL=StandardScaler();, score=nan total time=   0.0s\n",
      "[CV 4/5] END LR__C=7.368684210526316, LR__solver=liblinear, SCL=StandardScaler();, score=nan total time=   0.0s\n",
      "[CV 5/5] END LR__C=7.368684210526316, LR__solver=liblinear, SCL=StandardScaler();, score=nan total time=   0.0s\n",
      "[CV 1/5] END LR__C=7.368684210526316, LR__solver=liblinear, SCL=None;, score=nan total time=   0.0s\n",
      "[CV 2/5] END LR__C=7.368684210526316, LR__solver=liblinear, SCL=None;, score=nan total time=   0.0s\n",
      "[CV 3/5] END LR__C=7.368684210526316, LR__solver=liblinear, SCL=None;, score=nan total time=   0.0s\n",
      "[CV 4/5] END LR__C=7.368684210526316, LR__solver=liblinear, SCL=None;, score=nan total time=   0.0s\n",
      "[CV 5/5] END LR__C=7.368684210526316, LR__solver=liblinear, SCL=None;, score=nan total time=   0.0s\n",
      "[CV 1/5] END LR__C=7.368684210526316, LR__solver=newton-cg, SCL=MinMaxScaler();, score=0.821 total time=   0.0s\n",
      "[CV 2/5] END LR__C=7.368684210526316, LR__solver=newton-cg, SCL=MinMaxScaler();, score=0.810 total time=   0.0s\n",
      "[CV 3/5] END LR__C=7.368684210526316, LR__solver=newton-cg, SCL=MinMaxScaler();, score=0.825 total time=   0.0s\n",
      "[CV 4/5] END LR__C=7.368684210526316, LR__solver=newton-cg, SCL=MinMaxScaler();, score=0.816 total time=   0.1s\n",
      "[CV 5/5] END LR__C=7.368684210526316, LR__solver=newton-cg, SCL=MinMaxScaler();, score=0.827 total time=   0.0s\n",
      "[CV 1/5] END LR__C=7.368684210526316, LR__solver=newton-cg, SCL=StandardScaler();, score=0.821 total time=   0.0s\n",
      "[CV 2/5] END LR__C=7.368684210526316, LR__solver=newton-cg, SCL=StandardScaler();, score=0.810 total time=   0.0s\n",
      "[CV 3/5] END LR__C=7.368684210526316, LR__solver=newton-cg, SCL=StandardScaler();, score=0.825 total time=   0.0s\n",
      "[CV 4/5] END LR__C=7.368684210526316, LR__solver=newton-cg, SCL=StandardScaler();, score=0.816 total time=   0.0s\n",
      "[CV 5/5] END LR__C=7.368684210526316, LR__solver=newton-cg, SCL=StandardScaler();, score=0.827 total time=   0.0s\n",
      "[CV 1/5] END LR__C=7.368684210526316, LR__solver=newton-cg, SCL=None;, score=0.821 total time=   0.3s\n",
      "[CV 2/5] END LR__C=7.368684210526316, LR__solver=newton-cg, SCL=None;, score=0.810 total time=   0.4s\n",
      "[CV 3/5] END LR__C=7.368684210526316, LR__solver=newton-cg, SCL=None;, score=0.825 total time=   0.4s\n",
      "[CV 4/5] END LR__C=7.368684210526316, LR__solver=newton-cg, SCL=None;, score=0.816 total time=   0.4s\n",
      "[CV 5/5] END LR__C=7.368684210526316, LR__solver=newton-cg, SCL=None;, score=0.827 total time=   0.3s\n",
      "[CV 1/5] END LR__C=7.368684210526316, LR__solver=newton-cholesky, SCL=MinMaxScaler();, score=nan total time=   0.0s\n",
      "[CV 2/5] END LR__C=7.368684210526316, LR__solver=newton-cholesky, SCL=MinMaxScaler();, score=nan total time=   0.0s\n",
      "[CV 3/5] END LR__C=7.368684210526316, LR__solver=newton-cholesky, SCL=MinMaxScaler();, score=nan total time=   0.0s\n",
      "[CV 4/5] END LR__C=7.368684210526316, LR__solver=newton-cholesky, SCL=MinMaxScaler();, score=nan total time=   0.0s\n",
      "[CV 5/5] END LR__C=7.368684210526316, LR__solver=newton-cholesky, SCL=MinMaxScaler();, score=nan total time=   0.0s\n",
      "[CV 1/5] END LR__C=7.368684210526316, LR__solver=newton-cholesky, SCL=StandardScaler();, score=nan total time=   0.0s\n",
      "[CV 2/5] END LR__C=7.368684210526316, LR__solver=newton-cholesky, SCL=StandardScaler();, score=nan total time=   0.0s\n",
      "[CV 3/5] END LR__C=7.368684210526316, LR__solver=newton-cholesky, SCL=StandardScaler();, score=nan total time=   0.0s\n",
      "[CV 4/5] END LR__C=7.368684210526316, LR__solver=newton-cholesky, SCL=StandardScaler();, score=nan total time=   0.0s\n",
      "[CV 5/5] END LR__C=7.368684210526316, LR__solver=newton-cholesky, SCL=StandardScaler();, score=nan total time=   0.0s\n",
      "[CV 1/5] END LR__C=7.368684210526316, LR__solver=newton-cholesky, SCL=None;, score=nan total time=   0.0s\n",
      "[CV 2/5] END LR__C=7.368684210526316, LR__solver=newton-cholesky, SCL=None;, score=nan total time=   0.0s\n",
      "[CV 3/5] END LR__C=7.368684210526316, LR__solver=newton-cholesky, SCL=None;, score=nan total time=   0.0s\n",
      "[CV 4/5] END LR__C=7.368684210526316, LR__solver=newton-cholesky, SCL=None;, score=nan total time=   0.0s\n",
      "[CV 5/5] END LR__C=7.368684210526316, LR__solver=newton-cholesky, SCL=None;, score=nan total time=   0.0s\n",
      "[CV 1/5] END LR__C=7.368684210526316, LR__solver=sag, SCL=MinMaxScaler();, score=0.821 total time=   0.2s\n",
      "[CV 2/5] END LR__C=7.368684210526316, LR__solver=sag, SCL=MinMaxScaler();, score=0.810 total time=   0.2s\n",
      "[CV 3/5] END LR__C=7.368684210526316, LR__solver=sag, SCL=MinMaxScaler();, score=0.825 total time=   0.3s\n",
      "[CV 4/5] END LR__C=7.368684210526316, LR__solver=sag, SCL=MinMaxScaler();, score=0.816 total time=   0.4s\n",
      "[CV 5/5] END LR__C=7.368684210526316, LR__solver=sag, SCL=MinMaxScaler();, score=0.827 total time=   0.4s\n",
      "[CV 1/5] END LR__C=7.368684210526316, LR__solver=sag, SCL=StandardScaler();, score=0.821 total time=   0.2s\n",
      "[CV 2/5] END LR__C=7.368684210526316, LR__solver=sag, SCL=StandardScaler();, score=0.810 total time=   0.2s\n",
      "[CV 3/5] END LR__C=7.368684210526316, LR__solver=sag, SCL=StandardScaler();, score=0.825 total time=   0.2s\n",
      "[CV 4/5] END LR__C=7.368684210526316, LR__solver=sag, SCL=StandardScaler();, score=0.816 total time=   0.2s\n",
      "[CV 5/5] END LR__C=7.368684210526316, LR__solver=sag, SCL=StandardScaler();, score=0.827 total time=   0.2s\n"
     ]
    },
    {
     "name": "stderr",
     "output_type": "stream",
     "text": [
      "C:\\Users\\dai.STUDENTSDC\\AppData\\Local\\anaconda3\\Lib\\site-packages\\sklearn\\linear_model\\_sag.py:350: ConvergenceWarning: The max_iter was reached which means the coef_ did not converge\n",
      "  warnings.warn(\n"
     ]
    },
    {
     "name": "stdout",
     "output_type": "stream",
     "text": [
      "[CV 1/5] END LR__C=7.368684210526316, LR__solver=sag, SCL=None;, score=0.819 total time=   0.5s\n"
     ]
    },
    {
     "name": "stderr",
     "output_type": "stream",
     "text": [
      "C:\\Users\\dai.STUDENTSDC\\AppData\\Local\\anaconda3\\Lib\\site-packages\\sklearn\\linear_model\\_sag.py:350: ConvergenceWarning: The max_iter was reached which means the coef_ did not converge\n",
      "  warnings.warn(\n"
     ]
    },
    {
     "name": "stdout",
     "output_type": "stream",
     "text": [
      "[CV 2/5] END LR__C=7.368684210526316, LR__solver=sag, SCL=None;, score=0.802 total time=   0.4s\n"
     ]
    },
    {
     "name": "stderr",
     "output_type": "stream",
     "text": [
      "C:\\Users\\dai.STUDENTSDC\\AppData\\Local\\anaconda3\\Lib\\site-packages\\sklearn\\linear_model\\_sag.py:350: ConvergenceWarning: The max_iter was reached which means the coef_ did not converge\n",
      "  warnings.warn(\n"
     ]
    },
    {
     "name": "stdout",
     "output_type": "stream",
     "text": [
      "[CV 3/5] END LR__C=7.368684210526316, LR__solver=sag, SCL=None;, score=0.818 total time=   0.5s\n"
     ]
    },
    {
     "name": "stderr",
     "output_type": "stream",
     "text": [
      "C:\\Users\\dai.STUDENTSDC\\AppData\\Local\\anaconda3\\Lib\\site-packages\\sklearn\\linear_model\\_sag.py:350: ConvergenceWarning: The max_iter was reached which means the coef_ did not converge\n",
      "  warnings.warn(\n"
     ]
    },
    {
     "name": "stdout",
     "output_type": "stream",
     "text": [
      "[CV 4/5] END LR__C=7.368684210526316, LR__solver=sag, SCL=None;, score=0.813 total time=   0.5s\n"
     ]
    },
    {
     "name": "stderr",
     "output_type": "stream",
     "text": [
      "C:\\Users\\dai.STUDENTSDC\\AppData\\Local\\anaconda3\\Lib\\site-packages\\sklearn\\linear_model\\_sag.py:350: ConvergenceWarning: The max_iter was reached which means the coef_ did not converge\n",
      "  warnings.warn(\n"
     ]
    },
    {
     "name": "stdout",
     "output_type": "stream",
     "text": [
      "[CV 5/5] END LR__C=7.368684210526316, LR__solver=sag, SCL=None;, score=0.820 total time=   0.5s\n",
      "[CV 1/5] END LR__C=7.368684210526316, LR__solver=saga, SCL=MinMaxScaler();, score=0.821 total time=   0.1s\n",
      "[CV 2/5] END LR__C=7.368684210526316, LR__solver=saga, SCL=MinMaxScaler();, score=0.810 total time=   0.1s\n",
      "[CV 3/5] END LR__C=7.368684210526316, LR__solver=saga, SCL=MinMaxScaler();, score=0.825 total time=   0.1s\n",
      "[CV 4/5] END LR__C=7.368684210526316, LR__solver=saga, SCL=MinMaxScaler();, score=0.816 total time=   0.1s\n",
      "[CV 5/5] END LR__C=7.368684210526316, LR__solver=saga, SCL=MinMaxScaler();, score=0.827 total time=   0.1s\n",
      "[CV 1/5] END LR__C=7.368684210526316, LR__solver=saga, SCL=StandardScaler();, score=0.821 total time=   0.1s\n",
      "[CV 2/5] END LR__C=7.368684210526316, LR__solver=saga, SCL=StandardScaler();, score=0.810 total time=   0.1s\n",
      "[CV 3/5] END LR__C=7.368684210526316, LR__solver=saga, SCL=StandardScaler();, score=0.825 total time=   0.1s\n",
      "[CV 4/5] END LR__C=7.368684210526316, LR__solver=saga, SCL=StandardScaler();, score=0.816 total time=   0.1s\n",
      "[CV 5/5] END LR__C=7.368684210526316, LR__solver=saga, SCL=StandardScaler();, score=0.827 total time=   0.1s\n"
     ]
    },
    {
     "name": "stderr",
     "output_type": "stream",
     "text": [
      "C:\\Users\\dai.STUDENTSDC\\AppData\\Local\\anaconda3\\Lib\\site-packages\\sklearn\\linear_model\\_sag.py:350: ConvergenceWarning: The max_iter was reached which means the coef_ did not converge\n",
      "  warnings.warn(\n"
     ]
    },
    {
     "name": "stdout",
     "output_type": "stream",
     "text": [
      "[CV 1/5] END LR__C=7.368684210526316, LR__solver=saga, SCL=None;, score=0.812 total time=   0.5s\n"
     ]
    },
    {
     "name": "stderr",
     "output_type": "stream",
     "text": [
      "C:\\Users\\dai.STUDENTSDC\\AppData\\Local\\anaconda3\\Lib\\site-packages\\sklearn\\linear_model\\_sag.py:350: ConvergenceWarning: The max_iter was reached which means the coef_ did not converge\n",
      "  warnings.warn(\n"
     ]
    },
    {
     "name": "stdout",
     "output_type": "stream",
     "text": [
      "[CV 2/5] END LR__C=7.368684210526316, LR__solver=saga, SCL=None;, score=0.792 total time=   0.5s\n"
     ]
    },
    {
     "name": "stderr",
     "output_type": "stream",
     "text": [
      "C:\\Users\\dai.STUDENTSDC\\AppData\\Local\\anaconda3\\Lib\\site-packages\\sklearn\\linear_model\\_sag.py:350: ConvergenceWarning: The max_iter was reached which means the coef_ did not converge\n",
      "  warnings.warn(\n"
     ]
    },
    {
     "name": "stdout",
     "output_type": "stream",
     "text": [
      "[CV 3/5] END LR__C=7.368684210526316, LR__solver=saga, SCL=None;, score=0.812 total time=   0.5s\n"
     ]
    },
    {
     "name": "stderr",
     "output_type": "stream",
     "text": [
      "C:\\Users\\dai.STUDENTSDC\\AppData\\Local\\anaconda3\\Lib\\site-packages\\sklearn\\linear_model\\_sag.py:350: ConvergenceWarning: The max_iter was reached which means the coef_ did not converge\n",
      "  warnings.warn(\n"
     ]
    },
    {
     "name": "stdout",
     "output_type": "stream",
     "text": [
      "[CV 4/5] END LR__C=7.368684210526316, LR__solver=saga, SCL=None;, score=0.807 total time=   0.5s\n"
     ]
    },
    {
     "name": "stderr",
     "output_type": "stream",
     "text": [
      "C:\\Users\\dai.STUDENTSDC\\AppData\\Local\\anaconda3\\Lib\\site-packages\\sklearn\\linear_model\\_sag.py:350: ConvergenceWarning: The max_iter was reached which means the coef_ did not converge\n",
      "  warnings.warn(\n"
     ]
    },
    {
     "name": "stdout",
     "output_type": "stream",
     "text": [
      "[CV 5/5] END LR__C=7.368684210526316, LR__solver=saga, SCL=None;, score=0.814 total time=   0.5s\n",
      "[CV 1/5] END LR__C=7.894947368421054, LR__solver=lbfgs, SCL=MinMaxScaler();, score=0.821 total time=   0.0s\n",
      "[CV 2/5] END LR__C=7.894947368421054, LR__solver=lbfgs, SCL=MinMaxScaler();, score=0.810 total time=   0.0s\n",
      "[CV 3/5] END LR__C=7.894947368421054, LR__solver=lbfgs, SCL=MinMaxScaler();, score=0.825 total time=   0.0s\n",
      "[CV 4/5] END LR__C=7.894947368421054, LR__solver=lbfgs, SCL=MinMaxScaler();, score=0.816 total time=   0.0s\n",
      "[CV 5/5] END LR__C=7.894947368421054, LR__solver=lbfgs, SCL=MinMaxScaler();, score=0.827 total time=   0.0s\n",
      "[CV 1/5] END LR__C=7.894947368421054, LR__solver=lbfgs, SCL=StandardScaler();, score=0.821 total time=   0.0s\n",
      "[CV 2/5] END LR__C=7.894947368421054, LR__solver=lbfgs, SCL=StandardScaler();, score=0.810 total time=   0.0s\n",
      "[CV 3/5] END LR__C=7.894947368421054, LR__solver=lbfgs, SCL=StandardScaler();, score=0.825 total time=   0.0s\n",
      "[CV 4/5] END LR__C=7.894947368421054, LR__solver=lbfgs, SCL=StandardScaler();, score=0.816 total time=   0.0s\n",
      "[CV 5/5] END LR__C=7.894947368421054, LR__solver=lbfgs, SCL=StandardScaler();, score=0.827 total time=   0.0s\n"
     ]
    },
    {
     "name": "stderr",
     "output_type": "stream",
     "text": [
      "C:\\Users\\dai.STUDENTSDC\\AppData\\Local\\anaconda3\\Lib\\site-packages\\sklearn\\linear_model\\_logistic.py:469: ConvergenceWarning: lbfgs failed to converge (status=1):\n",
      "STOP: TOTAL NO. of ITERATIONS REACHED LIMIT.\n",
      "\n",
      "Increase the number of iterations (max_iter) or scale the data as shown in:\n",
      "    https://scikit-learn.org/stable/modules/preprocessing.html\n",
      "Please also refer to the documentation for alternative solver options:\n",
      "    https://scikit-learn.org/stable/modules/linear_model.html#logistic-regression\n",
      "  n_iter_i = _check_optimize_result(\n"
     ]
    },
    {
     "name": "stdout",
     "output_type": "stream",
     "text": [
      "[CV 1/5] END LR__C=7.894947368421054, LR__solver=lbfgs, SCL=None;, score=0.816 total time=   0.2s\n"
     ]
    },
    {
     "name": "stderr",
     "output_type": "stream",
     "text": [
      "C:\\Users\\dai.STUDENTSDC\\AppData\\Local\\anaconda3\\Lib\\site-packages\\sklearn\\linear_model\\_logistic.py:469: ConvergenceWarning: lbfgs failed to converge (status=1):\n",
      "STOP: TOTAL NO. of ITERATIONS REACHED LIMIT.\n",
      "\n",
      "Increase the number of iterations (max_iter) or scale the data as shown in:\n",
      "    https://scikit-learn.org/stable/modules/preprocessing.html\n",
      "Please also refer to the documentation for alternative solver options:\n",
      "    https://scikit-learn.org/stable/modules/linear_model.html#logistic-regression\n",
      "  n_iter_i = _check_optimize_result(\n"
     ]
    },
    {
     "name": "stdout",
     "output_type": "stream",
     "text": [
      "[CV 2/5] END LR__C=7.894947368421054, LR__solver=lbfgs, SCL=None;, score=0.806 total time=   0.2s\n"
     ]
    },
    {
     "name": "stderr",
     "output_type": "stream",
     "text": [
      "C:\\Users\\dai.STUDENTSDC\\AppData\\Local\\anaconda3\\Lib\\site-packages\\sklearn\\linear_model\\_logistic.py:469: ConvergenceWarning: lbfgs failed to converge (status=1):\n",
      "STOP: TOTAL NO. of ITERATIONS REACHED LIMIT.\n",
      "\n",
      "Increase the number of iterations (max_iter) or scale the data as shown in:\n",
      "    https://scikit-learn.org/stable/modules/preprocessing.html\n",
      "Please also refer to the documentation for alternative solver options:\n",
      "    https://scikit-learn.org/stable/modules/linear_model.html#logistic-regression\n",
      "  n_iter_i = _check_optimize_result(\n"
     ]
    },
    {
     "name": "stdout",
     "output_type": "stream",
     "text": [
      "[CV 3/5] END LR__C=7.894947368421054, LR__solver=lbfgs, SCL=None;, score=0.819 total time=   0.2s\n"
     ]
    },
    {
     "name": "stderr",
     "output_type": "stream",
     "text": [
      "C:\\Users\\dai.STUDENTSDC\\AppData\\Local\\anaconda3\\Lib\\site-packages\\sklearn\\linear_model\\_logistic.py:469: ConvergenceWarning: lbfgs failed to converge (status=1):\n",
      "STOP: TOTAL NO. of ITERATIONS REACHED LIMIT.\n",
      "\n",
      "Increase the number of iterations (max_iter) or scale the data as shown in:\n",
      "    https://scikit-learn.org/stable/modules/preprocessing.html\n",
      "Please also refer to the documentation for alternative solver options:\n",
      "    https://scikit-learn.org/stable/modules/linear_model.html#logistic-regression\n",
      "  n_iter_i = _check_optimize_result(\n"
     ]
    },
    {
     "name": "stdout",
     "output_type": "stream",
     "text": [
      "[CV 4/5] END LR__C=7.894947368421054, LR__solver=lbfgs, SCL=None;, score=0.812 total time=   0.2s\n"
     ]
    },
    {
     "name": "stderr",
     "output_type": "stream",
     "text": [
      "C:\\Users\\dai.STUDENTSDC\\AppData\\Local\\anaconda3\\Lib\\site-packages\\sklearn\\linear_model\\_logistic.py:469: ConvergenceWarning: lbfgs failed to converge (status=1):\n",
      "STOP: TOTAL NO. of ITERATIONS REACHED LIMIT.\n",
      "\n",
      "Increase the number of iterations (max_iter) or scale the data as shown in:\n",
      "    https://scikit-learn.org/stable/modules/preprocessing.html\n",
      "Please also refer to the documentation for alternative solver options:\n",
      "    https://scikit-learn.org/stable/modules/linear_model.html#logistic-regression\n",
      "  n_iter_i = _check_optimize_result(\n"
     ]
    },
    {
     "name": "stdout",
     "output_type": "stream",
     "text": [
      "[CV 5/5] END LR__C=7.894947368421054, LR__solver=lbfgs, SCL=None;, score=0.821 total time=   0.2s\n",
      "[CV 1/5] END LR__C=7.894947368421054, LR__solver=liblinear, SCL=MinMaxScaler();, score=nan total time=   0.0s\n",
      "[CV 2/5] END LR__C=7.894947368421054, LR__solver=liblinear, SCL=MinMaxScaler();, score=nan total time=   0.0s\n",
      "[CV 3/5] END LR__C=7.894947368421054, LR__solver=liblinear, SCL=MinMaxScaler();, score=nan total time=   0.0s\n",
      "[CV 4/5] END LR__C=7.894947368421054, LR__solver=liblinear, SCL=MinMaxScaler();, score=nan total time=   0.0s\n",
      "[CV 5/5] END LR__C=7.894947368421054, LR__solver=liblinear, SCL=MinMaxScaler();, score=nan total time=   0.0s\n",
      "[CV 1/5] END LR__C=7.894947368421054, LR__solver=liblinear, SCL=StandardScaler();, score=nan total time=   0.0s\n",
      "[CV 2/5] END LR__C=7.894947368421054, LR__solver=liblinear, SCL=StandardScaler();, score=nan total time=   0.0s\n",
      "[CV 3/5] END LR__C=7.894947368421054, LR__solver=liblinear, SCL=StandardScaler();, score=nan total time=   0.0s\n",
      "[CV 4/5] END LR__C=7.894947368421054, LR__solver=liblinear, SCL=StandardScaler();, score=nan total time=   0.0s\n",
      "[CV 5/5] END LR__C=7.894947368421054, LR__solver=liblinear, SCL=StandardScaler();, score=nan total time=   0.0s\n",
      "[CV 1/5] END LR__C=7.894947368421054, LR__solver=liblinear, SCL=None;, score=nan total time=   0.0s\n",
      "[CV 2/5] END LR__C=7.894947368421054, LR__solver=liblinear, SCL=None;, score=nan total time=   0.0s\n",
      "[CV 3/5] END LR__C=7.894947368421054, LR__solver=liblinear, SCL=None;, score=nan total time=   0.0s\n",
      "[CV 4/5] END LR__C=7.894947368421054, LR__solver=liblinear, SCL=None;, score=nan total time=   0.0s\n",
      "[CV 5/5] END LR__C=7.894947368421054, LR__solver=liblinear, SCL=None;, score=nan total time=   0.0s\n",
      "[CV 1/5] END LR__C=7.894947368421054, LR__solver=newton-cg, SCL=MinMaxScaler();, score=0.821 total time=   0.1s\n",
      "[CV 2/5] END LR__C=7.894947368421054, LR__solver=newton-cg, SCL=MinMaxScaler();, score=0.810 total time=   0.0s\n",
      "[CV 3/5] END LR__C=7.894947368421054, LR__solver=newton-cg, SCL=MinMaxScaler();, score=0.825 total time=   0.0s\n",
      "[CV 4/5] END LR__C=7.894947368421054, LR__solver=newton-cg, SCL=MinMaxScaler();, score=0.816 total time=   0.0s\n",
      "[CV 5/5] END LR__C=7.894947368421054, LR__solver=newton-cg, SCL=MinMaxScaler();, score=0.827 total time=   0.0s\n",
      "[CV 1/5] END LR__C=7.894947368421054, LR__solver=newton-cg, SCL=StandardScaler();, score=0.821 total time=   0.0s\n",
      "[CV 2/5] END LR__C=7.894947368421054, LR__solver=newton-cg, SCL=StandardScaler();, score=0.810 total time=   0.0s\n",
      "[CV 3/5] END LR__C=7.894947368421054, LR__solver=newton-cg, SCL=StandardScaler();, score=0.825 total time=   0.0s\n",
      "[CV 4/5] END LR__C=7.894947368421054, LR__solver=newton-cg, SCL=StandardScaler();, score=0.816 total time=   0.0s\n",
      "[CV 5/5] END LR__C=7.894947368421054, LR__solver=newton-cg, SCL=StandardScaler();, score=0.827 total time=   0.0s\n",
      "[CV 1/5] END LR__C=7.894947368421054, LR__solver=newton-cg, SCL=None;, score=0.821 total time=   0.3s\n",
      "[CV 2/5] END LR__C=7.894947368421054, LR__solver=newton-cg, SCL=None;, score=0.810 total time=   0.3s\n",
      "[CV 3/5] END LR__C=7.894947368421054, LR__solver=newton-cg, SCL=None;, score=0.825 total time=   0.4s\n",
      "[CV 4/5] END LR__C=7.894947368421054, LR__solver=newton-cg, SCL=None;, score=0.816 total time=   0.4s\n",
      "[CV 5/5] END LR__C=7.894947368421054, LR__solver=newton-cg, SCL=None;, score=0.827 total time=   0.4s\n",
      "[CV 1/5] END LR__C=7.894947368421054, LR__solver=newton-cholesky, SCL=MinMaxScaler();, score=nan total time=   0.0s\n",
      "[CV 2/5] END LR__C=7.894947368421054, LR__solver=newton-cholesky, SCL=MinMaxScaler();, score=nan total time=   0.0s\n",
      "[CV 3/5] END LR__C=7.894947368421054, LR__solver=newton-cholesky, SCL=MinMaxScaler();, score=nan total time=   0.0s\n",
      "[CV 4/5] END LR__C=7.894947368421054, LR__solver=newton-cholesky, SCL=MinMaxScaler();, score=nan total time=   0.0s\n",
      "[CV 5/5] END LR__C=7.894947368421054, LR__solver=newton-cholesky, SCL=MinMaxScaler();, score=nan total time=   0.0s\n",
      "[CV 1/5] END LR__C=7.894947368421054, LR__solver=newton-cholesky, SCL=StandardScaler();, score=nan total time=   0.0s\n",
      "[CV 2/5] END LR__C=7.894947368421054, LR__solver=newton-cholesky, SCL=StandardScaler();, score=nan total time=   0.0s\n",
      "[CV 3/5] END LR__C=7.894947368421054, LR__solver=newton-cholesky, SCL=StandardScaler();, score=nan total time=   0.0s\n",
      "[CV 4/5] END LR__C=7.894947368421054, LR__solver=newton-cholesky, SCL=StandardScaler();, score=nan total time=   0.0s\n",
      "[CV 5/5] END LR__C=7.894947368421054, LR__solver=newton-cholesky, SCL=StandardScaler();, score=nan total time=   0.0s\n",
      "[CV 1/5] END LR__C=7.894947368421054, LR__solver=newton-cholesky, SCL=None;, score=nan total time=   0.0s\n",
      "[CV 2/5] END LR__C=7.894947368421054, LR__solver=newton-cholesky, SCL=None;, score=nan total time=   0.0s\n",
      "[CV 3/5] END LR__C=7.894947368421054, LR__solver=newton-cholesky, SCL=None;, score=nan total time=   0.0s\n",
      "[CV 4/5] END LR__C=7.894947368421054, LR__solver=newton-cholesky, SCL=None;, score=nan total time=   0.0s\n",
      "[CV 5/5] END LR__C=7.894947368421054, LR__solver=newton-cholesky, SCL=None;, score=nan total time=   0.0s\n",
      "[CV 1/5] END LR__C=7.894947368421054, LR__solver=sag, SCL=MinMaxScaler();, score=0.821 total time=   0.2s\n",
      "[CV 2/5] END LR__C=7.894947368421054, LR__solver=sag, SCL=MinMaxScaler();, score=0.810 total time=   0.2s\n",
      "[CV 3/5] END LR__C=7.894947368421054, LR__solver=sag, SCL=MinMaxScaler();, score=0.825 total time=   0.2s\n",
      "[CV 4/5] END LR__C=7.894947368421054, LR__solver=sag, SCL=MinMaxScaler();, score=0.816 total time=   0.3s\n",
      "[CV 5/5] END LR__C=7.894947368421054, LR__solver=sag, SCL=MinMaxScaler();, score=0.827 total time=   0.4s\n",
      "[CV 1/5] END LR__C=7.894947368421054, LR__solver=sag, SCL=StandardScaler();, score=0.821 total time=   0.2s\n",
      "[CV 2/5] END LR__C=7.894947368421054, LR__solver=sag, SCL=StandardScaler();, score=0.810 total time=   0.1s\n",
      "[CV 3/5] END LR__C=7.894947368421054, LR__solver=sag, SCL=StandardScaler();, score=0.825 total time=   0.2s\n",
      "[CV 4/5] END LR__C=7.894947368421054, LR__solver=sag, SCL=StandardScaler();, score=0.816 total time=   0.2s\n",
      "[CV 5/5] END LR__C=7.894947368421054, LR__solver=sag, SCL=StandardScaler();, score=0.827 total time=   0.2s\n"
     ]
    },
    {
     "name": "stderr",
     "output_type": "stream",
     "text": [
      "C:\\Users\\dai.STUDENTSDC\\AppData\\Local\\anaconda3\\Lib\\site-packages\\sklearn\\linear_model\\_sag.py:350: ConvergenceWarning: The max_iter was reached which means the coef_ did not converge\n",
      "  warnings.warn(\n"
     ]
    },
    {
     "name": "stdout",
     "output_type": "stream",
     "text": [
      "[CV 1/5] END LR__C=7.894947368421054, LR__solver=sag, SCL=None;, score=0.819 total time=   0.5s\n"
     ]
    },
    {
     "name": "stderr",
     "output_type": "stream",
     "text": [
      "C:\\Users\\dai.STUDENTSDC\\AppData\\Local\\anaconda3\\Lib\\site-packages\\sklearn\\linear_model\\_sag.py:350: ConvergenceWarning: The max_iter was reached which means the coef_ did not converge\n",
      "  warnings.warn(\n"
     ]
    },
    {
     "name": "stdout",
     "output_type": "stream",
     "text": [
      "[CV 2/5] END LR__C=7.894947368421054, LR__solver=sag, SCL=None;, score=0.802 total time=   0.5s\n"
     ]
    },
    {
     "name": "stderr",
     "output_type": "stream",
     "text": [
      "C:\\Users\\dai.STUDENTSDC\\AppData\\Local\\anaconda3\\Lib\\site-packages\\sklearn\\linear_model\\_sag.py:350: ConvergenceWarning: The max_iter was reached which means the coef_ did not converge\n",
      "  warnings.warn(\n"
     ]
    },
    {
     "name": "stdout",
     "output_type": "stream",
     "text": [
      "[CV 3/5] END LR__C=7.894947368421054, LR__solver=sag, SCL=None;, score=0.818 total time=   0.5s\n"
     ]
    },
    {
     "name": "stderr",
     "output_type": "stream",
     "text": [
      "C:\\Users\\dai.STUDENTSDC\\AppData\\Local\\anaconda3\\Lib\\site-packages\\sklearn\\linear_model\\_sag.py:350: ConvergenceWarning: The max_iter was reached which means the coef_ did not converge\n",
      "  warnings.warn(\n"
     ]
    },
    {
     "name": "stdout",
     "output_type": "stream",
     "text": [
      "[CV 4/5] END LR__C=7.894947368421054, LR__solver=sag, SCL=None;, score=0.813 total time=   0.5s\n"
     ]
    },
    {
     "name": "stderr",
     "output_type": "stream",
     "text": [
      "C:\\Users\\dai.STUDENTSDC\\AppData\\Local\\anaconda3\\Lib\\site-packages\\sklearn\\linear_model\\_sag.py:350: ConvergenceWarning: The max_iter was reached which means the coef_ did not converge\n",
      "  warnings.warn(\n"
     ]
    },
    {
     "name": "stdout",
     "output_type": "stream",
     "text": [
      "[CV 5/5] END LR__C=7.894947368421054, LR__solver=sag, SCL=None;, score=0.820 total time=   0.4s\n",
      "[CV 1/5] END LR__C=7.894947368421054, LR__solver=saga, SCL=MinMaxScaler();, score=0.821 total time=   0.1s\n",
      "[CV 2/5] END LR__C=7.894947368421054, LR__solver=saga, SCL=MinMaxScaler();, score=0.810 total time=   0.1s\n",
      "[CV 3/5] END LR__C=7.894947368421054, LR__solver=saga, SCL=MinMaxScaler();, score=0.825 total time=   0.1s\n",
      "[CV 4/5] END LR__C=7.894947368421054, LR__solver=saga, SCL=MinMaxScaler();, score=0.816 total time=   0.1s\n",
      "[CV 5/5] END LR__C=7.894947368421054, LR__solver=saga, SCL=MinMaxScaler();, score=0.827 total time=   0.1s\n",
      "[CV 1/5] END LR__C=7.894947368421054, LR__solver=saga, SCL=StandardScaler();, score=0.821 total time=   0.1s\n",
      "[CV 2/5] END LR__C=7.894947368421054, LR__solver=saga, SCL=StandardScaler();, score=0.810 total time=   0.1s\n",
      "[CV 3/5] END LR__C=7.894947368421054, LR__solver=saga, SCL=StandardScaler();, score=0.825 total time=   0.1s\n",
      "[CV 4/5] END LR__C=7.894947368421054, LR__solver=saga, SCL=StandardScaler();, score=0.816 total time=   0.1s\n",
      "[CV 5/5] END LR__C=7.894947368421054, LR__solver=saga, SCL=StandardScaler();, score=0.827 total time=   0.1s\n"
     ]
    },
    {
     "name": "stderr",
     "output_type": "stream",
     "text": [
      "C:\\Users\\dai.STUDENTSDC\\AppData\\Local\\anaconda3\\Lib\\site-packages\\sklearn\\linear_model\\_sag.py:350: ConvergenceWarning: The max_iter was reached which means the coef_ did not converge\n",
      "  warnings.warn(\n"
     ]
    },
    {
     "name": "stdout",
     "output_type": "stream",
     "text": [
      "[CV 1/5] END LR__C=7.894947368421054, LR__solver=saga, SCL=None;, score=0.812 total time=   0.5s\n"
     ]
    },
    {
     "name": "stderr",
     "output_type": "stream",
     "text": [
      "C:\\Users\\dai.STUDENTSDC\\AppData\\Local\\anaconda3\\Lib\\site-packages\\sklearn\\linear_model\\_sag.py:350: ConvergenceWarning: The max_iter was reached which means the coef_ did not converge\n",
      "  warnings.warn(\n"
     ]
    },
    {
     "name": "stdout",
     "output_type": "stream",
     "text": [
      "[CV 2/5] END LR__C=7.894947368421054, LR__solver=saga, SCL=None;, score=0.792 total time=   0.5s\n"
     ]
    },
    {
     "name": "stderr",
     "output_type": "stream",
     "text": [
      "C:\\Users\\dai.STUDENTSDC\\AppData\\Local\\anaconda3\\Lib\\site-packages\\sklearn\\linear_model\\_sag.py:350: ConvergenceWarning: The max_iter was reached which means the coef_ did not converge\n",
      "  warnings.warn(\n"
     ]
    },
    {
     "name": "stdout",
     "output_type": "stream",
     "text": [
      "[CV 3/5] END LR__C=7.894947368421054, LR__solver=saga, SCL=None;, score=0.812 total time=   0.5s\n"
     ]
    },
    {
     "name": "stderr",
     "output_type": "stream",
     "text": [
      "C:\\Users\\dai.STUDENTSDC\\AppData\\Local\\anaconda3\\Lib\\site-packages\\sklearn\\linear_model\\_sag.py:350: ConvergenceWarning: The max_iter was reached which means the coef_ did not converge\n",
      "  warnings.warn(\n"
     ]
    },
    {
     "name": "stdout",
     "output_type": "stream",
     "text": [
      "[CV 4/5] END LR__C=7.894947368421054, LR__solver=saga, SCL=None;, score=0.807 total time=   0.5s\n"
     ]
    },
    {
     "name": "stderr",
     "output_type": "stream",
     "text": [
      "C:\\Users\\dai.STUDENTSDC\\AppData\\Local\\anaconda3\\Lib\\site-packages\\sklearn\\linear_model\\_sag.py:350: ConvergenceWarning: The max_iter was reached which means the coef_ did not converge\n",
      "  warnings.warn(\n"
     ]
    },
    {
     "name": "stdout",
     "output_type": "stream",
     "text": [
      "[CV 5/5] END LR__C=7.894947368421054, LR__solver=saga, SCL=None;, score=0.814 total time=   0.5s\n",
      "[CV 1/5] END LR__C=8.42121052631579, LR__solver=lbfgs, SCL=MinMaxScaler();, score=0.821 total time=   0.0s\n",
      "[CV 2/5] END LR__C=8.42121052631579, LR__solver=lbfgs, SCL=MinMaxScaler();, score=0.810 total time=   0.0s\n",
      "[CV 3/5] END LR__C=8.42121052631579, LR__solver=lbfgs, SCL=MinMaxScaler();, score=0.825 total time=   0.0s\n",
      "[CV 4/5] END LR__C=8.42121052631579, LR__solver=lbfgs, SCL=MinMaxScaler();, score=0.816 total time=   0.0s\n",
      "[CV 5/5] END LR__C=8.42121052631579, LR__solver=lbfgs, SCL=MinMaxScaler();, score=0.827 total time=   0.0s\n",
      "[CV 1/5] END LR__C=8.42121052631579, LR__solver=lbfgs, SCL=StandardScaler();, score=0.821 total time=   0.0s\n",
      "[CV 2/5] END LR__C=8.42121052631579, LR__solver=lbfgs, SCL=StandardScaler();, score=0.810 total time=   0.0s\n",
      "[CV 3/5] END LR__C=8.42121052631579, LR__solver=lbfgs, SCL=StandardScaler();, score=0.825 total time=   0.0s\n",
      "[CV 4/5] END LR__C=8.42121052631579, LR__solver=lbfgs, SCL=StandardScaler();, score=0.816 total time=   0.0s\n",
      "[CV 5/5] END LR__C=8.42121052631579, LR__solver=lbfgs, SCL=StandardScaler();, score=0.827 total time=   0.0s\n"
     ]
    },
    {
     "name": "stderr",
     "output_type": "stream",
     "text": [
      "C:\\Users\\dai.STUDENTSDC\\AppData\\Local\\anaconda3\\Lib\\site-packages\\sklearn\\linear_model\\_logistic.py:469: ConvergenceWarning: lbfgs failed to converge (status=1):\n",
      "STOP: TOTAL NO. of ITERATIONS REACHED LIMIT.\n",
      "\n",
      "Increase the number of iterations (max_iter) or scale the data as shown in:\n",
      "    https://scikit-learn.org/stable/modules/preprocessing.html\n",
      "Please also refer to the documentation for alternative solver options:\n",
      "    https://scikit-learn.org/stable/modules/linear_model.html#logistic-regression\n",
      "  n_iter_i = _check_optimize_result(\n"
     ]
    },
    {
     "name": "stdout",
     "output_type": "stream",
     "text": [
      "[CV 1/5] END LR__C=8.42121052631579, LR__solver=lbfgs, SCL=None;, score=0.816 total time=   0.2s\n"
     ]
    },
    {
     "name": "stderr",
     "output_type": "stream",
     "text": [
      "C:\\Users\\dai.STUDENTSDC\\AppData\\Local\\anaconda3\\Lib\\site-packages\\sklearn\\linear_model\\_logistic.py:469: ConvergenceWarning: lbfgs failed to converge (status=1):\n",
      "STOP: TOTAL NO. of ITERATIONS REACHED LIMIT.\n",
      "\n",
      "Increase the number of iterations (max_iter) or scale the data as shown in:\n",
      "    https://scikit-learn.org/stable/modules/preprocessing.html\n",
      "Please also refer to the documentation for alternative solver options:\n",
      "    https://scikit-learn.org/stable/modules/linear_model.html#logistic-regression\n",
      "  n_iter_i = _check_optimize_result(\n"
     ]
    },
    {
     "name": "stdout",
     "output_type": "stream",
     "text": [
      "[CV 2/5] END LR__C=8.42121052631579, LR__solver=lbfgs, SCL=None;, score=0.806 total time=   0.2s\n"
     ]
    },
    {
     "name": "stderr",
     "output_type": "stream",
     "text": [
      "C:\\Users\\dai.STUDENTSDC\\AppData\\Local\\anaconda3\\Lib\\site-packages\\sklearn\\linear_model\\_logistic.py:469: ConvergenceWarning: lbfgs failed to converge (status=1):\n",
      "STOP: TOTAL NO. of ITERATIONS REACHED LIMIT.\n",
      "\n",
      "Increase the number of iterations (max_iter) or scale the data as shown in:\n",
      "    https://scikit-learn.org/stable/modules/preprocessing.html\n",
      "Please also refer to the documentation for alternative solver options:\n",
      "    https://scikit-learn.org/stable/modules/linear_model.html#logistic-regression\n",
      "  n_iter_i = _check_optimize_result(\n"
     ]
    },
    {
     "name": "stdout",
     "output_type": "stream",
     "text": [
      "[CV 3/5] END LR__C=8.42121052631579, LR__solver=lbfgs, SCL=None;, score=0.820 total time=   0.2s\n"
     ]
    },
    {
     "name": "stderr",
     "output_type": "stream",
     "text": [
      "C:\\Users\\dai.STUDENTSDC\\AppData\\Local\\anaconda3\\Lib\\site-packages\\sklearn\\linear_model\\_logistic.py:469: ConvergenceWarning: lbfgs failed to converge (status=1):\n",
      "STOP: TOTAL NO. of ITERATIONS REACHED LIMIT.\n",
      "\n",
      "Increase the number of iterations (max_iter) or scale the data as shown in:\n",
      "    https://scikit-learn.org/stable/modules/preprocessing.html\n",
      "Please also refer to the documentation for alternative solver options:\n",
      "    https://scikit-learn.org/stable/modules/linear_model.html#logistic-regression\n",
      "  n_iter_i = _check_optimize_result(\n"
     ]
    },
    {
     "name": "stdout",
     "output_type": "stream",
     "text": [
      "[CV 4/5] END LR__C=8.42121052631579, LR__solver=lbfgs, SCL=None;, score=0.812 total time=   0.2s\n"
     ]
    },
    {
     "name": "stderr",
     "output_type": "stream",
     "text": [
      "C:\\Users\\dai.STUDENTSDC\\AppData\\Local\\anaconda3\\Lib\\site-packages\\sklearn\\linear_model\\_logistic.py:469: ConvergenceWarning: lbfgs failed to converge (status=1):\n",
      "STOP: TOTAL NO. of ITERATIONS REACHED LIMIT.\n",
      "\n",
      "Increase the number of iterations (max_iter) or scale the data as shown in:\n",
      "    https://scikit-learn.org/stable/modules/preprocessing.html\n",
      "Please also refer to the documentation for alternative solver options:\n",
      "    https://scikit-learn.org/stable/modules/linear_model.html#logistic-regression\n",
      "  n_iter_i = _check_optimize_result(\n"
     ]
    },
    {
     "name": "stdout",
     "output_type": "stream",
     "text": [
      "[CV 5/5] END LR__C=8.42121052631579, LR__solver=lbfgs, SCL=None;, score=0.822 total time=   0.2s\n",
      "[CV 1/5] END LR__C=8.42121052631579, LR__solver=liblinear, SCL=MinMaxScaler();, score=nan total time=   0.0s\n",
      "[CV 2/5] END LR__C=8.42121052631579, LR__solver=liblinear, SCL=MinMaxScaler();, score=nan total time=   0.0s\n",
      "[CV 3/5] END LR__C=8.42121052631579, LR__solver=liblinear, SCL=MinMaxScaler();, score=nan total time=   0.0s\n",
      "[CV 4/5] END LR__C=8.42121052631579, LR__solver=liblinear, SCL=MinMaxScaler();, score=nan total time=   0.0s\n",
      "[CV 5/5] END LR__C=8.42121052631579, LR__solver=liblinear, SCL=MinMaxScaler();, score=nan total time=   0.0s\n",
      "[CV 1/5] END LR__C=8.42121052631579, LR__solver=liblinear, SCL=StandardScaler();, score=nan total time=   0.0s\n",
      "[CV 2/5] END LR__C=8.42121052631579, LR__solver=liblinear, SCL=StandardScaler();, score=nan total time=   0.0s\n",
      "[CV 3/5] END LR__C=8.42121052631579, LR__solver=liblinear, SCL=StandardScaler();, score=nan total time=   0.0s\n",
      "[CV 4/5] END LR__C=8.42121052631579, LR__solver=liblinear, SCL=StandardScaler();, score=nan total time=   0.0s\n",
      "[CV 5/5] END LR__C=8.42121052631579, LR__solver=liblinear, SCL=StandardScaler();, score=nan total time=   0.0s\n",
      "[CV 1/5] END LR__C=8.42121052631579, LR__solver=liblinear, SCL=None;, score=nan total time=   0.0s\n",
      "[CV 2/5] END LR__C=8.42121052631579, LR__solver=liblinear, SCL=None;, score=nan total time=   0.0s\n",
      "[CV 3/5] END LR__C=8.42121052631579, LR__solver=liblinear, SCL=None;, score=nan total time=   0.0s\n",
      "[CV 4/5] END LR__C=8.42121052631579, LR__solver=liblinear, SCL=None;, score=nan total time=   0.0s\n",
      "[CV 5/5] END LR__C=8.42121052631579, LR__solver=liblinear, SCL=None;, score=nan total time=   0.0s\n",
      "[CV 1/5] END LR__C=8.42121052631579, LR__solver=newton-cg, SCL=MinMaxScaler();, score=0.821 total time=   0.0s\n",
      "[CV 2/5] END LR__C=8.42121052631579, LR__solver=newton-cg, SCL=MinMaxScaler();, score=0.810 total time=   0.0s\n",
      "[CV 3/5] END LR__C=8.42121052631579, LR__solver=newton-cg, SCL=MinMaxScaler();, score=0.825 total time=   0.0s\n",
      "[CV 4/5] END LR__C=8.42121052631579, LR__solver=newton-cg, SCL=MinMaxScaler();, score=0.816 total time=   0.0s\n",
      "[CV 5/5] END LR__C=8.42121052631579, LR__solver=newton-cg, SCL=MinMaxScaler();, score=0.827 total time=   0.0s\n",
      "[CV 1/5] END LR__C=8.42121052631579, LR__solver=newton-cg, SCL=StandardScaler();, score=0.821 total time=   0.0s\n",
      "[CV 2/5] END LR__C=8.42121052631579, LR__solver=newton-cg, SCL=StandardScaler();, score=0.810 total time=   0.0s\n",
      "[CV 3/5] END LR__C=8.42121052631579, LR__solver=newton-cg, SCL=StandardScaler();, score=0.825 total time=   0.0s\n",
      "[CV 4/5] END LR__C=8.42121052631579, LR__solver=newton-cg, SCL=StandardScaler();, score=0.816 total time=   0.0s\n",
      "[CV 5/5] END LR__C=8.42121052631579, LR__solver=newton-cg, SCL=StandardScaler();, score=0.827 total time=   0.0s\n",
      "[CV 1/5] END LR__C=8.42121052631579, LR__solver=newton-cg, SCL=None;, score=0.821 total time=   0.4s\n",
      "[CV 2/5] END LR__C=8.42121052631579, LR__solver=newton-cg, SCL=None;, score=0.810 total time=   0.3s\n",
      "[CV 3/5] END LR__C=8.42121052631579, LR__solver=newton-cg, SCL=None;, score=0.825 total time=   0.4s\n",
      "[CV 4/5] END LR__C=8.42121052631579, LR__solver=newton-cg, SCL=None;, score=0.816 total time=   0.4s\n",
      "[CV 5/5] END LR__C=8.42121052631579, LR__solver=newton-cg, SCL=None;, score=0.827 total time=   0.4s\n",
      "[CV 1/5] END LR__C=8.42121052631579, LR__solver=newton-cholesky, SCL=MinMaxScaler();, score=nan total time=   0.0s\n",
      "[CV 2/5] END LR__C=8.42121052631579, LR__solver=newton-cholesky, SCL=MinMaxScaler();, score=nan total time=   0.0s\n",
      "[CV 3/5] END LR__C=8.42121052631579, LR__solver=newton-cholesky, SCL=MinMaxScaler();, score=nan total time=   0.0s\n",
      "[CV 4/5] END LR__C=8.42121052631579, LR__solver=newton-cholesky, SCL=MinMaxScaler();, score=nan total time=   0.0s\n",
      "[CV 5/5] END LR__C=8.42121052631579, LR__solver=newton-cholesky, SCL=MinMaxScaler();, score=nan total time=   0.0s\n",
      "[CV 1/5] END LR__C=8.42121052631579, LR__solver=newton-cholesky, SCL=StandardScaler();, score=nan total time=   0.0s\n",
      "[CV 2/5] END LR__C=8.42121052631579, LR__solver=newton-cholesky, SCL=StandardScaler();, score=nan total time=   0.0s\n",
      "[CV 3/5] END LR__C=8.42121052631579, LR__solver=newton-cholesky, SCL=StandardScaler();, score=nan total time=   0.0s\n",
      "[CV 4/5] END LR__C=8.42121052631579, LR__solver=newton-cholesky, SCL=StandardScaler();, score=nan total time=   0.0s\n",
      "[CV 5/5] END LR__C=8.42121052631579, LR__solver=newton-cholesky, SCL=StandardScaler();, score=nan total time=   0.0s\n",
      "[CV 1/5] END LR__C=8.42121052631579, LR__solver=newton-cholesky, SCL=None;, score=nan total time=   0.0s\n",
      "[CV 2/5] END LR__C=8.42121052631579, LR__solver=newton-cholesky, SCL=None;, score=nan total time=   0.0s\n",
      "[CV 3/5] END LR__C=8.42121052631579, LR__solver=newton-cholesky, SCL=None;, score=nan total time=   0.0s\n",
      "[CV 4/5] END LR__C=8.42121052631579, LR__solver=newton-cholesky, SCL=None;, score=nan total time=   0.0s\n",
      "[CV 5/5] END LR__C=8.42121052631579, LR__solver=newton-cholesky, SCL=None;, score=nan total time=   0.0s\n",
      "[CV 1/5] END LR__C=8.42121052631579, LR__solver=sag, SCL=MinMaxScaler();, score=0.821 total time=   0.2s\n",
      "[CV 2/5] END LR__C=8.42121052631579, LR__solver=sag, SCL=MinMaxScaler();, score=0.810 total time=   0.2s\n",
      "[CV 3/5] END LR__C=8.42121052631579, LR__solver=sag, SCL=MinMaxScaler();, score=0.825 total time=   0.2s\n",
      "[CV 4/5] END LR__C=8.42121052631579, LR__solver=sag, SCL=MinMaxScaler();, score=0.816 total time=   0.3s\n",
      "[CV 5/5] END LR__C=8.42121052631579, LR__solver=sag, SCL=MinMaxScaler();, score=0.827 total time=   0.4s\n",
      "[CV 1/5] END LR__C=8.42121052631579, LR__solver=sag, SCL=StandardScaler();, score=0.821 total time=   0.2s\n",
      "[CV 2/5] END LR__C=8.42121052631579, LR__solver=sag, SCL=StandardScaler();, score=0.810 total time=   0.1s\n",
      "[CV 3/5] END LR__C=8.42121052631579, LR__solver=sag, SCL=StandardScaler();, score=0.825 total time=   0.2s\n",
      "[CV 4/5] END LR__C=8.42121052631579, LR__solver=sag, SCL=StandardScaler();, score=0.816 total time=   0.2s\n",
      "[CV 5/5] END LR__C=8.42121052631579, LR__solver=sag, SCL=StandardScaler();, score=0.827 total time=   0.2s\n"
     ]
    },
    {
     "name": "stderr",
     "output_type": "stream",
     "text": [
      "C:\\Users\\dai.STUDENTSDC\\AppData\\Local\\anaconda3\\Lib\\site-packages\\sklearn\\linear_model\\_sag.py:350: ConvergenceWarning: The max_iter was reached which means the coef_ did not converge\n",
      "  warnings.warn(\n"
     ]
    },
    {
     "name": "stdout",
     "output_type": "stream",
     "text": [
      "[CV 1/5] END LR__C=8.42121052631579, LR__solver=sag, SCL=None;, score=0.819 total time=   0.5s\n"
     ]
    },
    {
     "name": "stderr",
     "output_type": "stream",
     "text": [
      "C:\\Users\\dai.STUDENTSDC\\AppData\\Local\\anaconda3\\Lib\\site-packages\\sklearn\\linear_model\\_sag.py:350: ConvergenceWarning: The max_iter was reached which means the coef_ did not converge\n",
      "  warnings.warn(\n"
     ]
    },
    {
     "name": "stdout",
     "output_type": "stream",
     "text": [
      "[CV 2/5] END LR__C=8.42121052631579, LR__solver=sag, SCL=None;, score=0.802 total time=   0.5s\n"
     ]
    },
    {
     "name": "stderr",
     "output_type": "stream",
     "text": [
      "C:\\Users\\dai.STUDENTSDC\\AppData\\Local\\anaconda3\\Lib\\site-packages\\sklearn\\linear_model\\_sag.py:350: ConvergenceWarning: The max_iter was reached which means the coef_ did not converge\n",
      "  warnings.warn(\n"
     ]
    },
    {
     "name": "stdout",
     "output_type": "stream",
     "text": [
      "[CV 3/5] END LR__C=8.42121052631579, LR__solver=sag, SCL=None;, score=0.818 total time=   0.5s\n"
     ]
    },
    {
     "name": "stderr",
     "output_type": "stream",
     "text": [
      "C:\\Users\\dai.STUDENTSDC\\AppData\\Local\\anaconda3\\Lib\\site-packages\\sklearn\\linear_model\\_sag.py:350: ConvergenceWarning: The max_iter was reached which means the coef_ did not converge\n",
      "  warnings.warn(\n"
     ]
    },
    {
     "name": "stdout",
     "output_type": "stream",
     "text": [
      "[CV 4/5] END LR__C=8.42121052631579, LR__solver=sag, SCL=None;, score=0.813 total time=   0.5s\n"
     ]
    },
    {
     "name": "stderr",
     "output_type": "stream",
     "text": [
      "C:\\Users\\dai.STUDENTSDC\\AppData\\Local\\anaconda3\\Lib\\site-packages\\sklearn\\linear_model\\_sag.py:350: ConvergenceWarning: The max_iter was reached which means the coef_ did not converge\n",
      "  warnings.warn(\n"
     ]
    },
    {
     "name": "stdout",
     "output_type": "stream",
     "text": [
      "[CV 5/5] END LR__C=8.42121052631579, LR__solver=sag, SCL=None;, score=0.820 total time=   0.5s\n",
      "[CV 1/5] END LR__C=8.42121052631579, LR__solver=saga, SCL=MinMaxScaler();, score=0.821 total time=   0.1s\n",
      "[CV 2/5] END LR__C=8.42121052631579, LR__solver=saga, SCL=MinMaxScaler();, score=0.810 total time=   0.1s\n",
      "[CV 3/5] END LR__C=8.42121052631579, LR__solver=saga, SCL=MinMaxScaler();, score=0.825 total time=   0.1s\n",
      "[CV 4/5] END LR__C=8.42121052631579, LR__solver=saga, SCL=MinMaxScaler();, score=0.816 total time=   0.1s\n",
      "[CV 5/5] END LR__C=8.42121052631579, LR__solver=saga, SCL=MinMaxScaler();, score=0.827 total time=   0.1s\n",
      "[CV 1/5] END LR__C=8.42121052631579, LR__solver=saga, SCL=StandardScaler();, score=0.821 total time=   0.1s\n",
      "[CV 2/5] END LR__C=8.42121052631579, LR__solver=saga, SCL=StandardScaler();, score=0.810 total time=   0.1s\n",
      "[CV 3/5] END LR__C=8.42121052631579, LR__solver=saga, SCL=StandardScaler();, score=0.825 total time=   0.1s\n",
      "[CV 4/5] END LR__C=8.42121052631579, LR__solver=saga, SCL=StandardScaler();, score=0.816 total time=   0.1s\n",
      "[CV 5/5] END LR__C=8.42121052631579, LR__solver=saga, SCL=StandardScaler();, score=0.827 total time=   0.1s\n"
     ]
    },
    {
     "name": "stderr",
     "output_type": "stream",
     "text": [
      "C:\\Users\\dai.STUDENTSDC\\AppData\\Local\\anaconda3\\Lib\\site-packages\\sklearn\\linear_model\\_sag.py:350: ConvergenceWarning: The max_iter was reached which means the coef_ did not converge\n",
      "  warnings.warn(\n"
     ]
    },
    {
     "name": "stdout",
     "output_type": "stream",
     "text": [
      "[CV 1/5] END LR__C=8.42121052631579, LR__solver=saga, SCL=None;, score=0.812 total time=   0.5s\n"
     ]
    },
    {
     "name": "stderr",
     "output_type": "stream",
     "text": [
      "C:\\Users\\dai.STUDENTSDC\\AppData\\Local\\anaconda3\\Lib\\site-packages\\sklearn\\linear_model\\_sag.py:350: ConvergenceWarning: The max_iter was reached which means the coef_ did not converge\n",
      "  warnings.warn(\n"
     ]
    },
    {
     "name": "stdout",
     "output_type": "stream",
     "text": [
      "[CV 2/5] END LR__C=8.42121052631579, LR__solver=saga, SCL=None;, score=0.792 total time=   0.5s\n"
     ]
    },
    {
     "name": "stderr",
     "output_type": "stream",
     "text": [
      "C:\\Users\\dai.STUDENTSDC\\AppData\\Local\\anaconda3\\Lib\\site-packages\\sklearn\\linear_model\\_sag.py:350: ConvergenceWarning: The max_iter was reached which means the coef_ did not converge\n",
      "  warnings.warn(\n"
     ]
    },
    {
     "name": "stdout",
     "output_type": "stream",
     "text": [
      "[CV 3/5] END LR__C=8.42121052631579, LR__solver=saga, SCL=None;, score=0.812 total time=   0.5s\n"
     ]
    },
    {
     "name": "stderr",
     "output_type": "stream",
     "text": [
      "C:\\Users\\dai.STUDENTSDC\\AppData\\Local\\anaconda3\\Lib\\site-packages\\sklearn\\linear_model\\_sag.py:350: ConvergenceWarning: The max_iter was reached which means the coef_ did not converge\n",
      "  warnings.warn(\n"
     ]
    },
    {
     "name": "stdout",
     "output_type": "stream",
     "text": [
      "[CV 4/5] END LR__C=8.42121052631579, LR__solver=saga, SCL=None;, score=0.807 total time=   0.5s\n"
     ]
    },
    {
     "name": "stderr",
     "output_type": "stream",
     "text": [
      "C:\\Users\\dai.STUDENTSDC\\AppData\\Local\\anaconda3\\Lib\\site-packages\\sklearn\\linear_model\\_sag.py:350: ConvergenceWarning: The max_iter was reached which means the coef_ did not converge\n",
      "  warnings.warn(\n"
     ]
    },
    {
     "name": "stdout",
     "output_type": "stream",
     "text": [
      "[CV 5/5] END LR__C=8.42121052631579, LR__solver=saga, SCL=None;, score=0.814 total time=   0.5s\n",
      "[CV 1/5] END LR__C=8.947473684210527, LR__solver=lbfgs, SCL=MinMaxScaler();, score=0.821 total time=   0.0s\n",
      "[CV 2/5] END LR__C=8.947473684210527, LR__solver=lbfgs, SCL=MinMaxScaler();, score=0.810 total time=   0.0s\n",
      "[CV 3/5] END LR__C=8.947473684210527, LR__solver=lbfgs, SCL=MinMaxScaler();, score=0.825 total time=   0.0s\n",
      "[CV 4/5] END LR__C=8.947473684210527, LR__solver=lbfgs, SCL=MinMaxScaler();, score=0.816 total time=   0.0s\n",
      "[CV 5/5] END LR__C=8.947473684210527, LR__solver=lbfgs, SCL=MinMaxScaler();, score=0.827 total time=   0.0s\n",
      "[CV 1/5] END LR__C=8.947473684210527, LR__solver=lbfgs, SCL=StandardScaler();, score=0.821 total time=   0.0s\n",
      "[CV 2/5] END LR__C=8.947473684210527, LR__solver=lbfgs, SCL=StandardScaler();, score=0.810 total time=   0.0s\n",
      "[CV 3/5] END LR__C=8.947473684210527, LR__solver=lbfgs, SCL=StandardScaler();, score=0.825 total time=   0.0s\n",
      "[CV 4/5] END LR__C=8.947473684210527, LR__solver=lbfgs, SCL=StandardScaler();, score=0.816 total time=   0.0s\n",
      "[CV 5/5] END LR__C=8.947473684210527, LR__solver=lbfgs, SCL=StandardScaler();, score=0.827 total time=   0.0s\n"
     ]
    },
    {
     "name": "stderr",
     "output_type": "stream",
     "text": [
      "C:\\Users\\dai.STUDENTSDC\\AppData\\Local\\anaconda3\\Lib\\site-packages\\sklearn\\linear_model\\_logistic.py:469: ConvergenceWarning: lbfgs failed to converge (status=1):\n",
      "STOP: TOTAL NO. of ITERATIONS REACHED LIMIT.\n",
      "\n",
      "Increase the number of iterations (max_iter) or scale the data as shown in:\n",
      "    https://scikit-learn.org/stable/modules/preprocessing.html\n",
      "Please also refer to the documentation for alternative solver options:\n",
      "    https://scikit-learn.org/stable/modules/linear_model.html#logistic-regression\n",
      "  n_iter_i = _check_optimize_result(\n"
     ]
    },
    {
     "name": "stdout",
     "output_type": "stream",
     "text": [
      "[CV 1/5] END LR__C=8.947473684210527, LR__solver=lbfgs, SCL=None;, score=0.814 total time=   0.2s\n"
     ]
    },
    {
     "name": "stderr",
     "output_type": "stream",
     "text": [
      "C:\\Users\\dai.STUDENTSDC\\AppData\\Local\\anaconda3\\Lib\\site-packages\\sklearn\\linear_model\\_logistic.py:469: ConvergenceWarning: lbfgs failed to converge (status=1):\n",
      "STOP: TOTAL NO. of ITERATIONS REACHED LIMIT.\n",
      "\n",
      "Increase the number of iterations (max_iter) or scale the data as shown in:\n",
      "    https://scikit-learn.org/stable/modules/preprocessing.html\n",
      "Please also refer to the documentation for alternative solver options:\n",
      "    https://scikit-learn.org/stable/modules/linear_model.html#logistic-regression\n",
      "  n_iter_i = _check_optimize_result(\n"
     ]
    },
    {
     "name": "stdout",
     "output_type": "stream",
     "text": [
      "[CV 2/5] END LR__C=8.947473684210527, LR__solver=lbfgs, SCL=None;, score=0.805 total time=   0.2s\n"
     ]
    },
    {
     "name": "stderr",
     "output_type": "stream",
     "text": [
      "C:\\Users\\dai.STUDENTSDC\\AppData\\Local\\anaconda3\\Lib\\site-packages\\sklearn\\linear_model\\_logistic.py:469: ConvergenceWarning: lbfgs failed to converge (status=1):\n",
      "STOP: TOTAL NO. of ITERATIONS REACHED LIMIT.\n",
      "\n",
      "Increase the number of iterations (max_iter) or scale the data as shown in:\n",
      "    https://scikit-learn.org/stable/modules/preprocessing.html\n",
      "Please also refer to the documentation for alternative solver options:\n",
      "    https://scikit-learn.org/stable/modules/linear_model.html#logistic-regression\n",
      "  n_iter_i = _check_optimize_result(\n"
     ]
    },
    {
     "name": "stdout",
     "output_type": "stream",
     "text": [
      "[CV 3/5] END LR__C=8.947473684210527, LR__solver=lbfgs, SCL=None;, score=0.820 total time=   0.2s\n"
     ]
    },
    {
     "name": "stderr",
     "output_type": "stream",
     "text": [
      "C:\\Users\\dai.STUDENTSDC\\AppData\\Local\\anaconda3\\Lib\\site-packages\\sklearn\\linear_model\\_logistic.py:469: ConvergenceWarning: lbfgs failed to converge (status=1):\n",
      "STOP: TOTAL NO. of ITERATIONS REACHED LIMIT.\n",
      "\n",
      "Increase the number of iterations (max_iter) or scale the data as shown in:\n",
      "    https://scikit-learn.org/stable/modules/preprocessing.html\n",
      "Please also refer to the documentation for alternative solver options:\n",
      "    https://scikit-learn.org/stable/modules/linear_model.html#logistic-regression\n",
      "  n_iter_i = _check_optimize_result(\n"
     ]
    },
    {
     "name": "stdout",
     "output_type": "stream",
     "text": [
      "[CV 4/5] END LR__C=8.947473684210527, LR__solver=lbfgs, SCL=None;, score=0.813 total time=   0.2s\n"
     ]
    },
    {
     "name": "stderr",
     "output_type": "stream",
     "text": [
      "C:\\Users\\dai.STUDENTSDC\\AppData\\Local\\anaconda3\\Lib\\site-packages\\sklearn\\linear_model\\_logistic.py:469: ConvergenceWarning: lbfgs failed to converge (status=1):\n",
      "STOP: TOTAL NO. of ITERATIONS REACHED LIMIT.\n",
      "\n",
      "Increase the number of iterations (max_iter) or scale the data as shown in:\n",
      "    https://scikit-learn.org/stable/modules/preprocessing.html\n",
      "Please also refer to the documentation for alternative solver options:\n",
      "    https://scikit-learn.org/stable/modules/linear_model.html#logistic-regression\n",
      "  n_iter_i = _check_optimize_result(\n"
     ]
    },
    {
     "name": "stdout",
     "output_type": "stream",
     "text": [
      "[CV 5/5] END LR__C=8.947473684210527, LR__solver=lbfgs, SCL=None;, score=0.821 total time=   0.2s\n",
      "[CV 1/5] END LR__C=8.947473684210527, LR__solver=liblinear, SCL=MinMaxScaler();, score=nan total time=   0.0s\n",
      "[CV 2/5] END LR__C=8.947473684210527, LR__solver=liblinear, SCL=MinMaxScaler();, score=nan total time=   0.0s\n",
      "[CV 3/5] END LR__C=8.947473684210527, LR__solver=liblinear, SCL=MinMaxScaler();, score=nan total time=   0.0s\n",
      "[CV 4/5] END LR__C=8.947473684210527, LR__solver=liblinear, SCL=MinMaxScaler();, score=nan total time=   0.0s\n",
      "[CV 5/5] END LR__C=8.947473684210527, LR__solver=liblinear, SCL=MinMaxScaler();, score=nan total time=   0.0s\n",
      "[CV 1/5] END LR__C=8.947473684210527, LR__solver=liblinear, SCL=StandardScaler();, score=nan total time=   0.0s\n",
      "[CV 2/5] END LR__C=8.947473684210527, LR__solver=liblinear, SCL=StandardScaler();, score=nan total time=   0.0s\n",
      "[CV 3/5] END LR__C=8.947473684210527, LR__solver=liblinear, SCL=StandardScaler();, score=nan total time=   0.0s\n",
      "[CV 4/5] END LR__C=8.947473684210527, LR__solver=liblinear, SCL=StandardScaler();, score=nan total time=   0.0s\n",
      "[CV 5/5] END LR__C=8.947473684210527, LR__solver=liblinear, SCL=StandardScaler();, score=nan total time=   0.0s\n",
      "[CV 1/5] END LR__C=8.947473684210527, LR__solver=liblinear, SCL=None;, score=nan total time=   0.0s\n",
      "[CV 2/5] END LR__C=8.947473684210527, LR__solver=liblinear, SCL=None;, score=nan total time=   0.0s\n",
      "[CV 3/5] END LR__C=8.947473684210527, LR__solver=liblinear, SCL=None;, score=nan total time=   0.0s\n",
      "[CV 4/5] END LR__C=8.947473684210527, LR__solver=liblinear, SCL=None;, score=nan total time=   0.0s\n",
      "[CV 5/5] END LR__C=8.947473684210527, LR__solver=liblinear, SCL=None;, score=nan total time=   0.0s\n",
      "[CV 1/5] END LR__C=8.947473684210527, LR__solver=newton-cg, SCL=MinMaxScaler();, score=0.821 total time=   0.0s\n",
      "[CV 2/5] END LR__C=8.947473684210527, LR__solver=newton-cg, SCL=MinMaxScaler();, score=0.810 total time=   0.0s\n",
      "[CV 3/5] END LR__C=8.947473684210527, LR__solver=newton-cg, SCL=MinMaxScaler();, score=0.825 total time=   0.0s\n",
      "[CV 4/5] END LR__C=8.947473684210527, LR__solver=newton-cg, SCL=MinMaxScaler();, score=0.816 total time=   0.0s\n",
      "[CV 5/5] END LR__C=8.947473684210527, LR__solver=newton-cg, SCL=MinMaxScaler();, score=0.827 total time=   0.0s\n",
      "[CV 1/5] END LR__C=8.947473684210527, LR__solver=newton-cg, SCL=StandardScaler();, score=0.821 total time=   0.0s\n",
      "[CV 2/5] END LR__C=8.947473684210527, LR__solver=newton-cg, SCL=StandardScaler();, score=0.810 total time=   0.0s\n",
      "[CV 3/5] END LR__C=8.947473684210527, LR__solver=newton-cg, SCL=StandardScaler();, score=0.825 total time=   0.0s\n",
      "[CV 4/5] END LR__C=8.947473684210527, LR__solver=newton-cg, SCL=StandardScaler();, score=0.816 total time=   0.0s\n",
      "[CV 5/5] END LR__C=8.947473684210527, LR__solver=newton-cg, SCL=StandardScaler();, score=0.827 total time=   0.0s\n",
      "[CV 1/5] END LR__C=8.947473684210527, LR__solver=newton-cg, SCL=None;, score=0.821 total time=   0.4s\n",
      "[CV 2/5] END LR__C=8.947473684210527, LR__solver=newton-cg, SCL=None;, score=0.810 total time=   0.4s\n",
      "[CV 3/5] END LR__C=8.947473684210527, LR__solver=newton-cg, SCL=None;, score=0.825 total time=   0.5s\n",
      "[CV 4/5] END LR__C=8.947473684210527, LR__solver=newton-cg, SCL=None;, score=0.816 total time=   0.4s\n",
      "[CV 5/5] END LR__C=8.947473684210527, LR__solver=newton-cg, SCL=None;, score=0.827 total time=   0.4s\n",
      "[CV 1/5] END LR__C=8.947473684210527, LR__solver=newton-cholesky, SCL=MinMaxScaler();, score=nan total time=   0.0s\n",
      "[CV 2/5] END LR__C=8.947473684210527, LR__solver=newton-cholesky, SCL=MinMaxScaler();, score=nan total time=   0.0s\n",
      "[CV 3/5] END LR__C=8.947473684210527, LR__solver=newton-cholesky, SCL=MinMaxScaler();, score=nan total time=   0.0s\n",
      "[CV 4/5] END LR__C=8.947473684210527, LR__solver=newton-cholesky, SCL=MinMaxScaler();, score=nan total time=   0.0s\n",
      "[CV 5/5] END LR__C=8.947473684210527, LR__solver=newton-cholesky, SCL=MinMaxScaler();, score=nan total time=   0.0s\n",
      "[CV 1/5] END LR__C=8.947473684210527, LR__solver=newton-cholesky, SCL=StandardScaler();, score=nan total time=   0.0s\n",
      "[CV 2/5] END LR__C=8.947473684210527, LR__solver=newton-cholesky, SCL=StandardScaler();, score=nan total time=   0.0s\n",
      "[CV 3/5] END LR__C=8.947473684210527, LR__solver=newton-cholesky, SCL=StandardScaler();, score=nan total time=   0.0s\n",
      "[CV 4/5] END LR__C=8.947473684210527, LR__solver=newton-cholesky, SCL=StandardScaler();, score=nan total time=   0.0s\n",
      "[CV 5/5] END LR__C=8.947473684210527, LR__solver=newton-cholesky, SCL=StandardScaler();, score=nan total time=   0.0s\n",
      "[CV 1/5] END LR__C=8.947473684210527, LR__solver=newton-cholesky, SCL=None;, score=nan total time=   0.0s\n",
      "[CV 2/5] END LR__C=8.947473684210527, LR__solver=newton-cholesky, SCL=None;, score=nan total time=   0.0s\n",
      "[CV 3/5] END LR__C=8.947473684210527, LR__solver=newton-cholesky, SCL=None;, score=nan total time=   0.0s\n",
      "[CV 4/5] END LR__C=8.947473684210527, LR__solver=newton-cholesky, SCL=None;, score=nan total time=   0.0s\n",
      "[CV 5/5] END LR__C=8.947473684210527, LR__solver=newton-cholesky, SCL=None;, score=nan total time=   0.0s\n",
      "[CV 1/5] END LR__C=8.947473684210527, LR__solver=sag, SCL=MinMaxScaler();, score=0.821 total time=   0.2s\n",
      "[CV 2/5] END LR__C=8.947473684210527, LR__solver=sag, SCL=MinMaxScaler();, score=0.810 total time=   0.2s\n",
      "[CV 3/5] END LR__C=8.947473684210527, LR__solver=sag, SCL=MinMaxScaler();, score=0.825 total time=   0.2s\n",
      "[CV 4/5] END LR__C=8.947473684210527, LR__solver=sag, SCL=MinMaxScaler();, score=0.816 total time=   0.3s\n",
      "[CV 5/5] END LR__C=8.947473684210527, LR__solver=sag, SCL=MinMaxScaler();, score=0.827 total time=   0.4s\n",
      "[CV 1/5] END LR__C=8.947473684210527, LR__solver=sag, SCL=StandardScaler();, score=0.821 total time=   0.2s\n",
      "[CV 2/5] END LR__C=8.947473684210527, LR__solver=sag, SCL=StandardScaler();, score=0.810 total time=   0.2s\n",
      "[CV 3/5] END LR__C=8.947473684210527, LR__solver=sag, SCL=StandardScaler();, score=0.825 total time=   0.2s\n",
      "[CV 4/5] END LR__C=8.947473684210527, LR__solver=sag, SCL=StandardScaler();, score=0.816 total time=   0.2s\n",
      "[CV 5/5] END LR__C=8.947473684210527, LR__solver=sag, SCL=StandardScaler();, score=0.827 total time=   0.2s\n"
     ]
    },
    {
     "name": "stderr",
     "output_type": "stream",
     "text": [
      "C:\\Users\\dai.STUDENTSDC\\AppData\\Local\\anaconda3\\Lib\\site-packages\\sklearn\\linear_model\\_sag.py:350: ConvergenceWarning: The max_iter was reached which means the coef_ did not converge\n",
      "  warnings.warn(\n"
     ]
    },
    {
     "name": "stdout",
     "output_type": "stream",
     "text": [
      "[CV 1/5] END LR__C=8.947473684210527, LR__solver=sag, SCL=None;, score=0.819 total time=   0.5s\n"
     ]
    },
    {
     "name": "stderr",
     "output_type": "stream",
     "text": [
      "C:\\Users\\dai.STUDENTSDC\\AppData\\Local\\anaconda3\\Lib\\site-packages\\sklearn\\linear_model\\_sag.py:350: ConvergenceWarning: The max_iter was reached which means the coef_ did not converge\n",
      "  warnings.warn(\n"
     ]
    },
    {
     "name": "stdout",
     "output_type": "stream",
     "text": [
      "[CV 2/5] END LR__C=8.947473684210527, LR__solver=sag, SCL=None;, score=0.802 total time=   0.5s\n"
     ]
    },
    {
     "name": "stderr",
     "output_type": "stream",
     "text": [
      "C:\\Users\\dai.STUDENTSDC\\AppData\\Local\\anaconda3\\Lib\\site-packages\\sklearn\\linear_model\\_sag.py:350: ConvergenceWarning: The max_iter was reached which means the coef_ did not converge\n",
      "  warnings.warn(\n"
     ]
    },
    {
     "name": "stdout",
     "output_type": "stream",
     "text": [
      "[CV 3/5] END LR__C=8.947473684210527, LR__solver=sag, SCL=None;, score=0.818 total time=   0.5s\n"
     ]
    },
    {
     "name": "stderr",
     "output_type": "stream",
     "text": [
      "C:\\Users\\dai.STUDENTSDC\\AppData\\Local\\anaconda3\\Lib\\site-packages\\sklearn\\linear_model\\_sag.py:350: ConvergenceWarning: The max_iter was reached which means the coef_ did not converge\n",
      "  warnings.warn(\n"
     ]
    },
    {
     "name": "stdout",
     "output_type": "stream",
     "text": [
      "[CV 4/5] END LR__C=8.947473684210527, LR__solver=sag, SCL=None;, score=0.813 total time=   0.4s\n"
     ]
    },
    {
     "name": "stderr",
     "output_type": "stream",
     "text": [
      "C:\\Users\\dai.STUDENTSDC\\AppData\\Local\\anaconda3\\Lib\\site-packages\\sklearn\\linear_model\\_sag.py:350: ConvergenceWarning: The max_iter was reached which means the coef_ did not converge\n",
      "  warnings.warn(\n"
     ]
    },
    {
     "name": "stdout",
     "output_type": "stream",
     "text": [
      "[CV 5/5] END LR__C=8.947473684210527, LR__solver=sag, SCL=None;, score=0.820 total time=   0.5s\n",
      "[CV 1/5] END LR__C=8.947473684210527, LR__solver=saga, SCL=MinMaxScaler();, score=0.821 total time=   0.1s\n",
      "[CV 2/5] END LR__C=8.947473684210527, LR__solver=saga, SCL=MinMaxScaler();, score=0.810 total time=   0.1s\n",
      "[CV 3/5] END LR__C=8.947473684210527, LR__solver=saga, SCL=MinMaxScaler();, score=0.825 total time=   0.1s\n",
      "[CV 4/5] END LR__C=8.947473684210527, LR__solver=saga, SCL=MinMaxScaler();, score=0.816 total time=   0.1s\n",
      "[CV 5/5] END LR__C=8.947473684210527, LR__solver=saga, SCL=MinMaxScaler();, score=0.827 total time=   0.1s\n",
      "[CV 1/5] END LR__C=8.947473684210527, LR__solver=saga, SCL=StandardScaler();, score=0.821 total time=   0.1s\n",
      "[CV 2/5] END LR__C=8.947473684210527, LR__solver=saga, SCL=StandardScaler();, score=0.810 total time=   0.1s\n",
      "[CV 3/5] END LR__C=8.947473684210527, LR__solver=saga, SCL=StandardScaler();, score=0.825 total time=   0.1s\n",
      "[CV 4/5] END LR__C=8.947473684210527, LR__solver=saga, SCL=StandardScaler();, score=0.816 total time=   0.0s\n",
      "[CV 5/5] END LR__C=8.947473684210527, LR__solver=saga, SCL=StandardScaler();, score=0.827 total time=   0.1s\n"
     ]
    },
    {
     "name": "stderr",
     "output_type": "stream",
     "text": [
      "C:\\Users\\dai.STUDENTSDC\\AppData\\Local\\anaconda3\\Lib\\site-packages\\sklearn\\linear_model\\_sag.py:350: ConvergenceWarning: The max_iter was reached which means the coef_ did not converge\n",
      "  warnings.warn(\n"
     ]
    },
    {
     "name": "stdout",
     "output_type": "stream",
     "text": [
      "[CV 1/5] END LR__C=8.947473684210527, LR__solver=saga, SCL=None;, score=0.812 total time=   0.5s\n"
     ]
    },
    {
     "name": "stderr",
     "output_type": "stream",
     "text": [
      "C:\\Users\\dai.STUDENTSDC\\AppData\\Local\\anaconda3\\Lib\\site-packages\\sklearn\\linear_model\\_sag.py:350: ConvergenceWarning: The max_iter was reached which means the coef_ did not converge\n",
      "  warnings.warn(\n"
     ]
    },
    {
     "name": "stdout",
     "output_type": "stream",
     "text": [
      "[CV 2/5] END LR__C=8.947473684210527, LR__solver=saga, SCL=None;, score=0.792 total time=   0.5s\n"
     ]
    },
    {
     "name": "stderr",
     "output_type": "stream",
     "text": [
      "C:\\Users\\dai.STUDENTSDC\\AppData\\Local\\anaconda3\\Lib\\site-packages\\sklearn\\linear_model\\_sag.py:350: ConvergenceWarning: The max_iter was reached which means the coef_ did not converge\n",
      "  warnings.warn(\n"
     ]
    },
    {
     "name": "stdout",
     "output_type": "stream",
     "text": [
      "[CV 3/5] END LR__C=8.947473684210527, LR__solver=saga, SCL=None;, score=0.812 total time=   0.5s\n"
     ]
    },
    {
     "name": "stderr",
     "output_type": "stream",
     "text": [
      "C:\\Users\\dai.STUDENTSDC\\AppData\\Local\\anaconda3\\Lib\\site-packages\\sklearn\\linear_model\\_sag.py:350: ConvergenceWarning: The max_iter was reached which means the coef_ did not converge\n",
      "  warnings.warn(\n"
     ]
    },
    {
     "name": "stdout",
     "output_type": "stream",
     "text": [
      "[CV 4/5] END LR__C=8.947473684210527, LR__solver=saga, SCL=None;, score=0.807 total time=   0.5s\n"
     ]
    },
    {
     "name": "stderr",
     "output_type": "stream",
     "text": [
      "C:\\Users\\dai.STUDENTSDC\\AppData\\Local\\anaconda3\\Lib\\site-packages\\sklearn\\linear_model\\_sag.py:350: ConvergenceWarning: The max_iter was reached which means the coef_ did not converge\n",
      "  warnings.warn(\n"
     ]
    },
    {
     "name": "stdout",
     "output_type": "stream",
     "text": [
      "[CV 5/5] END LR__C=8.947473684210527, LR__solver=saga, SCL=None;, score=0.814 total time=   0.5s\n",
      "[CV 1/5] END LR__C=9.473736842105263, LR__solver=lbfgs, SCL=MinMaxScaler();, score=0.821 total time=   0.0s\n",
      "[CV 2/5] END LR__C=9.473736842105263, LR__solver=lbfgs, SCL=MinMaxScaler();, score=0.810 total time=   0.0s\n",
      "[CV 3/5] END LR__C=9.473736842105263, LR__solver=lbfgs, SCL=MinMaxScaler();, score=0.825 total time=   0.0s\n",
      "[CV 4/5] END LR__C=9.473736842105263, LR__solver=lbfgs, SCL=MinMaxScaler();, score=0.816 total time=   0.0s\n",
      "[CV 5/5] END LR__C=9.473736842105263, LR__solver=lbfgs, SCL=MinMaxScaler();, score=0.827 total time=   0.0s\n",
      "[CV 1/5] END LR__C=9.473736842105263, LR__solver=lbfgs, SCL=StandardScaler();, score=0.821 total time=   0.0s\n",
      "[CV 2/5] END LR__C=9.473736842105263, LR__solver=lbfgs, SCL=StandardScaler();, score=0.810 total time=   0.0s\n",
      "[CV 3/5] END LR__C=9.473736842105263, LR__solver=lbfgs, SCL=StandardScaler();, score=0.825 total time=   0.0s\n",
      "[CV 4/5] END LR__C=9.473736842105263, LR__solver=lbfgs, SCL=StandardScaler();, score=0.816 total time=   0.0s\n",
      "[CV 5/5] END LR__C=9.473736842105263, LR__solver=lbfgs, SCL=StandardScaler();, score=0.827 total time=   0.0s\n"
     ]
    },
    {
     "name": "stderr",
     "output_type": "stream",
     "text": [
      "C:\\Users\\dai.STUDENTSDC\\AppData\\Local\\anaconda3\\Lib\\site-packages\\sklearn\\linear_model\\_logistic.py:469: ConvergenceWarning: lbfgs failed to converge (status=1):\n",
      "STOP: TOTAL NO. of ITERATIONS REACHED LIMIT.\n",
      "\n",
      "Increase the number of iterations (max_iter) or scale the data as shown in:\n",
      "    https://scikit-learn.org/stable/modules/preprocessing.html\n",
      "Please also refer to the documentation for alternative solver options:\n",
      "    https://scikit-learn.org/stable/modules/linear_model.html#logistic-regression\n",
      "  n_iter_i = _check_optimize_result(\n"
     ]
    },
    {
     "name": "stdout",
     "output_type": "stream",
     "text": [
      "[CV 1/5] END LR__C=9.473736842105263, LR__solver=lbfgs, SCL=None;, score=0.814 total time=   0.2s\n"
     ]
    },
    {
     "name": "stderr",
     "output_type": "stream",
     "text": [
      "C:\\Users\\dai.STUDENTSDC\\AppData\\Local\\anaconda3\\Lib\\site-packages\\sklearn\\linear_model\\_logistic.py:469: ConvergenceWarning: lbfgs failed to converge (status=1):\n",
      "STOP: TOTAL NO. of ITERATIONS REACHED LIMIT.\n",
      "\n",
      "Increase the number of iterations (max_iter) or scale the data as shown in:\n",
      "    https://scikit-learn.org/stable/modules/preprocessing.html\n",
      "Please also refer to the documentation for alternative solver options:\n",
      "    https://scikit-learn.org/stable/modules/linear_model.html#logistic-regression\n",
      "  n_iter_i = _check_optimize_result(\n"
     ]
    },
    {
     "name": "stdout",
     "output_type": "stream",
     "text": [
      "[CV 2/5] END LR__C=9.473736842105263, LR__solver=lbfgs, SCL=None;, score=0.807 total time=   0.2s\n",
      "[CV 3/5] END LR__C=9.473736842105263, LR__solver=lbfgs, SCL=None;, score=0.820 total time=   0.2s\n"
     ]
    },
    {
     "name": "stderr",
     "output_type": "stream",
     "text": [
      "C:\\Users\\dai.STUDENTSDC\\AppData\\Local\\anaconda3\\Lib\\site-packages\\sklearn\\linear_model\\_logistic.py:469: ConvergenceWarning: lbfgs failed to converge (status=1):\n",
      "STOP: TOTAL NO. of ITERATIONS REACHED LIMIT.\n",
      "\n",
      "Increase the number of iterations (max_iter) or scale the data as shown in:\n",
      "    https://scikit-learn.org/stable/modules/preprocessing.html\n",
      "Please also refer to the documentation for alternative solver options:\n",
      "    https://scikit-learn.org/stable/modules/linear_model.html#logistic-regression\n",
      "  n_iter_i = _check_optimize_result(\n",
      "C:\\Users\\dai.STUDENTSDC\\AppData\\Local\\anaconda3\\Lib\\site-packages\\sklearn\\linear_model\\_logistic.py:469: ConvergenceWarning: lbfgs failed to converge (status=1):\n",
      "STOP: TOTAL NO. of ITERATIONS REACHED LIMIT.\n",
      "\n",
      "Increase the number of iterations (max_iter) or scale the data as shown in:\n",
      "    https://scikit-learn.org/stable/modules/preprocessing.html\n",
      "Please also refer to the documentation for alternative solver options:\n",
      "    https://scikit-learn.org/stable/modules/linear_model.html#logistic-regression\n",
      "  n_iter_i = _check_optimize_result(\n"
     ]
    },
    {
     "name": "stdout",
     "output_type": "stream",
     "text": [
      "[CV 4/5] END LR__C=9.473736842105263, LR__solver=lbfgs, SCL=None;, score=0.812 total time=   0.2s\n"
     ]
    },
    {
     "name": "stderr",
     "output_type": "stream",
     "text": [
      "C:\\Users\\dai.STUDENTSDC\\AppData\\Local\\anaconda3\\Lib\\site-packages\\sklearn\\linear_model\\_logistic.py:469: ConvergenceWarning: lbfgs failed to converge (status=1):\n",
      "STOP: TOTAL NO. of ITERATIONS REACHED LIMIT.\n",
      "\n",
      "Increase the number of iterations (max_iter) or scale the data as shown in:\n",
      "    https://scikit-learn.org/stable/modules/preprocessing.html\n",
      "Please also refer to the documentation for alternative solver options:\n",
      "    https://scikit-learn.org/stable/modules/linear_model.html#logistic-regression\n",
      "  n_iter_i = _check_optimize_result(\n"
     ]
    },
    {
     "name": "stdout",
     "output_type": "stream",
     "text": [
      "[CV 5/5] END LR__C=9.473736842105263, LR__solver=lbfgs, SCL=None;, score=0.821 total time=   0.2s\n",
      "[CV 1/5] END LR__C=9.473736842105263, LR__solver=liblinear, SCL=MinMaxScaler();, score=nan total time=   0.0s\n",
      "[CV 2/5] END LR__C=9.473736842105263, LR__solver=liblinear, SCL=MinMaxScaler();, score=nan total time=   0.0s\n",
      "[CV 3/5] END LR__C=9.473736842105263, LR__solver=liblinear, SCL=MinMaxScaler();, score=nan total time=   0.0s\n",
      "[CV 4/5] END LR__C=9.473736842105263, LR__solver=liblinear, SCL=MinMaxScaler();, score=nan total time=   0.0s\n",
      "[CV 5/5] END LR__C=9.473736842105263, LR__solver=liblinear, SCL=MinMaxScaler();, score=nan total time=   0.0s\n",
      "[CV 1/5] END LR__C=9.473736842105263, LR__solver=liblinear, SCL=StandardScaler();, score=nan total time=   0.0s\n",
      "[CV 2/5] END LR__C=9.473736842105263, LR__solver=liblinear, SCL=StandardScaler();, score=nan total time=   0.0s\n",
      "[CV 3/5] END LR__C=9.473736842105263, LR__solver=liblinear, SCL=StandardScaler();, score=nan total time=   0.0s\n",
      "[CV 4/5] END LR__C=9.473736842105263, LR__solver=liblinear, SCL=StandardScaler();, score=nan total time=   0.0s\n",
      "[CV 5/5] END LR__C=9.473736842105263, LR__solver=liblinear, SCL=StandardScaler();, score=nan total time=   0.0s\n",
      "[CV 1/5] END LR__C=9.473736842105263, LR__solver=liblinear, SCL=None;, score=nan total time=   0.0s\n",
      "[CV 2/5] END LR__C=9.473736842105263, LR__solver=liblinear, SCL=None;, score=nan total time=   0.0s\n",
      "[CV 3/5] END LR__C=9.473736842105263, LR__solver=liblinear, SCL=None;, score=nan total time=   0.0s\n",
      "[CV 4/5] END LR__C=9.473736842105263, LR__solver=liblinear, SCL=None;, score=nan total time=   0.0s\n",
      "[CV 5/5] END LR__C=9.473736842105263, LR__solver=liblinear, SCL=None;, score=nan total time=   0.0s\n",
      "[CV 1/5] END LR__C=9.473736842105263, LR__solver=newton-cg, SCL=MinMaxScaler();, score=0.821 total time=   0.0s\n",
      "[CV 2/5] END LR__C=9.473736842105263, LR__solver=newton-cg, SCL=MinMaxScaler();, score=0.810 total time=   0.0s\n",
      "[CV 3/5] END LR__C=9.473736842105263, LR__solver=newton-cg, SCL=MinMaxScaler();, score=0.825 total time=   0.0s\n",
      "[CV 4/5] END LR__C=9.473736842105263, LR__solver=newton-cg, SCL=MinMaxScaler();, score=0.816 total time=   0.0s\n",
      "[CV 5/5] END LR__C=9.473736842105263, LR__solver=newton-cg, SCL=MinMaxScaler();, score=0.827 total time=   0.0s\n",
      "[CV 1/5] END LR__C=9.473736842105263, LR__solver=newton-cg, SCL=StandardScaler();, score=0.821 total time=   0.0s\n",
      "[CV 2/5] END LR__C=9.473736842105263, LR__solver=newton-cg, SCL=StandardScaler();, score=0.810 total time=   0.0s\n",
      "[CV 3/5] END LR__C=9.473736842105263, LR__solver=newton-cg, SCL=StandardScaler();, score=0.825 total time=   0.0s\n",
      "[CV 4/5] END LR__C=9.473736842105263, LR__solver=newton-cg, SCL=StandardScaler();, score=0.816 total time=   0.0s\n",
      "[CV 5/5] END LR__C=9.473736842105263, LR__solver=newton-cg, SCL=StandardScaler();, score=0.827 total time=   0.0s\n",
      "[CV 1/5] END LR__C=9.473736842105263, LR__solver=newton-cg, SCL=None;, score=0.821 total time=   0.3s\n",
      "[CV 2/5] END LR__C=9.473736842105263, LR__solver=newton-cg, SCL=None;, score=0.810 total time=   0.4s\n",
      "[CV 3/5] END LR__C=9.473736842105263, LR__solver=newton-cg, SCL=None;, score=0.825 total time=   0.4s\n",
      "[CV 4/5] END LR__C=9.473736842105263, LR__solver=newton-cg, SCL=None;, score=0.816 total time=   0.4s\n",
      "[CV 5/5] END LR__C=9.473736842105263, LR__solver=newton-cg, SCL=None;, score=0.827 total time=   0.4s\n",
      "[CV 1/5] END LR__C=9.473736842105263, LR__solver=newton-cholesky, SCL=MinMaxScaler();, score=nan total time=   0.0s\n",
      "[CV 2/5] END LR__C=9.473736842105263, LR__solver=newton-cholesky, SCL=MinMaxScaler();, score=nan total time=   0.0s\n",
      "[CV 3/5] END LR__C=9.473736842105263, LR__solver=newton-cholesky, SCL=MinMaxScaler();, score=nan total time=   0.0s\n",
      "[CV 4/5] END LR__C=9.473736842105263, LR__solver=newton-cholesky, SCL=MinMaxScaler();, score=nan total time=   0.0s\n",
      "[CV 5/5] END LR__C=9.473736842105263, LR__solver=newton-cholesky, SCL=MinMaxScaler();, score=nan total time=   0.0s\n",
      "[CV 1/5] END LR__C=9.473736842105263, LR__solver=newton-cholesky, SCL=StandardScaler();, score=nan total time=   0.0s\n",
      "[CV 2/5] END LR__C=9.473736842105263, LR__solver=newton-cholesky, SCL=StandardScaler();, score=nan total time=   0.0s\n",
      "[CV 3/5] END LR__C=9.473736842105263, LR__solver=newton-cholesky, SCL=StandardScaler();, score=nan total time=   0.0s\n",
      "[CV 4/5] END LR__C=9.473736842105263, LR__solver=newton-cholesky, SCL=StandardScaler();, score=nan total time=   0.0s\n",
      "[CV 5/5] END LR__C=9.473736842105263, LR__solver=newton-cholesky, SCL=StandardScaler();, score=nan total time=   0.0s\n",
      "[CV 1/5] END LR__C=9.473736842105263, LR__solver=newton-cholesky, SCL=None;, score=nan total time=   0.0s\n",
      "[CV 2/5] END LR__C=9.473736842105263, LR__solver=newton-cholesky, SCL=None;, score=nan total time=   0.0s\n",
      "[CV 3/5] END LR__C=9.473736842105263, LR__solver=newton-cholesky, SCL=None;, score=nan total time=   0.0s\n",
      "[CV 4/5] END LR__C=9.473736842105263, LR__solver=newton-cholesky, SCL=None;, score=nan total time=   0.0s\n",
      "[CV 5/5] END LR__C=9.473736842105263, LR__solver=newton-cholesky, SCL=None;, score=nan total time=   0.0s\n",
      "[CV 1/5] END LR__C=9.473736842105263, LR__solver=sag, SCL=MinMaxScaler();, score=0.821 total time=   0.2s\n",
      "[CV 2/5] END LR__C=9.473736842105263, LR__solver=sag, SCL=MinMaxScaler();, score=0.810 total time=   0.2s\n",
      "[CV 3/5] END LR__C=9.473736842105263, LR__solver=sag, SCL=MinMaxScaler();, score=0.825 total time=   0.2s\n",
      "[CV 4/5] END LR__C=9.473736842105263, LR__solver=sag, SCL=MinMaxScaler();, score=0.816 total time=   0.3s\n",
      "[CV 5/5] END LR__C=9.473736842105263, LR__solver=sag, SCL=MinMaxScaler();, score=0.827 total time=   0.4s\n",
      "[CV 1/5] END LR__C=9.473736842105263, LR__solver=sag, SCL=StandardScaler();, score=0.821 total time=   0.2s\n",
      "[CV 2/5] END LR__C=9.473736842105263, LR__solver=sag, SCL=StandardScaler();, score=0.810 total time=   0.1s\n",
      "[CV 3/5] END LR__C=9.473736842105263, LR__solver=sag, SCL=StandardScaler();, score=0.825 total time=   0.2s\n",
      "[CV 4/5] END LR__C=9.473736842105263, LR__solver=sag, SCL=StandardScaler();, score=0.816 total time=   0.2s\n",
      "[CV 5/5] END LR__C=9.473736842105263, LR__solver=sag, SCL=StandardScaler();, score=0.827 total time=   0.2s\n"
     ]
    },
    {
     "name": "stderr",
     "output_type": "stream",
     "text": [
      "C:\\Users\\dai.STUDENTSDC\\AppData\\Local\\anaconda3\\Lib\\site-packages\\sklearn\\linear_model\\_sag.py:350: ConvergenceWarning: The max_iter was reached which means the coef_ did not converge\n",
      "  warnings.warn(\n"
     ]
    },
    {
     "name": "stdout",
     "output_type": "stream",
     "text": [
      "[CV 1/5] END LR__C=9.473736842105263, LR__solver=sag, SCL=None;, score=0.819 total time=   0.5s\n"
     ]
    },
    {
     "name": "stderr",
     "output_type": "stream",
     "text": [
      "C:\\Users\\dai.STUDENTSDC\\AppData\\Local\\anaconda3\\Lib\\site-packages\\sklearn\\linear_model\\_sag.py:350: ConvergenceWarning: The max_iter was reached which means the coef_ did not converge\n",
      "  warnings.warn(\n"
     ]
    },
    {
     "name": "stdout",
     "output_type": "stream",
     "text": [
      "[CV 2/5] END LR__C=9.473736842105263, LR__solver=sag, SCL=None;, score=0.802 total time=   0.4s\n"
     ]
    },
    {
     "name": "stderr",
     "output_type": "stream",
     "text": [
      "C:\\Users\\dai.STUDENTSDC\\AppData\\Local\\anaconda3\\Lib\\site-packages\\sklearn\\linear_model\\_sag.py:350: ConvergenceWarning: The max_iter was reached which means the coef_ did not converge\n",
      "  warnings.warn(\n"
     ]
    },
    {
     "name": "stdout",
     "output_type": "stream",
     "text": [
      "[CV 3/5] END LR__C=9.473736842105263, LR__solver=sag, SCL=None;, score=0.818 total time=   0.5s\n"
     ]
    },
    {
     "name": "stderr",
     "output_type": "stream",
     "text": [
      "C:\\Users\\dai.STUDENTSDC\\AppData\\Local\\anaconda3\\Lib\\site-packages\\sklearn\\linear_model\\_sag.py:350: ConvergenceWarning: The max_iter was reached which means the coef_ did not converge\n",
      "  warnings.warn(\n"
     ]
    },
    {
     "name": "stdout",
     "output_type": "stream",
     "text": [
      "[CV 4/5] END LR__C=9.473736842105263, LR__solver=sag, SCL=None;, score=0.813 total time=   0.5s\n"
     ]
    },
    {
     "name": "stderr",
     "output_type": "stream",
     "text": [
      "C:\\Users\\dai.STUDENTSDC\\AppData\\Local\\anaconda3\\Lib\\site-packages\\sklearn\\linear_model\\_sag.py:350: ConvergenceWarning: The max_iter was reached which means the coef_ did not converge\n",
      "  warnings.warn(\n"
     ]
    },
    {
     "name": "stdout",
     "output_type": "stream",
     "text": [
      "[CV 5/5] END LR__C=9.473736842105263, LR__solver=sag, SCL=None;, score=0.820 total time=   0.5s\n",
      "[CV 1/5] END LR__C=9.473736842105263, LR__solver=saga, SCL=MinMaxScaler();, score=0.821 total time=   0.1s\n",
      "[CV 2/5] END LR__C=9.473736842105263, LR__solver=saga, SCL=MinMaxScaler();, score=0.810 total time=   0.1s\n",
      "[CV 3/5] END LR__C=9.473736842105263, LR__solver=saga, SCL=MinMaxScaler();, score=0.825 total time=   0.1s\n",
      "[CV 4/5] END LR__C=9.473736842105263, LR__solver=saga, SCL=MinMaxScaler();, score=0.816 total time=   0.1s\n",
      "[CV 5/5] END LR__C=9.473736842105263, LR__solver=saga, SCL=MinMaxScaler();, score=0.827 total time=   0.1s\n",
      "[CV 1/5] END LR__C=9.473736842105263, LR__solver=saga, SCL=StandardScaler();, score=0.821 total time=   0.1s\n",
      "[CV 2/5] END LR__C=9.473736842105263, LR__solver=saga, SCL=StandardScaler();, score=0.810 total time=   0.1s\n",
      "[CV 3/5] END LR__C=9.473736842105263, LR__solver=saga, SCL=StandardScaler();, score=0.825 total time=   0.1s\n",
      "[CV 4/5] END LR__C=9.473736842105263, LR__solver=saga, SCL=StandardScaler();, score=0.816 total time=   0.0s\n",
      "[CV 5/5] END LR__C=9.473736842105263, LR__solver=saga, SCL=StandardScaler();, score=0.827 total time=   0.1s\n"
     ]
    },
    {
     "name": "stderr",
     "output_type": "stream",
     "text": [
      "C:\\Users\\dai.STUDENTSDC\\AppData\\Local\\anaconda3\\Lib\\site-packages\\sklearn\\linear_model\\_sag.py:350: ConvergenceWarning: The max_iter was reached which means the coef_ did not converge\n",
      "  warnings.warn(\n"
     ]
    },
    {
     "name": "stdout",
     "output_type": "stream",
     "text": [
      "[CV 1/5] END LR__C=9.473736842105263, LR__solver=saga, SCL=None;, score=0.812 total time=   0.5s\n"
     ]
    },
    {
     "name": "stderr",
     "output_type": "stream",
     "text": [
      "C:\\Users\\dai.STUDENTSDC\\AppData\\Local\\anaconda3\\Lib\\site-packages\\sklearn\\linear_model\\_sag.py:350: ConvergenceWarning: The max_iter was reached which means the coef_ did not converge\n",
      "  warnings.warn(\n"
     ]
    },
    {
     "name": "stdout",
     "output_type": "stream",
     "text": [
      "[CV 2/5] END LR__C=9.473736842105263, LR__solver=saga, SCL=None;, score=0.792 total time=   0.5s\n"
     ]
    },
    {
     "name": "stderr",
     "output_type": "stream",
     "text": [
      "C:\\Users\\dai.STUDENTSDC\\AppData\\Local\\anaconda3\\Lib\\site-packages\\sklearn\\linear_model\\_sag.py:350: ConvergenceWarning: The max_iter was reached which means the coef_ did not converge\n",
      "  warnings.warn(\n"
     ]
    },
    {
     "name": "stdout",
     "output_type": "stream",
     "text": [
      "[CV 3/5] END LR__C=9.473736842105263, LR__solver=saga, SCL=None;, score=0.812 total time=   0.5s\n"
     ]
    },
    {
     "name": "stderr",
     "output_type": "stream",
     "text": [
      "C:\\Users\\dai.STUDENTSDC\\AppData\\Local\\anaconda3\\Lib\\site-packages\\sklearn\\linear_model\\_sag.py:350: ConvergenceWarning: The max_iter was reached which means the coef_ did not converge\n",
      "  warnings.warn(\n"
     ]
    },
    {
     "name": "stdout",
     "output_type": "stream",
     "text": [
      "[CV 4/5] END LR__C=9.473736842105263, LR__solver=saga, SCL=None;, score=0.807 total time=   0.5s\n"
     ]
    },
    {
     "name": "stderr",
     "output_type": "stream",
     "text": [
      "C:\\Users\\dai.STUDENTSDC\\AppData\\Local\\anaconda3\\Lib\\site-packages\\sklearn\\linear_model\\_sag.py:350: ConvergenceWarning: The max_iter was reached which means the coef_ did not converge\n",
      "  warnings.warn(\n"
     ]
    },
    {
     "name": "stdout",
     "output_type": "stream",
     "text": [
      "[CV 5/5] END LR__C=9.473736842105263, LR__solver=saga, SCL=None;, score=0.814 total time=   0.5s\n",
      "[CV 1/5] END LR__C=10.0, LR__solver=lbfgs, SCL=MinMaxScaler();, score=0.821 total time=   0.0s\n",
      "[CV 2/5] END LR__C=10.0, LR__solver=lbfgs, SCL=MinMaxScaler();, score=0.810 total time=   0.0s\n",
      "[CV 3/5] END LR__C=10.0, LR__solver=lbfgs, SCL=MinMaxScaler();, score=0.825 total time=   0.0s\n",
      "[CV 4/5] END LR__C=10.0, LR__solver=lbfgs, SCL=MinMaxScaler();, score=0.816 total time=   0.0s\n",
      "[CV 5/5] END LR__C=10.0, LR__solver=lbfgs, SCL=MinMaxScaler();, score=0.827 total time=   0.0s\n",
      "[CV 1/5] END LR__C=10.0, LR__solver=lbfgs, SCL=StandardScaler();, score=0.821 total time=   0.0s\n",
      "[CV 2/5] END LR__C=10.0, LR__solver=lbfgs, SCL=StandardScaler();, score=0.810 total time=   0.0s\n",
      "[CV 3/5] END LR__C=10.0, LR__solver=lbfgs, SCL=StandardScaler();, score=0.825 total time=   0.0s\n",
      "[CV 4/5] END LR__C=10.0, LR__solver=lbfgs, SCL=StandardScaler();, score=0.816 total time=   0.0s\n",
      "[CV 5/5] END LR__C=10.0, LR__solver=lbfgs, SCL=StandardScaler();, score=0.827 total time=   0.0s\n"
     ]
    },
    {
     "name": "stderr",
     "output_type": "stream",
     "text": [
      "C:\\Users\\dai.STUDENTSDC\\AppData\\Local\\anaconda3\\Lib\\site-packages\\sklearn\\linear_model\\_logistic.py:469: ConvergenceWarning: lbfgs failed to converge (status=1):\n",
      "STOP: TOTAL NO. of ITERATIONS REACHED LIMIT.\n",
      "\n",
      "Increase the number of iterations (max_iter) or scale the data as shown in:\n",
      "    https://scikit-learn.org/stable/modules/preprocessing.html\n",
      "Please also refer to the documentation for alternative solver options:\n",
      "    https://scikit-learn.org/stable/modules/linear_model.html#logistic-regression\n",
      "  n_iter_i = _check_optimize_result(\n"
     ]
    },
    {
     "name": "stdout",
     "output_type": "stream",
     "text": [
      "[CV 1/5] END LR__C=10.0, LR__solver=lbfgs, SCL=None;, score=0.813 total time=   0.2s\n"
     ]
    },
    {
     "name": "stderr",
     "output_type": "stream",
     "text": [
      "C:\\Users\\dai.STUDENTSDC\\AppData\\Local\\anaconda3\\Lib\\site-packages\\sklearn\\linear_model\\_logistic.py:469: ConvergenceWarning: lbfgs failed to converge (status=1):\n",
      "STOP: TOTAL NO. of ITERATIONS REACHED LIMIT.\n",
      "\n",
      "Increase the number of iterations (max_iter) or scale the data as shown in:\n",
      "    https://scikit-learn.org/stable/modules/preprocessing.html\n",
      "Please also refer to the documentation for alternative solver options:\n",
      "    https://scikit-learn.org/stable/modules/linear_model.html#logistic-regression\n",
      "  n_iter_i = _check_optimize_result(\n"
     ]
    },
    {
     "name": "stdout",
     "output_type": "stream",
     "text": [
      "[CV 2/5] END LR__C=10.0, LR__solver=lbfgs, SCL=None;, score=0.804 total time=   0.2s\n"
     ]
    },
    {
     "name": "stderr",
     "output_type": "stream",
     "text": [
      "C:\\Users\\dai.STUDENTSDC\\AppData\\Local\\anaconda3\\Lib\\site-packages\\sklearn\\linear_model\\_logistic.py:469: ConvergenceWarning: lbfgs failed to converge (status=1):\n",
      "STOP: TOTAL NO. of ITERATIONS REACHED LIMIT.\n",
      "\n",
      "Increase the number of iterations (max_iter) or scale the data as shown in:\n",
      "    https://scikit-learn.org/stable/modules/preprocessing.html\n",
      "Please also refer to the documentation for alternative solver options:\n",
      "    https://scikit-learn.org/stable/modules/linear_model.html#logistic-regression\n",
      "  n_iter_i = _check_optimize_result(\n"
     ]
    },
    {
     "name": "stdout",
     "output_type": "stream",
     "text": [
      "[CV 3/5] END LR__C=10.0, LR__solver=lbfgs, SCL=None;, score=0.820 total time=   0.2s\n"
     ]
    },
    {
     "name": "stderr",
     "output_type": "stream",
     "text": [
      "C:\\Users\\dai.STUDENTSDC\\AppData\\Local\\anaconda3\\Lib\\site-packages\\sklearn\\linear_model\\_logistic.py:469: ConvergenceWarning: lbfgs failed to converge (status=1):\n",
      "STOP: TOTAL NO. of ITERATIONS REACHED LIMIT.\n",
      "\n",
      "Increase the number of iterations (max_iter) or scale the data as shown in:\n",
      "    https://scikit-learn.org/stable/modules/preprocessing.html\n",
      "Please also refer to the documentation for alternative solver options:\n",
      "    https://scikit-learn.org/stable/modules/linear_model.html#logistic-regression\n",
      "  n_iter_i = _check_optimize_result(\n"
     ]
    },
    {
     "name": "stdout",
     "output_type": "stream",
     "text": [
      "[CV 4/5] END LR__C=10.0, LR__solver=lbfgs, SCL=None;, score=0.814 total time=   0.2s\n"
     ]
    },
    {
     "name": "stderr",
     "output_type": "stream",
     "text": [
      "C:\\Users\\dai.STUDENTSDC\\AppData\\Local\\anaconda3\\Lib\\site-packages\\sklearn\\linear_model\\_logistic.py:469: ConvergenceWarning: lbfgs failed to converge (status=1):\n",
      "STOP: TOTAL NO. of ITERATIONS REACHED LIMIT.\n",
      "\n",
      "Increase the number of iterations (max_iter) or scale the data as shown in:\n",
      "    https://scikit-learn.org/stable/modules/preprocessing.html\n",
      "Please also refer to the documentation for alternative solver options:\n",
      "    https://scikit-learn.org/stable/modules/linear_model.html#logistic-regression\n",
      "  n_iter_i = _check_optimize_result(\n"
     ]
    },
    {
     "name": "stdout",
     "output_type": "stream",
     "text": [
      "[CV 5/5] END LR__C=10.0, LR__solver=lbfgs, SCL=None;, score=0.821 total time=   0.2s\n",
      "[CV 1/5] END LR__C=10.0, LR__solver=liblinear, SCL=MinMaxScaler();, score=nan total time=   0.0s\n",
      "[CV 2/5] END LR__C=10.0, LR__solver=liblinear, SCL=MinMaxScaler();, score=nan total time=   0.0s\n",
      "[CV 3/5] END LR__C=10.0, LR__solver=liblinear, SCL=MinMaxScaler();, score=nan total time=   0.0s\n",
      "[CV 4/5] END LR__C=10.0, LR__solver=liblinear, SCL=MinMaxScaler();, score=nan total time=   0.0s\n",
      "[CV 5/5] END LR__C=10.0, LR__solver=liblinear, SCL=MinMaxScaler();, score=nan total time=   0.0s\n",
      "[CV 1/5] END LR__C=10.0, LR__solver=liblinear, SCL=StandardScaler();, score=nan total time=   0.0s\n",
      "[CV 2/5] END LR__C=10.0, LR__solver=liblinear, SCL=StandardScaler();, score=nan total time=   0.0s\n",
      "[CV 3/5] END LR__C=10.0, LR__solver=liblinear, SCL=StandardScaler();, score=nan total time=   0.0s\n",
      "[CV 4/5] END LR__C=10.0, LR__solver=liblinear, SCL=StandardScaler();, score=nan total time=   0.0s\n",
      "[CV 5/5] END LR__C=10.0, LR__solver=liblinear, SCL=StandardScaler();, score=nan total time=   0.0s\n",
      "[CV 1/5] END LR__C=10.0, LR__solver=liblinear, SCL=None;, score=nan total time=   0.0s\n",
      "[CV 2/5] END LR__C=10.0, LR__solver=liblinear, SCL=None;, score=nan total time=   0.0s\n",
      "[CV 3/5] END LR__C=10.0, LR__solver=liblinear, SCL=None;, score=nan total time=   0.0s\n",
      "[CV 4/5] END LR__C=10.0, LR__solver=liblinear, SCL=None;, score=nan total time=   0.0s\n",
      "[CV 5/5] END LR__C=10.0, LR__solver=liblinear, SCL=None;, score=nan total time=   0.0s\n",
      "[CV 1/5] END LR__C=10.0, LR__solver=newton-cg, SCL=MinMaxScaler();, score=0.821 total time=   0.0s\n",
      "[CV 2/5] END LR__C=10.0, LR__solver=newton-cg, SCL=MinMaxScaler();, score=0.810 total time=   0.0s\n",
      "[CV 3/5] END LR__C=10.0, LR__solver=newton-cg, SCL=MinMaxScaler();, score=0.825 total time=   0.0s\n",
      "[CV 4/5] END LR__C=10.0, LR__solver=newton-cg, SCL=MinMaxScaler();, score=0.816 total time=   0.0s\n",
      "[CV 5/5] END LR__C=10.0, LR__solver=newton-cg, SCL=MinMaxScaler();, score=0.827 total time=   0.0s\n",
      "[CV 1/5] END LR__C=10.0, LR__solver=newton-cg, SCL=StandardScaler();, score=0.821 total time=   0.0s\n",
      "[CV 2/5] END LR__C=10.0, LR__solver=newton-cg, SCL=StandardScaler();, score=0.810 total time=   0.0s\n",
      "[CV 3/5] END LR__C=10.0, LR__solver=newton-cg, SCL=StandardScaler();, score=0.825 total time=   0.0s\n",
      "[CV 4/5] END LR__C=10.0, LR__solver=newton-cg, SCL=StandardScaler();, score=0.816 total time=   0.0s\n",
      "[CV 5/5] END LR__C=10.0, LR__solver=newton-cg, SCL=StandardScaler();, score=0.827 total time=   0.0s\n",
      "[CV 1/5] END LR__C=10.0, LR__solver=newton-cg, SCL=None;, score=0.821 total time=   0.4s\n",
      "[CV 2/5] END LR__C=10.0, LR__solver=newton-cg, SCL=None;, score=0.810 total time=   0.4s\n",
      "[CV 3/5] END LR__C=10.0, LR__solver=newton-cg, SCL=None;, score=0.825 total time=   0.3s\n",
      "[CV 4/5] END LR__C=10.0, LR__solver=newton-cg, SCL=None;, score=0.816 total time=   0.4s\n",
      "[CV 5/5] END LR__C=10.0, LR__solver=newton-cg, SCL=None;, score=0.827 total time=   0.4s\n",
      "[CV 1/5] END LR__C=10.0, LR__solver=newton-cholesky, SCL=MinMaxScaler();, score=nan total time=   0.0s\n",
      "[CV 2/5] END LR__C=10.0, LR__solver=newton-cholesky, SCL=MinMaxScaler();, score=nan total time=   0.0s\n",
      "[CV 3/5] END LR__C=10.0, LR__solver=newton-cholesky, SCL=MinMaxScaler();, score=nan total time=   0.0s\n",
      "[CV 4/5] END LR__C=10.0, LR__solver=newton-cholesky, SCL=MinMaxScaler();, score=nan total time=   0.0s\n",
      "[CV 5/5] END LR__C=10.0, LR__solver=newton-cholesky, SCL=MinMaxScaler();, score=nan total time=   0.0s\n",
      "[CV 1/5] END LR__C=10.0, LR__solver=newton-cholesky, SCL=StandardScaler();, score=nan total time=   0.0s\n",
      "[CV 2/5] END LR__C=10.0, LR__solver=newton-cholesky, SCL=StandardScaler();, score=nan total time=   0.0s\n",
      "[CV 3/5] END LR__C=10.0, LR__solver=newton-cholesky, SCL=StandardScaler();, score=nan total time=   0.0s\n",
      "[CV 4/5] END LR__C=10.0, LR__solver=newton-cholesky, SCL=StandardScaler();, score=nan total time=   0.0s\n",
      "[CV 5/5] END LR__C=10.0, LR__solver=newton-cholesky, SCL=StandardScaler();, score=nan total time=   0.0s\n",
      "[CV 1/5] END LR__C=10.0, LR__solver=newton-cholesky, SCL=None;, score=nan total time=   0.0s\n",
      "[CV 2/5] END LR__C=10.0, LR__solver=newton-cholesky, SCL=None;, score=nan total time=   0.0s\n",
      "[CV 3/5] END LR__C=10.0, LR__solver=newton-cholesky, SCL=None;, score=nan total time=   0.0s\n",
      "[CV 4/5] END LR__C=10.0, LR__solver=newton-cholesky, SCL=None;, score=nan total time=   0.0s\n",
      "[CV 5/5] END LR__C=10.0, LR__solver=newton-cholesky, SCL=None;, score=nan total time=   0.0s\n",
      "[CV 1/5] END LR__C=10.0, LR__solver=sag, SCL=MinMaxScaler();, score=0.821 total time=   0.2s\n",
      "[CV 2/5] END LR__C=10.0, LR__solver=sag, SCL=MinMaxScaler();, score=0.810 total time=   0.3s\n",
      "[CV 3/5] END LR__C=10.0, LR__solver=sag, SCL=MinMaxScaler();, score=0.825 total time=   0.2s\n",
      "[CV 4/5] END LR__C=10.0, LR__solver=sag, SCL=MinMaxScaler();, score=0.816 total time=   0.3s\n",
      "[CV 5/5] END LR__C=10.0, LR__solver=sag, SCL=MinMaxScaler();, score=0.827 total time=   0.3s\n",
      "[CV 1/5] END LR__C=10.0, LR__solver=sag, SCL=StandardScaler();, score=0.821 total time=   0.2s\n",
      "[CV 2/5] END LR__C=10.0, LR__solver=sag, SCL=StandardScaler();, score=0.810 total time=   0.1s\n",
      "[CV 3/5] END LR__C=10.0, LR__solver=sag, SCL=StandardScaler();, score=0.825 total time=   0.2s\n",
      "[CV 4/5] END LR__C=10.0, LR__solver=sag, SCL=StandardScaler();, score=0.816 total time=   0.2s\n",
      "[CV 5/5] END LR__C=10.0, LR__solver=sag, SCL=StandardScaler();, score=0.827 total time=   0.2s\n"
     ]
    },
    {
     "name": "stderr",
     "output_type": "stream",
     "text": [
      "C:\\Users\\dai.STUDENTSDC\\AppData\\Local\\anaconda3\\Lib\\site-packages\\sklearn\\linear_model\\_sag.py:350: ConvergenceWarning: The max_iter was reached which means the coef_ did not converge\n",
      "  warnings.warn(\n"
     ]
    },
    {
     "name": "stdout",
     "output_type": "stream",
     "text": [
      "[CV 1/5] END LR__C=10.0, LR__solver=sag, SCL=None;, score=0.819 total time=   0.5s\n"
     ]
    },
    {
     "name": "stderr",
     "output_type": "stream",
     "text": [
      "C:\\Users\\dai.STUDENTSDC\\AppData\\Local\\anaconda3\\Lib\\site-packages\\sklearn\\linear_model\\_sag.py:350: ConvergenceWarning: The max_iter was reached which means the coef_ did not converge\n",
      "  warnings.warn(\n"
     ]
    },
    {
     "name": "stdout",
     "output_type": "stream",
     "text": [
      "[CV 2/5] END LR__C=10.0, LR__solver=sag, SCL=None;, score=0.802 total time=   0.5s\n"
     ]
    },
    {
     "name": "stderr",
     "output_type": "stream",
     "text": [
      "C:\\Users\\dai.STUDENTSDC\\AppData\\Local\\anaconda3\\Lib\\site-packages\\sklearn\\linear_model\\_sag.py:350: ConvergenceWarning: The max_iter was reached which means the coef_ did not converge\n",
      "  warnings.warn(\n"
     ]
    },
    {
     "name": "stdout",
     "output_type": "stream",
     "text": [
      "[CV 3/5] END LR__C=10.0, LR__solver=sag, SCL=None;, score=0.818 total time=   0.5s\n"
     ]
    },
    {
     "name": "stderr",
     "output_type": "stream",
     "text": [
      "C:\\Users\\dai.STUDENTSDC\\AppData\\Local\\anaconda3\\Lib\\site-packages\\sklearn\\linear_model\\_sag.py:350: ConvergenceWarning: The max_iter was reached which means the coef_ did not converge\n",
      "  warnings.warn(\n"
     ]
    },
    {
     "name": "stdout",
     "output_type": "stream",
     "text": [
      "[CV 4/5] END LR__C=10.0, LR__solver=sag, SCL=None;, score=0.813 total time=   0.5s\n"
     ]
    },
    {
     "name": "stderr",
     "output_type": "stream",
     "text": [
      "C:\\Users\\dai.STUDENTSDC\\AppData\\Local\\anaconda3\\Lib\\site-packages\\sklearn\\linear_model\\_sag.py:350: ConvergenceWarning: The max_iter was reached which means the coef_ did not converge\n",
      "  warnings.warn(\n"
     ]
    },
    {
     "name": "stdout",
     "output_type": "stream",
     "text": [
      "[CV 5/5] END LR__C=10.0, LR__solver=sag, SCL=None;, score=0.820 total time=   0.5s\n",
      "[CV 1/5] END LR__C=10.0, LR__solver=saga, SCL=MinMaxScaler();, score=0.821 total time=   0.1s\n",
      "[CV 2/5] END LR__C=10.0, LR__solver=saga, SCL=MinMaxScaler();, score=0.810 total time=   0.1s\n",
      "[CV 3/5] END LR__C=10.0, LR__solver=saga, SCL=MinMaxScaler();, score=0.825 total time=   0.1s\n",
      "[CV 4/5] END LR__C=10.0, LR__solver=saga, SCL=MinMaxScaler();, score=0.816 total time=   0.1s\n",
      "[CV 5/5] END LR__C=10.0, LR__solver=saga, SCL=MinMaxScaler();, score=0.827 total time=   0.1s\n",
      "[CV 1/5] END LR__C=10.0, LR__solver=saga, SCL=StandardScaler();, score=0.821 total time=   0.1s\n",
      "[CV 2/5] END LR__C=10.0, LR__solver=saga, SCL=StandardScaler();, score=0.810 total time=   0.1s\n",
      "[CV 3/5] END LR__C=10.0, LR__solver=saga, SCL=StandardScaler();, score=0.825 total time=   0.1s\n",
      "[CV 4/5] END LR__C=10.0, LR__solver=saga, SCL=StandardScaler();, score=0.816 total time=   0.0s\n",
      "[CV 5/5] END LR__C=10.0, LR__solver=saga, SCL=StandardScaler();, score=0.827 total time=   0.1s\n"
     ]
    },
    {
     "name": "stderr",
     "output_type": "stream",
     "text": [
      "C:\\Users\\dai.STUDENTSDC\\AppData\\Local\\anaconda3\\Lib\\site-packages\\sklearn\\linear_model\\_sag.py:350: ConvergenceWarning: The max_iter was reached which means the coef_ did not converge\n",
      "  warnings.warn(\n"
     ]
    },
    {
     "name": "stdout",
     "output_type": "stream",
     "text": [
      "[CV 1/5] END LR__C=10.0, LR__solver=saga, SCL=None;, score=0.812 total time=   0.6s\n"
     ]
    },
    {
     "name": "stderr",
     "output_type": "stream",
     "text": [
      "C:\\Users\\dai.STUDENTSDC\\AppData\\Local\\anaconda3\\Lib\\site-packages\\sklearn\\linear_model\\_sag.py:350: ConvergenceWarning: The max_iter was reached which means the coef_ did not converge\n",
      "  warnings.warn(\n"
     ]
    },
    {
     "name": "stdout",
     "output_type": "stream",
     "text": [
      "[CV 2/5] END LR__C=10.0, LR__solver=saga, SCL=None;, score=0.792 total time=   0.5s\n"
     ]
    },
    {
     "name": "stderr",
     "output_type": "stream",
     "text": [
      "C:\\Users\\dai.STUDENTSDC\\AppData\\Local\\anaconda3\\Lib\\site-packages\\sklearn\\linear_model\\_sag.py:350: ConvergenceWarning: The max_iter was reached which means the coef_ did not converge\n",
      "  warnings.warn(\n"
     ]
    },
    {
     "name": "stdout",
     "output_type": "stream",
     "text": [
      "[CV 3/5] END LR__C=10.0, LR__solver=saga, SCL=None;, score=0.812 total time=   0.5s\n"
     ]
    },
    {
     "name": "stderr",
     "output_type": "stream",
     "text": [
      "C:\\Users\\dai.STUDENTSDC\\AppData\\Local\\anaconda3\\Lib\\site-packages\\sklearn\\linear_model\\_sag.py:350: ConvergenceWarning: The max_iter was reached which means the coef_ did not converge\n",
      "  warnings.warn(\n"
     ]
    },
    {
     "name": "stdout",
     "output_type": "stream",
     "text": [
      "[CV 4/5] END LR__C=10.0, LR__solver=saga, SCL=None;, score=0.807 total time=   0.5s\n"
     ]
    },
    {
     "name": "stderr",
     "output_type": "stream",
     "text": [
      "C:\\Users\\dai.STUDENTSDC\\AppData\\Local\\anaconda3\\Lib\\site-packages\\sklearn\\linear_model\\_sag.py:350: ConvergenceWarning: The max_iter was reached which means the coef_ did not converge\n",
      "  warnings.warn(\n",
      "C:\\Users\\dai.STUDENTSDC\\AppData\\Local\\anaconda3\\Lib\\site-packages\\sklearn\\model_selection\\_validation.py:547: FitFailedWarning: \n",
      "600 fits failed out of a total of 1800.\n",
      "The score on these train-test partitions for these parameters will be set to nan.\n",
      "If these failures are not expected, you can try to debug them by setting error_score='raise'.\n",
      "\n",
      "Below are more details about the failures:\n",
      "--------------------------------------------------------------------------------\n",
      "300 fits failed with the following error:\n",
      "Traceback (most recent call last):\n",
      "  File \"C:\\Users\\dai.STUDENTSDC\\AppData\\Local\\anaconda3\\Lib\\site-packages\\sklearn\\model_selection\\_validation.py\", line 895, in _fit_and_score\n",
      "    estimator.fit(X_train, y_train, **fit_params)\n",
      "  File \"C:\\Users\\dai.STUDENTSDC\\AppData\\Local\\anaconda3\\Lib\\site-packages\\sklearn\\base.py\", line 1474, in wrapper\n",
      "    return fit_method(estimator, *args, **kwargs)\n",
      "           ^^^^^^^^^^^^^^^^^^^^^^^^^^^^^^^^^^^^^^\n",
      "  File \"C:\\Users\\dai.STUDENTSDC\\AppData\\Local\\anaconda3\\Lib\\site-packages\\sklearn\\pipeline.py\", line 475, in fit\n",
      "    self._final_estimator.fit(Xt, y, **last_step_params[\"fit\"])\n",
      "  File \"C:\\Users\\dai.STUDENTSDC\\AppData\\Local\\anaconda3\\Lib\\site-packages\\sklearn\\base.py\", line 1474, in wrapper\n",
      "    return fit_method(estimator, *args, **kwargs)\n",
      "           ^^^^^^^^^^^^^^^^^^^^^^^^^^^^^^^^^^^^^^\n",
      "  File \"C:\\Users\\dai.STUDENTSDC\\AppData\\Local\\anaconda3\\Lib\\site-packages\\sklearn\\linear_model\\_logistic.py\", line 1212, in fit\n",
      "    multi_class = _check_multi_class(self.multi_class, solver, len(self.classes_))\n",
      "                  ^^^^^^^^^^^^^^^^^^^^^^^^^^^^^^^^^^^^^^^^^^^^^^^^^^^^^^^^^^^^^^^^\n",
      "  File \"C:\\Users\\dai.STUDENTSDC\\AppData\\Local\\anaconda3\\Lib\\site-packages\\sklearn\\linear_model\\_logistic.py\", line 99, in _check_multi_class\n",
      "    raise ValueError(\"Solver %s does not support a multinomial backend.\" % solver)\n",
      "ValueError: Solver liblinear does not support a multinomial backend.\n",
      "\n",
      "--------------------------------------------------------------------------------\n",
      "300 fits failed with the following error:\n",
      "Traceback (most recent call last):\n",
      "  File \"C:\\Users\\dai.STUDENTSDC\\AppData\\Local\\anaconda3\\Lib\\site-packages\\sklearn\\model_selection\\_validation.py\", line 895, in _fit_and_score\n",
      "    estimator.fit(X_train, y_train, **fit_params)\n",
      "  File \"C:\\Users\\dai.STUDENTSDC\\AppData\\Local\\anaconda3\\Lib\\site-packages\\sklearn\\base.py\", line 1474, in wrapper\n",
      "    return fit_method(estimator, *args, **kwargs)\n",
      "           ^^^^^^^^^^^^^^^^^^^^^^^^^^^^^^^^^^^^^^\n",
      "  File \"C:\\Users\\dai.STUDENTSDC\\AppData\\Local\\anaconda3\\Lib\\site-packages\\sklearn\\pipeline.py\", line 475, in fit\n",
      "    self._final_estimator.fit(Xt, y, **last_step_params[\"fit\"])\n",
      "  File \"C:\\Users\\dai.STUDENTSDC\\AppData\\Local\\anaconda3\\Lib\\site-packages\\sklearn\\base.py\", line 1474, in wrapper\n",
      "    return fit_method(estimator, *args, **kwargs)\n",
      "           ^^^^^^^^^^^^^^^^^^^^^^^^^^^^^^^^^^^^^^\n",
      "  File \"C:\\Users\\dai.STUDENTSDC\\AppData\\Local\\anaconda3\\Lib\\site-packages\\sklearn\\linear_model\\_logistic.py\", line 1212, in fit\n",
      "    multi_class = _check_multi_class(self.multi_class, solver, len(self.classes_))\n",
      "                  ^^^^^^^^^^^^^^^^^^^^^^^^^^^^^^^^^^^^^^^^^^^^^^^^^^^^^^^^^^^^^^^^\n",
      "  File \"C:\\Users\\dai.STUDENTSDC\\AppData\\Local\\anaconda3\\Lib\\site-packages\\sklearn\\linear_model\\_logistic.py\", line 99, in _check_multi_class\n",
      "    raise ValueError(\"Solver %s does not support a multinomial backend.\" % solver)\n",
      "ValueError: Solver newton-cholesky does not support a multinomial backend.\n",
      "\n",
      "  warnings.warn(some_fits_failed_message, FitFailedWarning)\n",
      "C:\\Users\\dai.STUDENTSDC\\AppData\\Local\\anaconda3\\Lib\\site-packages\\sklearn\\model_selection\\_search.py:1051: UserWarning: One or more of the test scores are non-finite: [0.78276939 0.81423407 0.78286244        nan        nan        nan\n",
      " 0.78276829 0.81423763 0.78222069        nan        nan        nan\n",
      " 0.78276338 0.81423566 0.8017041  0.78276277 0.81423505 0.78629146\n",
      " 0.81970411 0.81995885 0.81502785        nan        nan        nan\n",
      " 0.81977316 0.819977   0.82008531        nan        nan        nan\n",
      " 0.81976628 0.81997627 0.81431425 0.81976812 0.81997516 0.80744133\n",
      " 0.81980149 0.8199548  0.8137597         nan        nan        nan\n",
      " 0.81988317 0.81997418 0.82002238        nan        nan        nan\n",
      " 0.81986575 0.81996977 0.81431314 0.81986317 0.81996989 0.80745077\n",
      " 0.81991126 0.81995345 0.81375647        nan        nan        nan\n",
      " 0.81992094 0.81997148 0.82003882        nan        nan        nan\n",
      " 0.81990243 0.81996523 0.81431474 0.81990292 0.8199656  0.80745334\n",
      " 0.8199288  0.8199537  0.81546188        nan        nan        nan\n",
      " 0.81993971 0.81996842 0.81999466        nan        nan        nan\n",
      " 0.81991899 0.81996424 0.8143178  0.81991641 0.81996486 0.80745666\n",
      " 0.81993812 0.81995247 0.81429467        nan        nan        nan\n",
      " 0.81994756 0.8199667  0.81999822        nan        nan        nan\n",
      " 0.81993027 0.8199624  0.81431608 0.81993125 0.81996228 0.80745948\n",
      " 0.81992635 0.81995235 0.81368857        nan        nan        nan\n",
      " 0.81995676 0.8199667  0.81998816        nan        nan        nan\n",
      " 0.81993579 0.81996228 0.81431743 0.81993787 0.81996191 0.80746009\n",
      " 0.81994426 0.81995173 0.81263839        nan        nan        nan\n",
      " 0.81996387 0.81996657 0.81998252        nan        nan        nan\n",
      " 0.81994327 0.81996093 0.81431829 0.81994474 0.81996191 0.80746107\n",
      " 0.81994561 0.81994989 0.81309329        nan        nan        nan\n",
      " 0.81996939 0.81996522 0.82005271        nan        nan        nan\n",
      " 0.81994535 0.81996228 0.81431707 0.81994854 0.81996154 0.80746181\n",
      " 0.81994671 0.81994989 0.81299447        nan        nan        nan\n",
      " 0.81996804 0.81996449 0.81994658        nan        nan        nan\n",
      " 0.81994535 0.81996302 0.81431694 0.81995026 0.81996277 0.8074623\n",
      " 0.81994438 0.81995051 0.81413773        nan        nan        nan\n",
      " 0.81997025 0.81996412 0.81996768        nan        nan        nan\n",
      " 0.81994842 0.81996289 0.81431621 0.81995087 0.81996265 0.80746316\n",
      " 0.81994499 0.81994989 0.81487674        nan        nan        nan\n",
      " 0.81996976 0.81996437 0.81997123        nan        nan        nan\n",
      " 0.81995149 0.81996277 0.81431621 0.8199532  0.81996314 0.80746291\n",
      " 0.81994745 0.81994879 0.81507326        nan        nan        nan\n",
      " 0.81997258 0.81996559 0.81998264        nan        nan        nan\n",
      " 0.81995112 0.81996302 0.81431609 0.81995468 0.81996203 0.80746291\n",
      " 0.81994794 0.81994879 0.81398738        nan        nan        nan\n",
      " 0.81997638 0.81996547 0.8199916         nan        nan        nan\n",
      " 0.81995382 0.81996302 0.81431609 0.81995517 0.81996154 0.80746267\n",
      " 0.81994953 0.81994916 0.81530843        nan        nan        nan\n",
      " 0.81997834 0.81996535 0.81997087        nan        nan        nan\n",
      " 0.81995333 0.81996375 0.81431633 0.81995529 0.81996093 0.80746279\n",
      " 0.81995211 0.81994891 0.81503684        nan        nan        nan\n",
      " 0.81997945 0.81996535 0.8199678         nan        nan        nan\n",
      " 0.8199548  0.8199624  0.81431584 0.81995566 0.81996056 0.80746266\n",
      " 0.81995481 0.81994891 0.81487366        nan        nan        nan\n",
      " 0.81998067 0.8199651  0.81995099        nan        nan        nan\n",
      " 0.81995639 0.81996154 0.81431559 0.81995504 0.81996093 0.80746254\n",
      " 0.81995579 0.81994842 0.81474196        nan        nan        nan\n",
      " 0.81998141 0.81996473 0.81996473        nan        nan        nan\n",
      " 0.81995566 0.81996167 0.81431584 0.81995431 0.81996105 0.80746242\n",
      " 0.81995579 0.81994842 0.81495059        nan        nan        nan\n",
      " 0.81998116 0.81996424 0.81995946        nan        nan        nan\n",
      " 0.81995369 0.81996142 0.8143167  0.81995443 0.81996081 0.80746205\n",
      " 0.81997199 0.81994818 0.81447586        nan        nan        nan\n",
      " 0.81998313 0.81996424 0.81998547        nan        nan        nan\n",
      " 0.81995333 0.81996167 0.81431707 0.81995382 0.81996093 0.8074623 ]\n",
      "  warnings.warn(\n"
     ]
    },
    {
     "name": "stdout",
     "output_type": "stream",
     "text": [
      "[CV 5/5] END LR__C=10.0, LR__solver=saga, SCL=None;, score=0.814 total time=   0.5s\n"
     ]
    },
    {
     "data": {
      "text/html": [
       "<style>#sk-container-id-2 {\n",
       "  /* Definition of color scheme common for light and dark mode */\n",
       "  --sklearn-color-text: black;\n",
       "  --sklearn-color-line: gray;\n",
       "  /* Definition of color scheme for unfitted estimators */\n",
       "  --sklearn-color-unfitted-level-0: #fff5e6;\n",
       "  --sklearn-color-unfitted-level-1: #f6e4d2;\n",
       "  --sklearn-color-unfitted-level-2: #ffe0b3;\n",
       "  --sklearn-color-unfitted-level-3: chocolate;\n",
       "  /* Definition of color scheme for fitted estimators */\n",
       "  --sklearn-color-fitted-level-0: #f0f8ff;\n",
       "  --sklearn-color-fitted-level-1: #d4ebff;\n",
       "  --sklearn-color-fitted-level-2: #b3dbfd;\n",
       "  --sklearn-color-fitted-level-3: cornflowerblue;\n",
       "\n",
       "  /* Specific color for light theme */\n",
       "  --sklearn-color-text-on-default-background: var(--sg-text-color, var(--theme-code-foreground, var(--jp-content-font-color1, black)));\n",
       "  --sklearn-color-background: var(--sg-background-color, var(--theme-background, var(--jp-layout-color0, white)));\n",
       "  --sklearn-color-border-box: var(--sg-text-color, var(--theme-code-foreground, var(--jp-content-font-color1, black)));\n",
       "  --sklearn-color-icon: #696969;\n",
       "\n",
       "  @media (prefers-color-scheme: dark) {\n",
       "    /* Redefinition of color scheme for dark theme */\n",
       "    --sklearn-color-text-on-default-background: var(--sg-text-color, var(--theme-code-foreground, var(--jp-content-font-color1, white)));\n",
       "    --sklearn-color-background: var(--sg-background-color, var(--theme-background, var(--jp-layout-color0, #111)));\n",
       "    --sklearn-color-border-box: var(--sg-text-color, var(--theme-code-foreground, var(--jp-content-font-color1, white)));\n",
       "    --sklearn-color-icon: #878787;\n",
       "  }\n",
       "}\n",
       "\n",
       "#sk-container-id-2 {\n",
       "  color: var(--sklearn-color-text);\n",
       "}\n",
       "\n",
       "#sk-container-id-2 pre {\n",
       "  padding: 0;\n",
       "}\n",
       "\n",
       "#sk-container-id-2 input.sk-hidden--visually {\n",
       "  border: 0;\n",
       "  clip: rect(1px 1px 1px 1px);\n",
       "  clip: rect(1px, 1px, 1px, 1px);\n",
       "  height: 1px;\n",
       "  margin: -1px;\n",
       "  overflow: hidden;\n",
       "  padding: 0;\n",
       "  position: absolute;\n",
       "  width: 1px;\n",
       "}\n",
       "\n",
       "#sk-container-id-2 div.sk-dashed-wrapped {\n",
       "  border: 1px dashed var(--sklearn-color-line);\n",
       "  margin: 0 0.4em 0.5em 0.4em;\n",
       "  box-sizing: border-box;\n",
       "  padding-bottom: 0.4em;\n",
       "  background-color: var(--sklearn-color-background);\n",
       "}\n",
       "\n",
       "#sk-container-id-2 div.sk-container {\n",
       "  /* jupyter's `normalize.less` sets `[hidden] { display: none; }`\n",
       "     but bootstrap.min.css set `[hidden] { display: none !important; }`\n",
       "     so we also need the `!important` here to be able to override the\n",
       "     default hidden behavior on the sphinx rendered scikit-learn.org.\n",
       "     See: https://github.com/scikit-learn/scikit-learn/issues/21755 */\n",
       "  display: inline-block !important;\n",
       "  position: relative;\n",
       "}\n",
       "\n",
       "#sk-container-id-2 div.sk-text-repr-fallback {\n",
       "  display: none;\n",
       "}\n",
       "\n",
       "div.sk-parallel-item,\n",
       "div.sk-serial,\n",
       "div.sk-item {\n",
       "  /* draw centered vertical line to link estimators */\n",
       "  background-image: linear-gradient(var(--sklearn-color-text-on-default-background), var(--sklearn-color-text-on-default-background));\n",
       "  background-size: 2px 100%;\n",
       "  background-repeat: no-repeat;\n",
       "  background-position: center center;\n",
       "}\n",
       "\n",
       "/* Parallel-specific style estimator block */\n",
       "\n",
       "#sk-container-id-2 div.sk-parallel-item::after {\n",
       "  content: \"\";\n",
       "  width: 100%;\n",
       "  border-bottom: 2px solid var(--sklearn-color-text-on-default-background);\n",
       "  flex-grow: 1;\n",
       "}\n",
       "\n",
       "#sk-container-id-2 div.sk-parallel {\n",
       "  display: flex;\n",
       "  align-items: stretch;\n",
       "  justify-content: center;\n",
       "  background-color: var(--sklearn-color-background);\n",
       "  position: relative;\n",
       "}\n",
       "\n",
       "#sk-container-id-2 div.sk-parallel-item {\n",
       "  display: flex;\n",
       "  flex-direction: column;\n",
       "}\n",
       "\n",
       "#sk-container-id-2 div.sk-parallel-item:first-child::after {\n",
       "  align-self: flex-end;\n",
       "  width: 50%;\n",
       "}\n",
       "\n",
       "#sk-container-id-2 div.sk-parallel-item:last-child::after {\n",
       "  align-self: flex-start;\n",
       "  width: 50%;\n",
       "}\n",
       "\n",
       "#sk-container-id-2 div.sk-parallel-item:only-child::after {\n",
       "  width: 0;\n",
       "}\n",
       "\n",
       "/* Serial-specific style estimator block */\n",
       "\n",
       "#sk-container-id-2 div.sk-serial {\n",
       "  display: flex;\n",
       "  flex-direction: column;\n",
       "  align-items: center;\n",
       "  background-color: var(--sklearn-color-background);\n",
       "  padding-right: 1em;\n",
       "  padding-left: 1em;\n",
       "}\n",
       "\n",
       "\n",
       "/* Toggleable style: style used for estimator/Pipeline/ColumnTransformer box that is\n",
       "clickable and can be expanded/collapsed.\n",
       "- Pipeline and ColumnTransformer use this feature and define the default style\n",
       "- Estimators will overwrite some part of the style using the `sk-estimator` class\n",
       "*/\n",
       "\n",
       "/* Pipeline and ColumnTransformer style (default) */\n",
       "\n",
       "#sk-container-id-2 div.sk-toggleable {\n",
       "  /* Default theme specific background. It is overwritten whether we have a\n",
       "  specific estimator or a Pipeline/ColumnTransformer */\n",
       "  background-color: var(--sklearn-color-background);\n",
       "}\n",
       "\n",
       "/* Toggleable label */\n",
       "#sk-container-id-2 label.sk-toggleable__label {\n",
       "  cursor: pointer;\n",
       "  display: block;\n",
       "  width: 100%;\n",
       "  margin-bottom: 0;\n",
       "  padding: 0.5em;\n",
       "  box-sizing: border-box;\n",
       "  text-align: center;\n",
       "}\n",
       "\n",
       "#sk-container-id-2 label.sk-toggleable__label-arrow:before {\n",
       "  /* Arrow on the left of the label */\n",
       "  content: \"▸\";\n",
       "  float: left;\n",
       "  margin-right: 0.25em;\n",
       "  color: var(--sklearn-color-icon);\n",
       "}\n",
       "\n",
       "#sk-container-id-2 label.sk-toggleable__label-arrow:hover:before {\n",
       "  color: var(--sklearn-color-text);\n",
       "}\n",
       "\n",
       "/* Toggleable content - dropdown */\n",
       "\n",
       "#sk-container-id-2 div.sk-toggleable__content {\n",
       "  max-height: 0;\n",
       "  max-width: 0;\n",
       "  overflow: hidden;\n",
       "  text-align: left;\n",
       "  /* unfitted */\n",
       "  background-color: var(--sklearn-color-unfitted-level-0);\n",
       "}\n",
       "\n",
       "#sk-container-id-2 div.sk-toggleable__content.fitted {\n",
       "  /* fitted */\n",
       "  background-color: var(--sklearn-color-fitted-level-0);\n",
       "}\n",
       "\n",
       "#sk-container-id-2 div.sk-toggleable__content pre {\n",
       "  margin: 0.2em;\n",
       "  border-radius: 0.25em;\n",
       "  color: var(--sklearn-color-text);\n",
       "  /* unfitted */\n",
       "  background-color: var(--sklearn-color-unfitted-level-0);\n",
       "}\n",
       "\n",
       "#sk-container-id-2 div.sk-toggleable__content.fitted pre {\n",
       "  /* unfitted */\n",
       "  background-color: var(--sklearn-color-fitted-level-0);\n",
       "}\n",
       "\n",
       "#sk-container-id-2 input.sk-toggleable__control:checked~div.sk-toggleable__content {\n",
       "  /* Expand drop-down */\n",
       "  max-height: 200px;\n",
       "  max-width: 100%;\n",
       "  overflow: auto;\n",
       "}\n",
       "\n",
       "#sk-container-id-2 input.sk-toggleable__control:checked~label.sk-toggleable__label-arrow:before {\n",
       "  content: \"▾\";\n",
       "}\n",
       "\n",
       "/* Pipeline/ColumnTransformer-specific style */\n",
       "\n",
       "#sk-container-id-2 div.sk-label input.sk-toggleable__control:checked~label.sk-toggleable__label {\n",
       "  color: var(--sklearn-color-text);\n",
       "  background-color: var(--sklearn-color-unfitted-level-2);\n",
       "}\n",
       "\n",
       "#sk-container-id-2 div.sk-label.fitted input.sk-toggleable__control:checked~label.sk-toggleable__label {\n",
       "  background-color: var(--sklearn-color-fitted-level-2);\n",
       "}\n",
       "\n",
       "/* Estimator-specific style */\n",
       "\n",
       "/* Colorize estimator box */\n",
       "#sk-container-id-2 div.sk-estimator input.sk-toggleable__control:checked~label.sk-toggleable__label {\n",
       "  /* unfitted */\n",
       "  background-color: var(--sklearn-color-unfitted-level-2);\n",
       "}\n",
       "\n",
       "#sk-container-id-2 div.sk-estimator.fitted input.sk-toggleable__control:checked~label.sk-toggleable__label {\n",
       "  /* fitted */\n",
       "  background-color: var(--sklearn-color-fitted-level-2);\n",
       "}\n",
       "\n",
       "#sk-container-id-2 div.sk-label label.sk-toggleable__label,\n",
       "#sk-container-id-2 div.sk-label label {\n",
       "  /* The background is the default theme color */\n",
       "  color: var(--sklearn-color-text-on-default-background);\n",
       "}\n",
       "\n",
       "/* On hover, darken the color of the background */\n",
       "#sk-container-id-2 div.sk-label:hover label.sk-toggleable__label {\n",
       "  color: var(--sklearn-color-text);\n",
       "  background-color: var(--sklearn-color-unfitted-level-2);\n",
       "}\n",
       "\n",
       "/* Label box, darken color on hover, fitted */\n",
       "#sk-container-id-2 div.sk-label.fitted:hover label.sk-toggleable__label.fitted {\n",
       "  color: var(--sklearn-color-text);\n",
       "  background-color: var(--sklearn-color-fitted-level-2);\n",
       "}\n",
       "\n",
       "/* Estimator label */\n",
       "\n",
       "#sk-container-id-2 div.sk-label label {\n",
       "  font-family: monospace;\n",
       "  font-weight: bold;\n",
       "  display: inline-block;\n",
       "  line-height: 1.2em;\n",
       "}\n",
       "\n",
       "#sk-container-id-2 div.sk-label-container {\n",
       "  text-align: center;\n",
       "}\n",
       "\n",
       "/* Estimator-specific */\n",
       "#sk-container-id-2 div.sk-estimator {\n",
       "  font-family: monospace;\n",
       "  border: 1px dotted var(--sklearn-color-border-box);\n",
       "  border-radius: 0.25em;\n",
       "  box-sizing: border-box;\n",
       "  margin-bottom: 0.5em;\n",
       "  /* unfitted */\n",
       "  background-color: var(--sklearn-color-unfitted-level-0);\n",
       "}\n",
       "\n",
       "#sk-container-id-2 div.sk-estimator.fitted {\n",
       "  /* fitted */\n",
       "  background-color: var(--sklearn-color-fitted-level-0);\n",
       "}\n",
       "\n",
       "/* on hover */\n",
       "#sk-container-id-2 div.sk-estimator:hover {\n",
       "  /* unfitted */\n",
       "  background-color: var(--sklearn-color-unfitted-level-2);\n",
       "}\n",
       "\n",
       "#sk-container-id-2 div.sk-estimator.fitted:hover {\n",
       "  /* fitted */\n",
       "  background-color: var(--sklearn-color-fitted-level-2);\n",
       "}\n",
       "\n",
       "/* Specification for estimator info (e.g. \"i\" and \"?\") */\n",
       "\n",
       "/* Common style for \"i\" and \"?\" */\n",
       "\n",
       ".sk-estimator-doc-link,\n",
       "a:link.sk-estimator-doc-link,\n",
       "a:visited.sk-estimator-doc-link {\n",
       "  float: right;\n",
       "  font-size: smaller;\n",
       "  line-height: 1em;\n",
       "  font-family: monospace;\n",
       "  background-color: var(--sklearn-color-background);\n",
       "  border-radius: 1em;\n",
       "  height: 1em;\n",
       "  width: 1em;\n",
       "  text-decoration: none !important;\n",
       "  margin-left: 1ex;\n",
       "  /* unfitted */\n",
       "  border: var(--sklearn-color-unfitted-level-1) 1pt solid;\n",
       "  color: var(--sklearn-color-unfitted-level-1);\n",
       "}\n",
       "\n",
       ".sk-estimator-doc-link.fitted,\n",
       "a:link.sk-estimator-doc-link.fitted,\n",
       "a:visited.sk-estimator-doc-link.fitted {\n",
       "  /* fitted */\n",
       "  border: var(--sklearn-color-fitted-level-1) 1pt solid;\n",
       "  color: var(--sklearn-color-fitted-level-1);\n",
       "}\n",
       "\n",
       "/* On hover */\n",
       "div.sk-estimator:hover .sk-estimator-doc-link:hover,\n",
       ".sk-estimator-doc-link:hover,\n",
       "div.sk-label-container:hover .sk-estimator-doc-link:hover,\n",
       ".sk-estimator-doc-link:hover {\n",
       "  /* unfitted */\n",
       "  background-color: var(--sklearn-color-unfitted-level-3);\n",
       "  color: var(--sklearn-color-background);\n",
       "  text-decoration: none;\n",
       "}\n",
       "\n",
       "div.sk-estimator.fitted:hover .sk-estimator-doc-link.fitted:hover,\n",
       ".sk-estimator-doc-link.fitted:hover,\n",
       "div.sk-label-container:hover .sk-estimator-doc-link.fitted:hover,\n",
       ".sk-estimator-doc-link.fitted:hover {\n",
       "  /* fitted */\n",
       "  background-color: var(--sklearn-color-fitted-level-3);\n",
       "  color: var(--sklearn-color-background);\n",
       "  text-decoration: none;\n",
       "}\n",
       "\n",
       "/* Span, style for the box shown on hovering the info icon */\n",
       ".sk-estimator-doc-link span {\n",
       "  display: none;\n",
       "  z-index: 9999;\n",
       "  position: relative;\n",
       "  font-weight: normal;\n",
       "  right: .2ex;\n",
       "  padding: .5ex;\n",
       "  margin: .5ex;\n",
       "  width: min-content;\n",
       "  min-width: 20ex;\n",
       "  max-width: 50ex;\n",
       "  color: var(--sklearn-color-text);\n",
       "  box-shadow: 2pt 2pt 4pt #999;\n",
       "  /* unfitted */\n",
       "  background: var(--sklearn-color-unfitted-level-0);\n",
       "  border: .5pt solid var(--sklearn-color-unfitted-level-3);\n",
       "}\n",
       "\n",
       ".sk-estimator-doc-link.fitted span {\n",
       "  /* fitted */\n",
       "  background: var(--sklearn-color-fitted-level-0);\n",
       "  border: var(--sklearn-color-fitted-level-3);\n",
       "}\n",
       "\n",
       ".sk-estimator-doc-link:hover span {\n",
       "  display: block;\n",
       "}\n",
       "\n",
       "/* \"?\"-specific style due to the `<a>` HTML tag */\n",
       "\n",
       "#sk-container-id-2 a.estimator_doc_link {\n",
       "  float: right;\n",
       "  font-size: 1rem;\n",
       "  line-height: 1em;\n",
       "  font-family: monospace;\n",
       "  background-color: var(--sklearn-color-background);\n",
       "  border-radius: 1rem;\n",
       "  height: 1rem;\n",
       "  width: 1rem;\n",
       "  text-decoration: none;\n",
       "  /* unfitted */\n",
       "  color: var(--sklearn-color-unfitted-level-1);\n",
       "  border: var(--sklearn-color-unfitted-level-1) 1pt solid;\n",
       "}\n",
       "\n",
       "#sk-container-id-2 a.estimator_doc_link.fitted {\n",
       "  /* fitted */\n",
       "  border: var(--sklearn-color-fitted-level-1) 1pt solid;\n",
       "  color: var(--sklearn-color-fitted-level-1);\n",
       "}\n",
       "\n",
       "/* On hover */\n",
       "#sk-container-id-2 a.estimator_doc_link:hover {\n",
       "  /* unfitted */\n",
       "  background-color: var(--sklearn-color-unfitted-level-3);\n",
       "  color: var(--sklearn-color-background);\n",
       "  text-decoration: none;\n",
       "}\n",
       "\n",
       "#sk-container-id-2 a.estimator_doc_link.fitted:hover {\n",
       "  /* fitted */\n",
       "  background-color: var(--sklearn-color-fitted-level-3);\n",
       "}\n",
       "</style><div id=\"sk-container-id-2\" class=\"sk-top-container\"><div class=\"sk-text-repr-fallback\"><pre>GridSearchCV(cv=StratifiedKFold(n_splits=5, random_state=24, shuffle=True),\n",
       "             estimator=Pipeline(steps=[(&#x27;CT&#x27;,\n",
       "                                        ColumnTransformer(transformers=[(&#x27;passthrough&#x27;,\n",
       "                                                                         &#x27;passthrough&#x27;,\n",
       "                                                                         &lt;sklearn.compose._column_transformer.make_column_selector object at 0x0000024AA3CDF560&gt;),\n",
       "                                                                        (&#x27;onehotencoder&#x27;,\n",
       "                                                                         OneHotEncoder(drop=&#x27;first&#x27;,\n",
       "                                                                                       handle_unknown=&#x27;ignore&#x27;,\n",
       "                                                                                       sparse_output=False),\n",
       "                                                                         &lt;sklearn....\n",
       "       2.10605263e+00, 2.63231579e+00, 3.15857895e+00, 3.68484211e+00,\n",
       "       4.21110526e+00, 4.73736842e+00, 5.26363158e+00, 5.78989474e+00,\n",
       "       6.31615789e+00, 6.84242105e+00, 7.36868421e+00, 7.89494737e+00,\n",
       "       8.42121053e+00, 8.94747368e+00, 9.47373684e+00, 1.00000000e+01]),\n",
       "                         &#x27;LR__solver&#x27;: [&#x27;lbfgs&#x27;, &#x27;liblinear&#x27;, &#x27;newton-cg&#x27;,\n",
       "                                        &#x27;newton-cholesky&#x27;, &#x27;sag&#x27;, &#x27;saga&#x27;],\n",
       "                         &#x27;SCL&#x27;: [MinMaxScaler(), StandardScaler(), None]},\n",
       "             scoring=&#x27;roc_auc&#x27;, verbose=3)</pre><b>In a Jupyter environment, please rerun this cell to show the HTML representation or trust the notebook. <br />On GitHub, the HTML representation is unable to render, please try loading this page with nbviewer.org.</b></div><div class=\"sk-container\" hidden><div class=\"sk-item sk-dashed-wrapped\"><div class=\"sk-label-container\"><div class=\"sk-label fitted sk-toggleable\"><input class=\"sk-toggleable__control sk-hidden--visually\" id=\"sk-estimator-id-10\" type=\"checkbox\" ><label for=\"sk-estimator-id-10\" class=\"sk-toggleable__label fitted sk-toggleable__label-arrow fitted\">&nbsp;&nbsp;GridSearchCV<a class=\"sk-estimator-doc-link fitted\" rel=\"noreferrer\" target=\"_blank\" href=\"https://scikit-learn.org/1.4/modules/generated/sklearn.model_selection.GridSearchCV.html\">?<span>Documentation for GridSearchCV</span></a><span class=\"sk-estimator-doc-link fitted\">i<span>Fitted</span></span></label><div class=\"sk-toggleable__content fitted\"><pre>GridSearchCV(cv=StratifiedKFold(n_splits=5, random_state=24, shuffle=True),\n",
       "             estimator=Pipeline(steps=[(&#x27;CT&#x27;,\n",
       "                                        ColumnTransformer(transformers=[(&#x27;passthrough&#x27;,\n",
       "                                                                         &#x27;passthrough&#x27;,\n",
       "                                                                         &lt;sklearn.compose._column_transformer.make_column_selector object at 0x0000024AA3CDF560&gt;),\n",
       "                                                                        (&#x27;onehotencoder&#x27;,\n",
       "                                                                         OneHotEncoder(drop=&#x27;first&#x27;,\n",
       "                                                                                       handle_unknown=&#x27;ignore&#x27;,\n",
       "                                                                                       sparse_output=False),\n",
       "                                                                         &lt;sklearn....\n",
       "       2.10605263e+00, 2.63231579e+00, 3.15857895e+00, 3.68484211e+00,\n",
       "       4.21110526e+00, 4.73736842e+00, 5.26363158e+00, 5.78989474e+00,\n",
       "       6.31615789e+00, 6.84242105e+00, 7.36868421e+00, 7.89494737e+00,\n",
       "       8.42121053e+00, 8.94747368e+00, 9.47373684e+00, 1.00000000e+01]),\n",
       "                         &#x27;LR__solver&#x27;: [&#x27;lbfgs&#x27;, &#x27;liblinear&#x27;, &#x27;newton-cg&#x27;,\n",
       "                                        &#x27;newton-cholesky&#x27;, &#x27;sag&#x27;, &#x27;saga&#x27;],\n",
       "                         &#x27;SCL&#x27;: [MinMaxScaler(), StandardScaler(), None]},\n",
       "             scoring=&#x27;roc_auc&#x27;, verbose=3)</pre></div> </div></div><div class=\"sk-parallel\"><div class=\"sk-parallel-item\"><div class=\"sk-item\"><div class=\"sk-label-container\"><div class=\"sk-label fitted sk-toggleable\"><input class=\"sk-toggleable__control sk-hidden--visually\" id=\"sk-estimator-id-11\" type=\"checkbox\" ><label for=\"sk-estimator-id-11\" class=\"sk-toggleable__label fitted sk-toggleable__label-arrow fitted\">estimator: Pipeline</label><div class=\"sk-toggleable__content fitted\"><pre>Pipeline(steps=[(&#x27;CT&#x27;,\n",
       "                 ColumnTransformer(transformers=[(&#x27;passthrough&#x27;, &#x27;passthrough&#x27;,\n",
       "                                                  &lt;sklearn.compose._column_transformer.make_column_selector object at 0x0000024AA3CDF560&gt;),\n",
       "                                                 (&#x27;onehotencoder&#x27;,\n",
       "                                                  OneHotEncoder(drop=&#x27;first&#x27;,\n",
       "                                                                handle_unknown=&#x27;ignore&#x27;,\n",
       "                                                                sparse_output=False),\n",
       "                                                  &lt;sklearn.compose._column_transformer.make_column_selector object at 0x0000024AA3BDAF30&gt;)],\n",
       "                                   verbose_feature_names_out=False)),\n",
       "                (&#x27;SCL&#x27;, None),\n",
       "                (&#x27;LR&#x27;,\n",
       "                 LogisticRegression(multi_class=&#x27;multinomial&#x27;,\n",
       "                                    random_state=24))])</pre></div> </div></div><div class=\"sk-serial\"><div class=\"sk-item\"><div class=\"sk-serial\"><div class=\"sk-item sk-dashed-wrapped\"><div class=\"sk-label-container\"><div class=\"sk-label fitted sk-toggleable\"><input class=\"sk-toggleable__control sk-hidden--visually\" id=\"sk-estimator-id-12\" type=\"checkbox\" ><label for=\"sk-estimator-id-12\" class=\"sk-toggleable__label fitted sk-toggleable__label-arrow fitted\">&nbsp;CT: ColumnTransformer<a class=\"sk-estimator-doc-link fitted\" rel=\"noreferrer\" target=\"_blank\" href=\"https://scikit-learn.org/1.4/modules/generated/sklearn.compose.ColumnTransformer.html\">?<span>Documentation for CT: ColumnTransformer</span></a></label><div class=\"sk-toggleable__content fitted\"><pre>ColumnTransformer(transformers=[(&#x27;passthrough&#x27;, &#x27;passthrough&#x27;,\n",
       "                                 &lt;sklearn.compose._column_transformer.make_column_selector object at 0x0000024AA3CDF560&gt;),\n",
       "                                (&#x27;onehotencoder&#x27;,\n",
       "                                 OneHotEncoder(drop=&#x27;first&#x27;,\n",
       "                                               handle_unknown=&#x27;ignore&#x27;,\n",
       "                                               sparse_output=False),\n",
       "                                 &lt;sklearn.compose._column_transformer.make_column_selector object at 0x0000024AA3BDAF30&gt;)],\n",
       "                  verbose_feature_names_out=False)</pre></div> </div></div><div class=\"sk-parallel\"><div class=\"sk-parallel-item\"><div class=\"sk-item\"><div class=\"sk-label-container\"><div class=\"sk-label fitted sk-toggleable\"><input class=\"sk-toggleable__control sk-hidden--visually\" id=\"sk-estimator-id-13\" type=\"checkbox\" ><label for=\"sk-estimator-id-13\" class=\"sk-toggleable__label fitted sk-toggleable__label-arrow fitted\">passthrough</label><div class=\"sk-toggleable__content fitted\"><pre>&lt;sklearn.compose._column_transformer.make_column_selector object at 0x0000024AA3CDF560&gt;</pre></div> </div></div><div class=\"sk-serial\"><div class=\"sk-item\"><div class=\"sk-estimator fitted sk-toggleable\"><input class=\"sk-toggleable__control sk-hidden--visually\" id=\"sk-estimator-id-14\" type=\"checkbox\" ><label for=\"sk-estimator-id-14\" class=\"sk-toggleable__label fitted sk-toggleable__label-arrow fitted\">passthrough</label><div class=\"sk-toggleable__content fitted\"><pre>passthrough</pre></div> </div></div></div></div></div><div class=\"sk-parallel-item\"><div class=\"sk-item\"><div class=\"sk-label-container\"><div class=\"sk-label fitted sk-toggleable\"><input class=\"sk-toggleable__control sk-hidden--visually\" id=\"sk-estimator-id-15\" type=\"checkbox\" ><label for=\"sk-estimator-id-15\" class=\"sk-toggleable__label fitted sk-toggleable__label-arrow fitted\">onehotencoder</label><div class=\"sk-toggleable__content fitted\"><pre>&lt;sklearn.compose._column_transformer.make_column_selector object at 0x0000024AA3BDAF30&gt;</pre></div> </div></div><div class=\"sk-serial\"><div class=\"sk-item\"><div class=\"sk-estimator fitted sk-toggleable\"><input class=\"sk-toggleable__control sk-hidden--visually\" id=\"sk-estimator-id-16\" type=\"checkbox\" ><label for=\"sk-estimator-id-16\" class=\"sk-toggleable__label fitted sk-toggleable__label-arrow fitted\">&nbsp;OneHotEncoder<a class=\"sk-estimator-doc-link fitted\" rel=\"noreferrer\" target=\"_blank\" href=\"https://scikit-learn.org/1.4/modules/generated/sklearn.preprocessing.OneHotEncoder.html\">?<span>Documentation for OneHotEncoder</span></a></label><div class=\"sk-toggleable__content fitted\"><pre>OneHotEncoder(drop=&#x27;first&#x27;, handle_unknown=&#x27;ignore&#x27;, sparse_output=False)</pre></div> </div></div></div></div></div></div></div><div class=\"sk-item\"><div class=\"sk-estimator fitted sk-toggleable\"><input class=\"sk-toggleable__control sk-hidden--visually\" id=\"sk-estimator-id-17\" type=\"checkbox\" ><label for=\"sk-estimator-id-17\" class=\"sk-toggleable__label fitted sk-toggleable__label-arrow fitted\">None</label><div class=\"sk-toggleable__content fitted\"><pre>None</pre></div> </div></div><div class=\"sk-item\"><div class=\"sk-estimator fitted sk-toggleable\"><input class=\"sk-toggleable__control sk-hidden--visually\" id=\"sk-estimator-id-18\" type=\"checkbox\" ><label for=\"sk-estimator-id-18\" class=\"sk-toggleable__label fitted sk-toggleable__label-arrow fitted\">&nbsp;LogisticRegression<a class=\"sk-estimator-doc-link fitted\" rel=\"noreferrer\" target=\"_blank\" href=\"https://scikit-learn.org/1.4/modules/generated/sklearn.linear_model.LogisticRegression.html\">?<span>Documentation for LogisticRegression</span></a></label><div class=\"sk-toggleable__content fitted\"><pre>LogisticRegression(multi_class=&#x27;multinomial&#x27;, random_state=24)</pre></div> </div></div></div></div></div></div></div></div></div></div></div>"
      ],
      "text/plain": [
       "GridSearchCV(cv=StratifiedKFold(n_splits=5, random_state=24, shuffle=True),\n",
       "             estimator=Pipeline(steps=[('CT',\n",
       "                                        ColumnTransformer(transformers=[('passthrough',\n",
       "                                                                         'passthrough',\n",
       "                                                                         <sklearn.compose._column_transformer.make_column_selector object at 0x0000024AA3CDF560>),\n",
       "                                                                        ('onehotencoder',\n",
       "                                                                         OneHotEncoder(drop='first',\n",
       "                                                                                       handle_unknown='ignore',\n",
       "                                                                                       sparse_output=False),\n",
       "                                                                         <sklearn....\n",
       "       2.10605263e+00, 2.63231579e+00, 3.15857895e+00, 3.68484211e+00,\n",
       "       4.21110526e+00, 4.73736842e+00, 5.26363158e+00, 5.78989474e+00,\n",
       "       6.31615789e+00, 6.84242105e+00, 7.36868421e+00, 7.89494737e+00,\n",
       "       8.42121053e+00, 8.94747368e+00, 9.47373684e+00, 1.00000000e+01]),\n",
       "                         'LR__solver': ['lbfgs', 'liblinear', 'newton-cg',\n",
       "                                        'newton-cholesky', 'sag', 'saga'],\n",
       "                         'SCL': [MinMaxScaler(), StandardScaler(), None]},\n",
       "             scoring='roc_auc', verbose=3)"
      ]
     },
     "execution_count": 69,
     "metadata": {},
     "output_type": "execute_result"
    }
   ],
   "source": [
    "gcv.fit(X,y)"
   ]
  },
  {
   "cell_type": "code",
   "execution_count": 70,
   "id": "95d84989-2c87-4805-b1c5-702b70222471",
   "metadata": {},
   "outputs": [
    {
     "name": "stdout",
     "output_type": "stream",
     "text": [
      "{'LR__C': 0.5272631578947369, 'LR__solver': 'newton-cg', 'SCL': None}\n",
      "0.8200853112429177\n",
      "(360, 16)\n"
     ]
    }
   ],
   "source": [
    "print(gcv.best_params_)\n",
    "print(gcv.best_score_)\n",
    "pd_cv = pd.DataFrame(gcv.cv_results_)\n",
    "print(pd_cv.shape)\n"
   ]
  },
  {
   "cell_type": "code",
   "execution_count": 151,
   "id": "79175f63-f2b3-432d-aeeb-1c7b0aef26c3",
   "metadata": {},
   "outputs": [],
   "source": [
    "gcv = GridSearchCV(pipe, param_grid = params,scoring = 'neg_log_loss',cv=kfold, verbose=3)"
   ]
  },
  {
   "cell_type": "code",
   "execution_count": 153,
   "id": "ffc4a3d4-0664-4659-9c42-76c3e6122609",
   "metadata": {},
   "outputs": [
    {
     "name": "stdout",
     "output_type": "stream",
     "text": [
      "Fitting 5 folds for each of 30 candidates, totalling 150 fits\n",
      "[CV 1/5] END KNN__n_neighbors=1, SCL=MinMaxScaler();, score=-1.202 total time=   0.1s\n",
      "[CV 2/5] END KNN__n_neighbors=1, SCL=MinMaxScaler();, score=-1.262 total time=   0.1s\n",
      "[CV 3/5] END KNN__n_neighbors=1, SCL=MinMaxScaler();, score=-1.142 total time=   0.1s\n",
      "[CV 4/5] END KNN__n_neighbors=1, SCL=MinMaxScaler();, score=-1.106 total time=   0.1s\n",
      "[CV 5/5] END KNN__n_neighbors=1, SCL=MinMaxScaler();, score=-1.118 total time=   0.1s\n",
      "[CV 1/5] END KNN__n_neighbors=1, SCL=StandardScaler();, score=-1.274 total time=   0.1s\n",
      "[CV 2/5] END KNN__n_neighbors=1, SCL=StandardScaler();, score=-1.238 total time=   0.1s\n",
      "[CV 3/5] END KNN__n_neighbors=1, SCL=StandardScaler();, score=-1.166 total time=   0.1s\n",
      "[CV 4/5] END KNN__n_neighbors=1, SCL=StandardScaler();, score=-1.106 total time=   0.1s\n",
      "[CV 5/5] END KNN__n_neighbors=1, SCL=StandardScaler();, score=-1.106 total time=   0.1s\n",
      "[CV 1/5] END .....KNN__n_neighbors=1, SCL=None;, score=-1.550 total time=   0.1s\n",
      "[CV 2/5] END .....KNN__n_neighbors=1, SCL=None;, score=-1.623 total time=   0.1s\n",
      "[CV 3/5] END .....KNN__n_neighbors=1, SCL=None;, score=-1.683 total time=   0.1s\n",
      "[CV 4/5] END .....KNN__n_neighbors=1, SCL=None;, score=-1.394 total time=   0.1s\n",
      "[CV 5/5] END .....KNN__n_neighbors=1, SCL=None;, score=-1.466 total time=   0.1s\n",
      "[CV 1/5] END KNN__n_neighbors=2, SCL=MinMaxScaler();, score=-1.011 total time=   0.1s\n",
      "[CV 2/5] END KNN__n_neighbors=2, SCL=MinMaxScaler();, score=-0.954 total time=   0.1s\n",
      "[CV 3/5] END KNN__n_neighbors=2, SCL=MinMaxScaler();, score=-0.868 total time=   0.1s\n",
      "[CV 4/5] END KNN__n_neighbors=2, SCL=MinMaxScaler();, score=-0.777 total time=   0.1s\n",
      "[CV 5/5] END KNN__n_neighbors=2, SCL=MinMaxScaler();, score=-0.857 total time=   0.1s\n",
      "[CV 1/5] END KNN__n_neighbors=2, SCL=StandardScaler();, score=-0.966 total time=   0.1s\n",
      "[CV 2/5] END KNN__n_neighbors=2, SCL=StandardScaler();, score=-0.954 total time=   0.1s\n",
      "[CV 3/5] END KNN__n_neighbors=2, SCL=StandardScaler();, score=-0.870 total time=   0.1s\n",
      "[CV 4/5] END KNN__n_neighbors=2, SCL=StandardScaler();, score=-0.775 total time=   0.1s\n",
      "[CV 5/5] END KNN__n_neighbors=2, SCL=StandardScaler();, score=-0.844 total time=   0.1s\n",
      "[CV 1/5] END .....KNN__n_neighbors=2, SCL=None;, score=-1.143 total time=   0.1s\n",
      "[CV 2/5] END .....KNN__n_neighbors=2, SCL=None;, score=-1.176 total time=   0.1s\n",
      "[CV 3/5] END .....KNN__n_neighbors=2, SCL=None;, score=-1.154 total time=   0.1s\n",
      "[CV 4/5] END .....KNN__n_neighbors=2, SCL=None;, score=-0.976 total time=   0.1s\n",
      "[CV 5/5] END .....KNN__n_neighbors=2, SCL=None;, score=-0.958 total time=   0.1s\n",
      "[CV 1/5] END KNN__n_neighbors=3, SCL=MinMaxScaler();, score=-0.853 total time=   0.1s\n",
      "[CV 2/5] END KNN__n_neighbors=3, SCL=MinMaxScaler();, score=-0.752 total time=   0.1s\n",
      "[CV 3/5] END KNN__n_neighbors=3, SCL=MinMaxScaler();, score=-0.672 total time=   0.1s\n",
      "[CV 4/5] END KNN__n_neighbors=3, SCL=MinMaxScaler();, score=-0.584 total time=   0.1s\n",
      "[CV 5/5] END KNN__n_neighbors=3, SCL=MinMaxScaler();, score=-0.599 total time=   0.1s\n",
      "[CV 1/5] END KNN__n_neighbors=3, SCL=StandardScaler();, score=-0.771 total time=   0.1s\n",
      "[CV 2/5] END KNN__n_neighbors=3, SCL=StandardScaler();, score=-0.749 total time=   0.1s\n",
      "[CV 3/5] END KNN__n_neighbors=3, SCL=StandardScaler();, score=-0.698 total time=   0.1s\n",
      "[CV 4/5] END KNN__n_neighbors=3, SCL=StandardScaler();, score=-0.607 total time=   0.1s\n",
      "[CV 5/5] END KNN__n_neighbors=3, SCL=StandardScaler();, score=-0.608 total time=   0.1s\n",
      "[CV 1/5] END .....KNN__n_neighbors=3, SCL=None;, score=-1.023 total time=   0.1s\n",
      "[CV 2/5] END .....KNN__n_neighbors=3, SCL=None;, score=-0.891 total time=   0.1s\n",
      "[CV 3/5] END .....KNN__n_neighbors=3, SCL=None;, score=-1.008 total time=   0.1s\n",
      "[CV 4/5] END .....KNN__n_neighbors=3, SCL=None;, score=-0.797 total time=   0.1s\n",
      "[CV 5/5] END .....KNN__n_neighbors=3, SCL=None;, score=-0.793 total time=   0.1s\n",
      "[CV 1/5] END KNN__n_neighbors=4, SCL=MinMaxScaler();, score=-0.726 total time=   0.1s\n",
      "[CV 2/5] END KNN__n_neighbors=4, SCL=MinMaxScaler();, score=-0.670 total time=   0.1s\n",
      "[CV 3/5] END KNN__n_neighbors=4, SCL=MinMaxScaler();, score=-0.578 total time=   0.1s\n",
      "[CV 4/5] END KNN__n_neighbors=4, SCL=MinMaxScaler();, score=-0.572 total time=   0.1s\n",
      "[CV 5/5] END KNN__n_neighbors=4, SCL=MinMaxScaler();, score=-0.495 total time=   0.1s\n",
      "[CV 1/5] END KNN__n_neighbors=4, SCL=StandardScaler();, score=-0.689 total time=   0.1s\n",
      "[CV 2/5] END KNN__n_neighbors=4, SCL=StandardScaler();, score=-0.631 total time=   0.1s\n",
      "[CV 3/5] END KNN__n_neighbors=4, SCL=StandardScaler();, score=-0.556 total time=   0.1s\n",
      "[CV 4/5] END KNN__n_neighbors=4, SCL=StandardScaler();, score=-0.594 total time=   0.1s\n",
      "[CV 5/5] END KNN__n_neighbors=4, SCL=StandardScaler();, score=-0.483 total time=   0.1s\n",
      "[CV 1/5] END .....KNN__n_neighbors=4, SCL=None;, score=-0.782 total time=   0.1s\n",
      "[CV 2/5] END .....KNN__n_neighbors=4, SCL=None;, score=-0.765 total time=   0.1s\n",
      "[CV 3/5] END .....KNN__n_neighbors=4, SCL=None;, score=-0.810 total time=   0.1s\n",
      "[CV 4/5] END .....KNN__n_neighbors=4, SCL=None;, score=-0.658 total time=   0.1s\n",
      "[CV 5/5] END .....KNN__n_neighbors=4, SCL=None;, score=-0.700 total time=   0.1s\n",
      "[CV 1/5] END KNN__n_neighbors=5, SCL=MinMaxScaler();, score=-0.710 total time=   0.1s\n",
      "[CV 2/5] END KNN__n_neighbors=5, SCL=MinMaxScaler();, score=-0.656 total time=   0.1s\n",
      "[CV 3/5] END KNN__n_neighbors=5, SCL=MinMaxScaler();, score=-0.540 total time=   0.1s\n",
      "[CV 4/5] END KNN__n_neighbors=5, SCL=MinMaxScaler();, score=-0.537 total time=   0.1s\n",
      "[CV 5/5] END KNN__n_neighbors=5, SCL=MinMaxScaler();, score=-0.494 total time=   0.1s\n",
      "[CV 1/5] END KNN__n_neighbors=5, SCL=StandardScaler();, score=-0.651 total time=   0.1s\n",
      "[CV 2/5] END KNN__n_neighbors=5, SCL=StandardScaler();, score=-0.617 total time=   0.1s\n",
      "[CV 3/5] END KNN__n_neighbors=5, SCL=StandardScaler();, score=-0.539 total time=   0.1s\n",
      "[CV 4/5] END KNN__n_neighbors=5, SCL=StandardScaler();, score=-0.524 total time=   0.1s\n",
      "[CV 5/5] END KNN__n_neighbors=5, SCL=StandardScaler();, score=-0.468 total time=   0.1s\n",
      "[CV 1/5] END .....KNN__n_neighbors=5, SCL=None;, score=-0.708 total time=   0.1s\n",
      "[CV 2/5] END .....KNN__n_neighbors=5, SCL=None;, score=-0.691 total time=   0.1s\n",
      "[CV 3/5] END .....KNN__n_neighbors=5, SCL=None;, score=-0.746 total time=   0.1s\n",
      "[CV 4/5] END .....KNN__n_neighbors=5, SCL=None;, score=-0.571 total time=   0.1s\n",
      "[CV 5/5] END .....KNN__n_neighbors=5, SCL=None;, score=-0.604 total time=   0.1s\n",
      "[CV 1/5] END KNN__n_neighbors=6, SCL=MinMaxScaler();, score=-0.650 total time=   0.1s\n",
      "[CV 2/5] END KNN__n_neighbors=6, SCL=MinMaxScaler();, score=-0.618 total time=   0.1s\n",
      "[CV 3/5] END KNN__n_neighbors=6, SCL=MinMaxScaler();, score=-0.523 total time=   0.1s\n",
      "[CV 4/5] END KNN__n_neighbors=6, SCL=MinMaxScaler();, score=-0.467 total time=   0.1s\n",
      "[CV 5/5] END KNN__n_neighbors=6, SCL=MinMaxScaler();, score=-0.457 total time=   0.1s\n",
      "[CV 1/5] END KNN__n_neighbors=6, SCL=StandardScaler();, score=-0.647 total time=   0.1s\n",
      "[CV 2/5] END KNN__n_neighbors=6, SCL=StandardScaler();, score=-0.602 total time=   0.1s\n",
      "[CV 3/5] END KNN__n_neighbors=6, SCL=StandardScaler();, score=-0.499 total time=   0.1s\n",
      "[CV 4/5] END KNN__n_neighbors=6, SCL=StandardScaler();, score=-0.462 total time=   0.1s\n",
      "[CV 5/5] END KNN__n_neighbors=6, SCL=StandardScaler();, score=-0.428 total time=   0.1s\n",
      "[CV 1/5] END .....KNN__n_neighbors=6, SCL=None;, score=-0.656 total time=   0.1s\n",
      "[CV 2/5] END .....KNN__n_neighbors=6, SCL=None;, score=-0.570 total time=   0.1s\n",
      "[CV 3/5] END .....KNN__n_neighbors=6, SCL=None;, score=-0.738 total time=   0.1s\n",
      "[CV 4/5] END .....KNN__n_neighbors=6, SCL=None;, score=-0.455 total time=   0.1s\n",
      "[CV 5/5] END .....KNN__n_neighbors=6, SCL=None;, score=-0.563 total time=   0.1s\n",
      "[CV 1/5] END KNN__n_neighbors=7, SCL=MinMaxScaler();, score=-0.644 total time=   0.1s\n",
      "[CV 2/5] END KNN__n_neighbors=7, SCL=MinMaxScaler();, score=-0.600 total time=   0.1s\n",
      "[CV 3/5] END KNN__n_neighbors=7, SCL=MinMaxScaler();, score=-0.472 total time=   0.1s\n",
      "[CV 4/5] END KNN__n_neighbors=7, SCL=MinMaxScaler();, score=-0.462 total time=   0.1s\n",
      "[CV 5/5] END KNN__n_neighbors=7, SCL=MinMaxScaler();, score=-0.452 total time=   0.1s\n",
      "[CV 1/5] END KNN__n_neighbors=7, SCL=StandardScaler();, score=-0.597 total time=   0.1s\n",
      "[CV 2/5] END KNN__n_neighbors=7, SCL=StandardScaler();, score=-0.608 total time=   0.1s\n",
      "[CV 3/5] END KNN__n_neighbors=7, SCL=StandardScaler();, score=-0.482 total time=   0.1s\n",
      "[CV 4/5] END KNN__n_neighbors=7, SCL=StandardScaler();, score=-0.423 total time=   0.1s\n",
      "[CV 5/5] END KNN__n_neighbors=7, SCL=StandardScaler();, score=-0.435 total time=   0.1s\n",
      "[CV 1/5] END .....KNN__n_neighbors=7, SCL=None;, score=-0.638 total time=   0.1s\n",
      "[CV 2/5] END .....KNN__n_neighbors=7, SCL=None;, score=-0.539 total time=   0.1s\n",
      "[CV 3/5] END .....KNN__n_neighbors=7, SCL=None;, score=-0.673 total time=   0.1s\n",
      "[CV 4/5] END .....KNN__n_neighbors=7, SCL=None;, score=-0.402 total time=   0.1s\n",
      "[CV 5/5] END .....KNN__n_neighbors=7, SCL=None;, score=-0.542 total time=   0.1s\n",
      "[CV 1/5] END KNN__n_neighbors=8, SCL=MinMaxScaler();, score=-0.616 total time=   0.1s\n",
      "[CV 2/5] END KNN__n_neighbors=8, SCL=MinMaxScaler();, score=-0.582 total time=   0.1s\n",
      "[CV 3/5] END KNN__n_neighbors=8, SCL=MinMaxScaler();, score=-0.432 total time=   0.1s\n",
      "[CV 4/5] END KNN__n_neighbors=8, SCL=MinMaxScaler();, score=-0.456 total time=   0.1s\n",
      "[CV 5/5] END KNN__n_neighbors=8, SCL=MinMaxScaler();, score=-0.401 total time=   0.1s\n",
      "[CV 1/5] END KNN__n_neighbors=8, SCL=StandardScaler();, score=-0.589 total time=   0.1s\n",
      "[CV 2/5] END KNN__n_neighbors=8, SCL=StandardScaler();, score=-0.580 total time=   0.1s\n",
      "[CV 3/5] END KNN__n_neighbors=8, SCL=StandardScaler();, score=-0.462 total time=   0.1s\n",
      "[CV 4/5] END KNN__n_neighbors=8, SCL=StandardScaler();, score=-0.406 total time=   0.1s\n",
      "[CV 5/5] END KNN__n_neighbors=8, SCL=StandardScaler();, score=-0.397 total time=   0.1s\n",
      "[CV 1/5] END .....KNN__n_neighbors=8, SCL=None;, score=-0.572 total time=   0.1s\n",
      "[CV 2/5] END .....KNN__n_neighbors=8, SCL=None;, score=-0.499 total time=   0.1s\n",
      "[CV 3/5] END .....KNN__n_neighbors=8, SCL=None;, score=-0.621 total time=   0.1s\n",
      "[CV 4/5] END .....KNN__n_neighbors=8, SCL=None;, score=-0.395 total time=   0.1s\n",
      "[CV 5/5] END .....KNN__n_neighbors=8, SCL=None;, score=-0.487 total time=   0.1s\n",
      "[CV 1/5] END KNN__n_neighbors=9, SCL=MinMaxScaler();, score=-0.600 total time=   0.1s\n",
      "[CV 2/5] END KNN__n_neighbors=9, SCL=MinMaxScaler();, score=-0.587 total time=   0.1s\n",
      "[CV 3/5] END KNN__n_neighbors=9, SCL=MinMaxScaler();, score=-0.435 total time=   0.1s\n",
      "[CV 4/5] END KNN__n_neighbors=9, SCL=MinMaxScaler();, score=-0.439 total time=   0.1s\n",
      "[CV 5/5] END KNN__n_neighbors=9, SCL=MinMaxScaler();, score=-0.383 total time=   0.1s\n",
      "[CV 1/5] END KNN__n_neighbors=9, SCL=StandardScaler();, score=-0.594 total time=   0.1s\n",
      "[CV 2/5] END KNN__n_neighbors=9, SCL=StandardScaler();, score=-0.550 total time=   0.1s\n",
      "[CV 3/5] END KNN__n_neighbors=9, SCL=StandardScaler();, score=-0.466 total time=   0.1s\n",
      "[CV 4/5] END KNN__n_neighbors=9, SCL=StandardScaler();, score=-0.399 total time=   0.1s\n",
      "[CV 5/5] END KNN__n_neighbors=9, SCL=StandardScaler();, score=-0.378 total time=   0.1s\n",
      "[CV 1/5] END .....KNN__n_neighbors=9, SCL=None;, score=-0.542 total time=   0.1s\n",
      "[CV 2/5] END .....KNN__n_neighbors=9, SCL=None;, score=-0.479 total time=   0.1s\n",
      "[CV 3/5] END .....KNN__n_neighbors=9, SCL=None;, score=-0.590 total time=   0.1s\n",
      "[CV 4/5] END .....KNN__n_neighbors=9, SCL=None;, score=-0.351 total time=   0.1s\n",
      "[CV 5/5] END .....KNN__n_neighbors=9, SCL=None;, score=-0.468 total time=   0.1s\n",
      "[CV 1/5] END KNN__n_neighbors=10, SCL=MinMaxScaler();, score=-0.571 total time=   0.1s\n",
      "[CV 2/5] END KNN__n_neighbors=10, SCL=MinMaxScaler();, score=-0.592 total time=   0.1s\n",
      "[CV 3/5] END KNN__n_neighbors=10, SCL=MinMaxScaler();, score=-0.429 total time=   0.1s\n",
      "[CV 4/5] END KNN__n_neighbors=10, SCL=MinMaxScaler();, score=-0.435 total time=   0.1s\n",
      "[CV 5/5] END KNN__n_neighbors=10, SCL=MinMaxScaler();, score=-0.377 total time=   0.1s\n",
      "[CV 1/5] END KNN__n_neighbors=10, SCL=StandardScaler();, score=-0.576 total time=   0.1s\n",
      "[CV 2/5] END KNN__n_neighbors=10, SCL=StandardScaler();, score=-0.553 total time=   0.1s\n",
      "[CV 3/5] END KNN__n_neighbors=10, SCL=StandardScaler();, score=-0.425 total time=   0.1s\n",
      "[CV 4/5] END KNN__n_neighbors=10, SCL=StandardScaler();, score=-0.404 total time=   0.1s\n",
      "[CV 5/5] END KNN__n_neighbors=10, SCL=StandardScaler();, score=-0.361 total time=   0.1s\n",
      "[CV 1/5] END ....KNN__n_neighbors=10, SCL=None;, score=-0.522 total time=   0.1s\n",
      "[CV 2/5] END ....KNN__n_neighbors=10, SCL=None;, score=-0.472 total time=   0.1s\n",
      "[CV 3/5] END ....KNN__n_neighbors=10, SCL=None;, score=-0.559 total time=   0.1s\n",
      "[CV 4/5] END ....KNN__n_neighbors=10, SCL=None;, score=-0.342 total time=   0.1s\n",
      "[CV 5/5] END ....KNN__n_neighbors=10, SCL=None;, score=-0.447 total time=   0.1s\n"
     ]
    },
    {
     "data": {
      "text/html": [
       "<style>#sk-container-id-4 {\n",
       "  /* Definition of color scheme common for light and dark mode */\n",
       "  --sklearn-color-text: black;\n",
       "  --sklearn-color-line: gray;\n",
       "  /* Definition of color scheme for unfitted estimators */\n",
       "  --sklearn-color-unfitted-level-0: #fff5e6;\n",
       "  --sklearn-color-unfitted-level-1: #f6e4d2;\n",
       "  --sklearn-color-unfitted-level-2: #ffe0b3;\n",
       "  --sklearn-color-unfitted-level-3: chocolate;\n",
       "  /* Definition of color scheme for fitted estimators */\n",
       "  --sklearn-color-fitted-level-0: #f0f8ff;\n",
       "  --sklearn-color-fitted-level-1: #d4ebff;\n",
       "  --sklearn-color-fitted-level-2: #b3dbfd;\n",
       "  --sklearn-color-fitted-level-3: cornflowerblue;\n",
       "\n",
       "  /* Specific color for light theme */\n",
       "  --sklearn-color-text-on-default-background: var(--sg-text-color, var(--theme-code-foreground, var(--jp-content-font-color1, black)));\n",
       "  --sklearn-color-background: var(--sg-background-color, var(--theme-background, var(--jp-layout-color0, white)));\n",
       "  --sklearn-color-border-box: var(--sg-text-color, var(--theme-code-foreground, var(--jp-content-font-color1, black)));\n",
       "  --sklearn-color-icon: #696969;\n",
       "\n",
       "  @media (prefers-color-scheme: dark) {\n",
       "    /* Redefinition of color scheme for dark theme */\n",
       "    --sklearn-color-text-on-default-background: var(--sg-text-color, var(--theme-code-foreground, var(--jp-content-font-color1, white)));\n",
       "    --sklearn-color-background: var(--sg-background-color, var(--theme-background, var(--jp-layout-color0, #111)));\n",
       "    --sklearn-color-border-box: var(--sg-text-color, var(--theme-code-foreground, var(--jp-content-font-color1, white)));\n",
       "    --sklearn-color-icon: #878787;\n",
       "  }\n",
       "}\n",
       "\n",
       "#sk-container-id-4 {\n",
       "  color: var(--sklearn-color-text);\n",
       "}\n",
       "\n",
       "#sk-container-id-4 pre {\n",
       "  padding: 0;\n",
       "}\n",
       "\n",
       "#sk-container-id-4 input.sk-hidden--visually {\n",
       "  border: 0;\n",
       "  clip: rect(1px 1px 1px 1px);\n",
       "  clip: rect(1px, 1px, 1px, 1px);\n",
       "  height: 1px;\n",
       "  margin: -1px;\n",
       "  overflow: hidden;\n",
       "  padding: 0;\n",
       "  position: absolute;\n",
       "  width: 1px;\n",
       "}\n",
       "\n",
       "#sk-container-id-4 div.sk-dashed-wrapped {\n",
       "  border: 1px dashed var(--sklearn-color-line);\n",
       "  margin: 0 0.4em 0.5em 0.4em;\n",
       "  box-sizing: border-box;\n",
       "  padding-bottom: 0.4em;\n",
       "  background-color: var(--sklearn-color-background);\n",
       "}\n",
       "\n",
       "#sk-container-id-4 div.sk-container {\n",
       "  /* jupyter's `normalize.less` sets `[hidden] { display: none; }`\n",
       "     but bootstrap.min.css set `[hidden] { display: none !important; }`\n",
       "     so we also need the `!important` here to be able to override the\n",
       "     default hidden behavior on the sphinx rendered scikit-learn.org.\n",
       "     See: https://github.com/scikit-learn/scikit-learn/issues/21755 */\n",
       "  display: inline-block !important;\n",
       "  position: relative;\n",
       "}\n",
       "\n",
       "#sk-container-id-4 div.sk-text-repr-fallback {\n",
       "  display: none;\n",
       "}\n",
       "\n",
       "div.sk-parallel-item,\n",
       "div.sk-serial,\n",
       "div.sk-item {\n",
       "  /* draw centered vertical line to link estimators */\n",
       "  background-image: linear-gradient(var(--sklearn-color-text-on-default-background), var(--sklearn-color-text-on-default-background));\n",
       "  background-size: 2px 100%;\n",
       "  background-repeat: no-repeat;\n",
       "  background-position: center center;\n",
       "}\n",
       "\n",
       "/* Parallel-specific style estimator block */\n",
       "\n",
       "#sk-container-id-4 div.sk-parallel-item::after {\n",
       "  content: \"\";\n",
       "  width: 100%;\n",
       "  border-bottom: 2px solid var(--sklearn-color-text-on-default-background);\n",
       "  flex-grow: 1;\n",
       "}\n",
       "\n",
       "#sk-container-id-4 div.sk-parallel {\n",
       "  display: flex;\n",
       "  align-items: stretch;\n",
       "  justify-content: center;\n",
       "  background-color: var(--sklearn-color-background);\n",
       "  position: relative;\n",
       "}\n",
       "\n",
       "#sk-container-id-4 div.sk-parallel-item {\n",
       "  display: flex;\n",
       "  flex-direction: column;\n",
       "}\n",
       "\n",
       "#sk-container-id-4 div.sk-parallel-item:first-child::after {\n",
       "  align-self: flex-end;\n",
       "  width: 50%;\n",
       "}\n",
       "\n",
       "#sk-container-id-4 div.sk-parallel-item:last-child::after {\n",
       "  align-self: flex-start;\n",
       "  width: 50%;\n",
       "}\n",
       "\n",
       "#sk-container-id-4 div.sk-parallel-item:only-child::after {\n",
       "  width: 0;\n",
       "}\n",
       "\n",
       "/* Serial-specific style estimator block */\n",
       "\n",
       "#sk-container-id-4 div.sk-serial {\n",
       "  display: flex;\n",
       "  flex-direction: column;\n",
       "  align-items: center;\n",
       "  background-color: var(--sklearn-color-background);\n",
       "  padding-right: 1em;\n",
       "  padding-left: 1em;\n",
       "}\n",
       "\n",
       "\n",
       "/* Toggleable style: style used for estimator/Pipeline/ColumnTransformer box that is\n",
       "clickable and can be expanded/collapsed.\n",
       "- Pipeline and ColumnTransformer use this feature and define the default style\n",
       "- Estimators will overwrite some part of the style using the `sk-estimator` class\n",
       "*/\n",
       "\n",
       "/* Pipeline and ColumnTransformer style (default) */\n",
       "\n",
       "#sk-container-id-4 div.sk-toggleable {\n",
       "  /* Default theme specific background. It is overwritten whether we have a\n",
       "  specific estimator or a Pipeline/ColumnTransformer */\n",
       "  background-color: var(--sklearn-color-background);\n",
       "}\n",
       "\n",
       "/* Toggleable label */\n",
       "#sk-container-id-4 label.sk-toggleable__label {\n",
       "  cursor: pointer;\n",
       "  display: block;\n",
       "  width: 100%;\n",
       "  margin-bottom: 0;\n",
       "  padding: 0.5em;\n",
       "  box-sizing: border-box;\n",
       "  text-align: center;\n",
       "}\n",
       "\n",
       "#sk-container-id-4 label.sk-toggleable__label-arrow:before {\n",
       "  /* Arrow on the left of the label */\n",
       "  content: \"▸\";\n",
       "  float: left;\n",
       "  margin-right: 0.25em;\n",
       "  color: var(--sklearn-color-icon);\n",
       "}\n",
       "\n",
       "#sk-container-id-4 label.sk-toggleable__label-arrow:hover:before {\n",
       "  color: var(--sklearn-color-text);\n",
       "}\n",
       "\n",
       "/* Toggleable content - dropdown */\n",
       "\n",
       "#sk-container-id-4 div.sk-toggleable__content {\n",
       "  max-height: 0;\n",
       "  max-width: 0;\n",
       "  overflow: hidden;\n",
       "  text-align: left;\n",
       "  /* unfitted */\n",
       "  background-color: var(--sklearn-color-unfitted-level-0);\n",
       "}\n",
       "\n",
       "#sk-container-id-4 div.sk-toggleable__content.fitted {\n",
       "  /* fitted */\n",
       "  background-color: var(--sklearn-color-fitted-level-0);\n",
       "}\n",
       "\n",
       "#sk-container-id-4 div.sk-toggleable__content pre {\n",
       "  margin: 0.2em;\n",
       "  border-radius: 0.25em;\n",
       "  color: var(--sklearn-color-text);\n",
       "  /* unfitted */\n",
       "  background-color: var(--sklearn-color-unfitted-level-0);\n",
       "}\n",
       "\n",
       "#sk-container-id-4 div.sk-toggleable__content.fitted pre {\n",
       "  /* unfitted */\n",
       "  background-color: var(--sklearn-color-fitted-level-0);\n",
       "}\n",
       "\n",
       "#sk-container-id-4 input.sk-toggleable__control:checked~div.sk-toggleable__content {\n",
       "  /* Expand drop-down */\n",
       "  max-height: 200px;\n",
       "  max-width: 100%;\n",
       "  overflow: auto;\n",
       "}\n",
       "\n",
       "#sk-container-id-4 input.sk-toggleable__control:checked~label.sk-toggleable__label-arrow:before {\n",
       "  content: \"▾\";\n",
       "}\n",
       "\n",
       "/* Pipeline/ColumnTransformer-specific style */\n",
       "\n",
       "#sk-container-id-4 div.sk-label input.sk-toggleable__control:checked~label.sk-toggleable__label {\n",
       "  color: var(--sklearn-color-text);\n",
       "  background-color: var(--sklearn-color-unfitted-level-2);\n",
       "}\n",
       "\n",
       "#sk-container-id-4 div.sk-label.fitted input.sk-toggleable__control:checked~label.sk-toggleable__label {\n",
       "  background-color: var(--sklearn-color-fitted-level-2);\n",
       "}\n",
       "\n",
       "/* Estimator-specific style */\n",
       "\n",
       "/* Colorize estimator box */\n",
       "#sk-container-id-4 div.sk-estimator input.sk-toggleable__control:checked~label.sk-toggleable__label {\n",
       "  /* unfitted */\n",
       "  background-color: var(--sklearn-color-unfitted-level-2);\n",
       "}\n",
       "\n",
       "#sk-container-id-4 div.sk-estimator.fitted input.sk-toggleable__control:checked~label.sk-toggleable__label {\n",
       "  /* fitted */\n",
       "  background-color: var(--sklearn-color-fitted-level-2);\n",
       "}\n",
       "\n",
       "#sk-container-id-4 div.sk-label label.sk-toggleable__label,\n",
       "#sk-container-id-4 div.sk-label label {\n",
       "  /* The background is the default theme color */\n",
       "  color: var(--sklearn-color-text-on-default-background);\n",
       "}\n",
       "\n",
       "/* On hover, darken the color of the background */\n",
       "#sk-container-id-4 div.sk-label:hover label.sk-toggleable__label {\n",
       "  color: var(--sklearn-color-text);\n",
       "  background-color: var(--sklearn-color-unfitted-level-2);\n",
       "}\n",
       "\n",
       "/* Label box, darken color on hover, fitted */\n",
       "#sk-container-id-4 div.sk-label.fitted:hover label.sk-toggleable__label.fitted {\n",
       "  color: var(--sklearn-color-text);\n",
       "  background-color: var(--sklearn-color-fitted-level-2);\n",
       "}\n",
       "\n",
       "/* Estimator label */\n",
       "\n",
       "#sk-container-id-4 div.sk-label label {\n",
       "  font-family: monospace;\n",
       "  font-weight: bold;\n",
       "  display: inline-block;\n",
       "  line-height: 1.2em;\n",
       "}\n",
       "\n",
       "#sk-container-id-4 div.sk-label-container {\n",
       "  text-align: center;\n",
       "}\n",
       "\n",
       "/* Estimator-specific */\n",
       "#sk-container-id-4 div.sk-estimator {\n",
       "  font-family: monospace;\n",
       "  border: 1px dotted var(--sklearn-color-border-box);\n",
       "  border-radius: 0.25em;\n",
       "  box-sizing: border-box;\n",
       "  margin-bottom: 0.5em;\n",
       "  /* unfitted */\n",
       "  background-color: var(--sklearn-color-unfitted-level-0);\n",
       "}\n",
       "\n",
       "#sk-container-id-4 div.sk-estimator.fitted {\n",
       "  /* fitted */\n",
       "  background-color: var(--sklearn-color-fitted-level-0);\n",
       "}\n",
       "\n",
       "/* on hover */\n",
       "#sk-container-id-4 div.sk-estimator:hover {\n",
       "  /* unfitted */\n",
       "  background-color: var(--sklearn-color-unfitted-level-2);\n",
       "}\n",
       "\n",
       "#sk-container-id-4 div.sk-estimator.fitted:hover {\n",
       "  /* fitted */\n",
       "  background-color: var(--sklearn-color-fitted-level-2);\n",
       "}\n",
       "\n",
       "/* Specification for estimator info (e.g. \"i\" and \"?\") */\n",
       "\n",
       "/* Common style for \"i\" and \"?\" */\n",
       "\n",
       ".sk-estimator-doc-link,\n",
       "a:link.sk-estimator-doc-link,\n",
       "a:visited.sk-estimator-doc-link {\n",
       "  float: right;\n",
       "  font-size: smaller;\n",
       "  line-height: 1em;\n",
       "  font-family: monospace;\n",
       "  background-color: var(--sklearn-color-background);\n",
       "  border-radius: 1em;\n",
       "  height: 1em;\n",
       "  width: 1em;\n",
       "  text-decoration: none !important;\n",
       "  margin-left: 1ex;\n",
       "  /* unfitted */\n",
       "  border: var(--sklearn-color-unfitted-level-1) 1pt solid;\n",
       "  color: var(--sklearn-color-unfitted-level-1);\n",
       "}\n",
       "\n",
       ".sk-estimator-doc-link.fitted,\n",
       "a:link.sk-estimator-doc-link.fitted,\n",
       "a:visited.sk-estimator-doc-link.fitted {\n",
       "  /* fitted */\n",
       "  border: var(--sklearn-color-fitted-level-1) 1pt solid;\n",
       "  color: var(--sklearn-color-fitted-level-1);\n",
       "}\n",
       "\n",
       "/* On hover */\n",
       "div.sk-estimator:hover .sk-estimator-doc-link:hover,\n",
       ".sk-estimator-doc-link:hover,\n",
       "div.sk-label-container:hover .sk-estimator-doc-link:hover,\n",
       ".sk-estimator-doc-link:hover {\n",
       "  /* unfitted */\n",
       "  background-color: var(--sklearn-color-unfitted-level-3);\n",
       "  color: var(--sklearn-color-background);\n",
       "  text-decoration: none;\n",
       "}\n",
       "\n",
       "div.sk-estimator.fitted:hover .sk-estimator-doc-link.fitted:hover,\n",
       ".sk-estimator-doc-link.fitted:hover,\n",
       "div.sk-label-container:hover .sk-estimator-doc-link.fitted:hover,\n",
       ".sk-estimator-doc-link.fitted:hover {\n",
       "  /* fitted */\n",
       "  background-color: var(--sklearn-color-fitted-level-3);\n",
       "  color: var(--sklearn-color-background);\n",
       "  text-decoration: none;\n",
       "}\n",
       "\n",
       "/* Span, style for the box shown on hovering the info icon */\n",
       ".sk-estimator-doc-link span {\n",
       "  display: none;\n",
       "  z-index: 9999;\n",
       "  position: relative;\n",
       "  font-weight: normal;\n",
       "  right: .2ex;\n",
       "  padding: .5ex;\n",
       "  margin: .5ex;\n",
       "  width: min-content;\n",
       "  min-width: 20ex;\n",
       "  max-width: 50ex;\n",
       "  color: var(--sklearn-color-text);\n",
       "  box-shadow: 2pt 2pt 4pt #999;\n",
       "  /* unfitted */\n",
       "  background: var(--sklearn-color-unfitted-level-0);\n",
       "  border: .5pt solid var(--sklearn-color-unfitted-level-3);\n",
       "}\n",
       "\n",
       ".sk-estimator-doc-link.fitted span {\n",
       "  /* fitted */\n",
       "  background: var(--sklearn-color-fitted-level-0);\n",
       "  border: var(--sklearn-color-fitted-level-3);\n",
       "}\n",
       "\n",
       ".sk-estimator-doc-link:hover span {\n",
       "  display: block;\n",
       "}\n",
       "\n",
       "/* \"?\"-specific style due to the `<a>` HTML tag */\n",
       "\n",
       "#sk-container-id-4 a.estimator_doc_link {\n",
       "  float: right;\n",
       "  font-size: 1rem;\n",
       "  line-height: 1em;\n",
       "  font-family: monospace;\n",
       "  background-color: var(--sklearn-color-background);\n",
       "  border-radius: 1rem;\n",
       "  height: 1rem;\n",
       "  width: 1rem;\n",
       "  text-decoration: none;\n",
       "  /* unfitted */\n",
       "  color: var(--sklearn-color-unfitted-level-1);\n",
       "  border: var(--sklearn-color-unfitted-level-1) 1pt solid;\n",
       "}\n",
       "\n",
       "#sk-container-id-4 a.estimator_doc_link.fitted {\n",
       "  /* fitted */\n",
       "  border: var(--sklearn-color-fitted-level-1) 1pt solid;\n",
       "  color: var(--sklearn-color-fitted-level-1);\n",
       "}\n",
       "\n",
       "/* On hover */\n",
       "#sk-container-id-4 a.estimator_doc_link:hover {\n",
       "  /* unfitted */\n",
       "  background-color: var(--sklearn-color-unfitted-level-3);\n",
       "  color: var(--sklearn-color-background);\n",
       "  text-decoration: none;\n",
       "}\n",
       "\n",
       "#sk-container-id-4 a.estimator_doc_link.fitted:hover {\n",
       "  /* fitted */\n",
       "  background-color: var(--sklearn-color-fitted-level-3);\n",
       "}\n",
       "</style><div id=\"sk-container-id-4\" class=\"sk-top-container\"><div class=\"sk-text-repr-fallback\"><pre>GridSearchCV(cv=StratifiedKFold(n_splits=5, random_state=24, shuffle=True),\n",
       "             estimator=Pipeline(steps=[(&#x27;CT&#x27;,\n",
       "                                        ColumnTransformer(transformers=[(&#x27;passthrough&#x27;,\n",
       "                                                                         &#x27;passthrough&#x27;,\n",
       "                                                                         &lt;sklearn.compose._column_transformer.make_column_selector object at 0x000001EF45E4D6A0&gt;),\n",
       "                                                                        (&#x27;onehotencoder&#x27;,\n",
       "                                                                         OneHotEncoder(drop=&#x27;first&#x27;,\n",
       "                                                                                       handle_unknown=&#x27;ignore&#x27;,\n",
       "                                                                                       sparse_output=False),\n",
       "                                                                         &lt;sklearn.compose._column_transformer.make_column_selector object at 0x000001EF45E4DC10&gt;)],\n",
       "                                                          verbose_feature_names_out=False)),\n",
       "                                       (&#x27;SCL&#x27;, StandardScaler()),\n",
       "                                       (&#x27;KNN&#x27;,\n",
       "                                        KNeighborsClassifier(n_neighbors=1))]),\n",
       "             param_grid={&#x27;KNN__n_neighbors&#x27;: array([ 1,  2,  3,  4,  5,  6,  7,  8,  9, 10]),\n",
       "                         &#x27;SCL&#x27;: [MinMaxScaler(), StandardScaler(), None]},\n",
       "             scoring=&#x27;neg_log_loss&#x27;, verbose=3)</pre><b>In a Jupyter environment, please rerun this cell to show the HTML representation or trust the notebook. <br />On GitHub, the HTML representation is unable to render, please try loading this page with nbviewer.org.</b></div><div class=\"sk-container\" hidden><div class=\"sk-item sk-dashed-wrapped\"><div class=\"sk-label-container\"><div class=\"sk-label fitted sk-toggleable\"><input class=\"sk-toggleable__control sk-hidden--visually\" id=\"sk-estimator-id-27\" type=\"checkbox\" ><label for=\"sk-estimator-id-27\" class=\"sk-toggleable__label fitted sk-toggleable__label-arrow fitted\">&nbsp;&nbsp;GridSearchCV<a class=\"sk-estimator-doc-link fitted\" rel=\"noreferrer\" target=\"_blank\" href=\"https://scikit-learn.org/1.4/modules/generated/sklearn.model_selection.GridSearchCV.html\">?<span>Documentation for GridSearchCV</span></a><span class=\"sk-estimator-doc-link fitted\">i<span>Fitted</span></span></label><div class=\"sk-toggleable__content fitted\"><pre>GridSearchCV(cv=StratifiedKFold(n_splits=5, random_state=24, shuffle=True),\n",
       "             estimator=Pipeline(steps=[(&#x27;CT&#x27;,\n",
       "                                        ColumnTransformer(transformers=[(&#x27;passthrough&#x27;,\n",
       "                                                                         &#x27;passthrough&#x27;,\n",
       "                                                                         &lt;sklearn.compose._column_transformer.make_column_selector object at 0x000001EF45E4D6A0&gt;),\n",
       "                                                                        (&#x27;onehotencoder&#x27;,\n",
       "                                                                         OneHotEncoder(drop=&#x27;first&#x27;,\n",
       "                                                                                       handle_unknown=&#x27;ignore&#x27;,\n",
       "                                                                                       sparse_output=False),\n",
       "                                                                         &lt;sklearn.compose._column_transformer.make_column_selector object at 0x000001EF45E4DC10&gt;)],\n",
       "                                                          verbose_feature_names_out=False)),\n",
       "                                       (&#x27;SCL&#x27;, StandardScaler()),\n",
       "                                       (&#x27;KNN&#x27;,\n",
       "                                        KNeighborsClassifier(n_neighbors=1))]),\n",
       "             param_grid={&#x27;KNN__n_neighbors&#x27;: array([ 1,  2,  3,  4,  5,  6,  7,  8,  9, 10]),\n",
       "                         &#x27;SCL&#x27;: [MinMaxScaler(), StandardScaler(), None]},\n",
       "             scoring=&#x27;neg_log_loss&#x27;, verbose=3)</pre></div> </div></div><div class=\"sk-parallel\"><div class=\"sk-parallel-item\"><div class=\"sk-item\"><div class=\"sk-label-container\"><div class=\"sk-label fitted sk-toggleable\"><input class=\"sk-toggleable__control sk-hidden--visually\" id=\"sk-estimator-id-28\" type=\"checkbox\" ><label for=\"sk-estimator-id-28\" class=\"sk-toggleable__label fitted sk-toggleable__label-arrow fitted\">estimator: Pipeline</label><div class=\"sk-toggleable__content fitted\"><pre>Pipeline(steps=[(&#x27;CT&#x27;,\n",
       "                 ColumnTransformer(transformers=[(&#x27;passthrough&#x27;, &#x27;passthrough&#x27;,\n",
       "                                                  &lt;sklearn.compose._column_transformer.make_column_selector object at 0x000001EF45E4D6A0&gt;),\n",
       "                                                 (&#x27;onehotencoder&#x27;,\n",
       "                                                  OneHotEncoder(drop=&#x27;first&#x27;,\n",
       "                                                                handle_unknown=&#x27;ignore&#x27;,\n",
       "                                                                sparse_output=False),\n",
       "                                                  &lt;sklearn.compose._column_transformer.make_column_selector object at 0x000001EF45E4DC10&gt;)],\n",
       "                                   verbose_feature_names_out=False)),\n",
       "                (&#x27;SCL&#x27;, StandardScaler()),\n",
       "                (&#x27;KNN&#x27;, KNeighborsClassifier(n_neighbors=1))])</pre></div> </div></div><div class=\"sk-serial\"><div class=\"sk-item\"><div class=\"sk-serial\"><div class=\"sk-item sk-dashed-wrapped\"><div class=\"sk-label-container\"><div class=\"sk-label fitted sk-toggleable\"><input class=\"sk-toggleable__control sk-hidden--visually\" id=\"sk-estimator-id-29\" type=\"checkbox\" ><label for=\"sk-estimator-id-29\" class=\"sk-toggleable__label fitted sk-toggleable__label-arrow fitted\">&nbsp;CT: ColumnTransformer<a class=\"sk-estimator-doc-link fitted\" rel=\"noreferrer\" target=\"_blank\" href=\"https://scikit-learn.org/1.4/modules/generated/sklearn.compose.ColumnTransformer.html\">?<span>Documentation for CT: ColumnTransformer</span></a></label><div class=\"sk-toggleable__content fitted\"><pre>ColumnTransformer(transformers=[(&#x27;passthrough&#x27;, &#x27;passthrough&#x27;,\n",
       "                                 &lt;sklearn.compose._column_transformer.make_column_selector object at 0x000001EF45E4D6A0&gt;),\n",
       "                                (&#x27;onehotencoder&#x27;,\n",
       "                                 OneHotEncoder(drop=&#x27;first&#x27;,\n",
       "                                               handle_unknown=&#x27;ignore&#x27;,\n",
       "                                               sparse_output=False),\n",
       "                                 &lt;sklearn.compose._column_transformer.make_column_selector object at 0x000001EF45E4DC10&gt;)],\n",
       "                  verbose_feature_names_out=False)</pre></div> </div></div><div class=\"sk-parallel\"><div class=\"sk-parallel-item\"><div class=\"sk-item\"><div class=\"sk-label-container\"><div class=\"sk-label fitted sk-toggleable\"><input class=\"sk-toggleable__control sk-hidden--visually\" id=\"sk-estimator-id-30\" type=\"checkbox\" ><label for=\"sk-estimator-id-30\" class=\"sk-toggleable__label fitted sk-toggleable__label-arrow fitted\">passthrough</label><div class=\"sk-toggleable__content fitted\"><pre>&lt;sklearn.compose._column_transformer.make_column_selector object at 0x000001EF45E4D6A0&gt;</pre></div> </div></div><div class=\"sk-serial\"><div class=\"sk-item\"><div class=\"sk-estimator fitted sk-toggleable\"><input class=\"sk-toggleable__control sk-hidden--visually\" id=\"sk-estimator-id-31\" type=\"checkbox\" ><label for=\"sk-estimator-id-31\" class=\"sk-toggleable__label fitted sk-toggleable__label-arrow fitted\">passthrough</label><div class=\"sk-toggleable__content fitted\"><pre>passthrough</pre></div> </div></div></div></div></div><div class=\"sk-parallel-item\"><div class=\"sk-item\"><div class=\"sk-label-container\"><div class=\"sk-label fitted sk-toggleable\"><input class=\"sk-toggleable__control sk-hidden--visually\" id=\"sk-estimator-id-32\" type=\"checkbox\" ><label for=\"sk-estimator-id-32\" class=\"sk-toggleable__label fitted sk-toggleable__label-arrow fitted\">onehotencoder</label><div class=\"sk-toggleable__content fitted\"><pre>&lt;sklearn.compose._column_transformer.make_column_selector object at 0x000001EF45E4DC10&gt;</pre></div> </div></div><div class=\"sk-serial\"><div class=\"sk-item\"><div class=\"sk-estimator fitted sk-toggleable\"><input class=\"sk-toggleable__control sk-hidden--visually\" id=\"sk-estimator-id-33\" type=\"checkbox\" ><label for=\"sk-estimator-id-33\" class=\"sk-toggleable__label fitted sk-toggleable__label-arrow fitted\">&nbsp;OneHotEncoder<a class=\"sk-estimator-doc-link fitted\" rel=\"noreferrer\" target=\"_blank\" href=\"https://scikit-learn.org/1.4/modules/generated/sklearn.preprocessing.OneHotEncoder.html\">?<span>Documentation for OneHotEncoder</span></a></label><div class=\"sk-toggleable__content fitted\"><pre>OneHotEncoder(drop=&#x27;first&#x27;, handle_unknown=&#x27;ignore&#x27;, sparse_output=False)</pre></div> </div></div></div></div></div></div></div><div class=\"sk-item\"><div class=\"sk-estimator fitted sk-toggleable\"><input class=\"sk-toggleable__control sk-hidden--visually\" id=\"sk-estimator-id-34\" type=\"checkbox\" ><label for=\"sk-estimator-id-34\" class=\"sk-toggleable__label fitted sk-toggleable__label-arrow fitted\">&nbsp;StandardScaler<a class=\"sk-estimator-doc-link fitted\" rel=\"noreferrer\" target=\"_blank\" href=\"https://scikit-learn.org/1.4/modules/generated/sklearn.preprocessing.StandardScaler.html\">?<span>Documentation for StandardScaler</span></a></label><div class=\"sk-toggleable__content fitted\"><pre>StandardScaler()</pre></div> </div></div><div class=\"sk-item\"><div class=\"sk-estimator fitted sk-toggleable\"><input class=\"sk-toggleable__control sk-hidden--visually\" id=\"sk-estimator-id-35\" type=\"checkbox\" ><label for=\"sk-estimator-id-35\" class=\"sk-toggleable__label fitted sk-toggleable__label-arrow fitted\">&nbsp;KNeighborsClassifier<a class=\"sk-estimator-doc-link fitted\" rel=\"noreferrer\" target=\"_blank\" href=\"https://scikit-learn.org/1.4/modules/generated/sklearn.neighbors.KNeighborsClassifier.html\">?<span>Documentation for KNeighborsClassifier</span></a></label><div class=\"sk-toggleable__content fitted\"><pre>KNeighborsClassifier(n_neighbors=1)</pre></div> </div></div></div></div></div></div></div></div></div></div></div>"
      ],
      "text/plain": [
       "GridSearchCV(cv=StratifiedKFold(n_splits=5, random_state=24, shuffle=True),\n",
       "             estimator=Pipeline(steps=[('CT',\n",
       "                                        ColumnTransformer(transformers=[('passthrough',\n",
       "                                                                         'passthrough',\n",
       "                                                                         <sklearn.compose._column_transformer.make_column_selector object at 0x000001EF45E4D6A0>),\n",
       "                                                                        ('onehotencoder',\n",
       "                                                                         OneHotEncoder(drop='first',\n",
       "                                                                                       handle_unknown='ignore',\n",
       "                                                                                       sparse_output=False),\n",
       "                                                                         <sklearn.compose._column_transformer.make_column_selector object at 0x000001EF45E4DC10>)],\n",
       "                                                          verbose_feature_names_out=False)),\n",
       "                                       ('SCL', StandardScaler()),\n",
       "                                       ('KNN',\n",
       "                                        KNeighborsClassifier(n_neighbors=1))]),\n",
       "             param_grid={'KNN__n_neighbors': array([ 1,  2,  3,  4,  5,  6,  7,  8,  9, 10]),\n",
       "                         'SCL': [MinMaxScaler(), StandardScaler(), None]},\n",
       "             scoring='neg_log_loss', verbose=3)"
      ]
     },
     "execution_count": 153,
     "metadata": {},
     "output_type": "execute_result"
    }
   ],
   "source": [
    "gcv.fit(X,y)"
   ]
  },
  {
   "cell_type": "code",
   "execution_count": 159,
   "id": "66b8fc4d-6dad-4641-851f-87e6c99f9d30",
   "metadata": {},
   "outputs": [
    {
     "name": "stdout",
     "output_type": "stream",
     "text": [
      "{'KNN__n_neighbors': 10, 'SCL': StandardScaler()}\n",
      "-0.46380636508556156\n",
      "(30, 15)\n"
     ]
    }
   ],
   "source": [
    "print(gcv.best_params_)\n",
    "print(gcv.best_score_)\n",
    "pd_cv = pd.DataFrame(gcv.cv_results_)\n",
    "print(pd_cv.shape)\n"
   ]
  },
  {
   "cell_type": "code",
   "execution_count": null,
   "id": "6ce82c6b-5fa0-499a-a6c4-f92538672ce0",
   "metadata": {},
   "outputs": [],
   "source": []
  }
 ],
 "metadata": {
  "kernelspec": {
   "display_name": "Python 3 (ipykernel)",
   "language": "python",
   "name": "python3"
  },
  "language_info": {
   "codemirror_mode": {
    "name": "ipython",
    "version": 3
   },
   "file_extension": ".py",
   "mimetype": "text/x-python",
   "name": "python",
   "nbconvert_exporter": "python",
   "pygments_lexer": "ipython3",
   "version": "3.12.4"
  }
 },
 "nbformat": 4,
 "nbformat_minor": 5
}
