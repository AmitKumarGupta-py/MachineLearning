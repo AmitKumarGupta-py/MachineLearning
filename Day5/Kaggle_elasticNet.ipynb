{
 "cells": [
  {
   "cell_type": "code",
   "execution_count": 1,
   "id": "63f8248f-fe15-4b29-b4ae-2307f65c929b",
   "metadata": {},
   "outputs": [],
   "source": [
    "import pandas as pd\n",
    "import numpy as np\n",
    "from sklearn.neighbors import KNeighborsClassifier, KNeighborsRegressor\n",
    "from sklearn.metrics import r2_score, mean_squared_error, confusion_matrix, accuracy_score, roc_curve, roc_auc_score,log_loss\n",
    "from sklearn.model_selection import train_test_split, KFold, cross_val_score, GridSearchCV\n",
    "from sklearn.preprocessing import PolynomialFeatures, LabelEncoder, OneHotEncoder,MinMaxScaler, StandardScaler\n",
    "from sklearn.impute import SimpleImputer\n",
    "from sklearn.pipeline import Pipeline\n",
    "from sklearn.linear_model import ElasticNet, LogisticRegression, LinearRegression\n",
    "from sklearn.compose import make_column_transformer, make_column_selector\n",
    "import matplotlib.pyplot as plt\n",
    "import seaborn as sns\n",
    "from sklearn.model_selection import StratifiedKFold\n",
    "from sklearn.model_selection import GridSearchCV\n",
    "from sklearn.pipeline import Pipeline\n"
   ]
  },
  {
   "cell_type": "code",
   "execution_count": 7,
   "id": "adeb5164-62ae-4995-8133-955569a876a0",
   "metadata": {},
   "outputs": [],
   "source": [
    "train_df = pd.read_csv(\"train.csv\",index_col = 0)"
   ]
  },
  {
   "cell_type": "code",
   "execution_count": 9,
   "id": "eaeb1fcf-506a-4cd1-94fa-1b1302ff345a",
   "metadata": {},
   "outputs": [
    {
     "name": "stdout",
     "output_type": "stream",
     "text": [
      "<class 'pandas.core.frame.DataFrame'>\n",
      "Index: 188533 entries, 0 to 188532\n",
      "Data columns (total 12 columns):\n",
      " #   Column        Non-Null Count   Dtype \n",
      "---  ------        --------------   ----- \n",
      " 0   brand         188533 non-null  object\n",
      " 1   model         188533 non-null  object\n",
      " 2   model_year    188533 non-null  int64 \n",
      " 3   milage        188533 non-null  int64 \n",
      " 4   fuel_type     183450 non-null  object\n",
      " 5   engine        188533 non-null  object\n",
      " 6   transmission  188533 non-null  object\n",
      " 7   ext_col       188533 non-null  object\n",
      " 8   int_col       188533 non-null  object\n",
      " 9   accident      186081 non-null  object\n",
      " 10  clean_title   167114 non-null  object\n",
      " 11  price         188533 non-null  int64 \n",
      "dtypes: int64(3), object(9)\n",
      "memory usage: 18.7+ MB\n"
     ]
    }
   ],
   "source": [
    "train_df.info()"
   ]
  },
  {
   "cell_type": "code",
   "execution_count": 13,
   "id": "c4a2785b-ea3d-40d1-bf83-6b7dd4891804",
   "metadata": {},
   "outputs": [
    {
     "data": {
      "text/plain": [
       "brand               0\n",
       "model               0\n",
       "model_year          0\n",
       "milage              0\n",
       "fuel_type        5083\n",
       "engine              0\n",
       "transmission        0\n",
       "ext_col             0\n",
       "int_col             0\n",
       "accident         2452\n",
       "clean_title     21419\n",
       "price               0\n",
       "dtype: int64"
      ]
     },
     "execution_count": 13,
     "metadata": {},
     "output_type": "execute_result"
    }
   ],
   "source": [
    "train_df.isnull().sum()"
   ]
  },
  {
   "cell_type": "code",
   "execution_count": 23,
   "id": "74b20faf-951c-40a5-b9d4-8cdf5cc46309",
   "metadata": {},
   "outputs": [
    {
     "data": {
      "text/plain": [
       "brand\n",
       "Ford             23088\n",
       "Mercedes-Benz    19172\n",
       "BMW              17028\n",
       "Chevrolet        16335\n",
       "Audi             10887\n",
       "Porsche          10612\n",
       "Land              9525\n",
       "Toyota            8850\n",
       "Lexus             8643\n",
       "Jeep              6474\n",
       "Cadillac          4674\n",
       "RAM               4249\n",
       "Nissan            3930\n",
       "Tesla             3738\n",
       "INFINITI          3276\n",
       "GMC               3215\n",
       "Dodge             3133\n",
       "Mazda             2719\n",
       "Kia               2497\n",
       "Lincoln           2423\n",
       "Subaru            2381\n",
       "Acura             2282\n",
       "Honda             2101\n",
       "Hyundai           2045\n",
       "Volkswagen        1765\n",
       "Jaguar            1319\n",
       "Bentley           1155\n",
       "MINI              1064\n",
       "Genesis            969\n",
       "Buick              940\n",
       "Maserati           939\n",
       "Lamborghini        809\n",
       "Chrysler           727\n",
       "Volvo              723\n",
       "Alfa               682\n",
       "Rivian             590\n",
       "Rolls-Royce        561\n",
       "Mitsubishi         551\n",
       "Pontiac            538\n",
       "Hummer             520\n",
       "Ferrari            359\n",
       "McLaren            243\n",
       "Aston              238\n",
       "Saturn             148\n",
       "Scion              120\n",
       "Lucid               69\n",
       "Mercury             57\n",
       "Lotus               52\n",
       "FIAT                44\n",
       "Saab                22\n",
       "Karma               17\n",
       "Suzuki               8\n",
       "Plymouth             7\n",
       "Bugatti              7\n",
       "Polestar             7\n",
       "smart                3\n",
       "Maybach              3\n",
       "Name: count, dtype: int64"
      ]
     },
     "execution_count": 23,
     "metadata": {},
     "output_type": "execute_result"
    }
   ],
   "source": [
    "train_df['brand'].value_counts()\n"
   ]
  },
  {
   "cell_type": "code",
   "execution_count": 27,
   "id": "d59a4870-e762-4469-a07e-023342fac817",
   "metadata": {},
   "outputs": [
    {
     "data": {
      "text/plain": [
       "fuel_type\n",
       "Gasoline          165940\n",
       "Hybrid              6832\n",
       "E85 Flex Fuel       5406\n",
       "Diesel              3955\n",
       "–                    781\n",
       "Plug-In Hybrid       521\n",
       "not supported         15\n",
       "Name: count, dtype: int64"
      ]
     },
     "execution_count": 27,
     "metadata": {},
     "output_type": "execute_result"
    }
   ],
   "source": [
    "train_df['fuel_type'].value_counts()\n"
   ]
  },
  {
   "cell_type": "code",
   "execution_count": 90,
   "id": "218a517c-220b-4c31-95a2-2eb06b63ba46",
   "metadata": {},
   "outputs": [
    {
     "data": {
      "text/plain": [
       "engine\n",
       "355.0HP 5.3L 8 Cylinder Engine Gasoline Fuel           3462\n",
       "240.0HP 2.0L 4 Cylinder Engine Gasoline Fuel           2902\n",
       "420.0HP 6.2L 8 Cylinder Engine Gasoline Fuel           2841\n",
       "2.0L I4 16V GDI DOHC Turbo                             2680\n",
       "375.0HP 3.5L V6 Cylinder Engine Gasoline Fuel          2451\n",
       "                                                       ... \n",
       "151.0HP 1.5L 4 Cylinder Engine Gas/Electric Hybrid        1\n",
       "184.0HP 2.4L 4 Cylinder Engine Flex Fuel Capability       1\n",
       "78.0HP 1.2L 3 Cylinder Engine Gasoline Fuel               1\n",
       "139.0HP 1.6L 4 Cylinder Engine Plug-In Electric/Gas       1\n",
       "313.0HP 2.0L 4 Cylinder Engine Plug-In Electric/Gas       1\n",
       "Name: count, Length: 1117, dtype: int64"
      ]
     },
     "execution_count": 90,
     "metadata": {},
     "output_type": "execute_result"
    }
   ],
   "source": [
    "train_df['engine'].value_counts()\n"
   ]
  },
  {
   "cell_type": "code",
   "execution_count": 92,
   "id": "69b571c6-6bbb-4ef0-83ae-3b2a7b825ba3",
   "metadata": {},
   "outputs": [],
   "source": [
    "imputer = SimpleImputer(strategy = 'constant', fill_value = 'unknown')"
   ]
  },
  {
   "cell_type": "code",
   "execution_count": 94,
   "id": "c18adce2-e419-4a57-a063-91e123adff7a",
   "metadata": {},
   "outputs": [],
   "source": [
    "ohe = OneHotEncoder(handle_unknown = 'infrequent_if_exist', sparse_output = False,\n",
    "                   min_frequency = 10000).set_output(transform = 'pandas')\n",
    "df = train_df[['engine','transmission']]\n",
    "ohe_df = ohe.fit_transform(df)"
   ]
  },
  {
   "cell_type": "code",
   "execution_count": 95,
   "id": "3ad6dcb5-c3b5-4d1e-b4f6-d00f544db514",
   "metadata": {},
   "outputs": [
    {
     "data": {
      "text/plain": [
       "Index(['engine_infrequent_sklearn', 'transmission_6-Speed A/T',\n",
       "       'transmission_6-Speed M/T', 'transmission_7-Speed A/T',\n",
       "       'transmission_8-Speed A/T', 'transmission_A/T',\n",
       "       'transmission_Automatic', 'transmission_Transmission w/Dual Shift Mode',\n",
       "       'transmission_infrequent_sklearn'],\n",
       "      dtype='object')"
      ]
     },
     "execution_count": 95,
     "metadata": {},
     "output_type": "execute_result"
    }
   ],
   "source": [
    "ohe_df.columns"
   ]
  },
  {
   "cell_type": "code",
   "execution_count": 98,
   "id": "7ed3a7b3-f6ec-48c1-af72-918bf9fd0e03",
   "metadata": {},
   "outputs": [],
   "source": [
    "X_train = train_df.drop('price',axis=1)\n",
    "y_train = train_df['price']"
   ]
  },
  {
   "cell_type": "code",
   "execution_count": 100,
   "id": "2e756336-56ef-408b-9581-d8d737b11c41",
   "metadata": {},
   "outputs": [],
   "source": [
    "scaler_mm = MinMaxScaler()\n",
    "scaler_std = StandardScaler()"
   ]
  },
  {
   "cell_type": "code",
   "execution_count": 102,
   "id": "15cd5fbc-f49a-470a-8dd0-2ea53ddb2baf",
   "metadata": {},
   "outputs": [],
   "source": [
    "ct_ohe = make_column_transformer(('passthrough',make_column_selector(dtype_exclude = object) ),\n",
    "                                  (ohe,make_column_selector(dtype_include = object) ),\n",
    "                                  verbose_feature_names_out = False).set_output(transform = 'pandas')\n"
   ]
  },
  {
   "cell_type": "code",
   "execution_count": 104,
   "id": "5ec77c21-9cf1-4af7-8935-5131f6b29443",
   "metadata": {},
   "outputs": [],
   "source": [
    "X_train_ohe = ct_ohe.fit_transform(X_train)"
   ]
  },
  {
   "cell_type": "code",
   "execution_count": 105,
   "id": "e0fd2608-be4f-4ce2-930d-6ffdf291742c",
   "metadata": {},
   "outputs": [
    {
     "data": {
      "text/plain": [
       "0"
      ]
     },
     "execution_count": 105,
     "metadata": {},
     "output_type": "execute_result"
    }
   ],
   "source": [
    "X_train_ohe.isnull().sum().sum()"
   ]
  },
  {
   "cell_type": "code",
   "execution_count": 106,
   "id": "9996d0e5-2804-46e7-92d7-4bed55bdf4c2",
   "metadata": {},
   "outputs": [
    {
     "name": "stdout",
     "output_type": "stream",
     "text": [
      "<class 'pandas.core.frame.DataFrame'>\n",
      "Index: 125690 entries, 188533 to 314222\n",
      "Data columns (total 11 columns):\n",
      " #   Column        Non-Null Count   Dtype \n",
      "---  ------        --------------   ----- \n",
      " 0   brand         125690 non-null  object\n",
      " 1   model         125690 non-null  object\n",
      " 2   model_year    125690 non-null  int64 \n",
      " 3   milage        125690 non-null  int64 \n",
      " 4   fuel_type     122307 non-null  object\n",
      " 5   engine        125690 non-null  object\n",
      " 6   transmission  125690 non-null  object\n",
      " 7   ext_col       125690 non-null  object\n",
      " 8   int_col       125690 non-null  object\n",
      " 9   accident      124058 non-null  object\n",
      " 10  clean_title   111451 non-null  object\n",
      "dtypes: int64(2), object(9)\n",
      "memory usage: 11.5+ MB\n"
     ]
    }
   ],
   "source": [
    "X_test = pd.read_csv(\"test.csv\",index_col = 0)\n",
    "X_test.info()"
   ]
  },
  {
   "cell_type": "code",
   "execution_count": 110,
   "id": "ca3c40e8-0843-4a1a-bf60-5a34a100a922",
   "metadata": {},
   "outputs": [],
   "source": [
    "X_test_ohe = ct_ohe.fit_transform(X_test)"
   ]
  },
  {
   "cell_type": "code",
   "execution_count": 131,
   "id": "d3419bfc-291c-461d-ba15-f6886cef6a56",
   "metadata": {},
   "outputs": [
    {
     "name": "stdout",
     "output_type": "stream",
     "text": [
      "Fitting 5 folds for each of 9 candidates, totalling 45 fits\n"
     ]
    },
    {
     "name": "stderr",
     "output_type": "stream",
     "text": [
      "C:\\Users\\dai.STUDENTSDC\\AppData\\Local\\anaconda3\\Lib\\site-packages\\sklearn\\linear_model\\_coordinate_descent.py:678: ConvergenceWarning: Objective did not converge. You might want to increase the number of iterations, check the scale of the features or consider increasing regularisation. Duality gap: 4.278e+14, tolerance: 9.377e+10\n",
      "  model = cd_fast.enet_coordinate_descent(\n"
     ]
    },
    {
     "name": "stdout",
     "output_type": "stream",
     "text": [
      "[CV 1/5] END EL__alpha=0.0001, EL__l1_ratio=0.0001;, score=0.088 total time=   4.2s\n"
     ]
    },
    {
     "name": "stderr",
     "output_type": "stream",
     "text": [
      "C:\\Users\\dai.STUDENTSDC\\AppData\\Local\\anaconda3\\Lib\\site-packages\\sklearn\\linear_model\\_coordinate_descent.py:678: ConvergenceWarning: Objective did not converge. You might want to increase the number of iterations, check the scale of the features or consider increasing regularisation. Duality gap: 4.136e+14, tolerance: 9.096e+10\n",
      "  model = cd_fast.enet_coordinate_descent(\n"
     ]
    },
    {
     "name": "stdout",
     "output_type": "stream",
     "text": [
      "[CV 2/5] END EL__alpha=0.0001, EL__l1_ratio=0.0001;, score=0.076 total time=   4.4s\n"
     ]
    },
    {
     "name": "stderr",
     "output_type": "stream",
     "text": [
      "C:\\Users\\dai.STUDENTSDC\\AppData\\Local\\anaconda3\\Lib\\site-packages\\sklearn\\linear_model\\_coordinate_descent.py:678: ConvergenceWarning: Objective did not converge. You might want to increase the number of iterations, check the scale of the features or consider increasing regularisation. Duality gap: 4.293e+14, tolerance: 9.415e+10\n",
      "  model = cd_fast.enet_coordinate_descent(\n"
     ]
    },
    {
     "name": "stdout",
     "output_type": "stream",
     "text": [
      "[CV 3/5] END EL__alpha=0.0001, EL__l1_ratio=0.0001;, score=0.085 total time=   4.3s\n"
     ]
    },
    {
     "name": "stderr",
     "output_type": "stream",
     "text": [
      "C:\\Users\\dai.STUDENTSDC\\AppData\\Local\\anaconda3\\Lib\\site-packages\\sklearn\\linear_model\\_coordinate_descent.py:678: ConvergenceWarning: Objective did not converge. You might want to increase the number of iterations, check the scale of the features or consider increasing regularisation. Duality gap: 4.478e+14, tolerance: 9.775e+10\n",
      "  model = cd_fast.enet_coordinate_descent(\n"
     ]
    },
    {
     "name": "stdout",
     "output_type": "stream",
     "text": [
      "[CV 4/5] END EL__alpha=0.0001, EL__l1_ratio=0.0001;, score=0.106 total time=   4.3s\n"
     ]
    },
    {
     "name": "stderr",
     "output_type": "stream",
     "text": [
      "C:\\Users\\dai.STUDENTSDC\\AppData\\Local\\anaconda3\\Lib\\site-packages\\sklearn\\linear_model\\_coordinate_descent.py:678: ConvergenceWarning: Objective did not converge. You might want to increase the number of iterations, check the scale of the features or consider increasing regularisation. Duality gap: 4.189e+14, tolerance: 9.187e+10\n",
      "  model = cd_fast.enet_coordinate_descent(\n"
     ]
    },
    {
     "name": "stdout",
     "output_type": "stream",
     "text": [
      "[CV 5/5] END EL__alpha=0.0001, EL__l1_ratio=0.0001;, score=0.086 total time=   4.2s\n"
     ]
    },
    {
     "name": "stderr",
     "output_type": "stream",
     "text": [
      "C:\\Users\\dai.STUDENTSDC\\AppData\\Local\\anaconda3\\Lib\\site-packages\\sklearn\\linear_model\\_coordinate_descent.py:678: ConvergenceWarning: Objective did not converge. You might want to increase the number of iterations, check the scale of the features or consider increasing regularisation. Duality gap: 4.278e+14, tolerance: 9.377e+10\n",
      "  model = cd_fast.enet_coordinate_descent(\n"
     ]
    },
    {
     "name": "stdout",
     "output_type": "stream",
     "text": [
      "[CV 1/5] END EL__alpha=0.0001, EL__l1_ratio=0.50005;, score=0.088 total time=   4.3s\n"
     ]
    },
    {
     "name": "stderr",
     "output_type": "stream",
     "text": [
      "C:\\Users\\dai.STUDENTSDC\\AppData\\Local\\anaconda3\\Lib\\site-packages\\sklearn\\linear_model\\_coordinate_descent.py:678: ConvergenceWarning: Objective did not converge. You might want to increase the number of iterations, check the scale of the features or consider increasing regularisation. Duality gap: 4.135e+14, tolerance: 9.096e+10\n",
      "  model = cd_fast.enet_coordinate_descent(\n"
     ]
    },
    {
     "name": "stdout",
     "output_type": "stream",
     "text": [
      "[CV 2/5] END EL__alpha=0.0001, EL__l1_ratio=0.50005;, score=0.076 total time=   4.2s\n"
     ]
    },
    {
     "name": "stderr",
     "output_type": "stream",
     "text": [
      "C:\\Users\\dai.STUDENTSDC\\AppData\\Local\\anaconda3\\Lib\\site-packages\\sklearn\\linear_model\\_coordinate_descent.py:678: ConvergenceWarning: Objective did not converge. You might want to increase the number of iterations, check the scale of the features or consider increasing regularisation. Duality gap: 4.293e+14, tolerance: 9.415e+10\n",
      "  model = cd_fast.enet_coordinate_descent(\n"
     ]
    },
    {
     "name": "stdout",
     "output_type": "stream",
     "text": [
      "[CV 3/5] END EL__alpha=0.0001, EL__l1_ratio=0.50005;, score=0.085 total time=   4.2s\n"
     ]
    },
    {
     "name": "stderr",
     "output_type": "stream",
     "text": [
      "C:\\Users\\dai.STUDENTSDC\\AppData\\Local\\anaconda3\\Lib\\site-packages\\sklearn\\linear_model\\_coordinate_descent.py:678: ConvergenceWarning: Objective did not converge. You might want to increase the number of iterations, check the scale of the features or consider increasing regularisation. Duality gap: 4.478e+14, tolerance: 9.775e+10\n",
      "  model = cd_fast.enet_coordinate_descent(\n"
     ]
    },
    {
     "name": "stdout",
     "output_type": "stream",
     "text": [
      "[CV 4/5] END EL__alpha=0.0001, EL__l1_ratio=0.50005;, score=0.106 total time=   4.2s\n"
     ]
    },
    {
     "name": "stderr",
     "output_type": "stream",
     "text": [
      "C:\\Users\\dai.STUDENTSDC\\AppData\\Local\\anaconda3\\Lib\\site-packages\\sklearn\\linear_model\\_coordinate_descent.py:678: ConvergenceWarning: Objective did not converge. You might want to increase the number of iterations, check the scale of the features or consider increasing regularisation. Duality gap: 4.189e+14, tolerance: 9.187e+10\n",
      "  model = cd_fast.enet_coordinate_descent(\n"
     ]
    },
    {
     "name": "stdout",
     "output_type": "stream",
     "text": [
      "[CV 5/5] END EL__alpha=0.0001, EL__l1_ratio=0.50005;, score=0.086 total time=   4.1s\n"
     ]
    },
    {
     "name": "stderr",
     "output_type": "stream",
     "text": [
      "C:\\Users\\dai.STUDENTSDC\\AppData\\Local\\anaconda3\\Lib\\site-packages\\sklearn\\linear_model\\_coordinate_descent.py:678: ConvergenceWarning: Objective did not converge. You might want to increase the number of iterations, check the scale of the features or consider increasing regularisation. Duality gap: 6.100e+13, tolerance: 9.377e+10\n",
      "  model = cd_fast.enet_coordinate_descent(\n"
     ]
    },
    {
     "name": "stdout",
     "output_type": "stream",
     "text": [
      "[CV 1/5] END EL__alpha=0.0001, EL__l1_ratio=1.0;, score=0.088 total time=   5.6s\n"
     ]
    },
    {
     "name": "stderr",
     "output_type": "stream",
     "text": [
      "C:\\Users\\dai.STUDENTSDC\\AppData\\Local\\anaconda3\\Lib\\site-packages\\sklearn\\linear_model\\_coordinate_descent.py:678: ConvergenceWarning: Objective did not converge. You might want to increase the number of iterations, check the scale of the features or consider increasing regularisation. Duality gap: 5.931e+13, tolerance: 9.096e+10\n",
      "  model = cd_fast.enet_coordinate_descent(\n"
     ]
    },
    {
     "name": "stdout",
     "output_type": "stream",
     "text": [
      "[CV 2/5] END EL__alpha=0.0001, EL__l1_ratio=1.0;, score=0.076 total time=   5.4s\n"
     ]
    },
    {
     "name": "stderr",
     "output_type": "stream",
     "text": [
      "C:\\Users\\dai.STUDENTSDC\\AppData\\Local\\anaconda3\\Lib\\site-packages\\sklearn\\linear_model\\_coordinate_descent.py:678: ConvergenceWarning: Objective did not converge. You might want to increase the number of iterations, check the scale of the features or consider increasing regularisation. Duality gap: 6.183e+13, tolerance: 9.415e+10\n",
      "  model = cd_fast.enet_coordinate_descent(\n"
     ]
    },
    {
     "name": "stdout",
     "output_type": "stream",
     "text": [
      "[CV 3/5] END EL__alpha=0.0001, EL__l1_ratio=1.0;, score=0.085 total time=   5.5s\n"
     ]
    },
    {
     "name": "stderr",
     "output_type": "stream",
     "text": [
      "C:\\Users\\dai.STUDENTSDC\\AppData\\Local\\anaconda3\\Lib\\site-packages\\sklearn\\linear_model\\_coordinate_descent.py:678: ConvergenceWarning: Objective did not converge. You might want to increase the number of iterations, check the scale of the features or consider increasing regularisation. Duality gap: 6.394e+13, tolerance: 9.775e+10\n",
      "  model = cd_fast.enet_coordinate_descent(\n"
     ]
    },
    {
     "name": "stdout",
     "output_type": "stream",
     "text": [
      "[CV 4/5] END EL__alpha=0.0001, EL__l1_ratio=1.0;, score=0.106 total time=   5.6s\n"
     ]
    },
    {
     "name": "stderr",
     "output_type": "stream",
     "text": [
      "C:\\Users\\dai.STUDENTSDC\\AppData\\Local\\anaconda3\\Lib\\site-packages\\sklearn\\linear_model\\_coordinate_descent.py:678: ConvergenceWarning: Objective did not converge. You might want to increase the number of iterations, check the scale of the features or consider increasing regularisation. Duality gap: 5.991e+13, tolerance: 9.187e+10\n",
      "  model = cd_fast.enet_coordinate_descent(\n"
     ]
    },
    {
     "name": "stdout",
     "output_type": "stream",
     "text": [
      "[CV 5/5] END EL__alpha=0.0001, EL__l1_ratio=1.0;, score=0.086 total time=   5.7s\n",
      "[CV 1/5] END EL__alpha=2.5000500000000003, EL__l1_ratio=0.0001;, score=0.085 total time=   2.3s\n",
      "[CV 2/5] END EL__alpha=2.5000500000000003, EL__l1_ratio=0.0001;, score=0.073 total time=   2.3s\n",
      "[CV 3/5] END EL__alpha=2.5000500000000003, EL__l1_ratio=0.0001;, score=0.082 total time=   2.3s\n",
      "[CV 4/5] END EL__alpha=2.5000500000000003, EL__l1_ratio=0.0001;, score=0.101 total time=   2.2s\n",
      "[CV 5/5] END EL__alpha=2.5000500000000003, EL__l1_ratio=0.0001;, score=0.083 total time=   2.2s\n",
      "[CV 1/5] END EL__alpha=2.5000500000000003, EL__l1_ratio=0.50005;, score=0.085 total time=   2.2s\n",
      "[CV 2/5] END EL__alpha=2.5000500000000003, EL__l1_ratio=0.50005;, score=0.074 total time=   2.2s\n",
      "[CV 3/5] END EL__alpha=2.5000500000000003, EL__l1_ratio=0.50005;, score=0.082 total time=   2.2s\n",
      "[CV 4/5] END EL__alpha=2.5000500000000003, EL__l1_ratio=0.50005;, score=0.102 total time=   2.1s\n",
      "[CV 5/5] END EL__alpha=2.5000500000000003, EL__l1_ratio=0.50005;, score=0.083 total time=   2.1s\n",
      "[CV 1/5] END EL__alpha=2.5000500000000003, EL__l1_ratio=1.0;, score=0.088 total time=   2.4s\n",
      "[CV 2/5] END EL__alpha=2.5000500000000003, EL__l1_ratio=1.0;, score=0.076 total time=   2.4s\n",
      "[CV 3/5] END EL__alpha=2.5000500000000003, EL__l1_ratio=1.0;, score=0.085 total time=   2.4s\n",
      "[CV 4/5] END EL__alpha=2.5000500000000003, EL__l1_ratio=1.0;, score=0.106 total time=   2.6s\n",
      "[CV 5/5] END EL__alpha=2.5000500000000003, EL__l1_ratio=1.0;, score=0.086 total time=   2.6s\n",
      "[CV 1/5] END EL__alpha=5.0, EL__l1_ratio=0.0001;, score=0.084 total time=   2.3s\n",
      "[CV 2/5] END EL__alpha=5.0, EL__l1_ratio=0.0001;, score=0.073 total time=   2.2s\n",
      "[CV 3/5] END EL__alpha=5.0, EL__l1_ratio=0.0001;, score=0.082 total time=   2.1s\n",
      "[CV 4/5] END EL__alpha=5.0, EL__l1_ratio=0.0001;, score=0.101 total time=   2.2s\n",
      "[CV 5/5] END EL__alpha=5.0, EL__l1_ratio=0.0001;, score=0.082 total time=   2.3s\n",
      "[CV 1/5] END EL__alpha=5.0, EL__l1_ratio=0.50005;, score=0.085 total time=   2.2s\n",
      "[CV 2/5] END EL__alpha=5.0, EL__l1_ratio=0.50005;, score=0.073 total time=   2.1s\n",
      "[CV 3/5] END EL__alpha=5.0, EL__l1_ratio=0.50005;, score=0.082 total time=   2.2s\n",
      "[CV 4/5] END EL__alpha=5.0, EL__l1_ratio=0.50005;, score=0.101 total time=   2.2s\n",
      "[CV 5/5] END EL__alpha=5.0, EL__l1_ratio=0.50005;, score=0.083 total time=   2.2s\n",
      "[CV 1/5] END ...EL__alpha=5.0, EL__l1_ratio=1.0;, score=0.088 total time=   2.3s\n",
      "[CV 2/5] END ...EL__alpha=5.0, EL__l1_ratio=1.0;, score=0.076 total time=   2.3s\n",
      "[CV 3/5] END ...EL__alpha=5.0, EL__l1_ratio=1.0;, score=0.085 total time=   2.3s\n",
      "[CV 4/5] END ...EL__alpha=5.0, EL__l1_ratio=1.0;, score=0.106 total time=   2.3s\n",
      "[CV 5/5] END ...EL__alpha=5.0, EL__l1_ratio=1.0;, score=0.086 total time=   2.4s\n"
     ]
    },
    {
     "name": "stderr",
     "output_type": "stream",
     "text": [
      "C:\\Users\\dai.STUDENTSDC\\AppData\\Local\\anaconda3\\Lib\\site-packages\\sklearn\\linear_model\\_coordinate_descent.py:678: ConvergenceWarning: Objective did not converge. You might want to increase the number of iterations, check the scale of the features or consider increasing regularisation. Duality gap: 5.314e+14, tolerance: 1.171e+11\n",
      "  model = cd_fast.enet_coordinate_descent(\n"
     ]
    },
    {
     "data": {
      "text/html": [
       "<style>#sk-container-id-3 {\n",
       "  /* Definition of color scheme common for light and dark mode */\n",
       "  --sklearn-color-text: black;\n",
       "  --sklearn-color-line: gray;\n",
       "  /* Definition of color scheme for unfitted estimators */\n",
       "  --sklearn-color-unfitted-level-0: #fff5e6;\n",
       "  --sklearn-color-unfitted-level-1: #f6e4d2;\n",
       "  --sklearn-color-unfitted-level-2: #ffe0b3;\n",
       "  --sklearn-color-unfitted-level-3: chocolate;\n",
       "  /* Definition of color scheme for fitted estimators */\n",
       "  --sklearn-color-fitted-level-0: #f0f8ff;\n",
       "  --sklearn-color-fitted-level-1: #d4ebff;\n",
       "  --sklearn-color-fitted-level-2: #b3dbfd;\n",
       "  --sklearn-color-fitted-level-3: cornflowerblue;\n",
       "\n",
       "  /* Specific color for light theme */\n",
       "  --sklearn-color-text-on-default-background: var(--sg-text-color, var(--theme-code-foreground, var(--jp-content-font-color1, black)));\n",
       "  --sklearn-color-background: var(--sg-background-color, var(--theme-background, var(--jp-layout-color0, white)));\n",
       "  --sklearn-color-border-box: var(--sg-text-color, var(--theme-code-foreground, var(--jp-content-font-color1, black)));\n",
       "  --sklearn-color-icon: #696969;\n",
       "\n",
       "  @media (prefers-color-scheme: dark) {\n",
       "    /* Redefinition of color scheme for dark theme */\n",
       "    --sklearn-color-text-on-default-background: var(--sg-text-color, var(--theme-code-foreground, var(--jp-content-font-color1, white)));\n",
       "    --sklearn-color-background: var(--sg-background-color, var(--theme-background, var(--jp-layout-color0, #111)));\n",
       "    --sklearn-color-border-box: var(--sg-text-color, var(--theme-code-foreground, var(--jp-content-font-color1, white)));\n",
       "    --sklearn-color-icon: #878787;\n",
       "  }\n",
       "}\n",
       "\n",
       "#sk-container-id-3 {\n",
       "  color: var(--sklearn-color-text);\n",
       "}\n",
       "\n",
       "#sk-container-id-3 pre {\n",
       "  padding: 0;\n",
       "}\n",
       "\n",
       "#sk-container-id-3 input.sk-hidden--visually {\n",
       "  border: 0;\n",
       "  clip: rect(1px 1px 1px 1px);\n",
       "  clip: rect(1px, 1px, 1px, 1px);\n",
       "  height: 1px;\n",
       "  margin: -1px;\n",
       "  overflow: hidden;\n",
       "  padding: 0;\n",
       "  position: absolute;\n",
       "  width: 1px;\n",
       "}\n",
       "\n",
       "#sk-container-id-3 div.sk-dashed-wrapped {\n",
       "  border: 1px dashed var(--sklearn-color-line);\n",
       "  margin: 0 0.4em 0.5em 0.4em;\n",
       "  box-sizing: border-box;\n",
       "  padding-bottom: 0.4em;\n",
       "  background-color: var(--sklearn-color-background);\n",
       "}\n",
       "\n",
       "#sk-container-id-3 div.sk-container {\n",
       "  /* jupyter's `normalize.less` sets `[hidden] { display: none; }`\n",
       "     but bootstrap.min.css set `[hidden] { display: none !important; }`\n",
       "     so we also need the `!important` here to be able to override the\n",
       "     default hidden behavior on the sphinx rendered scikit-learn.org.\n",
       "     See: https://github.com/scikit-learn/scikit-learn/issues/21755 */\n",
       "  display: inline-block !important;\n",
       "  position: relative;\n",
       "}\n",
       "\n",
       "#sk-container-id-3 div.sk-text-repr-fallback {\n",
       "  display: none;\n",
       "}\n",
       "\n",
       "div.sk-parallel-item,\n",
       "div.sk-serial,\n",
       "div.sk-item {\n",
       "  /* draw centered vertical line to link estimators */\n",
       "  background-image: linear-gradient(var(--sklearn-color-text-on-default-background), var(--sklearn-color-text-on-default-background));\n",
       "  background-size: 2px 100%;\n",
       "  background-repeat: no-repeat;\n",
       "  background-position: center center;\n",
       "}\n",
       "\n",
       "/* Parallel-specific style estimator block */\n",
       "\n",
       "#sk-container-id-3 div.sk-parallel-item::after {\n",
       "  content: \"\";\n",
       "  width: 100%;\n",
       "  border-bottom: 2px solid var(--sklearn-color-text-on-default-background);\n",
       "  flex-grow: 1;\n",
       "}\n",
       "\n",
       "#sk-container-id-3 div.sk-parallel {\n",
       "  display: flex;\n",
       "  align-items: stretch;\n",
       "  justify-content: center;\n",
       "  background-color: var(--sklearn-color-background);\n",
       "  position: relative;\n",
       "}\n",
       "\n",
       "#sk-container-id-3 div.sk-parallel-item {\n",
       "  display: flex;\n",
       "  flex-direction: column;\n",
       "}\n",
       "\n",
       "#sk-container-id-3 div.sk-parallel-item:first-child::after {\n",
       "  align-self: flex-end;\n",
       "  width: 50%;\n",
       "}\n",
       "\n",
       "#sk-container-id-3 div.sk-parallel-item:last-child::after {\n",
       "  align-self: flex-start;\n",
       "  width: 50%;\n",
       "}\n",
       "\n",
       "#sk-container-id-3 div.sk-parallel-item:only-child::after {\n",
       "  width: 0;\n",
       "}\n",
       "\n",
       "/* Serial-specific style estimator block */\n",
       "\n",
       "#sk-container-id-3 div.sk-serial {\n",
       "  display: flex;\n",
       "  flex-direction: column;\n",
       "  align-items: center;\n",
       "  background-color: var(--sklearn-color-background);\n",
       "  padding-right: 1em;\n",
       "  padding-left: 1em;\n",
       "}\n",
       "\n",
       "\n",
       "/* Toggleable style: style used for estimator/Pipeline/ColumnTransformer box that is\n",
       "clickable and can be expanded/collapsed.\n",
       "- Pipeline and ColumnTransformer use this feature and define the default style\n",
       "- Estimators will overwrite some part of the style using the `sk-estimator` class\n",
       "*/\n",
       "\n",
       "/* Pipeline and ColumnTransformer style (default) */\n",
       "\n",
       "#sk-container-id-3 div.sk-toggleable {\n",
       "  /* Default theme specific background. It is overwritten whether we have a\n",
       "  specific estimator or a Pipeline/ColumnTransformer */\n",
       "  background-color: var(--sklearn-color-background);\n",
       "}\n",
       "\n",
       "/* Toggleable label */\n",
       "#sk-container-id-3 label.sk-toggleable__label {\n",
       "  cursor: pointer;\n",
       "  display: block;\n",
       "  width: 100%;\n",
       "  margin-bottom: 0;\n",
       "  padding: 0.5em;\n",
       "  box-sizing: border-box;\n",
       "  text-align: center;\n",
       "}\n",
       "\n",
       "#sk-container-id-3 label.sk-toggleable__label-arrow:before {\n",
       "  /* Arrow on the left of the label */\n",
       "  content: \"▸\";\n",
       "  float: left;\n",
       "  margin-right: 0.25em;\n",
       "  color: var(--sklearn-color-icon);\n",
       "}\n",
       "\n",
       "#sk-container-id-3 label.sk-toggleable__label-arrow:hover:before {\n",
       "  color: var(--sklearn-color-text);\n",
       "}\n",
       "\n",
       "/* Toggleable content - dropdown */\n",
       "\n",
       "#sk-container-id-3 div.sk-toggleable__content {\n",
       "  max-height: 0;\n",
       "  max-width: 0;\n",
       "  overflow: hidden;\n",
       "  text-align: left;\n",
       "  /* unfitted */\n",
       "  background-color: var(--sklearn-color-unfitted-level-0);\n",
       "}\n",
       "\n",
       "#sk-container-id-3 div.sk-toggleable__content.fitted {\n",
       "  /* fitted */\n",
       "  background-color: var(--sklearn-color-fitted-level-0);\n",
       "}\n",
       "\n",
       "#sk-container-id-3 div.sk-toggleable__content pre {\n",
       "  margin: 0.2em;\n",
       "  border-radius: 0.25em;\n",
       "  color: var(--sklearn-color-text);\n",
       "  /* unfitted */\n",
       "  background-color: var(--sklearn-color-unfitted-level-0);\n",
       "}\n",
       "\n",
       "#sk-container-id-3 div.sk-toggleable__content.fitted pre {\n",
       "  /* unfitted */\n",
       "  background-color: var(--sklearn-color-fitted-level-0);\n",
       "}\n",
       "\n",
       "#sk-container-id-3 input.sk-toggleable__control:checked~div.sk-toggleable__content {\n",
       "  /* Expand drop-down */\n",
       "  max-height: 200px;\n",
       "  max-width: 100%;\n",
       "  overflow: auto;\n",
       "}\n",
       "\n",
       "#sk-container-id-3 input.sk-toggleable__control:checked~label.sk-toggleable__label-arrow:before {\n",
       "  content: \"▾\";\n",
       "}\n",
       "\n",
       "/* Pipeline/ColumnTransformer-specific style */\n",
       "\n",
       "#sk-container-id-3 div.sk-label input.sk-toggleable__control:checked~label.sk-toggleable__label {\n",
       "  color: var(--sklearn-color-text);\n",
       "  background-color: var(--sklearn-color-unfitted-level-2);\n",
       "}\n",
       "\n",
       "#sk-container-id-3 div.sk-label.fitted input.sk-toggleable__control:checked~label.sk-toggleable__label {\n",
       "  background-color: var(--sklearn-color-fitted-level-2);\n",
       "}\n",
       "\n",
       "/* Estimator-specific style */\n",
       "\n",
       "/* Colorize estimator box */\n",
       "#sk-container-id-3 div.sk-estimator input.sk-toggleable__control:checked~label.sk-toggleable__label {\n",
       "  /* unfitted */\n",
       "  background-color: var(--sklearn-color-unfitted-level-2);\n",
       "}\n",
       "\n",
       "#sk-container-id-3 div.sk-estimator.fitted input.sk-toggleable__control:checked~label.sk-toggleable__label {\n",
       "  /* fitted */\n",
       "  background-color: var(--sklearn-color-fitted-level-2);\n",
       "}\n",
       "\n",
       "#sk-container-id-3 div.sk-label label.sk-toggleable__label,\n",
       "#sk-container-id-3 div.sk-label label {\n",
       "  /* The background is the default theme color */\n",
       "  color: var(--sklearn-color-text-on-default-background);\n",
       "}\n",
       "\n",
       "/* On hover, darken the color of the background */\n",
       "#sk-container-id-3 div.sk-label:hover label.sk-toggleable__label {\n",
       "  color: var(--sklearn-color-text);\n",
       "  background-color: var(--sklearn-color-unfitted-level-2);\n",
       "}\n",
       "\n",
       "/* Label box, darken color on hover, fitted */\n",
       "#sk-container-id-3 div.sk-label.fitted:hover label.sk-toggleable__label.fitted {\n",
       "  color: var(--sklearn-color-text);\n",
       "  background-color: var(--sklearn-color-fitted-level-2);\n",
       "}\n",
       "\n",
       "/* Estimator label */\n",
       "\n",
       "#sk-container-id-3 div.sk-label label {\n",
       "  font-family: monospace;\n",
       "  font-weight: bold;\n",
       "  display: inline-block;\n",
       "  line-height: 1.2em;\n",
       "}\n",
       "\n",
       "#sk-container-id-3 div.sk-label-container {\n",
       "  text-align: center;\n",
       "}\n",
       "\n",
       "/* Estimator-specific */\n",
       "#sk-container-id-3 div.sk-estimator {\n",
       "  font-family: monospace;\n",
       "  border: 1px dotted var(--sklearn-color-border-box);\n",
       "  border-radius: 0.25em;\n",
       "  box-sizing: border-box;\n",
       "  margin-bottom: 0.5em;\n",
       "  /* unfitted */\n",
       "  background-color: var(--sklearn-color-unfitted-level-0);\n",
       "}\n",
       "\n",
       "#sk-container-id-3 div.sk-estimator.fitted {\n",
       "  /* fitted */\n",
       "  background-color: var(--sklearn-color-fitted-level-0);\n",
       "}\n",
       "\n",
       "/* on hover */\n",
       "#sk-container-id-3 div.sk-estimator:hover {\n",
       "  /* unfitted */\n",
       "  background-color: var(--sklearn-color-unfitted-level-2);\n",
       "}\n",
       "\n",
       "#sk-container-id-3 div.sk-estimator.fitted:hover {\n",
       "  /* fitted */\n",
       "  background-color: var(--sklearn-color-fitted-level-2);\n",
       "}\n",
       "\n",
       "/* Specification for estimator info (e.g. \"i\" and \"?\") */\n",
       "\n",
       "/* Common style for \"i\" and \"?\" */\n",
       "\n",
       ".sk-estimator-doc-link,\n",
       "a:link.sk-estimator-doc-link,\n",
       "a:visited.sk-estimator-doc-link {\n",
       "  float: right;\n",
       "  font-size: smaller;\n",
       "  line-height: 1em;\n",
       "  font-family: monospace;\n",
       "  background-color: var(--sklearn-color-background);\n",
       "  border-radius: 1em;\n",
       "  height: 1em;\n",
       "  width: 1em;\n",
       "  text-decoration: none !important;\n",
       "  margin-left: 1ex;\n",
       "  /* unfitted */\n",
       "  border: var(--sklearn-color-unfitted-level-1) 1pt solid;\n",
       "  color: var(--sklearn-color-unfitted-level-1);\n",
       "}\n",
       "\n",
       ".sk-estimator-doc-link.fitted,\n",
       "a:link.sk-estimator-doc-link.fitted,\n",
       "a:visited.sk-estimator-doc-link.fitted {\n",
       "  /* fitted */\n",
       "  border: var(--sklearn-color-fitted-level-1) 1pt solid;\n",
       "  color: var(--sklearn-color-fitted-level-1);\n",
       "}\n",
       "\n",
       "/* On hover */\n",
       "div.sk-estimator:hover .sk-estimator-doc-link:hover,\n",
       ".sk-estimator-doc-link:hover,\n",
       "div.sk-label-container:hover .sk-estimator-doc-link:hover,\n",
       ".sk-estimator-doc-link:hover {\n",
       "  /* unfitted */\n",
       "  background-color: var(--sklearn-color-unfitted-level-3);\n",
       "  color: var(--sklearn-color-background);\n",
       "  text-decoration: none;\n",
       "}\n",
       "\n",
       "div.sk-estimator.fitted:hover .sk-estimator-doc-link.fitted:hover,\n",
       ".sk-estimator-doc-link.fitted:hover,\n",
       "div.sk-label-container:hover .sk-estimator-doc-link.fitted:hover,\n",
       ".sk-estimator-doc-link.fitted:hover {\n",
       "  /* fitted */\n",
       "  background-color: var(--sklearn-color-fitted-level-3);\n",
       "  color: var(--sklearn-color-background);\n",
       "  text-decoration: none;\n",
       "}\n",
       "\n",
       "/* Span, style for the box shown on hovering the info icon */\n",
       ".sk-estimator-doc-link span {\n",
       "  display: none;\n",
       "  z-index: 9999;\n",
       "  position: relative;\n",
       "  font-weight: normal;\n",
       "  right: .2ex;\n",
       "  padding: .5ex;\n",
       "  margin: .5ex;\n",
       "  width: min-content;\n",
       "  min-width: 20ex;\n",
       "  max-width: 50ex;\n",
       "  color: var(--sklearn-color-text);\n",
       "  box-shadow: 2pt 2pt 4pt #999;\n",
       "  /* unfitted */\n",
       "  background: var(--sklearn-color-unfitted-level-0);\n",
       "  border: .5pt solid var(--sklearn-color-unfitted-level-3);\n",
       "}\n",
       "\n",
       ".sk-estimator-doc-link.fitted span {\n",
       "  /* fitted */\n",
       "  background: var(--sklearn-color-fitted-level-0);\n",
       "  border: var(--sklearn-color-fitted-level-3);\n",
       "}\n",
       "\n",
       ".sk-estimator-doc-link:hover span {\n",
       "  display: block;\n",
       "}\n",
       "\n",
       "/* \"?\"-specific style due to the `<a>` HTML tag */\n",
       "\n",
       "#sk-container-id-3 a.estimator_doc_link {\n",
       "  float: right;\n",
       "  font-size: 1rem;\n",
       "  line-height: 1em;\n",
       "  font-family: monospace;\n",
       "  background-color: var(--sklearn-color-background);\n",
       "  border-radius: 1rem;\n",
       "  height: 1rem;\n",
       "  width: 1rem;\n",
       "  text-decoration: none;\n",
       "  /* unfitted */\n",
       "  color: var(--sklearn-color-unfitted-level-1);\n",
       "  border: var(--sklearn-color-unfitted-level-1) 1pt solid;\n",
       "}\n",
       "\n",
       "#sk-container-id-3 a.estimator_doc_link.fitted {\n",
       "  /* fitted */\n",
       "  border: var(--sklearn-color-fitted-level-1) 1pt solid;\n",
       "  color: var(--sklearn-color-fitted-level-1);\n",
       "}\n",
       "\n",
       "/* On hover */\n",
       "#sk-container-id-3 a.estimator_doc_link:hover {\n",
       "  /* unfitted */\n",
       "  background-color: var(--sklearn-color-unfitted-level-3);\n",
       "  color: var(--sklearn-color-background);\n",
       "  text-decoration: none;\n",
       "}\n",
       "\n",
       "#sk-container-id-3 a.estimator_doc_link.fitted:hover {\n",
       "  /* fitted */\n",
       "  background-color: var(--sklearn-color-fitted-level-3);\n",
       "}\n",
       "</style><div id=\"sk-container-id-3\" class=\"sk-top-container\"><div class=\"sk-text-repr-fallback\"><pre>GridSearchCV(cv=KFold(n_splits=5, random_state=24, shuffle=True),\n",
       "             estimator=Pipeline(steps=[(&#x27;CT&#x27;,\n",
       "                                        ColumnTransformer(transformers=[(&#x27;passthrough&#x27;,\n",
       "                                                                         &#x27;passthrough&#x27;,\n",
       "                                                                         &lt;sklearn.compose._column_transformer.make_column_selector object at 0x000001722CDDB770&gt;),\n",
       "                                                                        (&#x27;onehotencoder&#x27;,\n",
       "                                                                         OneHotEncoder(handle_unknown=&#x27;infrequent_if_exist&#x27;,\n",
       "                                                                                       min_frequency=10000,\n",
       "                                                                                       sparse_output=False),\n",
       "                                                                         &lt;sklearn.compose._column_transformer.make_column_selector object at 0x000001722CDDA9F0&gt;)],\n",
       "                                                          verbose_feature_names_out=False)),\n",
       "                                       (&#x27;EL&#x27;, ElasticNet())]),\n",
       "             param_grid={&#x27;EL__alpha&#x27;: array([1.00000e-04, 2.50005e+00, 5.00000e+00]),\n",
       "                         &#x27;EL__l1_ratio&#x27;: array([1.0000e-04, 5.0005e-01, 1.0000e+00])},\n",
       "             verbose=3)</pre><b>In a Jupyter environment, please rerun this cell to show the HTML representation or trust the notebook. <br />On GitHub, the HTML representation is unable to render, please try loading this page with nbviewer.org.</b></div><div class=\"sk-container\" hidden><div class=\"sk-item sk-dashed-wrapped\"><div class=\"sk-label-container\"><div class=\"sk-label fitted sk-toggleable\"><input class=\"sk-toggleable__control sk-hidden--visually\" id=\"sk-estimator-id-16\" type=\"checkbox\" ><label for=\"sk-estimator-id-16\" class=\"sk-toggleable__label fitted sk-toggleable__label-arrow fitted\">&nbsp;&nbsp;GridSearchCV<a class=\"sk-estimator-doc-link fitted\" rel=\"noreferrer\" target=\"_blank\" href=\"https://scikit-learn.org/1.4/modules/generated/sklearn.model_selection.GridSearchCV.html\">?<span>Documentation for GridSearchCV</span></a><span class=\"sk-estimator-doc-link fitted\">i<span>Fitted</span></span></label><div class=\"sk-toggleable__content fitted\"><pre>GridSearchCV(cv=KFold(n_splits=5, random_state=24, shuffle=True),\n",
       "             estimator=Pipeline(steps=[(&#x27;CT&#x27;,\n",
       "                                        ColumnTransformer(transformers=[(&#x27;passthrough&#x27;,\n",
       "                                                                         &#x27;passthrough&#x27;,\n",
       "                                                                         &lt;sklearn.compose._column_transformer.make_column_selector object at 0x000001722CDDB770&gt;),\n",
       "                                                                        (&#x27;onehotencoder&#x27;,\n",
       "                                                                         OneHotEncoder(handle_unknown=&#x27;infrequent_if_exist&#x27;,\n",
       "                                                                                       min_frequency=10000,\n",
       "                                                                                       sparse_output=False),\n",
       "                                                                         &lt;sklearn.compose._column_transformer.make_column_selector object at 0x000001722CDDA9F0&gt;)],\n",
       "                                                          verbose_feature_names_out=False)),\n",
       "                                       (&#x27;EL&#x27;, ElasticNet())]),\n",
       "             param_grid={&#x27;EL__alpha&#x27;: array([1.00000e-04, 2.50005e+00, 5.00000e+00]),\n",
       "                         &#x27;EL__l1_ratio&#x27;: array([1.0000e-04, 5.0005e-01, 1.0000e+00])},\n",
       "             verbose=3)</pre></div> </div></div><div class=\"sk-parallel\"><div class=\"sk-parallel-item\"><div class=\"sk-item\"><div class=\"sk-label-container\"><div class=\"sk-label fitted sk-toggleable\"><input class=\"sk-toggleable__control sk-hidden--visually\" id=\"sk-estimator-id-17\" type=\"checkbox\" ><label for=\"sk-estimator-id-17\" class=\"sk-toggleable__label fitted sk-toggleable__label-arrow fitted\">estimator: Pipeline</label><div class=\"sk-toggleable__content fitted\"><pre>Pipeline(steps=[(&#x27;CT&#x27;,\n",
       "                 ColumnTransformer(transformers=[(&#x27;passthrough&#x27;, &#x27;passthrough&#x27;,\n",
       "                                                  &lt;sklearn.compose._column_transformer.make_column_selector object at 0x000001722CDDB770&gt;),\n",
       "                                                 (&#x27;onehotencoder&#x27;,\n",
       "                                                  OneHotEncoder(handle_unknown=&#x27;infrequent_if_exist&#x27;,\n",
       "                                                                min_frequency=10000,\n",
       "                                                                sparse_output=False),\n",
       "                                                  &lt;sklearn.compose._column_transformer.make_column_selector object at 0x000001722CDDA9F0&gt;)],\n",
       "                                   verbose_feature_names_out=False)),\n",
       "                (&#x27;EL&#x27;, ElasticNet())])</pre></div> </div></div><div class=\"sk-serial\"><div class=\"sk-item\"><div class=\"sk-serial\"><div class=\"sk-item sk-dashed-wrapped\"><div class=\"sk-label-container\"><div class=\"sk-label fitted sk-toggleable\"><input class=\"sk-toggleable__control sk-hidden--visually\" id=\"sk-estimator-id-18\" type=\"checkbox\" ><label for=\"sk-estimator-id-18\" class=\"sk-toggleable__label fitted sk-toggleable__label-arrow fitted\">&nbsp;CT: ColumnTransformer<a class=\"sk-estimator-doc-link fitted\" rel=\"noreferrer\" target=\"_blank\" href=\"https://scikit-learn.org/1.4/modules/generated/sklearn.compose.ColumnTransformer.html\">?<span>Documentation for CT: ColumnTransformer</span></a></label><div class=\"sk-toggleable__content fitted\"><pre>ColumnTransformer(transformers=[(&#x27;passthrough&#x27;, &#x27;passthrough&#x27;,\n",
       "                                 &lt;sklearn.compose._column_transformer.make_column_selector object at 0x000001722CDDB770&gt;),\n",
       "                                (&#x27;onehotencoder&#x27;,\n",
       "                                 OneHotEncoder(handle_unknown=&#x27;infrequent_if_exist&#x27;,\n",
       "                                               min_frequency=10000,\n",
       "                                               sparse_output=False),\n",
       "                                 &lt;sklearn.compose._column_transformer.make_column_selector object at 0x000001722CDDA9F0&gt;)],\n",
       "                  verbose_feature_names_out=False)</pre></div> </div></div><div class=\"sk-parallel\"><div class=\"sk-parallel-item\"><div class=\"sk-item\"><div class=\"sk-label-container\"><div class=\"sk-label fitted sk-toggleable\"><input class=\"sk-toggleable__control sk-hidden--visually\" id=\"sk-estimator-id-19\" type=\"checkbox\" ><label for=\"sk-estimator-id-19\" class=\"sk-toggleable__label fitted sk-toggleable__label-arrow fitted\">passthrough</label><div class=\"sk-toggleable__content fitted\"><pre>&lt;sklearn.compose._column_transformer.make_column_selector object at 0x000001722CDDB770&gt;</pre></div> </div></div><div class=\"sk-serial\"><div class=\"sk-item\"><div class=\"sk-estimator fitted sk-toggleable\"><input class=\"sk-toggleable__control sk-hidden--visually\" id=\"sk-estimator-id-20\" type=\"checkbox\" ><label for=\"sk-estimator-id-20\" class=\"sk-toggleable__label fitted sk-toggleable__label-arrow fitted\">passthrough</label><div class=\"sk-toggleable__content fitted\"><pre>passthrough</pre></div> </div></div></div></div></div><div class=\"sk-parallel-item\"><div class=\"sk-item\"><div class=\"sk-label-container\"><div class=\"sk-label fitted sk-toggleable\"><input class=\"sk-toggleable__control sk-hidden--visually\" id=\"sk-estimator-id-21\" type=\"checkbox\" ><label for=\"sk-estimator-id-21\" class=\"sk-toggleable__label fitted sk-toggleable__label-arrow fitted\">onehotencoder</label><div class=\"sk-toggleable__content fitted\"><pre>&lt;sklearn.compose._column_transformer.make_column_selector object at 0x000001722CDDA9F0&gt;</pre></div> </div></div><div class=\"sk-serial\"><div class=\"sk-item\"><div class=\"sk-estimator fitted sk-toggleable\"><input class=\"sk-toggleable__control sk-hidden--visually\" id=\"sk-estimator-id-22\" type=\"checkbox\" ><label for=\"sk-estimator-id-22\" class=\"sk-toggleable__label fitted sk-toggleable__label-arrow fitted\">&nbsp;OneHotEncoder<a class=\"sk-estimator-doc-link fitted\" rel=\"noreferrer\" target=\"_blank\" href=\"https://scikit-learn.org/1.4/modules/generated/sklearn.preprocessing.OneHotEncoder.html\">?<span>Documentation for OneHotEncoder</span></a></label><div class=\"sk-toggleable__content fitted\"><pre>OneHotEncoder(handle_unknown=&#x27;infrequent_if_exist&#x27;, min_frequency=10000,\n",
       "              sparse_output=False)</pre></div> </div></div></div></div></div></div></div><div class=\"sk-item\"><div class=\"sk-estimator fitted sk-toggleable\"><input class=\"sk-toggleable__control sk-hidden--visually\" id=\"sk-estimator-id-23\" type=\"checkbox\" ><label for=\"sk-estimator-id-23\" class=\"sk-toggleable__label fitted sk-toggleable__label-arrow fitted\">&nbsp;ElasticNet<a class=\"sk-estimator-doc-link fitted\" rel=\"noreferrer\" target=\"_blank\" href=\"https://scikit-learn.org/1.4/modules/generated/sklearn.linear_model.ElasticNet.html\">?<span>Documentation for ElasticNet</span></a></label><div class=\"sk-toggleable__content fitted\"><pre>ElasticNet()</pre></div> </div></div></div></div></div></div></div></div></div></div></div>"
      ],
      "text/plain": [
       "GridSearchCV(cv=KFold(n_splits=5, random_state=24, shuffle=True),\n",
       "             estimator=Pipeline(steps=[('CT',\n",
       "                                        ColumnTransformer(transformers=[('passthrough',\n",
       "                                                                         'passthrough',\n",
       "                                                                         <sklearn.compose._column_transformer.make_column_selector object at 0x000001722CDDB770>),\n",
       "                                                                        ('onehotencoder',\n",
       "                                                                         OneHotEncoder(handle_unknown='infrequent_if_exist',\n",
       "                                                                                       min_frequency=10000,\n",
       "                                                                                       sparse_output=False),\n",
       "                                                                         <sklearn.compose._column_transformer.make_column_selector object at 0x000001722CDDA9F0>)],\n",
       "                                                          verbose_feature_names_out=False)),\n",
       "                                       ('EL', ElasticNet())]),\n",
       "             param_grid={'EL__alpha': array([1.00000e-04, 2.50005e+00, 5.00000e+00]),\n",
       "                         'EL__l1_ratio': array([1.0000e-04, 5.0005e-01, 1.0000e+00])},\n",
       "             verbose=3)"
      ]
     },
     "execution_count": 131,
     "metadata": {},
     "output_type": "execute_result"
    }
   ],
   "source": [
    "el = ElasticNet()\n",
    "kfold = KFold(n_splits = 5, shuffle = True,random_state = 24)\n",
    "pipe = Pipeline([('CT',ct_ohe),('EL',el)])\n",
    "params = {'EL__alpha': np.linspace(0.0001,5,3),\n",
    "          'EL__l1_ratio':np.linspace(0.0001,1,3)}\n",
    "gcv_el = GridSearchCV(pipe,param_grid = params,verbose = 3, cv = kfold) \n",
    "gcv_el.fit(X_train,y_train)\n",
    "#lr.fit(X_train_ohe,y_train)\n"
   ]
  },
  {
   "cell_type": "code",
   "execution_count": 136,
   "id": "928959a2-986a-4616-a1da-116679439b1b",
   "metadata": {},
   "outputs": [
    {
     "name": "stdout",
     "output_type": "stream",
     "text": [
      "Best Param: {'EL__alpha': 0.0001, 'EL__l1_ratio': 0.0001}\n",
      "Best Score: 0.08826317595530367\n"
     ]
    }
   ],
   "source": [
    "print(\"Best Param:\",gcv_el.best_params_)\n",
    "print(\"Best Score:\",gcv_el.best_score_)"
   ]
  },
  {
   "cell_type": "code",
   "execution_count": 138,
   "id": "ce9a28aa-fe44-4cc9-9ec9-c50f2e916e2b",
   "metadata": {},
   "outputs": [],
   "source": [
    "bm_el = gcv_el.best_estimator_\n",
    "y_pred = bm_el.predict(X_test)"
   ]
  },
  {
   "cell_type": "code",
   "execution_count": 142,
   "id": "392d13ea-f123-4c28-aa6a-51c019f9451c",
   "metadata": {},
   "outputs": [],
   "source": [
    "sample = pd.read_csv('sample_submission.csv')\n",
    "sample['price'] = y_pred\n",
    "sample.to_csv('enr_5_nov_1.csv',index=False)"
   ]
  },
  {
   "cell_type": "code",
   "execution_count": null,
   "id": "5726dfbc-b3cd-4855-a7c5-25513cdf3a96",
   "metadata": {},
   "outputs": [],
   "source": []
  }
 ],
 "metadata": {
  "kernelspec": {
   "display_name": "Python 3 (ipykernel)",
   "language": "python",
   "name": "python3"
  },
  "language_info": {
   "codemirror_mode": {
    "name": "ipython",
    "version": 3
   },
   "file_extension": ".py",
   "mimetype": "text/x-python",
   "name": "python",
   "nbconvert_exporter": "python",
   "pygments_lexer": "ipython3",
   "version": "3.12.4"
  }
 },
 "nbformat": 4,
 "nbformat_minor": 5
}
