{
 "cells": [
  {
   "cell_type": "code",
   "execution_count": 1,
   "id": "c716cd98-bda4-41cd-9444-80f7066ca84b",
   "metadata": {},
   "outputs": [],
   "source": [
    "import gradio as gr \n",
    "import pandas as pd\n",
    "import matplotlib.pyplot as plt\n",
    "from mlxtend.frequent_patterns import apriori\n",
    "from mlxtend.frequent_patterns import association_rules\n"
   ]
  },
  {
   "cell_type": "code",
   "execution_count": 7,
   "id": "c30d9cca-a16e-418f-a149-37b5b40c4eb5",
   "metadata": {},
   "outputs": [],
   "source": [
    "fp_df = pd.read_csv(r'C:\\Users\\dai\\Desktop\\S-AI\\MachineLearning\\Day12\\Datasets\\Faceplate.csv',index_col=0)\n",
    "fp_df = fp_df.astype(bool)"
   ]
  },
  {
   "cell_type": "code",
   "execution_count": 9,
   "id": "36bfec35-36e1-4d9c-ae6d-ed647aae696b",
   "metadata": {},
   "outputs": [],
   "source": [
    "def gen_rules(min_sup, min_conf):\n",
    "    itemsets = apriori(fp_df, min_support=min_sup, use_colnames=True)\n",
    "    rules = association_rules(itemsets, metric='confidence', min_threshold=min_conf,\n",
    "    num_itemsets=len(fp_df),return_metrics=[ 'support', 'confidence', 'lift'])\n",
    "    rules = rules[['antecedents', 'consequents', 'support', 'confidence', 'lift']]\n",
    "    rules = rules[rules['lift']>1]\n",
    "    rules['antecedents'] = [list(x) for x in rules['antecedents'].values]\n",
    "    rules['consequents'] = [list(x) for x in rules['consequents'].values]\n",
    "    return rules.sort_values(by='lift', ascending=False)"
   ]
  },
  {
   "cell_type": "code",
   "execution_count": 16,
   "id": "833b3776-3ccd-435a-a675-cf166fe31fc5",
   "metadata": {},
   "outputs": [],
   "source": [
    "demo = gr.Interface(gen_rules, inputs= [gr.Slider(value=0.01, step=0.01,\n",
    "                                                 label=\"Minimum Support\",\n",
    "                                                 minimum=0.0001, maximum=1),\n",
    "                                       gr.Slider(value=0.01, step=0.01,\n",
    "                                        label=\"Minimum Confidence\",minimum=0.0001, maximum=1)], \n",
    "                   outputs='dataframe')"
   ]
  },
  {
   "cell_type": "code",
   "execution_count": 18,
   "id": "77077e11-3244-489a-b68c-ffecc9a09e1c",
   "metadata": {},
   "outputs": [
    {
     "name": "stdout",
     "output_type": "stream",
     "text": [
      "* Running on local URL:  http://127.0.0.1:7866\n",
      "\n",
      "To create a public link, set `share=True` in `launch()`.\n"
     ]
    },
    {
     "data": {
      "text/html": [
       "<div><iframe src=\"http://127.0.0.1:7866/\" width=\"100%\" height=\"500\" allow=\"autoplay; camera; microphone; clipboard-read; clipboard-write;\" frameborder=\"0\" allowfullscreen></iframe></div>"
      ],
      "text/plain": [
       "<IPython.core.display.HTML object>"
      ]
     },
     "metadata": {},
     "output_type": "display_data"
    }
   ],
   "source": [
    "if __name__ == \"__main__\":\n",
    "     demo.launch()\n",
    "\n"
   ]
  },
  {
   "cell_type": "code",
   "execution_count": null,
   "id": "35b307c2-4828-4374-9c10-226723526630",
   "metadata": {},
   "outputs": [],
   "source": []
  },
  {
   "cell_type": "code",
   "execution_count": null,
   "id": "27896e3d-8d6b-49d0-9090-388664745eea",
   "metadata": {},
   "outputs": [],
   "source": []
  },
  {
   "cell_type": "code",
   "execution_count": null,
   "id": "abb2924d-22d6-4f05-ba84-024f761f33ec",
   "metadata": {},
   "outputs": [],
   "source": []
  }
 ],
 "metadata": {
  "kernelspec": {
   "display_name": "Python 3 (ipykernel)",
   "language": "python",
   "name": "python3"
  },
  "language_info": {
   "codemirror_mode": {
    "name": "ipython",
    "version": 3
   },
   "file_extension": ".py",
   "mimetype": "text/x-python",
   "name": "python",
   "nbconvert_exporter": "python",
   "pygments_lexer": "ipython3",
   "version": "3.12.4"
  }
 },
 "nbformat": 4,
 "nbformat_minor": 5
}
