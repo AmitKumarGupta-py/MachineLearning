{
 "cells": [
  {
   "cell_type": "code",
   "execution_count": 217,
   "id": "28fb80f8-3e67-46e7-8df6-4f7b42a9ea45",
   "metadata": {},
   "outputs": [],
   "source": [
    "from ucimlrepo import fetch_ucirepo\n",
    "import pandas as pd\n",
    "import numpy as np\n",
    "import matplotlib.pyplot as plt\n",
    "from sklearn.linear_model import LinearRegression, Ridge, Lasso\n",
    "from sklearn.metrics import r2_score\n",
    "from sklearn.preprocessing import PolynomialFeatures\n",
    "from sklearn.pipeline import Pipeline\n",
    "from ucimlrepo import fetch_ucirepo\n",
    "\n",
    "from sklearn.model_selection import train_test_split\n",
    "from sklearn.preprocessing import StandardScaler, MinMaxScaler\n"
   ]
  },
  {
   "cell_type": "code",
   "execution_count": 219,
   "id": "496ca7fc-751c-40fe-90e8-6d18466088ab",
   "metadata": {},
   "outputs": [],
   "source": [
    "concrete_compressive_strength = fetch_ucirepo(id=165)\n",
    "\n",
    "# data (as pandas dataframes)\n",
    "X = concrete_compressive_strength.data.features\n",
    "y = concrete_compressive_strength.data.targets\n"
   ]
  },
  {
   "cell_type": "code",
   "execution_count": 220,
   "id": "5b4e9981-2495-426c-9dd5-440f9edac3fc",
   "metadata": {},
   "outputs": [],
   "source": [
    "X_train, X_test, y_train, y_test = train_test_split(X,y, random_state = 24, test_size = 0.3)"
   ]
  },
  {
   "cell_type": "code",
   "execution_count": 221,
   "id": "103c7e27-92a7-4e0f-9705-792872cc0ee8",
   "metadata": {},
   "outputs": [
    {
     "name": "stdout",
     "output_type": "stream",
     "text": [
      "[-35.44918333] [[ 0.12726535  0.11257926  0.09835135 -0.13691381  0.23733402  0.02020436\n",
      "   0.02616505  0.12251105]]\n"
     ]
    }
   ],
   "source": [
    "lr = LinearRegression()\n",
    "lr.fit(X_train,y_train)\n",
    "\n",
    "print(lr.intercept_,lr.coef_)\n",
    "\n"
   ]
  },
  {
   "cell_type": "code",
   "execution_count": 222,
   "id": "c8971ec6-4a44-4bc7-89b7-d1420e9c1821",
   "metadata": {},
   "outputs": [],
   "source": [
    "y_pred = lr.predict(X_test)"
   ]
  },
  {
   "cell_type": "code",
   "execution_count": 223,
   "id": "8ae2f7b2-7c3e-4799-863c-c9b0679a190a",
   "metadata": {},
   "outputs": [],
   "source": [
    "X_train, X_test, y_train, y_test = train_test_split(X,y, random_state = 24, test_size = 0.3)"
   ]
  },
  {
   "cell_type": "code",
   "execution_count": 224,
   "id": "cd7d8f13-e56f-44e8-af25-7236204d83fe",
   "metadata": {},
   "outputs": [],
   "source": [
    "#With MINMAX Scaling"
   ]
  },
  {
   "cell_type": "code",
   "execution_count": 225,
   "id": "18118a0d-5811-4324-a4a0-f0eef970bdcc",
   "metadata": {},
   "outputs": [
    {
     "data": {
      "text/plain": [
       "0.5771752777048791"
      ]
     },
     "execution_count": 225,
     "metadata": {},
     "output_type": "execute_result"
    }
   ],
   "source": [
    "scl_std = StandardScaler()\n",
    "pipe = Pipeline([('SCL',scl_std),('LR',lr)])\n",
    "pipe.fit(X_train,y_train)\n",
    "y_pred = pipe.predict(X_test)\n",
    "r2_score(y_test,y_pred)"
   ]
  },
  {
   "cell_type": "code",
   "execution_count": 226,
   "id": "a8a88cc2-1f3e-4573-8adc-ec1553870dd3",
   "metadata": {},
   "outputs": [
    {
     "data": {
      "text/plain": [
       "0.7807023265206907"
      ]
     },
     "execution_count": 226,
     "metadata": {},
     "output_type": "execute_result"
    }
   ],
   "source": [
    "poly = PolynomialFeatures(degree = 2,include_bias = False).set_output(transform='pandas')\n",
    "scl_std = StandardScaler()\n",
    "pipe = Pipeline([('SCL',scl_std),('POLY',poly),('LR',lr)])\n",
    "pipe.fit(X_train,y_train)\n",
    "y_pred = pipe.predict(X_test)\n",
    "r2_score(y_test,y_pred)"
   ]
  },
  {
   "cell_type": "code",
   "execution_count": 227,
   "id": "cbb97307-f1f4-4246-9987-78accd2c12b0",
   "metadata": {},
   "outputs": [
    {
     "data": {
      "text/plain": [
       "(array([-23.32957301]),\n",
       " array([[ 0.11980439,  0.10386586,  0.08793476, -0.14992243,  0.2922038 ,\n",
       "          0.01808557,  0.0201901 ,  0.11422205]]))"
      ]
     },
     "execution_count": 227,
     "metadata": {},
     "output_type": "execute_result"
    }
   ],
   "source": [
    "ridge = Ridge()\n",
    "ridge.fit(X,y)\n",
    "ridge.intercept_,ridge.coef_"
   ]
  },
  {
   "cell_type": "code",
   "execution_count": 228,
   "id": "70cb59af-fe14-4af8-b47d-9901d9f06738",
   "metadata": {},
   "outputs": [
    {
     "data": {
      "text/plain": [
       "(array([-23.33121358]),\n",
       " array([[ 0.11980433,  0.10386581,  0.08793432, -0.14991842,  0.2922246 ,\n",
       "          0.01808621,  0.02019035,  0.11422207]]))"
      ]
     },
     "execution_count": 228,
     "metadata": {},
     "output_type": "execute_result"
    }
   ],
   "source": [
    "lr = LinearRegression()\n",
    "lr.fit(X,y)\n",
    "lr.intercept_, lr.coef_"
   ]
  },
  {
   "cell_type": "code",
   "execution_count": 229,
   "id": "66df157c-c0d9-4790-92bf-4f6e3a1e6907",
   "metadata": {},
   "outputs": [
    {
     "data": {
      "text/plain": [
       "0.5884767547970231"
      ]
     },
     "execution_count": 229,
     "metadata": {},
     "output_type": "execute_result"
    }
   ],
   "source": [
    "y_pred = lr.predict(X_test)\n",
    "r2_score(y_test,y_pred)"
   ]
  },
  {
   "cell_type": "code",
   "execution_count": 230,
   "id": "428d86cb-4b6b-43bf-9db5-94f870ddb0c1",
   "metadata": {},
   "outputs": [
    {
     "data": {
      "text/plain": [
       "0.5771749099675626"
      ]
     },
     "execution_count": 230,
     "metadata": {},
     "output_type": "execute_result"
    }
   ],
   "source": [
    "ridge.fit(X_train,y_train)\n",
    "y_pred = ridge.predict(X_test)\n",
    "r2_score(y_test,y_pred)"
   ]
  },
  {
   "cell_type": "code",
   "execution_count": 231,
   "id": "0845fc80-5292-4122-a46b-841eb1f77230",
   "metadata": {},
   "outputs": [
    {
     "name": "stderr",
     "output_type": "stream",
     "text": [
      "C:\\Users\\dai.STUDENTSDC\\AppData\\Local\\anaconda3\\Lib\\site-packages\\sklearn\\linear_model\\_ridge.py:204: LinAlgWarning: Ill-conditioned matrix (rcond=9.96075e-21): result may not be accurate.\n",
      "  return linalg.solve(A, Xy, assume_a=\"pos\", overwrite_a=True).T\n"
     ]
    },
    {
     "data": {
      "text/plain": [
       "0.8695065063191985"
      ]
     },
     "execution_count": 231,
     "metadata": {},
     "output_type": "execute_result"
    }
   ],
   "source": [
    "poly = PolynomialFeatures(degree = 3,include_bias = False).set_output(transform='pandas')\n",
    "X_poly_trn = poly.fit_transform(X_train)\n",
    "X_poly_tst = poly.transform(X_test)\n",
    "ridge.fit(X_poly_trn,y_train)\n",
    "y_pred = ridge.predict(X_poly_tst)\n",
    "r2_score(y_test,y_pred)"
   ]
  },
  {
   "cell_type": "code",
   "execution_count": 232,
   "id": "8583c34d-5a62-4bde-b4a7-651b284afd87",
   "metadata": {},
   "outputs": [],
   "source": [
    "# Filtered the extracted features based on coefficient values"
   ]
  },
  {
   "cell_type": "code",
   "execution_count": 233,
   "id": "6c104be8-41c2-4ca7-a9a6-8ef254b30020",
   "metadata": {},
   "outputs": [
    {
     "name": "stdout",
     "output_type": "stream",
     "text": [
      "(164, 2)\n"
     ]
    },
    {
     "data": {
      "text/html": [
       "<div>\n",
       "<style scoped>\n",
       "    .dataframe tbody tr th:only-of-type {\n",
       "        vertical-align: middle;\n",
       "    }\n",
       "\n",
       "    .dataframe tbody tr th {\n",
       "        vertical-align: top;\n",
       "    }\n",
       "\n",
       "    .dataframe thead th {\n",
       "        text-align: right;\n",
       "    }\n",
       "</style>\n",
       "<table border=\"1\" class=\"dataframe\">\n",
       "  <thead>\n",
       "    <tr style=\"text-align: right;\">\n",
       "      <th></th>\n",
       "      <th>col_names</th>\n",
       "      <th>coef</th>\n",
       "    </tr>\n",
       "  </thead>\n",
       "  <tbody>\n",
       "    <tr>\n",
       "      <th>1</th>\n",
       "      <td>Blast Furnace Slag</td>\n",
       "      <td>0.636144</td>\n",
       "    </tr>\n",
       "    <tr>\n",
       "      <th>5</th>\n",
       "      <td>Coarse Aggregate</td>\n",
       "      <td>2.612272</td>\n",
       "    </tr>\n",
       "    <tr>\n",
       "      <th>6</th>\n",
       "      <td>Fine Aggregate</td>\n",
       "      <td>0.909094</td>\n",
       "    </tr>\n",
       "    <tr>\n",
       "      <th>7</th>\n",
       "      <td>Age</td>\n",
       "      <td>0.123618</td>\n",
       "    </tr>\n",
       "    <tr>\n",
       "      <th>8</th>\n",
       "      <td>Cement^2</td>\n",
       "      <td>0.010445</td>\n",
       "    </tr>\n",
       "    <tr>\n",
       "      <th>9</th>\n",
       "      <td>Cement Blast Furnace Slag</td>\n",
       "      <td>0.031224</td>\n",
       "    </tr>\n",
       "    <tr>\n",
       "      <th>10</th>\n",
       "      <td>Cement Fly Ash</td>\n",
       "      <td>0.008666</td>\n",
       "    </tr>\n",
       "    <tr>\n",
       "      <th>14</th>\n",
       "      <td>Cement Fine Aggregate</td>\n",
       "      <td>0.023399</td>\n",
       "    </tr>\n",
       "    <tr>\n",
       "      <th>16</th>\n",
       "      <td>Blast Furnace Slag^2</td>\n",
       "      <td>0.004927</td>\n",
       "    </tr>\n",
       "    <tr>\n",
       "      <th>17</th>\n",
       "      <td>Blast Furnace Slag Fly Ash</td>\n",
       "      <td>0.015132</td>\n",
       "    </tr>\n",
       "    <tr>\n",
       "      <th>18</th>\n",
       "      <td>Blast Furnace Slag Water</td>\n",
       "      <td>0.011398</td>\n",
       "    </tr>\n",
       "    <tr>\n",
       "      <th>19</th>\n",
       "      <td>Blast Furnace Slag Superplasticizer</td>\n",
       "      <td>0.108260</td>\n",
       "    </tr>\n",
       "    <tr>\n",
       "      <th>21</th>\n",
       "      <td>Blast Furnace Slag Fine Aggregate</td>\n",
       "      <td>0.040342</td>\n",
       "    </tr>\n",
       "    <tr>\n",
       "      <th>22</th>\n",
       "      <td>Blast Furnace Slag Age</td>\n",
       "      <td>0.016544</td>\n",
       "    </tr>\n",
       "    <tr>\n",
       "      <th>24</th>\n",
       "      <td>Fly Ash Water</td>\n",
       "      <td>0.021236</td>\n",
       "    </tr>\n",
       "    <tr>\n",
       "      <th>25</th>\n",
       "      <td>Fly Ash Superplasticizer</td>\n",
       "      <td>0.288636</td>\n",
       "    </tr>\n",
       "    <tr>\n",
       "      <th>27</th>\n",
       "      <td>Fly Ash Fine Aggregate</td>\n",
       "      <td>0.050909</td>\n",
       "    </tr>\n",
       "    <tr>\n",
       "      <th>31</th>\n",
       "      <td>Water Coarse Aggregate</td>\n",
       "      <td>0.020078</td>\n",
       "    </tr>\n",
       "    <tr>\n",
       "      <th>32</th>\n",
       "      <td>Water Fine Aggregate</td>\n",
       "      <td>0.010407</td>\n",
       "    </tr>\n",
       "    <tr>\n",
       "      <th>33</th>\n",
       "      <td>Water Age</td>\n",
       "      <td>0.016039</td>\n",
       "    </tr>\n",
       "    <tr>\n",
       "      <th>35</th>\n",
       "      <td>Superplasticizer Coarse Aggregate</td>\n",
       "      <td>0.357927</td>\n",
       "    </tr>\n",
       "    <tr>\n",
       "      <th>37</th>\n",
       "      <td>Superplasticizer Age</td>\n",
       "      <td>0.601483</td>\n",
       "    </tr>\n",
       "    <tr>\n",
       "      <th>38</th>\n",
       "      <td>Coarse Aggregate^2</td>\n",
       "      <td>0.004922</td>\n",
       "    </tr>\n",
       "    <tr>\n",
       "      <th>42</th>\n",
       "      <td>Fine Aggregate Age</td>\n",
       "      <td>0.010530</td>\n",
       "    </tr>\n",
       "    <tr>\n",
       "      <th>43</th>\n",
       "      <td>Age^2</td>\n",
       "      <td>0.001606</td>\n",
       "    </tr>\n",
       "    <tr>\n",
       "      <th>66</th>\n",
       "      <td>Cement Water Superplasticizer</td>\n",
       "      <td>0.000638</td>\n",
       "    </tr>\n",
       "    <tr>\n",
       "      <th>70</th>\n",
       "      <td>Cement Superplasticizer^2</td>\n",
       "      <td>0.000930</td>\n",
       "    </tr>\n",
       "    <tr>\n",
       "      <th>94</th>\n",
       "      <td>Blast Furnace Slag Water Superplasticizer</td>\n",
       "      <td>0.000233</td>\n",
       "    </tr>\n",
       "    <tr>\n",
       "      <th>98</th>\n",
       "      <td>Blast Furnace Slag Superplasticizer^2</td>\n",
       "      <td>0.000221</td>\n",
       "    </tr>\n",
       "    <tr>\n",
       "      <th>115</th>\n",
       "      <td>Fly Ash Water Superplasticizer</td>\n",
       "      <td>0.000591</td>\n",
       "    </tr>\n",
       "    <tr>\n",
       "      <th>119</th>\n",
       "      <td>Fly Ash Superplasticizer^2</td>\n",
       "      <td>0.001580</td>\n",
       "    </tr>\n",
       "    <tr>\n",
       "      <th>130</th>\n",
       "      <td>Water^2 Superplasticizer</td>\n",
       "      <td>0.001146</td>\n",
       "    </tr>\n",
       "    <tr>\n",
       "      <th>136</th>\n",
       "      <td>Water Superplasticizer Fine Aggregate</td>\n",
       "      <td>0.000637</td>\n",
       "    </tr>\n",
       "    <tr>\n",
       "      <th>146</th>\n",
       "      <td>Superplasticizer^2 Fine Aggregate</td>\n",
       "      <td>0.000393</td>\n",
       "    </tr>\n",
       "    <tr>\n",
       "      <th>147</th>\n",
       "      <td>Superplasticizer^2 Age</td>\n",
       "      <td>0.000688</td>\n",
       "    </tr>\n",
       "  </tbody>\n",
       "</table>\n",
       "</div>"
      ],
      "text/plain": [
       "                                     col_names      coef\n",
       "1                           Blast Furnace Slag  0.636144\n",
       "5                             Coarse Aggregate  2.612272\n",
       "6                               Fine Aggregate  0.909094\n",
       "7                                          Age  0.123618\n",
       "8                                     Cement^2  0.010445\n",
       "9                    Cement Blast Furnace Slag  0.031224\n",
       "10                              Cement Fly Ash  0.008666\n",
       "14                       Cement Fine Aggregate  0.023399\n",
       "16                        Blast Furnace Slag^2  0.004927\n",
       "17                  Blast Furnace Slag Fly Ash  0.015132\n",
       "18                    Blast Furnace Slag Water  0.011398\n",
       "19         Blast Furnace Slag Superplasticizer  0.108260\n",
       "21           Blast Furnace Slag Fine Aggregate  0.040342\n",
       "22                      Blast Furnace Slag Age  0.016544\n",
       "24                               Fly Ash Water  0.021236\n",
       "25                    Fly Ash Superplasticizer  0.288636\n",
       "27                      Fly Ash Fine Aggregate  0.050909\n",
       "31                      Water Coarse Aggregate  0.020078\n",
       "32                        Water Fine Aggregate  0.010407\n",
       "33                                   Water Age  0.016039\n",
       "35           Superplasticizer Coarse Aggregate  0.357927\n",
       "37                        Superplasticizer Age  0.601483\n",
       "38                          Coarse Aggregate^2  0.004922\n",
       "42                          Fine Aggregate Age  0.010530\n",
       "43                                       Age^2  0.001606\n",
       "66               Cement Water Superplasticizer  0.000638\n",
       "70                   Cement Superplasticizer^2  0.000930\n",
       "94   Blast Furnace Slag Water Superplasticizer  0.000233\n",
       "98       Blast Furnace Slag Superplasticizer^2  0.000221\n",
       "115             Fly Ash Water Superplasticizer  0.000591\n",
       "119                 Fly Ash Superplasticizer^2  0.001580\n",
       "130                   Water^2 Superplasticizer  0.001146\n",
       "136      Water Superplasticizer Fine Aggregate  0.000637\n",
       "146          Superplasticizer^2 Fine Aggregate  0.000393\n",
       "147                     Superplasticizer^2 Age  0.000688"
      ]
     },
     "execution_count": 233,
     "metadata": {},
     "output_type": "execute_result"
    }
   ],
   "source": [
    "df_coef = pd.DataFrame({'col_names': list(X_poly_trn.columns),'coef':list(ridge.coef_[0])})\n",
    "print(df_coef.shape)\n",
    "df_coef[df_coef['coef'] > 0.0001]"
   ]
  },
  {
   "cell_type": "code",
   "execution_count": 234,
   "id": "c7e377f7-cd76-47e9-ac7a-460a36c58896",
   "metadata": {},
   "outputs": [
    {
     "data": {
      "text/html": [
       "<div>\n",
       "<style scoped>\n",
       "    .dataframe tbody tr th:only-of-type {\n",
       "        vertical-align: middle;\n",
       "    }\n",
       "\n",
       "    .dataframe tbody tr th {\n",
       "        vertical-align: top;\n",
       "    }\n",
       "\n",
       "    .dataframe thead th {\n",
       "        text-align: right;\n",
       "    }\n",
       "</style>\n",
       "<table border=\"1\" class=\"dataframe\">\n",
       "  <thead>\n",
       "    <tr style=\"text-align: right;\">\n",
       "      <th></th>\n",
       "      <th>col_names</th>\n",
       "      <th>coef</th>\n",
       "    </tr>\n",
       "  </thead>\n",
       "  <tbody>\n",
       "    <tr>\n",
       "      <th>0</th>\n",
       "      <td>Cement</td>\n",
       "      <td>-2.713694e+00</td>\n",
       "    </tr>\n",
       "    <tr>\n",
       "      <th>1</th>\n",
       "      <td>Blast Furnace Slag</td>\n",
       "      <td>6.361436e-01</td>\n",
       "    </tr>\n",
       "    <tr>\n",
       "      <th>2</th>\n",
       "      <td>Fly Ash</td>\n",
       "      <td>-2.191047e+00</td>\n",
       "    </tr>\n",
       "    <tr>\n",
       "      <th>3</th>\n",
       "      <td>Water</td>\n",
       "      <td>-1.489495e-01</td>\n",
       "    </tr>\n",
       "    <tr>\n",
       "      <th>4</th>\n",
       "      <td>Superplasticizer</td>\n",
       "      <td>-3.224595e-02</td>\n",
       "    </tr>\n",
       "    <tr>\n",
       "      <th>...</th>\n",
       "      <td>...</td>\n",
       "      <td>...</td>\n",
       "    </tr>\n",
       "    <tr>\n",
       "      <th>159</th>\n",
       "      <td>Coarse Aggregate Age^2</td>\n",
       "      <td>4.982096e-07</td>\n",
       "    </tr>\n",
       "    <tr>\n",
       "      <th>160</th>\n",
       "      <td>Fine Aggregate^3</td>\n",
       "      <td>6.025196e-07</td>\n",
       "    </tr>\n",
       "    <tr>\n",
       "      <th>161</th>\n",
       "      <td>Fine Aggregate^2 Age</td>\n",
       "      <td>-4.991126e-06</td>\n",
       "    </tr>\n",
       "    <tr>\n",
       "      <th>162</th>\n",
       "      <td>Fine Aggregate Age^2</td>\n",
       "      <td>-3.874725e-06</td>\n",
       "    </tr>\n",
       "    <tr>\n",
       "      <th>163</th>\n",
       "      <td>Age^3</td>\n",
       "      <td>4.368270e-06</td>\n",
       "    </tr>\n",
       "  </tbody>\n",
       "</table>\n",
       "<p>164 rows × 2 columns</p>\n",
       "</div>"
      ],
      "text/plain": [
       "                  col_names          coef\n",
       "0                    Cement -2.713694e+00\n",
       "1        Blast Furnace Slag  6.361436e-01\n",
       "2                   Fly Ash -2.191047e+00\n",
       "3                     Water -1.489495e-01\n",
       "4          Superplasticizer -3.224595e-02\n",
       "..                      ...           ...\n",
       "159  Coarse Aggregate Age^2  4.982096e-07\n",
       "160        Fine Aggregate^3  6.025196e-07\n",
       "161    Fine Aggregate^2 Age -4.991126e-06\n",
       "162    Fine Aggregate Age^2 -3.874725e-06\n",
       "163                   Age^3  4.368270e-06\n",
       "\n",
       "[164 rows x 2 columns]"
      ]
     },
     "execution_count": 234,
     "metadata": {},
     "output_type": "execute_result"
    }
   ],
   "source": [
    "df_coef"
   ]
  },
  {
   "cell_type": "code",
   "execution_count": null,
   "id": "ed7378ac-7cea-479c-9bc7-281fc406f19e",
   "metadata": {},
   "outputs": [],
   "source": []
  },
  {
   "cell_type": "code",
   "execution_count": 240,
   "id": "41ce0178-07e2-44bf-88b9-2340986521c8",
   "metadata": {},
   "outputs": [
    {
     "name": "stdout",
     "output_type": "stream",
     "text": [
      "[[-2.71369370e+00  6.36143557e-01 -2.19104687e+00 -1.48949528e-01\n",
      "  -3.22459488e-02  2.61227210e+00  9.09094082e-01  1.23618480e-01\n",
      "   1.04451224e-02  3.12236342e-02  8.66605537e-03 -1.73567888e-02\n",
      "  -7.42857148e-02 -1.64249699e-02  2.33994125e-02 -4.52764597e-03\n",
      "   4.92733932e-03  1.51316208e-02  1.13976755e-02  1.08260044e-01\n",
      "  -4.35844961e-02  4.03424911e-02  1.65439810e-02 -3.37890818e-02\n",
      "   2.12356041e-02  2.88636317e-01 -3.78369592e-02  5.09089174e-02\n",
      "  -5.32041881e-03 -2.30583708e-02 -1.11741016e+00  2.00777909e-02\n",
      "   1.04069153e-02  1.60386889e-02 -3.23959572e-01  3.57926884e-01\n",
      "  -2.09066877e-01  6.01483221e-01  4.92214122e-03 -1.11664061e-02\n",
      "  -1.04666932e-02 -3.84180728e-04  1.05299930e-02  1.60574796e-03\n",
      "  -1.64009969e-06 -8.64560240e-06 -3.67881935e-06 -1.01479370e-05\n",
      "  -2.68947401e-05  1.96601616e-07 -8.83725261e-06  3.56594248e-06\n",
      "  -8.78262754e-06 -1.39706510e-05 -3.44696684e-05 -8.66901527e-05\n",
      "   3.56414984e-06 -2.86023493e-05  3.59882664e-07  1.65247841e-05\n",
      "  -1.96374076e-05 -1.57260708e-04  1.47839100e-05 -2.39565169e-05\n",
      "   8.35394806e-06  3.47954905e-05  6.37865112e-04  2.78754361e-05\n",
      "  -2.34336923e-05 -7.60747069e-06  9.30334106e-04 -6.20801280e-05\n",
      "   6.77439547e-05 -3.30809798e-04  4.82266263e-06  9.68179864e-07\n",
      "   4.16665026e-06 -8.37377394e-06  6.48076573e-07 -3.51355671e-06\n",
      "  -9.78422124e-07 -7.30794922e-06 -6.12455989e-07 -1.55978130e-05\n",
      "   9.35365310e-06 -1.49533971e-05 -4.71935489e-06  1.30997011e-05\n",
      "  -3.60403040e-05 -2.20761401e-04  2.62865432e-05 -4.01609422e-05\n",
      "  -6.76873039e-06 -2.51517787e-05  2.32563277e-04  4.36845479e-05\n",
      "  -4.71511292e-05 -4.71737468e-05  2.20737685e-04 -1.27848876e-04\n",
      "   2.93942840e-05 -2.86766017e-04  1.44147579e-05  4.56212205e-06\n",
      "   1.64434279e-06 -1.65414317e-05 -8.99070237e-06 -4.25664081e-06\n",
      "   1.82830420e-05  2.87668430e-06 -1.69475086e-04  3.10467471e-05\n",
      "  -6.77287131e-06  5.98236976e-06 -1.39280826e-07  5.91362092e-04\n",
      "   3.75247268e-05 -7.24756658e-05 -1.53863171e-06  1.57972772e-03\n",
      "  -2.85448876e-04 -6.58636036e-05 -2.13902001e-04  1.19501308e-05\n",
      "  -1.56990308e-06  6.07131238e-06 -1.76147089e-05 -2.85349807e-06\n",
      "  -9.26025028e-06  4.49464347e-05  1.14585441e-03 -1.09020743e-05\n",
      "  -1.53063851e-05 -5.36354658e-06 -7.61934983e-04 -4.16655976e-05\n",
      "   6.37212375e-04 -1.40663035e-04 -2.02466488e-05  8.66456590e-06\n",
      "   7.41048689e-06 -4.42551850e-06 -2.38708870e-05 -2.69390646e-06\n",
      "  -1.95778907e-03 -3.46132313e-04  3.92785456e-04  6.88477684e-04\n",
      "  -1.43438906e-04 -1.85030445e-05 -2.29162395e-04  6.45852953e-05\n",
      "  -2.47508881e-04 -3.13406517e-04 -1.65294807e-06  1.60200623e-06\n",
      "   2.68796938e-06  3.21580359e-06  2.86439322e-06  4.98209612e-07\n",
      "   6.02519554e-07 -4.99112567e-06 -3.87472547e-06  4.36826987e-06]]\n"
     ]
    }
   ],
   "source": [
    "print(ridge.coef_)"
   ]
  },
  {
   "cell_type": "code",
   "execution_count": 246,
   "id": "18bd138b-b78a-4875-9033-ac35879c29b8",
   "metadata": {},
   "outputs": [],
   "source": [
    "#considering Different values of Alpha"
   ]
  },
  {
   "cell_type": "code",
   "execution_count": 253,
   "id": "11430846-7835-4aef-a9e0-0857a6769c52",
   "metadata": {},
   "outputs": [
    {
     "data": {
      "text/plain": [
       "0.5771751967997472"
      ]
     },
     "execution_count": 253,
     "metadata": {},
     "output_type": "execute_result"
    }
   ],
   "source": [
    "ridge = Ridge(alpha=0.22)\n",
    "ridge.fit(X_train,y_train)\n",
    "y_pred = ridge.predict(X_test)\n",
    "r2_score(y_test,y_pred)"
   ]
  },
  {
   "cell_type": "code",
   "execution_count": 255,
   "id": "9ec1b8e3-0879-4d31-a4f9-17ec7a3bc259",
   "metadata": {},
   "outputs": [],
   "source": [
    "# Tuning for Alpha = [0.01,0.1,0.3,0.6,1,1.5,2,4,10]"
   ]
  },
  {
   "cell_type": "code",
   "execution_count": 257,
   "id": "cbe1fcb3-39cc-4c38-a248-628d2e74259f",
   "metadata": {},
   "outputs": [
    {
     "name": "stdout",
     "output_type": "stream",
     "text": [
      "[0.5771752740273375, 0.5771752409296147, 0.5771751673801079, 0.5771750570584018, 0.5771749099675626, 0.5771747261116779, 0.5771745422643093, 0.5771738069600134, 0.5771716018651836]\n"
     ]
    }
   ],
   "source": [
    "alphas = [0.01,0.1,0.3,0.6,1,1.5,2,4,10]\n",
    "scores = []\n",
    "for a in alphas:\n",
    "    ridge = Ridge(alpha=a)\n",
    "    ridge.fit(X_train,y_train)\n",
    "    y_pred = ridge.predict(X_test)\n",
    "    scores.append(r2_score(y_test, y_pred))\n",
    "print(scores)    \n",
    "\n"
   ]
  },
  {
   "cell_type": "code",
   "execution_count": 262,
   "id": "78b5baac-87f1-40c0-9f06-a34c12634ea7",
   "metadata": {},
   "outputs": [
    {
     "data": {
      "text/plain": [
       "0.5771752740273375"
      ]
     },
     "execution_count": 262,
     "metadata": {},
     "output_type": "execute_result"
    }
   ],
   "source": [
    "np.max(scores)"
   ]
  },
  {
   "cell_type": "code",
   "execution_count": 264,
   "id": "f64e4a27-1e75-4fc6-91ba-ab94b177361b",
   "metadata": {},
   "outputs": [
    {
     "data": {
      "text/plain": [
       "0"
      ]
     },
     "execution_count": 264,
     "metadata": {},
     "output_type": "execute_result"
    }
   ],
   "source": [
    "np.argmax(scores)"
   ]
  },
  {
   "cell_type": "code",
   "execution_count": 266,
   "id": "e4de9e08-190f-4126-8d9a-a888e604cea9",
   "metadata": {},
   "outputs": [
    {
     "name": "stdout",
     "output_type": "stream",
     "text": [
      "Best Alpha: 0.01\n",
      "Best Score: 0.5771752740273375\n"
     ]
    }
   ],
   "source": [
    "i_max = np.argmax(scores)\n",
    "print(\"Best Alpha:\",alphas[i_max])\n",
    "print(\"Best Score:\",scores[i_max])"
   ]
  },
  {
   "cell_type": "code",
   "execution_count": 268,
   "id": "ea3e5c33-32f5-43d6-8c1c-e1d59bf11f7b",
   "metadata": {},
   "outputs": [],
   "source": [
    "# generate alpha values"
   ]
  },
  {
   "cell_type": "code",
   "execution_count": 270,
   "id": "b3dbfcc0-335e-4896-a219-f6dd5da2631a",
   "metadata": {},
   "outputs": [
    {
     "data": {
      "text/plain": [
       "array([1.00000000e-04, 5.26410526e-01, 1.05272105e+00, 1.57903158e+00,\n",
       "       2.10534211e+00, 2.63165263e+00, 3.15796316e+00, 3.68427368e+00,\n",
       "       4.21058421e+00, 4.73689474e+00, 5.26320526e+00, 5.78951579e+00,\n",
       "       6.31582632e+00, 6.84213684e+00, 7.36844737e+00, 7.89475789e+00,\n",
       "       8.42106842e+00, 8.94737895e+00, 9.47368947e+00, 1.00000000e+01])"
      ]
     },
     "execution_count": 270,
     "metadata": {},
     "output_type": "execute_result"
    }
   ],
   "source": [
    "np.linspace(0.0001,10,20)"
   ]
  },
  {
   "cell_type": "code",
   "execution_count": 272,
   "id": "8604fa91-63e0-4300-8db1-efd300e04be1",
   "metadata": {},
   "outputs": [
    {
     "name": "stdout",
     "output_type": "stream",
     "text": [
      "[0.5771752776681036, 0.5771750841198391, 0.5771748905810096, 0.5771746970516156, 0.577174503531658, 0.5771743100211375, 0.5771741165200551, 0.5771739230284114, 0.5771737295462072, 0.5771735360734433, 0.5771733426101202, 0.5771731491562393, 0.5771729557118006, 0.577172762276805, 0.5771725688512538, 0.577172375435147, 0.577172182028486, 0.5771719886312712, 0.5771717952435036, 0.5771716018651836]\n"
     ]
    }
   ],
   "source": [
    "alphas = np.linspace(0.0001,10,20)\n",
    "scores = []\n",
    "for a in alphas:\n",
    "    ridge = Ridge(alpha=a)\n",
    "    ridge.fit(X_train,y_train)\n",
    "    y_pred = ridge.predict(X_test)\n",
    "    scores.append(r2_score(y_test, y_pred))\n",
    "print(scores)    \n",
    "\n"
   ]
  },
  {
   "cell_type": "code",
   "execution_count": 273,
   "id": "64ea0a8c-3cea-4856-ae29-2fe2a75e4abd",
   "metadata": {},
   "outputs": [
    {
     "data": {
      "text/plain": [
       "0.5771752776681036"
      ]
     },
     "execution_count": 273,
     "metadata": {},
     "output_type": "execute_result"
    }
   ],
   "source": [
    "np.max(scores)"
   ]
  },
  {
   "cell_type": "code",
   "execution_count": 276,
   "id": "0b894c31-0f80-4b6a-988d-3dc443788286",
   "metadata": {},
   "outputs": [
    {
     "data": {
      "text/plain": [
       "0"
      ]
     },
     "execution_count": 276,
     "metadata": {},
     "output_type": "execute_result"
    }
   ],
   "source": [
    "np.argmax(scores)"
   ]
  },
  {
   "cell_type": "code",
   "execution_count": 278,
   "id": "cf3b37f8-dc07-4b3f-949c-03dbb7cfbc64",
   "metadata": {},
   "outputs": [
    {
     "name": "stdout",
     "output_type": "stream",
     "text": [
      "Best Alpha: 0.0001\n",
      "Best Score: 0.5771752776681036\n"
     ]
    }
   ],
   "source": [
    "i_max = np.argmax(scores)\n",
    "print(\"Best Alpha:\",alphas[i_max])\n",
    "print(\"Best Score:\",scores[i_max])"
   ]
  },
  {
   "cell_type": "code",
   "execution_count": 291,
   "id": "4468dccf-8606-46c4-82f4-a40ab5ec6469",
   "metadata": {},
   "outputs": [],
   "source": [
    "# hyper parameter Optimization #Lasso Regresssion"
   ]
  },
  {
   "cell_type": "code",
   "execution_count": 293,
   "id": "f0eaacdb-ff2a-48b8-bca1-72180dc60ef9",
   "metadata": {},
   "outputs": [
    {
     "name": "stdout",
     "output_type": "stream",
     "text": [
      "[0.5771752162488388, 0.5767887675592975, 0.5762767463931009, 0.5756396636831074, 0.574877359379247, 0.5739906651543902, 0.572979464363941, 0.5721009707960271, 0.5722614778993542, 0.5724099561568741, 0.572544735498197, 0.5726666359648799, 0.5727764086956115, 0.5728731096945463, 0.5729565781568045, 0.5730274603207464, 0.573085805075227, 0.5731315172304163, 0.5731560475699367, 0.5731618042353835]\n"
     ]
    }
   ],
   "source": [
    "alphas = np.linspace(0.0001,10,20)\n",
    "scores = []\n",
    "for a in alphas:\n",
    "    lasso = Lasso(alpha=a)\n",
    "    lasso.fit(X_train,y_train)\n",
    "    y_pred = lasso.predict(X_test)\n",
    "    scores.append(r2_score(y_test, y_pred))\n",
    "print(scores)    \n",
    "\n"
   ]
  },
  {
   "cell_type": "code",
   "execution_count": 295,
   "id": "c87de1e3-3502-419c-824d-bc10a574540a",
   "metadata": {},
   "outputs": [
    {
     "name": "stdout",
     "output_type": "stream",
     "text": [
      "Best Alpha: 0.0001\n",
      "Best Score: 0.5771752162488388\n"
     ]
    }
   ],
   "source": [
    "i_max = np.argmax(scores)\n",
    "print(\"Best Alpha:\",alphas[i_max])\n",
    "print(\"Best Score:\",scores[i_max])"
   ]
  },
  {
   "cell_type": "code",
   "execution_count": null,
   "id": "4460cffa-c762-4a43-a3d9-549b58297d86",
   "metadata": {},
   "outputs": [],
   "source": []
  },
  {
   "cell_type": "code",
   "execution_count": null,
   "id": "75628aa2-14eb-452c-a882-7dfd6f5c24bf",
   "metadata": {},
   "outputs": [],
   "source": []
  }
 ],
 "metadata": {
  "kernelspec": {
   "display_name": "Python 3 (ipykernel)",
   "language": "python",
   "name": "python3"
  },
  "language_info": {
   "codemirror_mode": {
    "name": "ipython",
    "version": 3
   },
   "file_extension": ".py",
   "mimetype": "text/x-python",
   "name": "python",
   "nbconvert_exporter": "python",
   "pygments_lexer": "ipython3",
   "version": "3.12.4"
  }
 },
 "nbformat": 4,
 "nbformat_minor": 5
}
